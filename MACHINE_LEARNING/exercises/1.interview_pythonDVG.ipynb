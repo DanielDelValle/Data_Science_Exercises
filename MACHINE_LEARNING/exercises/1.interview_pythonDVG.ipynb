{
 "metadata": {
  "language_info": {
   "codemirror_mode": {
    "name": "ipython",
    "version": 3
   },
   "file_extension": ".py",
   "mimetype": "text/x-python",
   "name": "python",
   "nbconvert_exporter": "python",
   "pygments_lexer": "ipython3",
   "version": "3.9.1-final"
  },
  "orig_nbformat": 2,
  "kernelspec": {
   "name": "python3",
   "display_name": "Python 3.9.1 64-bit",
   "metadata": {
    "interpreter": {
     "hash": "ac59ebe37160ed0dfa835113d9b8498d9f09ceb179beaac4002f036b9467c963"
    }
   }
  }
 },
 "nbformat": 4,
 "nbformat_minor": 2,
 "cells": [
  {
   "cell_type": "markdown",
   "metadata": {},
   "source": [
    "Here's your coding interview problem for today.\n",
    "\n",
    "This problem was asked by Facebook.\n",
    "\n",
    "Given a string of round, curly, and square open and closing brackets, return whether the brackets are balanced (well-formed).\n",
    "\n",
    "For example, given the string \"([])[]({})\", you should return true.\n",
    "\n",
    "{}\n",
    "\n",
    "Given the string \"([)]\" or \"((()\", you should return false.\n",
    "\n",
    "\"()[]{}\", True"
   ]
  },
  {
   "cell_type": "code",
   "execution_count": 2,
   "metadata": {},
   "outputs": [],
   "source": [
    "left_brack = [\"[\",\"{\",\"(\"] \n",
    "right_brack = [\"]\",\"}\",\")\"] \n",
    "  \n",
    "# Function to check parentheses \n",
    "def bracket_checker(text): \n",
    "    count = [] \n",
    "    for i in text: \n",
    "        if i in left_brack: \n",
    "            count.append(i) \n",
    "        elif i in right_brack: \n",
    "            pos = right_brack.index(i) \n",
    "            if ((len(count) > 0) and (left_brack[pos] == count[len(count)-1])): \n",
    "                count.pop() \n",
    "            else: \n",
    "                return False\n",
    "    if len(count) == 0: \n",
    "        return True\n",
    "    else: \n",
    "        return False"
   ]
  },
  {
   "cell_type": "code",
   "execution_count": null,
   "metadata": {},
   "outputs": [],
   "source": []
  }
 ]
}