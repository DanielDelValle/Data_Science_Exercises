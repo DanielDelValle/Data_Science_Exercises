{
 "metadata": {
  "language_info": {
   "codemirror_mode": {
    "name": "ipython",
    "version": 3
   },
   "file_extension": ".py",
   "mimetype": "text/x-python",
   "name": "python",
   "nbconvert_exporter": "python",
   "pygments_lexer": "ipython3",
   "version": "3.9.1-final"
  },
  "orig_nbformat": 2,
  "kernelspec": {
   "name": "python3",
   "display_name": "Python 3.9.1 64-bit",
   "metadata": {
    "interpreter": {
     "hash": "ac59ebe37160ed0dfa835113d9b8498d9f09ceb179beaac4002f036b9467c963"
    }
   }
  }
 },
 "nbformat": 4,
 "nbformat_minor": 2,
 "cells": [
  {
   "cell_type": "code",
   "execution_count": null,
   "metadata": {},
   "outputs": [],
   "source": [
    "#REGEX ES UN BUSCADOR POR PATRONES"
   ]
  },
  {
   "cell_type": "code",
   "execution_count": 6,
   "metadata": {},
   "outputs": [
    {
     "output_type": "stream",
     "name": "stdout",
     "text": [
      "Pin correcto\n"
     ]
    }
   ],
   "source": [
    "#encontrar emails:\n",
    "#\\s\\w+\\.?\\w+@      el \"?\" al lado del punto, implica que el punto es opcional. \n",
    "#    estamos diciendo que busque espacios\\ seguido de alfanumerico 1 o mas veces \\seguido(o no) de punto \\seguido de alfanum.1 o mas veces\\seguido de arroba\n",
    "#rangos [A - U] cogerá por ejemplo la H porque en ASCII está dentro del rango\n",
    "#hay cuantificadores que especifican numero de veces (+, *, etc)\n",
    "# sirve para indicar comienzo de frase, pero si va dentro de corchetes implica negación.abs\n",
    "#[abcd] buscaria cualqueira de las 4 letras, [^abcd] buscaria todo excepto ellas\n",
    "#para buscar el . literalmente, usamos \\.\\\n",
    "# si \\s busca espacios, \\S busca todo menos espacios\n",
    "#longitudes: loque haya delante+ {}:   \\w{4-6} => alfanumericos longitud entre 4 y 6\n",
    "                                      #\\s{2,} => espacios 2 en adelante\n",
    "                                      #\\s{3} => 3 espacios exactos seguidos\n",
    "#re.search busca el primer match pero sin especificarlos (te dice hay 3 matches, etc)\n",
    "#variable.span() retorna posiciones que abarcan los matches\n",
    "#variable.string te indica donde se encontró\n",
    "#variable.group() retorna el trozo donde estan los matches\n",
    "\n",
    "\n",
    "#re.fullmatch(busca en todo y debe coincidir exactamente)\n",
    "#re.findall (busca y guarda en lista resultados)   se escribe re.findall('condiciones', 'texto/archivo donde buscar')\n",
    "# re.split parte donde ve una coincidencia del patron buscado. se escribe re.split('formato separacion', 'texto/archivo donde buscar')\n",
    "                #p.ejemplo: re.split('\\n, )\n",
    "#re.compile convierte un criterio en una variable y asi es mas facil usarla siempre. name_check = re.compile(r\"[À-Za-z]) (buscará todo lo que no sean letras\n",
    "# filter:    list(filter(funcion, coleccion) y da un alista con los matches\n",
    "import re\n",
    "\n",
    "def validate_usr(username):\n",
    "    str_list = re.findall(\"[a-z]|[0-9]|_\",username)\n",
    "    compare = \"\"\n",
    "    compare = compare.join(str_list)\n",
    "    if compare == username and len(compare)<=16 and len(compare)>4:\n",
    "        return True\n",
    "    else:\n",
    "        return False\n",
    "\n",
    "\n",
    "def validate_user2(username):\n",
    "    if re.match(r'^[a-z\\d_]{4,16}$', username):\n",
    "        return True\n",
    "    else:\n",
    "        return False\n",
    "\n",
    "\n",
    "validate_usuario = lambda string: bool(re.match(r'^[a-z\\d_]{4,16}$', string))\n",
    "\n",
    "\n",
    "\n",
    "pin_check = re.compile(r\"^[0-9]{4}$|^[0-9]{6}$\")\n",
    "\n",
    "def validate_pin(pin):\n",
    "    while not pin_check.search(pin):\n",
    "        print(\"'Pin incorrecto'\")\n",
    "        pin = input('Dame un pin')\n",
    "    print(\"Pin correcto\")\n",
    "validate_pin(pin=input(\"Insert a number\"))"
   ]
  },
  {
   "cell_type": "code",
   "execution_count": null,
   "metadata": {},
   "outputs": [],
   "source": []
  }
 ]
}