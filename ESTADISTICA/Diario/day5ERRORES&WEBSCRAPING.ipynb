{
 "metadata": {
  "language_info": {
   "codemirror_mode": {
    "name": "ipython",
    "version": 3
   },
   "file_extension": ".py",
   "mimetype": "text/x-python",
   "name": "python",
   "nbconvert_exporter": "python",
   "pygments_lexer": "ipython3",
   "version": "3.9.1-final"
  },
  "orig_nbformat": 2,
  "kernelspec": {
   "name": "python3",
   "display_name": "Python 3.9.1 64-bit",
   "metadata": {
    "interpreter": {
     "hash": "ac59ebe37160ed0dfa835113d9b8498d9f09ceb179beaac4002f036b9467c963"
    }
   }
  }
 },
 "nbformat": 4,
 "nbformat_minor": 2,
 "cells": [
  {
   "cell_type": "code",
   "execution_count": 2,
   "metadata": {},
   "outputs": [
    {
     "output_type": "stream",
     "name": "stdout",
     "text": [
      "Ha ocurrido un error\nerror name 'x' is not defined\n"
     ]
    }
   ],
   "source": [
    "#TRY EXCEPT RAISE ASSERT\n",
    "try:\n",
    "    print(x)\n",
    "except Exception as e:   # e es una variable nombre de error\n",
    "    print(\"Ha ocurrido un error\")\n",
    "    print(\"error\", e)"
   ]
  },
  {
   "cell_type": "code",
   "execution_count": 3,
   "metadata": {},
   "outputs": [
    {
     "output_type": "stream",
     "name": "stdout",
     "text": [
      "hola\n"
     ]
    },
    {
     "output_type": "error",
     "ename": "Exception",
     "evalue": "error",
     "traceback": [
      "\u001b[1;31m---------------------------------------------------------------------------\u001b[0m",
      "\u001b[1;31mException\u001b[0m                                 Traceback (most recent call last)",
      "\u001b[1;32m<ipython-input-3-b0c664694523>\u001b[0m in \u001b[0;36m<module>\u001b[1;34m\u001b[0m\n\u001b[0;32m      1\u001b[0m \u001b[0mprint\u001b[0m\u001b[1;33m(\u001b[0m\u001b[1;34m'hola'\u001b[0m\u001b[1;33m)\u001b[0m\u001b[1;33m\u001b[0m\u001b[1;33m\u001b[0m\u001b[0m\n\u001b[1;32m----> 2\u001b[1;33m \u001b[1;32mraise\u001b[0m \u001b[0mException\u001b[0m\u001b[1;33m(\u001b[0m\u001b[1;34m\"error\"\u001b[0m\u001b[1;33m)\u001b[0m       \u001b[1;31m#raise fuerza un error que de otro manera, python no consideraria error (para funciones cuyos args queremos controlar)\u001b[0m\u001b[1;33m\u001b[0m\u001b[1;33m\u001b[0m\u001b[0m\n\u001b[0m\u001b[0;32m      3\u001b[0m \u001b[1;32mraise\u001b[0m \u001b[0mValueError\u001b[0m\u001b[1;33m(\u001b[0m\u001b[1;34m'error por valor'\u001b[0m\u001b[1;33m)\u001b[0m\u001b[1;33m\u001b[0m\u001b[1;33m\u001b[0m\u001b[0m\n\u001b[0;32m      4\u001b[0m \u001b[0mprint\u001b[0m\u001b[1;33m(\u001b[0m\u001b[1;34m'adios'\u001b[0m\u001b[1;33m)\u001b[0m\u001b[1;33m\u001b[0m\u001b[1;33m\u001b[0m\u001b[0m\n",
      "\u001b[1;31mException\u001b[0m: error"
     ]
    }
   ],
   "source": [
    "print('hola')\n",
    "raise Exception(\"error\")       #raise fuerza un error que de otro manera, python no consideraria error (para funciones cuyos args queremos controlar)\n",
    "raise ValueError('error por valor')\n",
    "print('adios')"
   ]
  },
  {
   "cell_type": "code",
   "execution_count": 4,
   "metadata": {},
   "outputs": [
    {
     "output_type": "error",
     "ename": "ValueError",
     "evalue": "no pueden ser negativos",
     "traceback": [
      "\u001b[1;31m---------------------------------------------------------------------------\u001b[0m",
      "\u001b[1;31mValueError\u001b[0m                                Traceback (most recent call last)",
      "\u001b[1;32m<ipython-input-4-babed82735e4>\u001b[0m in \u001b[0;36m<module>\u001b[1;34m\u001b[0m\n\u001b[0;32m      4\u001b[0m     \u001b[1;32melse\u001b[0m\u001b[1;33m:\u001b[0m\u001b[1;33m\u001b[0m\u001b[1;33m\u001b[0m\u001b[0m\n\u001b[0;32m      5\u001b[0m         \u001b[1;32mreturn\u001b[0m \u001b[0ma\u001b[0m \u001b[1;33m+\u001b[0m \u001b[0mb\u001b[0m\u001b[1;33m\u001b[0m\u001b[1;33m\u001b[0m\u001b[0m\n\u001b[1;32m----> 6\u001b[1;33m \u001b[0msuma_positivos\u001b[0m\u001b[1;33m(\u001b[0m\u001b[1;36m3\u001b[0m\u001b[1;33m,\u001b[0m\u001b[1;33m-\u001b[0m\u001b[1;36m3\u001b[0m\u001b[1;33m)\u001b[0m\u001b[1;33m\u001b[0m\u001b[1;33m\u001b[0m\u001b[0m\n\u001b[0m",
      "\u001b[1;32m<ipython-input-4-babed82735e4>\u001b[0m in \u001b[0;36msuma_positivos\u001b[1;34m(a, b)\u001b[0m\n\u001b[0;32m      1\u001b[0m \u001b[1;32mdef\u001b[0m \u001b[0msuma_positivos\u001b[0m\u001b[1;33m(\u001b[0m\u001b[0ma\u001b[0m\u001b[1;33m,\u001b[0m \u001b[0mb\u001b[0m\u001b[1;33m)\u001b[0m\u001b[1;33m:\u001b[0m\u001b[1;33m\u001b[0m\u001b[1;33m\u001b[0m\u001b[0m\n\u001b[0;32m      2\u001b[0m     \u001b[1;32mif\u001b[0m \u001b[0ma\u001b[0m\u001b[1;33m<\u001b[0m\u001b[1;36m0\u001b[0m \u001b[1;32mor\u001b[0m \u001b[0mb\u001b[0m\u001b[1;33m<\u001b[0m\u001b[1;36m0\u001b[0m\u001b[1;33m:\u001b[0m\u001b[1;33m\u001b[0m\u001b[1;33m\u001b[0m\u001b[0m\n\u001b[1;32m----> 3\u001b[1;33m         \u001b[1;32mraise\u001b[0m \u001b[0mValueError\u001b[0m\u001b[1;33m(\u001b[0m\u001b[1;34m'no pueden ser negativos'\u001b[0m\u001b[1;33m)\u001b[0m \u001b[1;31m# también serviría raise Exception\u001b[0m\u001b[1;33m\u001b[0m\u001b[1;33m\u001b[0m\u001b[0m\n\u001b[0m\u001b[0;32m      4\u001b[0m     \u001b[1;32melse\u001b[0m\u001b[1;33m:\u001b[0m\u001b[1;33m\u001b[0m\u001b[1;33m\u001b[0m\u001b[0m\n\u001b[0;32m      5\u001b[0m         \u001b[1;32mreturn\u001b[0m \u001b[0ma\u001b[0m \u001b[1;33m+\u001b[0m \u001b[0mb\u001b[0m\u001b[1;33m\u001b[0m\u001b[1;33m\u001b[0m\u001b[0m\n",
      "\u001b[1;31mValueError\u001b[0m: no pueden ser negativos"
     ]
    }
   ],
   "source": [
    "def suma_positivos(a, b):\n",
    "    if a<0 or b<0:\n",
    "        raise ValueError('no pueden ser negativos') # también serviría raise Exception\n",
    "    else:\n",
    "        return a + b\n",
    "suma_positivos(3,-3)"
   ]
  },
  {
   "cell_type": "code",
   "execution_count": 5,
   "metadata": {},
   "outputs": [
    {
     "output_type": "error",
     "ename": "SyntaxError",
     "evalue": "invalid syntax (<ipython-input-5-fc2b8ec86981>, line 3)",
     "traceback": [
      "\u001b[1;36m  File \u001b[1;32m\"<ipython-input-5-fc2b8ec86981>\"\u001b[1;36m, line \u001b[1;32m3\u001b[0m\n\u001b[1;33m    assert a isinstance (int, float) (\"a debe ser int or float\")\u001b[0m\n\u001b[1;37m             ^\u001b[0m\n\u001b[1;31mSyntaxError\u001b[0m\u001b[1;31m:\u001b[0m invalid syntax\n"
     ]
    }
   ],
   "source": [
    "a = 4\n",
    "b = \"4\"\n",
    "assert a isinstance (int, float) (\"a debe ser int or float\")\n",
    "assert b isinstance (int, float) (\"a debe ser int or float\")"
   ]
  },
  {
   "cell_type": "code",
   "execution_count": 14,
   "metadata": {},
   "outputs": [],
   "source": [
    "#WEB SCRAPPING:\n",
    "# pulsando dentro web con boton secundario y pulsamos \"ver codigo fuente pagina\"  o \"inspeccionar\" sale codigo fuente\n",
    " #Beautiful Soup\n",
    " #Selenium                       #son 2 herramientas scraping\n",
    "from bs4 import BeautifulSoup as bs\n",
    "import requests\n",
    "import pandas as pd"
   ]
  },
  {
   "cell_type": "code",
   "execution_count": 15,
   "metadata": {},
   "outputs": [],
   "source": [
    "def show_html(html_str):\n",
    "    print(bs(str(html_str), 'html.parser').prettify()) #pretify lo pone bonito"
   ]
  },
  {
   "cell_type": "code",
   "execution_count": 17,
   "metadata": {},
   "outputs": [
    {
     "output_type": "stream",
     "name": "stdout",
     "text": [
      "NGA - Artist List 'Z' / Page 1 of 4\n\n\n\n\n\n\n\n\n\n\n\n\n\n\n\n\n\n\n\n\n\nWhat's New\nNewsletters\nCalendar\nRecent Acquisitions\nVideos &amp; Podcasts\nAbout the Gallery\nShock of the News\nGeorge Bellows\n\n\nThe Collection\nExhibitions\nPlan a Visit\nPrograms &amp; Events\nOnline Tours\nEducation\nResources\nGallery Shop\nSupport the Gallery\nNGA Images\nNGAkids\n\n\n\n\n\n\n\n\n\n\n\n\n\n\n\nArtist names beginning with Z\nZabaglia, NiccolaItalian, 1664 - 1750\nZaccone, FabianAmerican, 1910 - 1992\nZadkine, OssipFrench, 1890 - 1967\nZaech, BernhardGerman, active c. 1650\nZagar, JacobFlemish, c. 1530 - after 1580\nZagroba, IdaliaPolish, born 1967\nZaidenberg, A.American, active c. 1935\nZaidenberg, ArthurAmerican, 1903 - 1990\nZaisinger, MatthäusGerman, active c. 1500\nZajac, JackAmerican, born 1929\nZak, EugènePolish, 1884 - 1926\nZakharov, Gurii FillipovichRussian, born 1926\nZakowortny, Igor\nZalce, AlfredoMexican, born 1908\nZalopany, MicheleAmerican, born 1955\nZammiello, Craig\nZammitt, NormanAmerican, born 1931\nZampieri, DomenicoItalian, 1581 - 1641\nZampieri, called Domenichino, DomenicoItalian, 1581 - 1641\nZanartú, Enrique AntunezChilean, born 1921\nZanchi, AntonioItalian, 1631 - 1722\nZanetti, Anton MariaItalian, 1679/1680 - 1767\nZanetti Borzino, LeopoldinaItalian, 1826 - 1902\nZanetti I, Antonio Maria, conteItalian, 1680 - 1757\nZanguidi, JacopoItalian, 1544 - 1573/1574\nZanini, GiuseppeItalian, c. 1599 - 1631\nZanini-Viola, GiuseppeItalian, c. 1599 - 1631\nZanotti, GiampietroItalian, 1674 - 1765\nZao Wou-KiFrench, born 1921\n\n\nPage 1 - Artists 1 thru 29 of 115\n\n\n\n· Zab-Zao ·Zas-Zie Zie-Zor \n» nextpage\n\n\n\n \n \n\n\n\n\n\n\n help | search | site map | contact us | privacy | terms of use | press | NGA Images | home |  \nCopyright ©\n      \n\n2008\n      \nNational Gallery of Art, Washington, DC\n\n"
     ]
    }
   ],
   "source": [
    "page = requests.get('https://web.archive.org/web/20121007172955/https://www.nga.gov/collection/anZ1.htm')\n",
    "sopa = bs(page.text, 'html.parser')\n",
    "show_html(sopa.text) #aun muy \"raw\""
   ]
  },
  {
   "cell_type": "code",
   "execution_count": 9,
   "metadata": {
    "tags": []
   },
   "outputs": [
    {
     "output_type": "stream",
     "name": "stdout",
     "text": [
      "<div class=\"BodyText\">\n <!-- InstanceBeginEditable name=\"BodyText\" -->\n <h3>\n  Artist names beginning with Z\n </h3>\n <table>\n  <tr valign=\"top\">\n   <td>\n    <a href=\"/web/20121007172955/https://www.nga.gov/cgi-bin/tsearch?artistid=11630\">\n     Zabaglia, Niccola\n    </a>\n   </td>\n   <td>\n    Italian, 1664 - 1750\n   </td>\n  </tr>\n  <tr valign=\"top\">\n   <td>\n    <a href=\"/web/20121007172955/https://www.nga.gov/cgi-bin/tsearch?artistid=34202\">\n     Zaccone, Fabian\n    </a>\n   </td>\n   <td>\n    American, 1910 - 1992\n   </td>\n  </tr>\n  <tr valign=\"top\">\n   <td>\n    <a href=\"/web/20121007172955/https://www.nga.gov/cgi-bin/tsearch?artistid=3475\">\n     Zadkine, Ossip\n    </a>\n   </td>\n   <td>\n    French, 1890 - 1967\n   </td>\n  </tr>\n  <tr valign=\"top\">\n   <td>\n    <a href=\"/web/20121007172955/https://www.nga.gov/cgi-bin/tsearch?artistid=25135\">\n     Zaech, Bernhard\n    </a>\n   </td>\n   <td>\n    German, active c. 1650\n   </td>\n  </tr>\n  <tr valign=\"top\">\n   <td>\n    <a href=\"/web/20121007172955/https://www.nga.gov/cgi-bin/tsearch?artistid=2298\">\n     Zagar, Jacob\n    </a>\n   </td>\n   <td>\n    Flemish, c. 1530 - after 1580\n   </td>\n  </tr>\n  <tr valign=\"top\">\n   <td>\n    <a href=\"/web/20121007172955/https://www.nga.gov/cgi-bin/tsearch?artistid=23988\">\n     Zagroba, Idalia\n    </a>\n   </td>\n   <td>\n    Polish, born 1967\n   </td>\n  </tr>\n  <tr valign=\"top\">\n   <td>\n    <a href=\"/web/20121007172955/https://www.nga.gov/cgi-bin/tsearch?artistid=8232\">\n     Zaidenberg, A.\n    </a>\n   </td>\n   <td>\n    American, active c. 1935\n   </td>\n  </tr>\n  <tr valign=\"top\">\n   <td>\n    <a href=\"/web/20121007172955/https://www.nga.gov/cgi-bin/tsearch?artistid=34154\">\n     Zaidenberg, Arthur\n    </a>\n   </td>\n   <td>\n    American, 1903 - 1990\n   </td>\n  </tr>\n  <tr valign=\"top\">\n   <td>\n    <a href=\"/web/20121007172955/https://www.nga.gov/cgi-bin/tsearch?artistid=4910\">\n     Zaisinger, Matthäus\n    </a>\n   </td>\n   <td>\n    German, active c. 1500\n   </td>\n  </tr>\n  <tr valign=\"top\">\n   <td>\n    <a href=\"/web/20121007172955/https://www.nga.gov/cgi-bin/tsearch?artistid=3450\">\n     Zajac, Jack\n    </a>\n   </td>\n   <td>\n    American, born 1929\n   </td>\n  </tr>\n  <tr valign=\"top\">\n   <td>\n    <a href=\"/web/20121007172955/https://www.nga.gov/cgi-bin/tsearch?artistid=1986\">\n     Zak, Eugène\n    </a>\n   </td>\n   <td>\n    Polish, 1884 - 1926\n   </td>\n  </tr>\n  <tr valign=\"top\">\n   <td>\n    <a href=\"/web/20121007172955/https://www.nga.gov/cgi-bin/tsearch?artistid=3451\">\n     Zakharov, Gurii Fillipovich\n    </a>\n   </td>\n   <td>\n    Russian, born 1926\n   </td>\n  </tr>\n  <tr valign=\"top\">\n   <td>\n    <a href=\"/web/20121007172955/https://www.nga.gov/cgi-bin/tsearch?artistid=20099\">\n     Zakowortny, Igor\n    </a>\n   </td>\n   <td>\n   </td>\n  </tr>\n  <tr valign=\"top\">\n   <td>\n    <a href=\"/web/20121007172955/https://www.nga.gov/cgi-bin/tsearch?artistid=3452\">\n     Zalce, Alfredo\n    </a>\n   </td>\n   <td>\n    Mexican, born 1908\n   </td>\n  </tr>\n  <tr valign=\"top\">\n   <td>\n    <a href=\"/web/20121007172955/https://www.nga.gov/cgi-bin/tsearch?artistid=34309\">\n     Zalopany, Michele\n    </a>\n   </td>\n   <td>\n    American, born 1955\n   </td>\n  </tr>\n  <tr valign=\"top\">\n   <td>\n    <a href=\"/web/20121007172955/https://www.nga.gov/cgi-bin/tsearch?artistid=27191\">\n     Zammiello, Craig\n    </a>\n   </td>\n   <td>\n   </td>\n  </tr>\n  <tr valign=\"top\">\n   <td>\n    <a href=\"/web/20121007172955/https://www.nga.gov/cgi-bin/tsearch?artistid=5846\">\n     Zammitt, Norman\n    </a>\n   </td>\n   <td>\n    American, born 1931\n   </td>\n  </tr>\n  <tr valign=\"top\">\n   <td>\n    <a href=\"/web/20121007172955/https://www.nga.gov/cgi-bin/tsearch?artistid=3941\">\n     Zampieri, Domenico\n    </a>\n   </td>\n   <td>\n    Italian, 1581 - 1641\n   </td>\n  </tr>\n  <tr valign=\"top\">\n   <td>\n    <a href=\"/web/20121007172955/https://www.nga.gov/cgi-bin/tsearch?artistid=3941\">\n     Zampieri, called Domenichino, Domenico\n    </a>\n   </td>\n   <td>\n    Italian, 1581 - 1641\n   </td>\n  </tr>\n  <tr valign=\"top\">\n   <td>\n    <a href=\"/web/20121007172955/https://www.nga.gov/cgi-bin/tsearch?artistid=3453\">\n     Zanartú, Enrique Antunez\n    </a>\n   </td>\n   <td>\n    Chilean, born 1921\n   </td>\n  </tr>\n  <tr valign=\"top\">\n   <td>\n    <a href=\"/web/20121007172955/https://www.nga.gov/cgi-bin/tsearch?artistid=35173\">\n     Zanchi, Antonio\n    </a>\n   </td>\n   <td>\n    Italian, 1631 - 1722\n   </td>\n  </tr>\n  <tr valign=\"top\">\n   <td>\n    <a href=\"/web/20121007172955/https://www.nga.gov/cgi-bin/tsearch?artistid=11133\">\n     Zanetti, Anton Maria\n    </a>\n   </td>\n   <td>\n    Italian, 1679/1680 - 1767\n   </td>\n  </tr>\n  <tr valign=\"top\">\n   <td>\n    <a href=\"/web/20121007172955/https://www.nga.gov/cgi-bin/tsearch?artistid=3455\">\n     Zanetti Borzino, Leopoldina\n    </a>\n   </td>\n   <td>\n    Italian, 1826 - 1902\n   </td>\n  </tr>\n  <tr valign=\"top\">\n   <td>\n    <a href=\"/web/20121007172955/https://www.nga.gov/cgi-bin/tsearch?artistid=3454\">\n     Zanetti I, Antonio Maria, conte\n    </a>\n   </td>\n   <td>\n    Italian, 1680 - 1757\n   </td>\n  </tr>\n  <tr valign=\"top\">\n   <td>\n    <a href=\"/web/20121007172955/https://www.nga.gov/cgi-bin/tsearch?artistid=961\">\n     Zanguidi, Jacopo\n    </a>\n   </td>\n   <td>\n    Italian, 1544 - 1573/1574\n   </td>\n  </tr>\n  <tr valign=\"top\">\n   <td>\n    <a href=\"/web/20121007172955/https://www.nga.gov/cgi-bin/tsearch?artistid=11597\">\n     Zanini, Giuseppe\n    </a>\n   </td>\n   <td>\n    Italian, c. 1599 - 1631\n   </td>\n  </tr>\n  <tr valign=\"top\">\n   <td>\n    <a href=\"/web/20121007172955/https://www.nga.gov/cgi-bin/tsearch?artistid=11597\">\n     Zanini-Viola, Giuseppe\n    </a>\n   </td>\n   <td>\n    Italian, c. 1599 - 1631\n   </td>\n  </tr>\n  <tr valign=\"top\">\n   <td>\n    <a href=\"/web/20121007172955/https://www.nga.gov/cgi-bin/tsearch?artistid=11631\">\n     Zanotti, Giampietro\n    </a>\n   </td>\n   <td>\n    Italian, 1674 - 1765\n   </td>\n  </tr>\n  <tr valign=\"top\">\n   <td>\n    <a href=\"/web/20121007172955/https://www.nga.gov/cgi-bin/tsearch?artistid=3427\">\n     Zao Wou-Ki\n    </a>\n   </td>\n   <td>\n    French, born 1921\n   </td>\n  </tr>\n </table>\n <br/>\n <br/>\n <table class=\"AlphaNav\">\n  <tr>\n   <td>\n   </td>\n   <td align=\"center\">\n    Page 1 - Artists 1 thru 29 of 115\n    <br/>\n   </td>\n   <td>\n   </td>\n  </tr>\n  <tr>\n   <td>\n   </td>\n   <td align=\"center\">\n    ·\n    <b>\n     Zab-Zao\n    </b>\n    ·\n    <a href=\"/web/20121007172955/https://www.nga.gov/collection/anZ2.htm\">\n     Zas-Zie\n    </a>\n    <a href=\"/web/20121007172955/https://www.nga.gov/collection/anZ3.htm\">\n     Zie-Zor\n    </a>\n   </td>\n   <td align=\"center\">\n    »\n    <br/>\n    <a href=\"/web/20121007172955/https://www.nga.gov/collection/anZ4.htm\">\n     <strong>\n      next\n      <br>\n       page\n      </br>\n     </strong>\n    </a>\n   </td>\n  </tr>\n </table>\n <!-- InstanceEndEditable -->\n</div>\n"
     ]
    }
   ],
   "source": [
    "artist_name_list = sopa.find(class_='BodyText')  #se le añade la _ a la key del valor a buscar porque class es palabra reservada\n",
    "show_html(artist_name_list)"
   ]
  },
  {
   "cell_type": "code",
   "execution_count": 13,
   "metadata": {},
   "outputs": [
    {
     "output_type": "stream",
     "name": "stdout",
     "text": [
      "[\n<a href=\"/web/20121007172955/https://www.nga.gov/cgi-bin/tsearch?artistid=11630\">\n Zabaglia, Niccola\n</a>\n,\n<a href=\"/web/20121007172955/https://www.nga.gov/cgi-bin/tsearch?artistid=34202\">\n Zaccone, Fabian\n</a>\n,\n<a href=\"/web/20121007172955/https://www.nga.gov/cgi-bin/tsearch?artistid=3475\">\n Zadkine, Ossip\n</a>\n,\n<a href=\"/web/20121007172955/https://www.nga.gov/cgi-bin/tsearch?artistid=25135\">\n Zaech, Bernhard\n</a>\n,\n<a href=\"/web/20121007172955/https://www.nga.gov/cgi-bin/tsearch?artistid=2298\">\n Zagar, Jacob\n</a>\n,\n<a href=\"/web/20121007172955/https://www.nga.gov/cgi-bin/tsearch?artistid=23988\">\n Zagroba, Idalia\n</a>\n,\n<a href=\"/web/20121007172955/https://www.nga.gov/cgi-bin/tsearch?artistid=8232\">\n Zaidenberg, A.\n</a>\n,\n<a href=\"/web/20121007172955/https://www.nga.gov/cgi-bin/tsearch?artistid=34154\">\n Zaidenberg, Arthur\n</a>\n,\n<a href=\"/web/20121007172955/https://www.nga.gov/cgi-bin/tsearch?artistid=4910\">\n Zaisinger, Matthäus\n</a>\n,\n<a href=\"/web/20121007172955/https://www.nga.gov/cgi-bin/tsearch?artistid=3450\">\n Zajac, Jack\n</a>\n,\n<a href=\"/web/20121007172955/https://www.nga.gov/cgi-bin/tsearch?artistid=1986\">\n Zak, Eugène\n</a>\n,\n<a href=\"/web/20121007172955/https://www.nga.gov/cgi-bin/tsearch?artistid=3451\">\n Zakharov, Gurii Fillipovich\n</a>\n,\n<a href=\"/web/20121007172955/https://www.nga.gov/cgi-bin/tsearch?artistid=20099\">\n Zakowortny, Igor\n</a>\n,\n<a href=\"/web/20121007172955/https://www.nga.gov/cgi-bin/tsearch?artistid=3452\">\n Zalce, Alfredo\n</a>\n,\n<a href=\"/web/20121007172955/https://www.nga.gov/cgi-bin/tsearch?artistid=34309\">\n Zalopany, Michele\n</a>\n,\n<a href=\"/web/20121007172955/https://www.nga.gov/cgi-bin/tsearch?artistid=27191\">\n Zammiello, Craig\n</a>\n,\n<a href=\"/web/20121007172955/https://www.nga.gov/cgi-bin/tsearch?artistid=5846\">\n Zammitt, Norman\n</a>\n,\n<a href=\"/web/20121007172955/https://www.nga.gov/cgi-bin/tsearch?artistid=3941\">\n Zampieri, Domenico\n</a>\n,\n<a href=\"/web/20121007172955/https://www.nga.gov/cgi-bin/tsearch?artistid=3941\">\n Zampieri, called Domenichino, Domenico\n</a>\n,\n<a href=\"/web/20121007172955/https://www.nga.gov/cgi-bin/tsearch?artistid=3453\">\n Zanartú, Enrique Antunez\n</a>\n,\n<a href=\"/web/20121007172955/https://www.nga.gov/cgi-bin/tsearch?artistid=35173\">\n Zanchi, Antonio\n</a>\n,\n<a href=\"/web/20121007172955/https://www.nga.gov/cgi-bin/tsearch?artistid=11133\">\n Zanetti, Anton Maria\n</a>\n,\n<a href=\"/web/20121007172955/https://www.nga.gov/cgi-bin/tsearch?artistid=3455\">\n Zanetti Borzino, Leopoldina\n</a>\n,\n<a href=\"/web/20121007172955/https://www.nga.gov/cgi-bin/tsearch?artistid=3454\">\n Zanetti I, Antonio Maria, conte\n</a>\n,\n<a href=\"/web/20121007172955/https://www.nga.gov/cgi-bin/tsearch?artistid=961\">\n Zanguidi, Jacopo\n</a>\n,\n<a href=\"/web/20121007172955/https://www.nga.gov/cgi-bin/tsearch?artistid=11597\">\n Zanini, Giuseppe\n</a>\n,\n<a href=\"/web/20121007172955/https://www.nga.gov/cgi-bin/tsearch?artistid=11597\">\n Zanini-Viola, Giuseppe\n</a>\n,\n<a href=\"/web/20121007172955/https://www.nga.gov/cgi-bin/tsearch?artistid=11631\">\n Zanotti, Giampietro\n</a>\n,\n<a href=\"/web/20121007172955/https://www.nga.gov/cgi-bin/tsearch?artistid=3427\">\n Zao Wou-Ki\n</a>\n,\n<a href=\"/web/20121007172955/https://www.nga.gov/collection/anZ2.htm\">\n Zas-Zie\n</a>\n,\n<a href=\"/web/20121007172955/https://www.nga.gov/collection/anZ3.htm\">\n Zie-Zor\n</a>\n,\n<a href=\"/web/20121007172955/https://www.nga.gov/collection/anZ4.htm\">\n <strong>\n  next\n  <br/>\n  page\n </strong>\n</a>\n]\n\n"
     ]
    }
   ],
   "source": [
    "artist_name_list2 = artist_name_list.find_all(\"a\") \n",
    "show_html(artist_name_list2)"
   ]
  },
  {
   "cell_type": "code",
   "execution_count": 11,
   "metadata": {},
   "outputs": [
    {
     "output_type": "stream",
     "name": "stdout",
     "text": [
      "<a href=\"/web/20121007172955/https://www.nga.gov/cgi-bin/tsearch?artistid=11630\">Zabaglia, Niccola</a>\n<a href=\"/web/20121007172955/https://www.nga.gov/cgi-bin/tsearch?artistid=34202\">Zaccone, Fabian</a>\n<a href=\"/web/20121007172955/https://www.nga.gov/cgi-bin/tsearch?artistid=3475\">Zadkine, Ossip</a>\n<a href=\"/web/20121007172955/https://www.nga.gov/cgi-bin/tsearch?artistid=25135\">Zaech, Bernhard</a>\n<a href=\"/web/20121007172955/https://www.nga.gov/cgi-bin/tsearch?artistid=2298\">Zagar, Jacob</a>\n<a href=\"/web/20121007172955/https://www.nga.gov/cgi-bin/tsearch?artistid=23988\">Zagroba, Idalia</a>\n<a href=\"/web/20121007172955/https://www.nga.gov/cgi-bin/tsearch?artistid=8232\">Zaidenberg, A.</a>\n<a href=\"/web/20121007172955/https://www.nga.gov/cgi-bin/tsearch?artistid=34154\">Zaidenberg, Arthur</a>\n<a href=\"/web/20121007172955/https://www.nga.gov/cgi-bin/tsearch?artistid=4910\">Zaisinger, Matthäus</a>\n<a href=\"/web/20121007172955/https://www.nga.gov/cgi-bin/tsearch?artistid=3450\">Zajac, Jack</a>\n<a href=\"/web/20121007172955/https://www.nga.gov/cgi-bin/tsearch?artistid=1986\">Zak, Eugène</a>\n<a href=\"/web/20121007172955/https://www.nga.gov/cgi-bin/tsearch?artistid=3451\">Zakharov, Gurii Fillipovich</a>\n<a href=\"/web/20121007172955/https://www.nga.gov/cgi-bin/tsearch?artistid=20099\">Zakowortny, Igor</a>\n<a href=\"/web/20121007172955/https://www.nga.gov/cgi-bin/tsearch?artistid=3452\">Zalce, Alfredo</a>\n<a href=\"/web/20121007172955/https://www.nga.gov/cgi-bin/tsearch?artistid=34309\">Zalopany, Michele</a>\n<a href=\"/web/20121007172955/https://www.nga.gov/cgi-bin/tsearch?artistid=27191\">Zammiello, Craig</a>\n<a href=\"/web/20121007172955/https://www.nga.gov/cgi-bin/tsearch?artistid=5846\">Zammitt, Norman</a>\n<a href=\"/web/20121007172955/https://www.nga.gov/cgi-bin/tsearch?artistid=3941\">Zampieri, Domenico</a>\n<a href=\"/web/20121007172955/https://www.nga.gov/cgi-bin/tsearch?artistid=3941\">Zampieri, called Domenichino, Domenico</a>\n<a href=\"/web/20121007172955/https://www.nga.gov/cgi-bin/tsearch?artistid=3453\">Zanartú, Enrique Antunez</a>\n<a href=\"/web/20121007172955/https://www.nga.gov/cgi-bin/tsearch?artistid=35173\">Zanchi, Antonio</a>\n<a href=\"/web/20121007172955/https://www.nga.gov/cgi-bin/tsearch?artistid=11133\">Zanetti, Anton Maria</a>\n<a href=\"/web/20121007172955/https://www.nga.gov/cgi-bin/tsearch?artistid=3455\">Zanetti Borzino, Leopoldina</a>\n<a href=\"/web/20121007172955/https://www.nga.gov/cgi-bin/tsearch?artistid=3454\">Zanetti I, Antonio Maria, conte</a>\n<a href=\"/web/20121007172955/https://www.nga.gov/cgi-bin/tsearch?artistid=961\">Zanguidi, Jacopo</a>\n<a href=\"/web/20121007172955/https://www.nga.gov/cgi-bin/tsearch?artistid=11597\">Zanini, Giuseppe</a>\n<a href=\"/web/20121007172955/https://www.nga.gov/cgi-bin/tsearch?artistid=11597\">Zanini-Viola, Giuseppe</a>\n<a href=\"/web/20121007172955/https://www.nga.gov/cgi-bin/tsearch?artistid=11631\">Zanotti, Giampietro</a>\n<a href=\"/web/20121007172955/https://www.nga.gov/cgi-bin/tsearch?artistid=3427\">Zao Wou-Ki</a>\n<a href=\"/web/20121007172955/https://www.nga.gov/collection/anZ2.htm\">Zas-Zie</a>\n<a href=\"/web/20121007172955/https://www.nga.gov/collection/anZ3.htm\">Zie-Zor</a>\n<a href=\"/web/20121007172955/https://www.nga.gov/collection/anZ4.htm\"><strong>next<br/>page</strong></a>\n"
     ]
    }
   ],
   "source": [
    "for artist_name in artist_name_list2:\n",
    "    print(artist_name)    #vamos avanzando"
   ]
  },
  {
   "cell_type": "code",
   "execution_count": 12,
   "metadata": {},
   "outputs": [
    {
     "output_type": "stream",
     "name": "stdout",
     "text": [
      "<class 'bs4.element.Tag'>\n"
     ]
    }
   ],
   "source": [
    "print(type(artist_name))    #hay que pasarlo a string para iterar"
   ]
  },
  {
   "cell_type": "code",
   "execution_count": null,
   "metadata": {},
   "outputs": [],
   "source": [
    "artist_name = str(artist_name)"
   ]
  },
  {
   "cell_type": "code",
   "execution_count": null,
   "metadata": {},
   "outputs": [],
   "source": [
    "lista = []   #aqui metemos la mitad del trabajo: los nombres. Faltan las url\n",
    "for artist in artist_name_list2:\n",
    "    names = artist.contents[0]   #contents saca lo que hay entre ><\n",
    "    print(names)\n",
    "    lista.append(names)\n",
    "print(type(lista))"
   ]
  },
  {
   "cell_type": "code",
   "execution_count": null,
   "metadata": {},
   "outputs": [],
   "source": [
    "# Create for loop to print out all artists' links\n",
    "#ahora vamos a por las webs, que revisando visualmente , parecen estar todas tras el \"href\"\n",
    "\n",
    "for x in artist_name_list2:\n",
    "    link = x.get('href')\n",
    "    print(link)    #falta el principio de las web(defecto de la propia web que estamos rascando)"
   ]
  },
  {
   "cell_type": "code",
   "execution_count": null,
   "metadata": {
    "tags": [
     "outputPrepend"
    ]
   },
   "outputs": [],
   "source": [
    "#ahora vamos a por las webs, que revisando visualmente , parecen estar todas tras el \"href\"\n",
    "linkalista = []\n",
    "for x in artist_name_list2:\n",
    "     link = 'https://web.archive.org' + x.get('href')   #añadimos lo faltante\n",
    "     print(link)\n",
    "     linkalista.append(link)\n",
    "\n"
   ]
  },
  {
   "cell_type": "code",
   "execution_count": null,
   "metadata": {},
   "outputs": [],
   "source": [
    "defin = dict(zip(lista, linkalista))\n",
    "defin"
   ]
  },
  {
   "cell_type": "code",
   "execution_count": null,
   "metadata": {},
   "outputs": [],
   "source": [
    "# Convertir a diccionario para trabajar con DataFrame?\n",
    "dict_df = {\"name\": lista, \"link\": linkalista}\n",
    "df = pd.DataFrame(dict_df)\n",
    "df"
   ]
  },
  {
   "cell_type": "code",
   "execution_count": null,
   "metadata": {},
   "outputs": [],
   "source": [
    "import webbrowser"
   ]
  },
  {
   "cell_type": "code",
   "execution_count": null,
   "metadata": {},
   "outputs": [],
   "source": [
    "webbrowser.open_new(\"www.google.es\")"
   ]
  },
  {
   "cell_type": "code",
   "execution_count": null,
   "metadata": {},
   "outputs": [],
   "source": [
    "#def mini_virus(urls):\n",
    "    for x in urls:\n",
    "        webbrowser.open_new(x)"
   ]
  },
  {
   "cell_type": "code",
   "execution_count": null,
   "metadata": {},
   "outputs": [],
   "source": [
    "#comando 'select' es parecido a 'find_all'"
   ]
  }
 ]
}