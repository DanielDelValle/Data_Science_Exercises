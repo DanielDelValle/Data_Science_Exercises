{
 "metadata": {
  "language_info": {
   "codemirror_mode": {
    "name": "ipython",
    "version": 3
   },
   "file_extension": ".py",
   "mimetype": "text/x-python",
   "name": "python",
   "nbconvert_exporter": "python",
   "pygments_lexer": "ipython3",
   "version": "3.9.1-final"
  },
  "orig_nbformat": 2,
  "kernelspec": {
   "name": "python3",
   "display_name": "Python 3.9.1 64-bit",
   "metadata": {
    "interpreter": {
     "hash": "ac59ebe37160ed0dfa835113d9b8498d9f09ceb179beaac4002f036b9467c963"
    }
   }
  }
 },
 "nbformat": 4,
 "nbformat_minor": 2,
 "cells": [
  {
   "cell_type": "code",
   "execution_count": 11,
   "metadata": {},
   "outputs": [
    {
     "output_type": "stream",
     "name": "stdout",
     "text": [
      "\n"
     ]
    }
   ],
   "source": [
    "  import os\n",
    "  print(os.path.dirname(\"practica\"))"
   ]
  },
  {
   "cell_type": "code",
   "execution_count": 1,
   "metadata": {},
   "outputs": [],
   "source": [
    "import json as js"
   ]
  },
  {
   "cell_type": "code",
   "execution_count": 9,
   "metadata": {},
   "outputs": [
    {
     "output_type": "error",
     "ename": "SyntaxError",
     "evalue": "invalid syntax (<ipython-input-9-26cf77dd48e2>, line 1)",
     "traceback": [
      "\u001b[1;36m  File \u001b[1;32m\"<ipython-input-9-26cf77dd48e2>\"\u001b[1;36m, line \u001b[1;32m1\u001b[0m\n\u001b[1;33m    r = request.get(url=....)\u001b[0m\n\u001b[1;37m                            ^\u001b[0m\n\u001b[1;31mSyntaxError\u001b[0m\u001b[1;31m:\u001b[0m invalid syntax\n"
     ]
    }
   ],
   "source": [
    "r = request.get(url=....)\n",
    "json_readed = r.json()\n",
    "print(json_readed)\n",
    "\n",
    "with open('datos.json', 'w+') as archivo1:\n",
    "    json.dump(json_readed, archivo1, indent=4) #guardará la info en archivo1, el cual crea, con identacion 4\n",
    "\n",
    "with open ('datos.json') as archivo1:\n",
    "    line = archivo1.readline()\n",
    "    #if \"\" or None or [] or False or 0 sería \"si falso\"\n",
    "    if line:\n",
    "        print(line)\n",
    "\n",
    "    line = f.readline()\n",
    "print('Esta es la siguiente linea y está vacia:', line)\n",
    "\n",
    "with open('archivo1.json', 'r+') as estudio:\n",
    "    \n",
    "\n",
    "    df = pd.DataFrame(json_readed) #para importar a pandas un json. las claves de los dicionarios seran las filas\n",
    "    #si dentro de un elemento hay a la vez otros conjuntos (dict, list, etc), creara repetidas claves con subtipos.\n",
    "    df_json = pd.read_json(\"archivo1.json\")\n",
    "    print(df_json)\n",
    "\n",
    "    json.load(estudio)\n",
    "\n",
    "    final_df = pd.concat([archivo1, estudio], axis=1) #unir varios dataframe\n",
    "\n",
    "\n",
    "\n",
    "   "
   ]
  },
  {
   "cell_type": "code",
   "execution_count": null,
   "metadata": {},
   "outputs": [],
   "source": [
    "#IMPORTAR ARCHIVOS   deben estar al mismo nivel de carpeta (jerarquia)\n",
    "   import archivo1\n",
    "   archivo1.funcion_calculadora() #importariamos y llamamos la calculadora que existe en archivo1\n",
    "    from archivo1 import * #importaria TODO (no recomendable porque se puede saturar el ordenador ,virus, etc)\n",
    "   from archivo1 import listado_compra, funcion_calculadora #importamos de forma selecta ciertos archivos. se importan sin () porque no estamos llamando\n",
    "   # la ventaja del from es que  no hay que llamar nombrando primero el origen\n",
    "   funcion_calculadora()\n",
    "\n",
    "\n",
    "   #si el archivo esta en otra carpeta superior, se pone:\n",
    "   from carpeta.archivo import ....\n",
    "\n",
    "\n",
    "   #si la carpeta esta \"lejos\":\n",
    "   import os.path\n",
    "   print(os.path)\n",
    "\n",
    "   import sys.path #lista cuyo cada elemento es un string  representa un directorio  \n",
    "\n",
    "   #USAR SIEMPRE DOBLE \\\\ PARA EVITAR FALLOS DE INTEPRETACION TIPO  \\n \\t \\\"  etc\n",
    "   sys.path.append(\"path\\\\pat\\\\\") #asi añadimos el path de una carpeta para poder acceder a ella con IMPORT \n",
    "\n",
    "   import os.path.dirname"
   ]
  },
  {
   "cell_type": "code",
   "execution_count": 13,
   "metadata": {},
   "outputs": [
    {
     "output_type": "stream",
     "name": "stdout",
     "text": [
      "c:\\DATA_SCIENCE\\ESTADISTICA\\Diario\n"
     ]
    }
   ],
   "source": [
    "import os\r\n",
    "print(os.getcwd())   #especifica ruta actual"
   ]
  },
  {
   "cell_type": "code",
   "execution_count": 14,
   "metadata": {},
   "outputs": [
    {
     "output_type": "stream",
     "name": "stdout",
     "text": [
      "c:\\DATA_SCIENCE\\ESTADISTICA\n"
     ]
    }
   ],
   "source": [
    "print(os.path.dirname(os.getcwd())) #añadiendo path se sube a la carpeta anterior contenedora  "
   ]
  },
  {
   "cell_type": "code",
   "execution_count": null,
   "metadata": {},
   "outputs": [],
   "source": [
    "# al crear un programa, primero se ponen los append al path, luego los import etc  el resto"
   ]
  },
  {
   "cell_type": "code",
   "execution_count": null,
   "metadata": {},
   "outputs": [],
   "source": [
    "def get_root_path(n):\n",
    "    path = os.get(cwd)\n",
    "    for i in range(5):\n",
    "        print(path)\n",
    "        path = ost.path.dirname(path)\n",
    "        print(\"...........\")\n",
    "    print(path)\n",
    "    sys.path.append(path)\n",
    "\n",
    "list(set(path)) #para eliminar duplicados"
   ]
  }
 ]
}