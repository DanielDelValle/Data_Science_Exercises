{
 "metadata": {
  "language_info": {
   "codemirror_mode": {
    "name": "ipython",
    "version": 3
   },
   "file_extension": ".py",
   "mimetype": "text/x-python",
   "name": "python",
   "nbconvert_exporter": "python",
   "pygments_lexer": "ipython3",
   "version": 3
  },
  "orig_nbformat": 2
 },
 "nbformat": 4,
 "nbformat_minor": 2,
 "cells": [
  {
   "cell_type": "code",
   "execution_count": null,
   "metadata": {},
   "outputs": [],
   "source": [
    "#todas las librerias tienen una variable llamada __name__\n",
    "\n",
    "# 1 - Tiene el valor de \"__main__\" si se ejecuta el propio fichero.\n",
    "# 2 - Tiene el valor del nombre del fichero, si es importado.\n",
    "if __name__ == \"__main__\":   # es una condicion que se pone en funciones con el fin de que no sean ejecutadas en importado (solo en origen)"
   ]
  }
 ]
}