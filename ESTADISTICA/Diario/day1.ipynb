{
 "metadata": {
  "language_info": {
   "codemirror_mode": {
    "name": "ipython",
    "version": 3
   },
   "file_extension": ".py",
   "mimetype": "text/x-python",
   "name": "python",
   "nbconvert_exporter": "python",
   "pygments_lexer": "ipython3",
   "version": 3
  },
  "orig_nbformat": 2
 },
 "nbformat": 4,
 "nbformat_minor": 2,
 "cells": [
  {
   "cell_type": "code",
   "execution_count": null,
   "metadata": {},
   "outputs": [],
   "source": [
    "#ESTADISTICAAAAAA"
   ]
  },
  {
   "cell_type": "code",
   "execution_count": null,
   "metadata": {},
   "outputs": [],
   "source": [
    " #ARGS Y KWARKS\n",
    "\n",
    " #*ARGS\n",
    "\n",
    " #SE crea funcion cuyos argumentos serán desconocidos, entonces en () se pone *args.\n",
    " #se añade comentario \"\"\" describiendo los significados\n",
    " #básicamente se ahorra especificar los argumentos al definir la funcion\n",
    " #al llamar a la funcion no hay que especificar \"arg=__\"\n",
    " #los datos los expresa en tuplas\n",
    "\n",
    " #**KWARGS\n",
    "#igual pero usando diccionarios como argumento\n",
    "#al llamar a la funcion, hay que poner key=valor.\n",
    "#los datos los expresa en diccionarios   \n",
    "\n",
    "#Ambos son opcionales (si no se especifican, aparecen como tupla y diccionario vacios, respectivamente)\n"
   ]
  }
 ]
}