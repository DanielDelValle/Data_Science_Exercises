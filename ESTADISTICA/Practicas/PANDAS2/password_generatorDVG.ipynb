{
 "metadata": {
  "language_info": {
   "codemirror_mode": {
    "name": "ipython",
    "version": 3
   },
   "file_extension": ".py",
   "mimetype": "text/x-python",
   "name": "python",
   "nbconvert_exporter": "python",
   "pygments_lexer": "ipython3",
   "version": "3.8.6-final"
  },
  "orig_nbformat": 2,
  "kernelspec": {
   "name": "python38664bitcf068255407b4d4884bd8b39a056de4a",
   "display_name": "Python 3.8.6 64-bit",
   "language": "python"
  }
 },
 "nbformat": 4,
 "nbformat_minor": 2,
 "cells": [
  {
   "source": [
    "Crea una función llamada \"generador\" con dos argumentos de entrada 'longitud' (entero) y 'dificultad' (entero). La función retornará una contraseña (string) de tamaño 'longitud' y con las siguientes características dependiendo del valor de 'dificultad':\n",
    "\n",
    "1. Si 'dificultad' tiene valor 1, entonces la contraseña solo contendrá números. \n",
    "2. Si 'dificultad' tiene valor 2, entonces la contraseña contendrá números y letras\n",
    "3. Si 'dificultad' tiene valor 3, entonces la contraseña contendrá números, letras y signos de puntuación (!,?¡:-.\"')\n",
    "4. Si 'dificultad' tiene valor 4, entonces la contraseña será como la del punto 3. pero con el doble de longitud y solo números pares. \n",
    "5. Para cualquier otro caso, la contraseña será \"numpy_y_pandas_son_lo_mejor\""
   ],
   "cell_type": "markdown",
   "metadata": {}
  },
  {
   "cell_type": "code",
   "execution_count": 101,
   "metadata": {},
   "outputs": [],
   "source": [
    "def generador(longitud, dificultad):\n",
    "    import random\n",
    "    import string\n",
    "    longitud = int(input(\"Enter lenght\"))\n",
    "    dificultad = int(input(\"Enter difficulty\")) \n",
    "    \n",
    "    nums = random.sample(string.digits, longitud)\n",
    "    pares = []\n",
    "    parstr = \"\".join(pares)\n",
    "    if dificultad == 1:\n",
    "        a = random.sample(string.digits, longitud)\n",
    "        return \"Contraseña\", a\n",
    "    if dificultad == 2:\n",
    "        b = random.sample(string.digits + string.ascii_letters, longitud)\n",
    "        return \"Contraseña\", b\n",
    "    if dificultad == 3:\n",
    "        c = random.sample(string.digits + string.ascii_letters + string.punctuation, longitud)\n",
    "        return \"Contraseña\", c\n",
    "    if dificultad == 4:\n",
    "        d = random.sample(parstr + string.ascii_letters + string.punctuation, longitud*2)\n",
    "        for x in nums:\n",
    "            if int(x) % 2 == 0:\n",
    "                y = str(x)\n",
    "                pares.append(y)\n",
    "        return \"Contraseña: \", \"\".join(d)\n",
    "    else:\n",
    "        print(\"numpy_y_pandas_son_lo_mejor\")\n",
    "        \n",
    "#no sonsigo que incluya elementos numericos al solicitar contraseña dificultad 4\n",
    "        "
   ]
  },
  {
   "cell_type": "code",
   "execution_count": 102,
   "metadata": {},
   "outputs": [
    {
     "output_type": "execute_result",
     "data": {
      "text/plain": [
       "('Contraseña: ', 'yCdi.S`j')"
      ]
     },
     "metadata": {},
     "execution_count": 102
    }
   ],
   "source": [
    "generador(3, 1)"
   ]
  },
  {
   "cell_type": "code",
   "execution_count": null,
   "metadata": {},
   "outputs": [],
   "source": []
  }
 ]
}