{
 "metadata": {
  "language_info": {
   "codemirror_mode": {
    "name": "ipython",
    "version": 3
   },
   "file_extension": ".py",
   "mimetype": "text/x-python",
   "name": "python",
   "nbconvert_exporter": "python",
   "pygments_lexer": "ipython3",
   "version": "3.9.1-final"
  },
  "orig_nbformat": 2,
  "kernelspec": {
   "name": "python3",
   "display_name": "Python 3.9.1 64-bit",
   "metadata": {
    "interpreter": {
     "hash": "ac59ebe37160ed0dfa835113d9b8498d9f09ceb179beaac4002f036b9467c963"
    }
   }
  }
 },
 "nbformat": 4,
 "nbformat_minor": 2,
 "cells": [
  {
   "cell_type": "markdown",
   "metadata": {},
   "source": [
    "### 1. From HTML\n",
    "\n",
    "*Using only beautiful soap, no regex*\n",
    "\n",
    "Save in a dataframe the next information using web scraping. Each row of the dataframe must have in different columns:\n",
    "\n",
    "- The name of the title\n",
    "- The id of the div where is the value scraped. If there is not id, then the value is must be numpy.nan\n",
    "- The name of the tag where is the value scraped.\n",
    "- The next scraped values in different rows: \n",
    "    - The value: \"Este es el segundo párrafo\"  --> Row 1\n",
    "    - The url https://pagina1.xyz/ --> Row 2\n",
    "    - The url https://pagina4.xyz/ --> Row 3\n",
    "    - The url https://pagina5.xyz/ --> Row 4\n",
    "    - The value \"links footer-links\" --> Row 5\n",
    "    - The value \"Este párrafo está en el footer\" --> Row 6"
   ]
  },
  {
   "cell_type": "code",
   "execution_count": 1,
   "metadata": {},
   "outputs": [],
   "source": [
    "html = \"\"\"\n",
    "<html lang=\"es\">\n",
    "<head>\n",
    "    <meta charset=\"UTF-8\">\n",
    "    <title>Página de prueba</title>\n",
    "</head>\n",
    "<body>\n",
    "<div id=\"main\" class=\"full-width\">\n",
    "    <h1>El título de la página</h1>\n",
    "    <p>Este es el primer párrafo</p>\n",
    "    <p>Este es el segundo párrafo</p>\n",
    "    <div id=\"innerDiv\">\n",
    "        <div class=\"links\">\n",
    "            <a href=\"https://pagina1.xyz/\">Enlace 1</a>\n",
    "            <a href=\"https://pagina2.xyz/\">Enlace 2</a>\n",
    "        </div>\n",
    "        <div class=\"right\">\n",
    "            <div class=\"links\">\n",
    "                <a href=\"https://pagina3.xyz/\">Enlace 3</a>\n",
    "                <a href=\"https://pagina4.xyz/\">Enlace 4</a>\n",
    "            </div>\n",
    "        </div>\n",
    "    </div>\n",
    "    <div id=\"footer\">\n",
    "        <!-- El footer -->\n",
    "        <p>Este párrafo está en el footer</p>\n",
    "        <div class=\"links footer-links\">\n",
    "            <a href=\"https://pagina5.xyz/\">Enlace 5</a>\n",
    "        </div>\n",
    "    </div>\n",
    "</div>\n",
    "</body>\n",
    "</html>\"\"\""
   ]
  },
  {
   "cell_type": "code",
   "execution_count": 2,
   "metadata": {},
   "outputs": [],
   "source": [
    "import requests\n",
    "from bs4 import BeautifulSoup\n",
    "import pandas as pd\n"
   ]
  },
  {
   "cell_type": "code",
   "execution_count": 3,
   "metadata": {},
   "outputs": [],
   "source": [
    "sopa = BeautifulSoup(html, \"html.parser\")"
   ]
  },
  {
   "cell_type": "code",
   "execution_count": 4,
   "metadata": {},
   "outputs": [
    {
     "output_type": "execute_result",
     "data": {
      "text/plain": [
       "<h1>El título de la página</h1>"
      ]
     },
     "metadata": {},
     "execution_count": 4
    }
   ],
   "source": [
    "title = sopa.find(\"h1\")\n",
    "title"
   ]
  },
  {
   "cell_type": "code",
   "execution_count": 5,
   "metadata": {},
   "outputs": [
    {
     "output_type": "execute_result",
     "data": {
      "text/plain": [
       "[<div class=\"full-width\" id=\"main\">\n",
       " <h1>El título de la página</h1>\n",
       " <p>Este es el primer párrafo</p>\n",
       " <p>Este es el segundo párrafo</p>\n",
       " <div id=\"innerDiv\">\n",
       " <div class=\"links\">\n",
       " <a href=\"https://pagina1.xyz/\">Enlace 1</a>\n",
       " <a href=\"https://pagina2.xyz/\">Enlace 2</a>\n",
       " </div>\n",
       " <div class=\"right\">\n",
       " <div class=\"links\">\n",
       " <a href=\"https://pagina3.xyz/\">Enlace 3</a>\n",
       " <a href=\"https://pagina4.xyz/\">Enlace 4</a>\n",
       " </div>\n",
       " </div>\n",
       " </div>\n",
       " <div id=\"footer\">\n",
       " <!-- El footer -->\n",
       " <p>Este párrafo está en el footer</p>\n",
       " <div class=\"links footer-links\">\n",
       " <a href=\"https://pagina5.xyz/\">Enlace 5</a>\n",
       " </div>\n",
       " </div>\n",
       " </div>,\n",
       " <div id=\"innerDiv\">\n",
       " <div class=\"links\">\n",
       " <a href=\"https://pagina1.xyz/\">Enlace 1</a>\n",
       " <a href=\"https://pagina2.xyz/\">Enlace 2</a>\n",
       " </div>\n",
       " <div class=\"right\">\n",
       " <div class=\"links\">\n",
       " <a href=\"https://pagina3.xyz/\">Enlace 3</a>\n",
       " <a href=\"https://pagina4.xyz/\">Enlace 4</a>\n",
       " </div>\n",
       " </div>\n",
       " </div>,\n",
       " <div class=\"links\">\n",
       " <a href=\"https://pagina1.xyz/\">Enlace 1</a>\n",
       " <a href=\"https://pagina2.xyz/\">Enlace 2</a>\n",
       " </div>,\n",
       " <div class=\"right\">\n",
       " <div class=\"links\">\n",
       " <a href=\"https://pagina3.xyz/\">Enlace 3</a>\n",
       " <a href=\"https://pagina4.xyz/\">Enlace 4</a>\n",
       " </div>\n",
       " </div>,\n",
       " <div class=\"links\">\n",
       " <a href=\"https://pagina3.xyz/\">Enlace 3</a>\n",
       " <a href=\"https://pagina4.xyz/\">Enlace 4</a>\n",
       " </div>,\n",
       " <div id=\"footer\">\n",
       " <!-- El footer -->\n",
       " <p>Este párrafo está en el footer</p>\n",
       " <div class=\"links footer-links\">\n",
       " <a href=\"https://pagina5.xyz/\">Enlace 5</a>\n",
       " </div>\n",
       " </div>,\n",
       " <div class=\"links footer-links\">\n",
       " <a href=\"https://pagina5.xyz/\">Enlace 5</a>\n",
       " </div>]"
      ]
     },
     "metadata": {},
     "execution_count": 5
    }
   ],
   "source": [
    "tag = list(sopa.find_all(\"div\"))\n",
    "tag"
   ]
  },
  {
   "cell_type": "markdown",
   "metadata": {},
   "source": [
    "### 2. From Amazon\n",
    "\n",
    "*Using  beautiful soap  (regex optional)*\n",
    "\n",
    "Save in a dataframe the next information using web scraping. Using product pages from Amazon, do the following: \n",
    "\n",
    "- Get the product name from the web and save it in a column called \"item_name\"\n",
    "- Get the price from the web and save it in a column called \"item_price\"\n",
    "\n",
    "While you are doing the exercise, document the steps you are doing. Try to do the program for generic pages. If you cannot do it generic, explain the reasons. \n",
    "\n",
    "*We recommend to get the source-code, save it in a local file and work from there. It is possible that Amazon detects that you are using webscraping and it changes the source code to avoid possibles attacks.*\n",
    "\n",
    "-------------------------------\n",
    "\n",
    "**Example:** \n",
    "\n",
    "url = https://www.amazon.es/Tommy-Hilfiger-UM0UM00054-Camiseta-Hombre/dp/B01MYD0T1F/ref=sr_1_1?dchild=1&pf_rd_p=58224bec-cac9-4dd2-a42a-61b1db609c2d&pf_rd_r=VZQ1JTQXFVRZ9E9VSKX4&qid=1595364419&s=apparel&sr=1-1\n",
    "\n",
    "*item_name* --> \"Tommy Hilfiger Logo Camiseta de Cuello Redondo,Perfecta para El Tiempo Libre para Hombre\"\n",
    "\n",
    "*item_price* --> [[18,99 € - 46,59 €]] or one of the options.\n",
    "\n",
    "\n"
   ]
  },
  {
   "cell_type": "code",
   "execution_count": 6,
   "metadata": {},
   "outputs": [],
   "source": [
    "import requests\n",
    "from bs4 import BeautifulSoup as bs\n",
    "import pandas as pd\n",
    "def show_html(html_str):\n",
    "    print(BeautifulSoup(str(html_str), 'html.parser').prettify())\n",
    "\n",
    "def get_page_contents(url):\n",
    "    page = requests.get(url, headers={\"Accept-Language\": \"en-US\"})\n",
    "    return BeautifulSoup(page.text, \"html.parser\")"
   ]
  },
  {
   "cell_type": "code",
   "execution_count": 7,
   "metadata": {
    "tags": [
     "outputPrepend"
    ]
   },
   "outputs": [
    {
     "output_type": "stream",
     "name": "stdout",
     "text": [
      "\n\n\n\n      BEBÉ\n      \n\n\n\n\n\n      EQUIPAJE\n      \n\n\n\n\n\n      MARCAS\n      \n\n\n\n\n\n      PROMOCIONES\n      \n\n\n\n\n\n\n\n\n\n\n\n\n\n\n\n\n\n\n\n\n\n\n\n\n\n\n\n \n\n\n\n\n\n\n\n\n\n                Ropa\n            \n\n\n             ›\n         \n\n\n                Hombre\n            \n\n\n             ›\n         \n\n\n                Ropa de dormir\n            \n\n\n             ›\n         \n\n\n                 Camisetas de pijama\n             \n\n\n\n\n\n\n\n\n\n\n\n\n\n\n\n\n\n\n\n\n\n\n\n\n\n\n\n\n\n\n\n\n\n\n\n\n\n\n\n\n\n\n\n\n\n\n\n\n\n\n\n\n\n\n\n\n\n\n\n\n\n\n\n\n\n\n\n\n\n\n\n\n\n\n\n\n\n\n\n\n\n\n\n\n\n\n\n\n\n\n\n\n\n\n\n\n\n\n\n\n\n\n\n\n\n\n\n\n\n\n\n\n\n\n\n\nImagen no disponible\n\nImagen no disponible delColor:\n\n\n\n\n\n\n\n\n\n\n\n\n\n\n\n\n\n\n\n\n\n\n\n\n\n\n\n\n\n\n\n\n\n\n\n\n\n\n\n\n\n\n\n\n\n\n\n\n\n\n\n\n\n\n\n\n\n\n\n\n\n\n\n\n\n\n\n\n\n\n\n\n\n\n\n\n\n\n\n\n\n\n\n\n\n\n\n\n\n\n\n\n\n\n\n\n\n\n\n\n\n\n\n\n\n\n\n\n\n\nVisita la Store de Tommy Hilfiger\n\n\n\n\n\n\n\n\n\n\n\n\n\n\n\n\nTommy Hilfiger Logo Camiseta de Cuello Redondo,Perfecta para El Tiempo Libre para Hombre\n\n\n\n\n\n\n\n\n\n\n\n\n\n\n\n\n\n\n\n\n\n\n\n\n4,4 de 5 estrellas\n\n\n\n\n\n\n\n\n4.590 valoraciones\n\n\n\n\n\n\n\n | \n\n\n\n20 preguntas respondidas\n\n\n\n\n\n\n\n\n\n\n\n\nEl n.º 1 más vendido\n\nen Camisetas de pijama para hombre\n\n\n\n\n\n\n\n\n\n\n\n\nPrecio:\n\n19,99 € - 34,95 €\n\n\n\n\ny\n\n\n\n\nDevoluciones gratis en algunas tallas y colores\n\n\n\n\n\n\n\nSelecciona la talla para ver la política de devoluciones del artículo\n\n\n\n\n\n\n\n\n\n\n\nPrecio final del producto\n\n\n\n\n\n\n\n\n\n\n\n\n\n\n\n\n\n\n\n\n\n\n\n\n\n\n\n\n        Transacción segura\n    \n\n\n\n\n\n\n\n\n        Garantía\n    \n\n\n\n\n\n\n\n\n\nTu transacción es segura\n\n\n\n\nEn Amazon, nos esforzamos por proteger tu seguridad y privacidad. Nuestro sistema de seguridad de pagos encripta tu información durante la transmisión de datos. No compartimos los datos de tu tarjeta de crédito con vendedores externos, ni vendemos tu información a terceros.\n\nMás información\n\n\n\n\n\n\nGarantía\n\n\n\n\nEste producto tiene una garantía legal de 2 años. Más información aquí. \n\n\n\n\n\n\n\n\n\n\n\n\n\n\n\n\n\n\n\n\n\n\n\n\n\n\nTamaño:\n\n\n\n\n\n\n\nSeleccionar\n\n\n\n\n\n\nS\n\n\nM\n\n\nL\n\n\nXL\n\nSeleccionar\n\n\n\n\n\nTabla de tallas\n\n\n\n\n\n\n\n\n\n\nColor:\n\n\n\nAzul (Navy Blazer)\n\n\n\n\n\n\n\n\n\n\n\n\n\n\n\n\n\n\n\n\n\n\n\n\n\n\n\n\n\n\n\n\n\n\n\n\n\n\n\n\n\n\n\n\n\n\n\n\n\n\n\n\n\n\n\n\n\n\n\n\n\n\n\n\n\n\n\n\n\n\n\n\n\n\n\n\n\n\n\n\n\n\n\n\n\n\n\n\n\n\n\n\n\n\n\n\n\n\n\n\n\n\n\n\n\n\n\n\n\n\n\n\n\n\n\n\n\n\n\n\n\n\n\n\n\n\n\n\n\n\n\n\n\n\n\n\n\n\n\n\n\n\n\n\n\n\n\n\n\n\n\n\n\n\n\n\n\n\n\n\nLogo de Tommy Hilfiger en la parte delantera\n\n\n\nCinta distintiva en el interior del cuello\n\n\n\n100% Algodón orgánico\n\n\n\nLavar a máquina\n\n\n\nEstilo del cuello: Redondo\n\n\n\nManga corta\n\n\n\nClassic Fit\n\n\n\n\n\n\n\nLogo bordado en la manga\nCamiseta de corte clásico óptima para el tiempo libre\n\n\nMostrar más\n\n\n\n\n\n\n\n\n\n\n\n\n\n\n\n\n\n\n\n\nAmazon Essentials\n\n\n                Amazon Essentials - Básicos mejorados. Descúbrela\n\n\n\n\n\n\n\n\n\n\n\n\n\n\n\n\n\n\n\n\n\n\n\n\n\n\n\n\n\n\n\n\n\n\n\n\n\n\n\n\n\n\n\n\n\n\n\n\n\n\n\n\nPara comprar, selecciona Tamaño\n\n\n\n\nElige entre las opciones a la izquierda\n\n\n\n\nAñadir a la cesta\n\n\n\n\n\n\n\n\n\n\n\n\n\n\n\n\n\n\n\n\n\n\nCompartir\n\n\n\n\n\n\n\n\n\n\n\n\n\n\n\n\n\n\n\n\n\n\n\n\n\n\n\n\n\n\n\n\n\n\n\n\n\n\n\n\n\n\n\n\n\n\n\n\n\nOfertas especiales y promociones\n\nOtras promociones:\n\n\n\n\n\nCompra este producto y disfruta de 90 días gratis de Amazon Music Unlimited  \n   Después de tu compra, recibirás un email con más información sobre cómo disfrutar de 90 días gratuitos de Amazon Music Unlimited. Descúbrelo\n\n\n\n\n\n\n\n\n\n\n\n\n\n\n\n\n\n\n\n\n\n        ¿Tienes alguna pregunta?\n      \n\n        Encuentra respuestas en la información del producto, en preguntas y respuestas y en reseñas.\n      \n\n\n\n\n\n\n\n\n\n\n\n\n\n\n\n\n\n\n\n\n\n\n\n\n\n\n\n\n\n\n\n\n\n\n\n\n\n\n\n\n\n            Ha surgido un problema al completar tu solicitud. Vuelve a efectuar la búsqueda más tarde.\n          \n\n\n\n\n                  Todo\n                \n\n\n\n\n\n                  Información sobre el producto\n                \n\n\n\n\n\n                  Preguntas y respuestas de clientes\n                \n\n\n\n\n\n                  Comentarios de clientes\n                \n\n\n\n\n\n\n\n\n\n\n\n\n\n\n\n\n\n\n\n\n\n\n\n\n    Los vendedores, fabricantes o clientes que han comprado este producto pueden responder a tu pregunta.\n  \n\n\n      Asegúrate de haber introducido una pregunta válida.  Podrás editar tu pregunta o publicación.\n    \n\n      Introduce una pregunta.\n    \n\n\n\n\n\n\n\n\n\n\n\n\nLos clientes que compraron este producto también compraronPágina 1 de 1 Volver al inicioPágina 1 de 1  Previous pagePepe Jeans Original Stretch Camiseta para Hombre4,2 de 5 estrellas 1.31813,99 € - 25,00 € Tommy Hilfiger SS tee Print Camiseta con Logo para Mujer4,6 de 5 estrellas 23719,99 € - 35,43 € Levi's Sportswear Logo Graphic - Camiseta para Hombre4,5 de 5 estrellas 4.65717,37 € - 41,10 € Tommy Hilfiger RN tee SS Camiseta para Hombre4,5 de 5 estrellas 1.40723,99 € - 57,00 € Levi's SS Original Hm tee Camiseta para Hombre4,5 de 5 estrellas 7.99112,88 € - 34,95 € Levi's Graphic Set-in Neck Camiseta para Hombre4,5 de 5 estrellas 13.02615,00 € - 41,10 € Next page\n\n\n\n\n\n\n\nLos clientes que vieron este producto también vieronPágina 1 de 1 Volver al inicioPágina 1 de 1  Previous pagePepe Jeans Original Stretch Camiseta para Hombre4,2 de 5 estrellas 1.31813,99 € - 25,00 € Tommy Hilfiger RN tee SS Camiseta para Hombre4,5 de 5 estrellas 1.40723,99 € - 57,00 € Levi's Sportswear Logo Graphic - Camiseta para Hombre4,5 de 5 estrellas 4.65717,37 € - 41,10 € Levi's Relaxed Graphic tee Camiseta para Hombre4,4 de 5 estrellas 2.53527,30 € Tommy Hilfiger Regular C Camiseta con Cuello Redondo para Hombre4,5 de 5 estrellas 62517,56 € - 33,22 € Tommy Hilfiger Logo T-Shirt Camiseta Informal para Hombre4,6 de 5 estrellas 1.16927,95 € - 56,17 € Next page\n\n\n\n\n\n\n\n\n\n¿Qué otros productos compran los clientes tras ver este producto?Página 1 de 1 Volver al inicioPágina 1 de 1  Previous pagePepe Jeans Original Stretch Camiseta para Hombre4,2 de 5 estrellas 1.31813,99 € - 25,00 € Jack &amp; Jones Jjecorp Logo tee SS Crew Neck Noos Camiseta para Hombre4,5 de 5 estrellas 16.395El n.º 1 más vendidoen Ropa5,99 € - 24,14 € Levi's SS Original Hm tee Camiseta para Hombre4,5 de 5 estrellas 7.99112,88 € - 34,95 € Pepe Jeans Camiseta para Hombre4,4 de 5 estrellas 1.32015,49 € - 47,09 € Tommy Hilfiger Original Rib Camisa para Hombre4,3 de 5 estrellas 1.896El n.º 1 más vendidoen Camisetas deportivas para hombre21,49 € - 34,95 € Jack &amp; Jones Jjecorp Logo Sweat Hood Noos Capucha para Hombre4,7 de 5 estrellas 8.905El n.º 1 más vendidoen Sudaderas con capucha para hombre16,49 € - 44,12 € Next page\n\n\n\n\n\n\n\n\n\n\n\n\n\n\n\n\n\n\n\nDescripción del producto\n\n\n\n\nEsta camiseta informal, óptima para los fines de semana, combina una silueta fluida y un tejido ligero de mezcla de algodón transpirable.\n\n\n\n\n\n\n\n\n\n\n\n\n\n\n\n\n\n\n\n\n\n\n\n\n\n\nMás información del producto\n\n\n\n\n\n\n\n\n\n\n\n\n\n\n\n\nLeer más\n\n\n\n\n\n\n        Tommy Hilfiger \n    \n\n\n\n        Estilo clásico y moderno con pop Twist\n    \n\n            Tommy Hilfiger es sinónimo de un diseño clásico pero innovador. Descubre los últimos estilos para ropa de hombre y mujer, zapatos, bolsos y accesorios. Ya sea para un evento glamuroso o o una noche desenfadada, con Tommy Hilfiger para mujeres y hombres, siempre encontrarás algo que buscas.\n        \n\n\n\n\n\n\n\n\n\n\n\n\n\n\n\n\n\n\n\n\n\n\n\n\n\nDetalles del producto\n\n\n\n\n\nIs Discontinued By Manufacturer\n:\n\nNo\n\n\nDimensiones del paquete\n:\n\n28 x 17 x 4 cm; 140 gramos\n\n\nProducto en Amazon.es desde\n:\n\n9 febrero 2017\n\n\nFabricante\n:\n\nTommy Hilfiger\n\n\nASIN\n:\n\nB01N38PJ91\n\n\nNúmero de modelo del producto\n:\n\nUM0UM00054\n\n\nDepartamento\n:\n\nHombre\n\n\n\n\n\n\nClasificación en los más vendidos de Amazon: nº24 en Ropa (Ver el Top 100 en Ropa)   n.° 1 en Camisetas de pijama para hombre \n\n\n\n\n\nOpiniones de los clientes:\n\n\n\n\n\n\n\n4,4 de 5 estrellas\n\n\n\n\n\n\n\n\n4.590 valoraciones\n\n\n\n\n\n\n\n\n\n\n\n\n\n\n\n\n\n\n\n\n\n\n\n\n\n\n\n\n\n\n\nThis form is not active. It will not be visible to external customers unless it is active.\n\n\n\n\nThis is an internal only form.\n\n\n\n\n\n\n\n\n\n\n\n\n\n\n        Lo sentimos\n      \n\n\n          Este formulario ya no está disponible.\n        \n\n\n\n\n\n\n\n\n\n\n\n\n\n        Lo sentimos\n      \n\n\n          Este formulario ya no está disponible.\n        \n\n\n\n\n\n\n\n\n\n\n\n\n\n\n\n\n\n\n\n\n\n\n\n            Preguntas y respuestas de los clientes\n        \n\nVer preguntas y respuestas\n\n\n\n\n\n\n\n\n\n\n\n\n\n\n\n\nOpiniones de clientes4,4 de 5 estrellas4,4 de 5\n            4.590 valoraciones globales\n\n\n\n\n\n\n            5 estrellas\n          \n\n\n\n\n\n\n\n\n\n\n\n\n            \n              69%\n            \n          \n\n\n\n\n\n\n\n            4 estrellas\n          \n\n\n\n\n\n\n\n\n\n\n\n\n            \n              17%\n            \n          \n\n\n\n\n\n\n\n            3 estrellas\n          \n\n\n\n\n\n\n\n\n\n\n\n\n            \n              7%\n            \n          \n\n\n\n\n\n\n\n            2 estrellas\n          \n\n\n\n\n\n\n\n\n\n\n\n\n            \n              4%\n            \n          \n\n\n\n\n\n\n\n            1 estrella\n          \n\n\n\n\n\n\n\n\n\n\n\n\n            \n              4%\n            \n          \n\n\n\n\n¿Cómo calcula Amazon las valoraciones?Para calcular la clasificación global de estrellas y el desglose porcentual por estrella, no utilizamos un promedio simple. En su lugar, nuestro sistema considera aspectos como lo reciente que es la reseña y si el reseñador compró el artículo en Amazon. También analiza las reseñas para verificar la fiabilidad.\n\n\n\n\n\n\nImágenes de clientes\n\n\n\n\n\n\n\nVer todas las imágenes de cliente\n\n\n\n\n\n\n\n\n\n\n        Reseñas más importantes\n      \n\n        Más recientes\n      \nReseñas más importantes\n\n\n\n\n\n\n\n\n\n\n\n\n  Principales reseñas de España\n\n\nHa surgido un problema al filtrar las opiniones justo en este momento. Vuelva a intentarlo en otro momento.\n\nÁngel\n\nTOP 500 COMENTARISTAS\n\n5,0 de 5 estrellas\nCalidad/precio\nRevisado en España el 12 de octubre de 2020Tamaño: LColor: BlancoCompra verificada\n\n  Peso 84kg y mido 187cm y me queda perfecta.Primeroque todo decir que la compré reacondicionada por algo menos de su precio y lo único que le he notado es que venía muy arrugada y con la etiqueta manchada, el resto perfecto.Camiseta básica de algodon de buena calidad, tejido bueno y diseño clásico de Hilfiger. Perfecta.La relación calidad-precio-diseño y teniendo en cuenta la marca es invatible.COMPRA MUY RECOMENDADA.\n\nLeer más\n\n\n\n\n\n\n\n\nA 7 personas les ha parecido esto útil\n\n          Útil\n\n\n\nInformar de un abuso\nAngel5,0 de 5 estrellas\nCalidad!\nRevisado en España el 30 de julio de 2020Tamaño: LColor: BlancoCompra verificada\n\n  De calidad pero talla peque. Ajustada. Tela finita y fresca. Muy recomendable. Sencilla camiseta pero elegante! Elegir otra talla mas.\n\nLeer más\n\n\n\n\n\n\n\n\nA 9 personas les ha parecido esto útil\n\n          Útil\n\n\n\nInformar de un abuso\nRAW1,0 de 5 estrellas\nNo recomendable\nRevisado en España el 13 de mayo de 2020Tamaño: XLColor: BlancoCompra verificada\n\n  La camiseta queda extremadamente pequeña y muy ceñida y eso que es una XL mido 1,82 peso 79 kl material se ve de calidad y muy bonita pero las costuras del hombro son algo extrañas y muy decepcionado con la talla para ser XL me queda como una M, de largo del busto bien pero muy muy estrecha Las mangas bien cuello correcto pero hombros mal quedan como si llevaras hombreras cintura muy mal muy ceñida estrecha la camiseta es para personas en los huesos el envío de la camiseta muy rápidos tengo otras prendas de esta Marca como camisa o sudadera y las tallas son correctas no entiendo las medidas de esta camiseta la verdad.\n\nLeer más\nA 4 personas les ha parecido esto útil\n\n          Útil\n\n\n\nInformar de un abuso\nAndi5,0 de 5 estrellas\nMe encanta esta camiseta\nRevisado en España el 10 de junio de 2020Tamaño: MColor: BlancoCompra verificada\n\n  El logo me gusta mucho, por ello, que sea toda tan \"limpia\" y sencilla destacando el logo, me gusta mucho. Además, TH es de las mejores en calidad de ropa, se nota buena calidad del material. Muy buena compra. Precio imbatible (al que yo compré).\n\nLeer más\nA 3 personas les ha parecido esto útil\n\n          Útil\n\n\n\nInformar de un abuso\nChefus4,0 de 5 estrellas\nNo está mal el regalo\nRevisado en España el 17 de agosto de 2020Tamaño: XLColor: Azul (Navy Blazer)Compra verificada\n\n  La camiseta la compre para un regalo, le gustó mucho.Yo cuando la recibí me gustó mucho el tacto de la tela, y el diseño. Pensé que a los pocos lavados la serigrafía de la camiseta se iría y de momento sigue aguantando.Otra de las cosas que me preocupaba era si encogeria con los lavados y de momento no.Uno de los fallos que si he visto en esta camiseta y en otra ropa de marca que he compradopor aquí, es que se descosen por alguna zona, pero nada que no tenga arreglo.\n\nLeer más\n\n\n          Útil\n\n\n\nInformar de un abuso\nAmidala6665,0 de 5 estrellas\nMuy buena compra\nRevisado en España el 11 de abril de 2019Tamaño: XLColor: Azul (Navy Blazer)Compra verificada\n\n  Ésta camiseta si q es preciosa d diez. La talla es calcada a la q normalmente se usa, es d algodón una tela hermosa no marca tan excesivamente como si fuera poliéster queda fenomenal. La recomiendo es tal cual la foto\n\nLeer más\nA 3 personas les ha parecido esto útil\n\n          Útil\n\n\n\nInformar de un abuso\nAmparo5,0 de 5 estrellas\nMuy bonita pero un poco pequeña\nRevisado en España el 27 de septiembre de 2019Tamaño: XLColor: Azul (Navy Blazer)Compra verificada\n\n  La camiseta está muy bien pero talla un poco pequeña, compré varias de otras marcas y esta es la única que he tenido que cambiar por una talla mas.Recomiendo una talla más de la habitual.\n\nLeer más\nA 2 personas les ha parecido esto útil\n\n          Útil\n\n\n\nInformar de un abuso\nYavWar4,0 de 5 estrellas\nEstá bien\nRevisado en España el 9 de julio de 2019Tamaño: MColor: Gris (Grey Heather)Compra verificada\n\n  Compré esta camiseta para un regalo. El modelo como tal es bonito y no ha salido mal de precio (24 €). La calidad es normalita, nada diferente a cualquier camiseta de algodón que puedas adquirir por precios inferiores; creo que al final acabas pagando la marca ... La talla M correcta, sienta bien.\n\nLeer más\nA una persona le ha parecido esto útil\n\n          Útil\n\n\n\nInformar de un abuso\nVer todas las reseñas\n\n\n\n\n\n\n      \n        \n          Reseñas más importantes de otros países\n        \n        \n      \n    \n\n\nTraducir todas las reseñas al Español\n\n\n\n\n\n\n\n\n\n\nJoshua D.2,0 de 5 estrellas\nStrange fit\nRevisado en Reino Unido el 16 de febrero de 2019Tamaño: LColor: Gris (Grey Heather)Compra verificada\n\n  I ordered a size up but found it still was a really small fit. The chest was spot on, however the sleeves almost made it look like a vest. I would definitely order perhaps 2 sizes up.The material is very light and clings to skin, unlike my other Tommy T-shirts.The neck is also not very tight at all.Not my favourite Tommy Product.\n\nLeer más\nA 8 personas les ha parecido esto útil\n\nInformar de un abuso\nTraducir reseña a Español\n\n\n\n\nCliente Amazon2,0 de 5 estrellas\nvestibilità!!!!\nRevisado en Italia el 12 de mayo de 2019Tamaño: XLColor: Gris (Grey Heather)Compra verificada\n\n  non riesco a capire se ho ricevuto una t-shirt fallata o è fatta proprio cosi!!!! praticamente bisogna avere le spalle di Rambo e la vita di Roberto Bolle!!!! il tessuto certo è ottimo,ma la vestibilità mi sembra molto discutibile!!!!\n\nLeer más\nA 25 personas les ha parecido esto útil\n\nInformar de un abuso\nTraducir reseña a Español\n\n\n\n\njeffro 1,0 de 5 estrellas\nXL  no a medium size at best\nRevisado en Reino Unido el 12 de abril de 2020Tamaño: XLColor: Azul (Navy Blazer)Compra verificada\n\n  I'm speechless this XL is more like a MThink carefully before you buyI now have to go through the hassle of returning..I took a photo of it against the backdrop of a normal XL must be be rejects no doubt last years may have been corre t size but these aren't8 days later since i posted still waiting for my refund.. avoid !!!\n\nLeer más\n\n\n\n\n\n\n\n\n\n\n\n\n\n\n\n\n1,0 de 5 estrellas\n\n                XL  no a medium size at best\n            \n\n\n               Revisado en Reino Unido el 12 de abril de 2020\n            \n\n\n            I'm speechless this XL is more like a MThink carefully before you buyI now have to go through the hassle of returning..I took a photo of it against the backdrop of a normal XL must be be rejects no doubt last years may have been corre t size but these aren't8 days later since i posted still waiting for my refund.. avoid !!!\n        \n\n\n                Imágenes de esta reseña\n            \n\n\n\n\n\n\n\n\n\n\n\nA 2 personas les ha parecido esto útil\n\nInformar de un abuso\nTraducir reseña a Español\n\n\n\n\nBobby1,0 de 5 estrellas\nFar too small\nRevisado en Reino Unido el 22 de marzo de 2019Tamaño: XLColor: Azul (Navy Blazer)Compra verificada\n\n  I'm. A big lad not fat big and I bought xl it was like a medium. Sticking like hanging on for dear life.Not great quality either\n\nLeer más\nA 5 personas les ha parecido esto útil\n\nInformar de un abuso\nTraducir reseña a Español\n\n\n\n\nNever Walk Alone5,0 de 5 estrellas\nso schön, dass wir gleich nachbestellt haben\nRevisado en Alemania el 20 de junio de 2019Tamaño: SColor: Gris (Grey Heather)Compra verificada\n\n  Das erste bestellte Hilfiger T-Shirt hat uns so gut gefallen, dass wir gleich noch weitere auch in anderer Farbe nachbestellt haben. Sie passen mir, wie auch unseren Teenagern perfekt. Angenehmer leichter Stoff, der auch sehr gut verarbeitet wurde. Der Hilfiger Schriftzug ist bei dem grauen T-Shirt etwas feiner (dünner gummiert) wie bei dem blauen. Wegen dem Schriftzug nur auf links und bis 30° waschen.Schicke T-Shirts in denen man sich wohlfühlen kann.Wir sind mit dem Kauf und der Qualität sehr zufrieden.\n\nLeer más\n\n\n\n\n\n\n\n\n\n\n\n\n\n\n\n\n5,0 de 5 estrellas\n\n                so schön, dass wir gleich nachbestellt haben\n            \n\n\n               Revisado en Alemania el 20 de junio de 2019\n            \n\n\n            Das erste bestellte Hilfiger T-Shirt hat uns so gut gefallen, dass wir gleich noch weitere auch in anderer Farbe nachbestellt haben. Sie passen mir, wie auch unseren Teenagern perfekt. Angenehmer leichter Stoff, der auch sehr gut verarbeitet wurde. Der Hilfiger Schriftzug ist bei dem grauen T-Shirt etwas feiner (dünner gummiert) wie bei dem blauen. Wegen dem Schriftzug nur auf links und bis 30° waschen.Schicke T-Shirts in denen man sich wohlfühlen kann.Wir sind mit dem Kauf und der Qualität sehr zufrieden.\n        \n\n\n                Imágenes de esta reseña\n            \n\n\n\n\n\n\n\n\n\n\n\n\nA 18 personas les ha parecido esto útil\n\nInformar de un abuso\nTraducir reseña a EspañolVer todas las reseñas\n\n\n\n\n\n\n\n\n\n\n\n\n\n\n\n\n\n\n\n\n\n\n\n\n\n Amazon Prime: envíos rápidos, GRATIS e ilimitados y mucho más \n Los clientes de Amazon Prime disfrutan de Envío en 1 día GRATIS en dos millones de productos y Envío en 2 o 3 días en millones de productos más, Acceso a series y películas en Prime Video, incluyendo las series Amazon Originals, más de 2 millones de canciones y cientos de listas de reproducción sin publicidad con Prime Music, cientos de eBooks en Prime Reading, Acceso Prioritario a las Ofertas flash y Almacenamiento de fotos gratis e ilimitado en Amazon Drive. \n\n      &gt;\n      Más información\n\n\n\n\n\n\n\n\n\n\nHay un problema para cargar este menú.\nMás información sobre Amazon Prime.\n\n\n\n\n\n\n\n\n\n\n\n\n\n\n\n\n\nVolver arriba\nConócenosTrabajar en AmazonSobre Amazon.esSostenibilidadGana dinero con nosotrosVender en AmazonVender como Amazon AcceleratorVender en Amazon BusinessVende en Amazon HandmadePrograma de afiliadosLogística de AmazonPromociona tus productosPublica tu libro en KindleAmazon PayAlojar un Amazon HubMétodos de pago AmazonMétodos de pagoConversor de divisas de AmazonCheques RegaloRecarga onlineRecarga en tienda¿Necesitas ayuda?Amazon y COVID-19Localizar o gestionar comprasTarifas y políticas de envíoAmazon PrimeDevolver o reemplazar productosReciclajeGestionar contenido y dispositivosApp AmazonAmazon AssistantAtención al ClienteIVA sobre los bienes\n\n\nAustraliaAlemaniaBrasilCanadáChinaEstados UnidosFranciaIndiaItaliaJapónMéxicoPaíses BajosEmiratos Árabes UnidosReino UnidoSingapurTurquía\n\nAmazon Music Transmite millones de canciones\n\nIberLibro Libros, arte &amp; artículos de colección\n\nAmazon Web Services Servicios Cloud Computing de Amazon\n\nBook Depository Libros con entrega gratis en todo el mundo\n\nKindle Direct Publishing Publica tu libro en papel y digital de manera independiente\n\n \n\nPrime Now Entrega en 1 hora En miles de productos\n\nProductos Reacondicionados Precios bajos en productos revisados por Amazon\n\nShopbop Marcas de moda de diseño \n\nAmazon Business Servicio para clientes de empresa\n\nAmazon Second Chance Donar, intercambiar, dar una segunda vida\n\n\nCondiciones de Uso y VentaAviso de privacidadÁrea legalCookiesPublicidad basada en intereses© 1996-2020, Amazon.com, Inc. o afiliados. Todos los derechos reservados.\n\n"
     ]
    }
   ],
   "source": [
    "url = \"https://www.amazon.es/Tommy-Hilfiger-UM0UM00054-Camiseta-Hombre/dp/B01MYD0T1F/ref=sr_1_1?dchild=1&pf_rd_p=58224bec-cac9-4dd2-a42a-61b1db609c2d&pf_rd_r=VZQ1JTQXFVRZ9E9VSKX4&qid=1595364419&s=apparel&sr=1-1\"\r\n",
    "soup = get_page_contents(url)\r\n",
    "show_html(soup.text)"
   ]
  },
  {
   "cell_type": "code",
   "execution_count": 56,
   "metadata": {
    "tags": [
     "outputPrepend"
    ]
   },
   "outputs": [
    {
     "output_type": "stream",
     "name": "stdout",
     "text": [
      "=nav_AccountFlyout_digital_subscriptions' class='nav-link nav-item'><span class='nav-text'>Pertenencia a programas y suscripciones</span></a> <a href='/gp/primecentral?ref_=nav_AccountFlyout_prime' class='nav-link nav-item'><span class='nav-text'>Mi suscripción a Amazon Prime</span></a> <a href='/auto-deliveries?ref_=nav_AccountFlyout_sns' class='nav-link nav-item'><span class='nav-text'>Mis suscripciones a productos</span></a> <a href='/gp/browse.html?node=14862331031&ref_=nav_AccountFlyout_esb2b_reg' class='nav-link nav-item'><span class='nav-text'>Hazte una cuenta Amazon Business</span></a> <a href='/hz/mycd/myx?ref_=nav_AccountFlyout_myk' class='nav-link nav-item'><span class='nav-text'>Gestionar contenido y dispositivos</span></a> <a href='/gp/kindle/ku/ku_central?ref_=nav_AccountFlyout_ku' class='nav-link nav-item'><span class='nav-text'>Mi Kindle Unlimited</span></a> <a href='/gp/dmusic/mp3/player?ref_=nav_AccountFlyout_cldplyr' class='nav-link nav-item'><span class='nav-text'>Mi Biblioteca musical</span></a> <a href='/gp/video/ssoredirect?pvp=/ref%3Ddvm_crs_gno_es_xs_s_dk_nav_eg_al_yracc_0_u&ref_=nav_AccountFlyout_dvm_crs_gno_es_xs_s_dk_nav_eg_al_yracc_0_u' class='nav-link nav-item'><span class='nav-text'>Mi Prime Video</span></a> <a href='/clouddrive?ref_=nav_AccountFlyout_clddrv' class='nav-link nav-item'><span class='nav-text'>Mi Amazon Drive</span></a> <a href='/gp/mas/your-account/myapps?ref_=nav_AccountFlyout_aad' class='nav-link nav-item'><span class='nav-text'>Mis Apps y dispositivos</span></a></div></div>\"},\n        \"signinContent\":{\"html\":\"<div id='nav-signin-tooltip'><a href='https://www.amazon.es/ap/signin?openid.pape.max_auth_age=0&openid.return_to=https%3A%2F%2Fwww.amazon.es%2Fgp%2Fmost-gifted%2Flighting%2F4204435031%2F%3Fie%3DUTF8%26ref_%3Dnav_custrec_signin&openid.identity=http%3A%2F%2Fspecs.openid.net%2Fauth%2F2.0%2Fidentifier_select&openid.assoc_handle=esflex&openid.mode=checkid_setup&openid.claimed_id=http%3A%2F%2Fspecs.openid.net%2Fauth%2F2.0%2Fidentifier_select&openid.ns=http%3A%2F%2Fspecs.openid.net%2Fauth%2F2.0&' class='nav-action-button' data-nav-role='signin' data-nav-ref='nav_custrec_signin'><span class='nav-action-inner'>Identificarse</span></a><div class='nav-signin-tooltip-footer'>¿Eres un cliente nuevo? <a href='https://www.amazon.es/ap/register?openid.pape.max_auth_age=0&openid.return_to=https%3A%2F%2Fwww.amazon.es%2Fgp%2Fmost-gifted%2Flighting%2F4204435031%2F%3Fie%3DUTF8%26ref_%3Dnav_custrec_newcust&openid.identity=http%3A%2F%2Fspecs.openid.net%2Fauth%2F2.0%2Fidentifier_select&openid.assoc_handle=esflex&openid.mode=checkid_setup&openid.claimed_id=http%3A%2F%2Fspecs.openid.net%2Fauth%2F2.0%2Fidentifier_select&openid.ns=http%3A%2F%2Fspecs.openid.net%2Fauth%2F2.0&' class='nav-a'>Empieza aquí.</a></div></div>\"},\n        \"templates\":{\"itemList\":\"<# var hasColumns = (function () {  var checkColumns = function (_items) {    if (!_items) {      return false;    }    for (var i=0; i<_items.length; i++) {      if (_items[i].columnBreak || (_items[i].items && checkColumns(_items[i].items))) {        return true;      }    }    return false;  };  return checkColumns(items);}()); #><# if(hasColumns) { #>  <# if(items[0].image && items[0].image.src) { #>    <div class='nav-column nav-column-first nav-column-image'>  <# } else if (items[0].greeting) { #>    <div class='nav-column nav-column-first nav-column-greeting'>  <# } else { #>    <div class='nav-column nav-column-first'>  <# } #><# } #><# var renderItems = function(items) { #>  <# jQuery.each(items, function (i, item) { #>    <# if(hasColumns && item.columnBreak) { #>      <# if(item.image && item.image.src) { #>        </div><div class='nav-column nav-column-notfirst nav-column-break nav-column-image'>      <# } else if (item.greeting) { #>        </div><div class='nav-column nav-column-notfirst nav-column-break nav-column-greeting'>      <# } else { #>        </div><div class='nav-column nav-column-notfirst nav-column-break'>      <# } #>    <# } #>    <# if(item.dividerBefore) { #>      <div class='nav-divider'></div>    <# } #>    <# if(item.text || item.content) { #>      <# if(item.url) { #>        <a href='<#=item.url #>' class='nav-link      <# } else {#>        <span class='      <# } #>      <# if(item.panelKey) { #>        nav-hasPanel      <# } #>      <# if(item.items) { #>        nav-title      <# } #>      <# if(item.decorate == 'carat') { #>        nav-carat      <# } #>      <# if(item.decorate == 'nav-action-button') { #>        nav-action-button      <# } #>      nav-item'      <# if(item.extra) { #>        <#=item.extra #>      <# } #>      <# if(item.id) { #>        id='<#=item.id #>'      <# } #>      <# if(item.dataNavRole) { #>        data-nav-role='<#=item.dataNavRole #>'      <# } #>      <# if(item.dataNavRef) { #>        data-nav-ref='<#=item.dataNavRef #>'      <# } #>      <# if(item.panelKey) { #>        data-nav-panelkey='<#=item.panelKey #>'        role='navigation'        aria-label='<#=item.text#>'      <# } #>      <# if(item.subtextKey) { #>        data-nav-subtextkey='<#=item.subtextKey #>'      <# } #>      <# if(item.image && item.image.height > 16) { #>        style='line-height:<#=item.image.height #>px;'      <# } #>      >      <# if(item.decorate == 'carat') { #>        <i class='nav-icon'></i>      <# } #>      <# if(item.image && item.image.src) { #>        <img class='nav-image' src='<#=item.image.src #>' style='height:<#=item.image.height #>px; width:<#=item.image.width #>px;' />      <# } #>      <# if(item.text) { #>        <span class='nav-text<# if(item.classname) { #> <#=item.classname #><# } #>'><#=item.text#><# if(item.badgeText) { #>          <span class='nav-badge'><#=item.badgeText#></span>        <# } #></span>      <# } else if (item.content) { #>        <span class='nav-content'><# jQuery.each(item.content, function (j, cItem) { #><# if(cItem.url && cItem.text) { #><a href='<#=cItem.url #>' class='nav-a'><#=cItem.text #></a><# } else if (cItem.text) { #><#=cItem.text#><# } #><# }); #></span>      <# } #>      <# if(item.subtext) { #>        <span class='nav-subtext'><#=item.subtext #></span>      <# } #>      <# if(item.url) { #>        </a>      <# } else {#>        </span>      <# } #>    <# } #>    <# if(item.image && item.image.src) { #>      <# if(item.url) { #>        <a href='<#=item.url #>'>       <# } #>      <img class='nav-image'      <# if(item.id) { #>        id='<#=item.id #>'      <# } #>      src='<#=item.image.src #>' <# if (item.alt) { #> alt='<#= item.alt #>'<# } #>/>      <# if(item.url) { #>        </a>       <# } #>    <# } #>    <# if(item.items) { #>      <div class='nav-panel'> <# renderItems(item.items); #> </div>    <# } #>  <# }); #><# }; #><# renderItems(items); #><# if(hasColumns) { #>  </div><# } #>\",\"subnav\":\"<# if (obj && obj.type === 'vertical') { #>  <# jQuery.each(obj.rows, function (i, row) { #>    <# if (row.flyoutElement === 'button') { #>      <div class='nav_sv_fo_v_button'        <# if (row.elementStyle) { #>          style='<#= row.elementStyle #>'        <# } #>      >        <a href='<#=row.url #>' class='nav-action-button nav-sprite'>          <#=row.text #>        </a>      </div>    <# } else if (row.flyoutElement === 'list' && row.list) { #>      <# jQuery.each(row.list, function (j, list) { #>        <div class='nav_sv_fo_v_column <#=(j === 0) ? 'nav_sv_fo_v_first' : '' #>'>          <ul class='<#=list.elementClass #>'>          <# jQuery.each(list.linkList, function (k, link) { #>            <# if (k === 0) { link.elementClass += ' nav_sv_fo_v_first'; } #>            <li class='<#=link.elementClass #>'>              <# if (link.url) { #>                <a href='<#=link.url #>' class='nav_a'><#=link.text #></a>              <# } else { #>                <span class='nav_sv_fo_v_span'><#=link.text #></span>              <# } #>            </li>          <# }); #>          </ul>        </div>      <# }); #>    <# } else if (row.flyoutElement === 'link') { #>      <# if (row.topSpacer) { #>        <div class='nav_sv_fo_v_clear'></div>      <# } #>      <div class='<#=row.elementClass #>'>        <a href='<#=row.url #>' class='nav_sv_fo_v_lmargin nav_a'>          <#=row.text #>        </a>      </div>    <# } #>  <# }); #><# } else if (obj) { #>  <div class='nav_sv_fo_scheduled'>    <#= obj #>  </div><# } #>\",\"htmlList\":\"<# jQuery.each(items, function (i, item) { #>  <div class='nav-item'>    <#=item #>  </div><# }); #>\"}\n      })\n    })\n  </script>\n<!-- NAVYAAN BTF END -->\n<!-- btf tilu -->\n<!-- sp:feature:host-btf -->\n</hr></div>\n</div>\n<!-- htmlEndMarker -->\n<!-- sp:end-feature:host-btf -->\n<!-- sp:feature:aui-preload -->\n<!-- sp:feature:nav-footer -->\n<!-- footer pilu -->\n<div class=\"navLeftFooter nav-sprite-v1\" id=\"navFooter\"><a href=\"#nav-top\" id=\"navBackToTop\"><div class=\"navFooterBackToTop\"><span class=\"navFooterBackToTopText\">Volver arriba</span></div></a>\n<div class=\"navFooterVerticalColumn navAccessibility\" role=\"presentation\"><div class=\"navFooterVerticalRow navAccessibility\" style=\"display: table-row;\"><div class=\"navFooterLinkCol navAccessibility\"><div class=\"navFooterColHead\">Conócenos</div><ul><li class=\"nav_first\"><a class=\"nav_a\" href=\"/b?ie=UTF8&amp;node=923374031&amp;ref_=footer_gw_m_b_careers\">Trabajar en Amazon</a></li><li><a class=\"nav_a\" href=\"http://www.amazon.es/sobreamazon\">Sobre Amazon.es</a></li><li class=\"nav_last\"><a class=\"nav_a\" href=\"https://sostenibilidad.aboutamazon.es/?utm_source=gateway&amp;utm_medium=footer&amp;ref_=susty_footer\">Sostenibilidad</a></li></ul></div><div class=\"navFooterColSpacerInner navAccessibility\"></div><div class=\"navFooterLinkCol navAccessibility\"><div class=\"navFooterColHead\">Gana dinero con nosotros</div><ul><li class=\"nav_first\"><a class=\"nav_a\" href=\"https://services.amazon.es/servicios/vender-por-internet/como-funciona-pro.html?ref=azessoafoo&amp;ld=AZESSOAFooter\">Vender en Amazon</a></li><li><a class=\"nav_a\" href=\"https://accelerator.amazon.es/?ref_=map_1_b2b_GW_FT\">Vender como Amazon Accelerator</a></li><li><a class=\"nav_a\" href=\"https://services.amazon.es/servicios/llegue-a-los-clientes-profesionales/caractersticas-y-ventajas.html?ld=AZESB2BRetailFooter\">Vender en Amazon Business</a></li><li><a class=\"nav_a\" href=\"https://services.amazon.es/handmade.htm?ref=azessoafoo&amp;ld=AZESHNDFooter\">Vende en Amazon Handmade</a></li><li><a class=\"nav_a\" href=\"https://afiliados.amazon.es/\">Programa de afiliados</a></li><li><a class=\"nav_a\" href=\"https://services.amazon.es/servicios/logistica-de-amazon/funciones-y-ventajas/?ld=AZESFBAFooter\">Logística de Amazon</a></li><li><a class=\"nav_a\" href=\"https://advertising.amazon.es/products-self-serve?ref_=ext_amzn_ftr\">Promociona tus productos</a></li><li><a class=\"nav_a\" href=\"https://kdp.amazon.com/?language=es_ES\">Publica tu libro en Kindle</a></li><li><a class=\"nav_a\" href=\"https://pay.amazon.com/es?ld=AWREESAPAFooter\">Amazon Pay</a></li><li class=\"nav_last\"><a class=\"nav_a\" href=\"https://www.amazon.es/b?node=13350923031\">Alojar un Amazon Hub</a></li></ul></div><div class=\"navFooterColSpacerInner navAccessibility\"></div><div class=\"navFooterLinkCol navAccessibility\"><div class=\"navFooterColHead\">Métodos de pago Amazon</div><ul><li class=\"nav_first\"><a class=\"nav_a\" href=\"/gp/help/customer/display.html?ie=UTF8&amp;nodeId=201262600&amp;ref_=footer_payment\">Métodos de pago</a></li><li><a class=\"nav_a\" href=\"/gp/help/customer/display.html?ie=UTF8&amp;nodeId=201239250&amp;ref_=footer_tfx\">Conversor de divisas de Amazon</a></li><li><a class=\"nav_a\" href=\"/gp/gc?ie=UTF8&amp;ref_=footer_giftcards\">Cheques Regalo</a></li><li><a class=\"nav_a\" href=\"/gp/gc/create?ie=UTF8&amp;ref_=footer_topup_es\">Recarga online</a></li><li class=\"nav_last\"><a class=\"nav_a\" href=\"/b?ie=UTF8&amp;node=15417070031&amp;ref_=footer_purchase_code\">Recarga en tienda</a></li></ul></div><div class=\"navFooterColSpacerInner navAccessibility\"></div><div class=\"navFooterLinkCol navAccessibility\"><div class=\"navFooterColHead\">¿Necesitas ayuda?</div><ul><li class=\"nav_first\"><a class=\"nav_a\" href=\"/gp/help/customer/display.html?ie=UTF8&amp;nodeId=GDFU3JS5AL6SYHRD&amp;ref_=footer_covid\">Amazon y COVID-19</a></li><li><a class=\"nav_a\" href=\"/gp/css/order-history?ie=UTF8&amp;ref_=footer_hp_ss_comp_tmp\">Localizar o gestionar compras</a></li><li><a class=\"nav_a\" href=\"/gp/help/customer/display.html?ie=UTF8&amp;nodeId=200522630&amp;ref_=footer_shiprates\">Tarifas y políticas de envío</a></li><li><a class=\"nav_a\" href=\"/gp/prime?ie=UTF8&amp;ref_=footer_prime\">Amazon Prime</a></li><li><a class=\"nav_a\" href=\"/gp/css/returns/homepage.html?ie=UTF8&amp;ref_=footer_hy_f_4\">Devolver o reemplazar productos</a></li><li><a class=\"nav_a\" href=\"/b?ie=UTF8&amp;node=22380251031&amp;ref_=footer_disposal\">Reciclaje</a></li><li><a class=\"nav_a\" href=\"/hz/mycd/myx?_encoding=UTF8&amp;ref_=footer_myk\">Gestionar contenido y dispositivos</a></li><li><a class=\"nav_a\" href=\"/b?ie=UTF8&amp;node=5061838031&amp;ref_=footer_mobapp\">App Amazon</a></li><li><a class=\"nav_a\" href=\"/gp/BIT/ref=footer_bit_v2_e0005?bitCampaignCode=e0005\">Amazon Assistant</a></li><li><a class=\"nav_a\" href=\"/gp/help/customer/display.html?ie=UTF8&amp;nodeId=200507590&amp;ref_=footer_gw_m_b_cs\">Atención al Cliente</a></li><li class=\"nav_last\"><a class=\"nav_a\" href=\"/gp/help/customer/display.html?ie=UTF8&amp;nodeId=201239260&amp;ref_=footer_vat\">IVA sobre los bienes</a></li></ul></div></div></div><div class=\"nav-footer-line\"></div>\n<div class=\"navFooterLine navFooterLinkLine navFooterPadItemLine\"><span><div class=\"navFooterLine navFooterLogoLine\"><a href=\"/ref=footer_logo\"><div class=\"nav-logo-base nav-sprite\"></div></a></div>\n</span><ul></ul></div>\n<div class=\"navFooterLine navFooterLinkLine navFooterPadItemLine\"><ul><li class=\"nav_first\"><a class=\"nav_a\" href=\"https://www.amazon.com.au/ref=footer_au\">Australia</a></li><li><a class=\"nav_a\" href=\"https://www.amazon.de/ref=footer_de\">Alemania</a></li><li><a class=\"nav_a\" href=\"https://www.amazon.com.br/ref=footer_br\">Brasil</a></li><li><a class=\"nav_a\" href=\"https://www.amazon.ca/ref=footer_ca\">Canadá</a></li><li><a class=\"nav_a\" href=\"https://www.amazon.cn/ref=footer_cn\">China</a></li><li><a class=\"nav_a\" href=\"https://www.amazon.com/ref=footer_us\">Estados Unidos</a></li><li><a class=\"nav_a\" href=\"https://www.amazon.fr/ref=footer_fr\">Francia</a></li><li><a class=\"nav_a\" href=\"https://www.amazon.in/ref=footer_in\">India</a></li><li><a class=\"nav_a\" href=\"https://www.amazon.it/ref=footer_it\">Italia</a></li><li><a class=\"nav_a\" href=\"https://www.amazon.co.jp/ref=footer_jp\">Japón</a></li><li><a class=\"nav_a\" href=\"https://www.amazon.com.mx/ref=footer_mx\">México</a></li><li><a class=\"nav_a\" href=\"https://www.amazon.nl/ref=footer_nl\">Países Bajos</a></li><li><a class=\"nav_a\" href=\"https://www.amazon.ae/ref=footer_ae\">Emiratos Árabes Unidos</a></li><li><a class=\"nav_a\" href=\"https://www.amazon.co.uk/ref=footer_uk\">Reino Unido</a></li><li><a class=\"nav_a\" href=\"https://www.amazon.sg/ref=footer_sg\">Singapur</a></li><li class=\"nav_last\"><a class=\"nav_a\" href=\"https://www.amazon.com.tr/ref=footer_tr\">Turquía</a></li></ul></div>\n<div class=\"navFooterLine navFooterLinkLine navFooterDescLine\"><table cellspacing=\"0\" class=\"navFooterMoreOnAmazon\"><tr>\n<td class=\"navFooterDescItem\"><a class=\"nav_a\" href=\"https://music.amazon.es/?ref=dm_aff_amz_es\">Amazon Music<br/> <span class=\"navFooterDescText\">Transmite millones<br/> de canciones</span></a></td>\n<td class=\"navFooterDescSpacer\" style=\"width: 4%\"></td>\n<td class=\"navFooterDescItem\"><a class=\"nav_a\" href=\"https://www.iberlibro.com/\">IberLibro<br/> <span class=\"navFooterDescText\">Libros, arte<br/> &amp; artículos de colección</span></a></td>\n<td class=\"navFooterDescSpacer\" style=\"width: 4%\"></td>\n<td class=\"navFooterDescItem\"><a class=\"nav_a\" href=\"https://aws.amazon.com/es/?sc_channel=EL&amp;sc_campaign=ES_amazonfooter\">Amazon Web Services<br/> <span class=\"navFooterDescText\">Servicios Cloud Computing<br/> de Amazon</span></a></td>\n<td class=\"navFooterDescSpacer\" style=\"width: 4%\"></td>\n<td class=\"navFooterDescItem\"><a class=\"nav_a\" href=\"https://www.bookdepository.com/\">Book Depository<br/> <span class=\"navFooterDescText\">Libros con entrega gratis<br/> en todo el mundo</span></a></td>\n<td class=\"navFooterDescSpacer\" style=\"width: 4%\"></td>\n<td class=\"navFooterDescItem\"><a class=\"nav_a\" href=\"https://kdp.amazon.com/?language=es_ES\">Kindle Direct Publishing<br/> <span class=\"navFooterDescText\">Publica tu libro en papel y digital<br/> de manera independiente</span></a></td>\n</tr>\n<tr><td> </td></tr>\n<tr>\n<td class=\"navFooterDescItem\"><a class=\"nav_a\" href=\"https://primenow.amazon.es/?ref=HOUD12C322_0_GlobalFooter\">Prime Now<br/> <span class=\"navFooterDescText\">Entrega en 1 hora<br/> En miles de productos</span></a></td>\n<td class=\"navFooterDescSpacer\" style=\"width: 4%\"></td>\n<td class=\"navFooterDescItem\"><a class=\"nav_a\" href=\"/Productos-Reacondicionados/b?ie=UTF8&amp;node=3582001031&amp;ref_=footer_wrhsdls\">Productos Reacondicionados<br/> <span class=\"navFooterDescText\">Precios bajos en productos revisados por Amazon</span></a></td>\n<td class=\"navFooterDescSpacer\" style=\"width: 4%\"></td>\n<td class=\"navFooterDescItem\"><a class=\"nav_a\" href=\"https://www.shopbop.com/\">Shopbop<br/> <span class=\"navFooterDescText\">Marcas<br/> de moda de diseño </span></a></td>\n<td class=\"navFooterDescSpacer\" style=\"width: 4%\"></td>\n<td class=\"navFooterDescItem\"><a class=\"nav_a\" href=\"/b?ie=UTF8&amp;node=14862331031&amp;ref_=nav_footer_business\">Amazon Business<br/> <span class=\"navFooterDescText\">Servicio para<br/> clientes de empresa</span></a></td>\n<td class=\"navFooterDescSpacer\" style=\"width: 4%\"></td>\n<td class=\"navFooterDescItem\"><a class=\"nav_a\" href=\"/amazonsecondchance?_encoding=UTF8&amp;ref_=footer_asc\">Amazon Second Chance<br/> <span class=\"navFooterDescText\">Donar, intercambiar,<br/> dar una segunda vida</span></a></td>\n</tr>\n</table></div>\n<div class=\"navFooterLine navFooterLinkLine navFooterPadItemLine navFooterCopyright\"><ul><li class=\"nav_first\"><a class=\"nav_a\" href=\"/gp/help/customer/display.html?ie=UTF8&amp;nodeId=201909000&amp;ref_=footer_cou\">Condiciones de Uso y Venta</a></li><li><a class=\"nav_a\" href=\"/gp/help/customer/display.html?ie=UTF8&amp;nodeId=201909010&amp;ref_=footer_privacy\">Aviso de privacidad</a></li><li><a class=\"nav_a\" href=\"/gp/help/customer/display.html?ie=UTF8&amp;nodeId=201909250&amp;ref_=footer_legal_area\">Área legal</a></li><li><a class=\"nav_a\" href=\"/gp/help/customer/display.html?ie=UTF8&amp;nodeId=201890250&amp;ref_=footer_cookies_notice\">Cookies</a></li><li class=\"nav_last\"><a class=\"nav_a\" href=\"/gp/help/customer/display.html?ie=UTF8&amp;nodeId=201909150&amp;ref_=footer_Interest_Based_Ads_Notice\">Publicidad basada en intereses</a></li></ul><span>© 1996-2020, Amazon.com, Inc. o afiliados. Todos los derechos reservados.</span><ul></ul></div>\n</div><!-- whfh-lrsiJfFq+CME5HLEvF5yLszXWRdrTNVpUvEMBa+FLKyUtf4XRT7grIxLZYjIgGPH rid-JGMZFWFZD6H4CVQE8XS1 -->\n<div aria-hidden=\"true\" id=\"sis_pixel_r2\" style=\"height:1px; position: absolute; left: -1000000px; top: -1000000px;\"></div><script>(function(a,b){a.attachEvent?a.attachEvent(\"onload\",b):a.addEventListener&&a.addEventListener(\"load\",b,!1)})(window,function(){setTimeout(function(){var el=document.getElementById(\"sis_pixel_r2\");el&&(el.innerHTML='<iframe id=\"DAsis\" src=\"//aax-eu.amazon-adsystem.com/s/iu3?d=amazon.es&slot=navFooter&old_oo=0&ts=1608586065338&s=AU80aYW9cNm7XDYHImjRoqaIrotf4PMrfsTCAQBwMJQd&cmp_dial_status=dialed_up&cb=1608586065338\" width=\"1\" height=\"1\" frameborder=\"0\" marginwidth=\"0\" marginheight=\"0\" scrolling=\"no\"></iframe>')},300)});</script><!-- footer tilu -->\n<!-- sp:feature:amazon-pay-iframe -->\n<!-- sp:end-feature:amazon-pay-iframe -->\n</div></body></html>\n<!--       _\n       .__(.)< (MEOW)\n        \\___)   \n ~~~~~~~~~~~~~~~~~~-->\n<!-- sp:eh:q+bdaUr9kHxv9gfj966wswX+ss7+Pe6BpFT79/YjwcerbtXkZ9YsGhd0febxFRUIHwTyDIhBpEOW9rnLyVRGvZ8DfI292BvqyzJoB999rAdmcepJHitf0w== -->\n>\n"
     ]
    }
   ],
   "source": [
    "amzn = soup.get_text\n",
    "print(amzn)"
   ]
  },
  {
   "cell_type": "code",
   "execution_count": 54,
   "metadata": {},
   "outputs": [
    {
     "output_type": "execute_result",
     "data": {
      "text/plain": [
       "[<li class=\"a-spacing-small item\"><span class=\"a-list-item\">\n",
       " <span class=\"a-declarative\" data-action=\"thumb-action\" data-thumb-action='{\"thumbnailIndex\":\"0\",\"variant\":\"MAIN\",\"index\":\"0\",\"type\":\"image\"}' data-ux-click=\"\">\n",
       " <span class=\"a-button a-button-selected a-button-thumbnail a-button-toggle a-button-focus\"><span class=\"a-button-inner\"><input class=\"a-button-input\" type=\"submit\"/><span aria-hidden=\"true\" class=\"a-button-text\">\n",
       " <img alt=\"\" src=\"https://images-na.ssl-images-amazon.com/images/I/31PXF%2BAVntL._AC_SR38,50_.jpg\"/>\n",
       " </span></span></span>\n",
       " </span>\n",
       " </span></li>,\n",
       " <li class=\"a-spacing-small item\"><span class=\"a-list-item\">\n",
       " <span class=\"a-declarative\" data-action=\"thumb-action\" data-thumb-action='{\"thumbnailIndex\":\"1\",\"variant\":\"BACK\",\"index\":\"1\",\"type\":\"image\"}' data-ux-click=\"\">\n",
       " <span class=\"a-button a-button-thumbnail a-button-toggle\"><span class=\"a-button-inner\"><input class=\"a-button-input\" type=\"submit\"/><span aria-hidden=\"true\" class=\"a-button-text\">\n",
       " <img alt=\"\" src=\"https://images-na.ssl-images-amazon.com/images/I/312iyNOTZ3L._AC_SR38,50_.jpg\"/>\n",
       " </span></span></span>\n",
       " </span>\n",
       " </span></li>,\n",
       " <li class=\"a-spacing-small item\"><span class=\"a-list-item\">\n",
       " <span class=\"a-declarative\" data-action=\"thumb-action\" data-thumb-action='{\"thumbnailIndex\":\"2\",\"variant\":\"PT01\",\"index\":\"2\",\"type\":\"image\"}' data-ux-click=\"\">\n",
       " <span class=\"a-button a-button-thumbnail a-button-toggle\"><span class=\"a-button-inner\"><input class=\"a-button-input\" type=\"submit\"/><span aria-hidden=\"true\" class=\"a-button-text\">\n",
       " <img alt=\"\" src=\"https://images-na.ssl-images-amazon.com/images/I/31QK2M1YZSL._AC_SR38,50_.jpg\"/>\n",
       " </span></span></span>\n",
       " </span>\n",
       " </span></li>,\n",
       " <li class=\"a-spacing-small item\"><span class=\"a-list-item\">\n",
       " <span class=\"a-declarative\" data-action=\"thumb-action\" data-thumb-action='{\"thumbnailIndex\":\"3\",\"variant\":\"PT02\",\"index\":\"3\",\"type\":\"image\"}' data-ux-click=\"\">\n",
       " <span class=\"a-button a-button-thumbnail a-button-toggle\"><span class=\"a-button-inner\"><input class=\"a-button-input\" type=\"submit\"/><span aria-hidden=\"true\" class=\"a-button-text\">\n",
       " <img alt=\"\" src=\"https://images-na.ssl-images-amazon.com/images/I/41cfWIVeikL._AC_SR38,50_.jpg\"/>\n",
       " </span></span></span>\n",
       " </span>\n",
       " </span></li>,\n",
       " <li class=\"a-spacing-small item\"><span class=\"a-list-item\">\n",
       " <span class=\"a-declarative\" data-action=\"thumb-action\" data-thumb-action='{\"thumbnailIndex\":\"4\",\"variant\":\"PT03\",\"index\":\"4\",\"type\":\"image\"}' data-ux-click=\"\">\n",
       " <span class=\"a-button a-button-thumbnail a-button-toggle\"><span class=\"a-button-inner\"><input class=\"a-button-input\" type=\"submit\"/><span aria-hidden=\"true\" class=\"a-button-text\">\n",
       " <img alt=\"\" src=\"https://images-na.ssl-images-amazon.com/images/I/415d3y-qVWL._AC_SR38,50_.jpg\"/>\n",
       " </span></span></span>\n",
       " </span>\n",
       " </span></li>,\n",
       " <li class=\"a-spacing-small item\"><span class=\"a-list-item\">\n",
       " <span class=\"a-declarative\" data-action=\"thumb-action\" data-thumb-action='{\"thumbnailIndex\":\"5\",\"variant\":\"PT04\",\"index\":\"5\",\"type\":\"image\"}' data-ux-click=\"\">\n",
       " <span class=\"a-button a-button-thumbnail a-button-toggle\"><span class=\"a-button-inner\"><input class=\"a-button-input\" type=\"submit\"/><span aria-hidden=\"true\" class=\"a-button-text\">\n",
       " <img alt=\"\" src=\"https://images-na.ssl-images-amazon.com/images/I/31BwBmtO2CL._AC_SR38,50_.jpg\"/>\n",
       " </span></span></span>\n",
       " </span>\n",
       " </span></li>,\n",
       " <li class=\"a-spacing-small item\"><span class=\"a-list-item\">\n",
       " <span class=\"a-declarative\" data-action=\"thumb-action\" data-thumb-action='{\"thumbnailIndex\":\"6\",\"variant\":\"PT07\",\"index\":\"6\",\"type\":\"image\"}' data-ux-click=\"\">\n",
       " <span class=\"a-button a-button-thumbnail a-button-toggle\"><span class=\"a-button-inner\"><input class=\"a-button-input\" type=\"submit\"/><span aria-hidden=\"true\" class=\"a-button-text\">\n",
       " <img alt=\"\" src=\"https://images-na.ssl-images-amazon.com/images/I/41gzOdNjYBL._AC_SR38,50_.jpg\"/>\n",
       " </span></span></span>\n",
       " </span>\n",
       " </span></li>,\n",
       " <li class=\"image item itemNo0 selected maintain-height\"><span class=\"a-list-item\">\n",
       " <span class=\"a-declarative\" data-action=\"main-image-click\" data-main-image-click=\"{}\" data-ux-click=\"\">\n",
       " <div class=\"imgTagWrapper\" id=\"imgTagWrapperId\">\n",
       " <img alt=\"Tommy Hilfiger Logo Camiseta de Cuello Redondo,Perfecta para El Tiempo Libre para Hombre\" class=\"a-dynamic-image\" data-a-dynamic-image='{\"https://images-na.ssl-images-amazon.com/images/I/81HgosfaSkL._AC_UY679_.jpg\":[679,509],\"https://images-na.ssl-images-amazon.com/images/I/81HgosfaSkL._AC_UY550_.jpg\":[550,413],\"https://images-na.ssl-images-amazon.com/images/I/81HgosfaSkL._AC_UY606_.jpg\":[606,455],\"https://images-na.ssl-images-amazon.com/images/I/81HgosfaSkL._AC_UY879_.jpg\":[879,659],\"https://images-na.ssl-images-amazon.com/images/I/81HgosfaSkL._AC_UY741_.jpg\":[741,556],\"https://images-na.ssl-images-amazon.com/images/I/81HgosfaSkL._AC_UY445_.jpg\":[445,334],\"https://images-na.ssl-images-amazon.com/images/I/81HgosfaSkL._AC_UY500_.jpg\":[500,375]}' data-a-image-name=\"landingImage\" data-old-hires=\"https://images-na.ssl-images-amazon.com/images/I/81HgosfaSkL._AC_UL1500_.jpg\" id=\"landingImage\" onload=\"if(this.width/this.height &gt; 0.77){this.className += ' a-stretch-horizontal'}else{this.className += ' a-stretch-vertical'};this.onload='';setCSMReq('af');if(typeof addlongPoleTag === 'function'){ addlongPoleTag('af','desktop-image-atf-marker');};setCSMReq('cf')\" src=\"https://images-na.ssl-images-amazon.com/images/I/81HgosfaSkL.__AC_SX342_SY445_QL70_ML2_.jpg\" style=\"max-width:659px;max-height:879px;\"/>\n",
       " </div>\n",
       " </span>\n",
       " </span></li>]"
      ]
     },
     "metadata": {},
     "execution_count": 54
    }
   ],
   "source": [
    "soup.find_all(class_=\"item\")"
   ]
  },
  {
   "cell_type": "code",
   "execution_count": null,
   "metadata": {},
   "outputs": [],
   "source": []
  }
 ]
}