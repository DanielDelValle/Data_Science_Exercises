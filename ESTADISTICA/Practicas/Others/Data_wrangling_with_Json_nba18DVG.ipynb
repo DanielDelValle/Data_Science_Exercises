{
 "cells": [
  {
   "cell_type": "markdown",
   "metadata": {},
   "source": [
    "## Working on Jsons"
   ]
  },
  {
   "cell_type": "code",
   "execution_count": 2,
   "metadata": {},
   "outputs": [
    {
     "output_type": "error",
     "ename": "AttributeError",
     "evalue": "module 'plotly' has no attribute 'animation'",
     "traceback": [
      "\u001b[1;31m---------------------------------------------------------------------------\u001b[0m",
      "\u001b[1;31mAttributeError\u001b[0m                            Traceback (most recent call last)",
      "\u001b[1;32m<ipython-input-2-44066fe21cde>\u001b[0m in \u001b[0;36m<module>\u001b[1;34m\u001b[0m\n\u001b[0;32m      1\u001b[0m \u001b[1;32mimport\u001b[0m \u001b[0mplotly\u001b[0m \u001b[1;32mas\u001b[0m \u001b[0mpt\u001b[0m\u001b[1;33m\u001b[0m\u001b[1;33m\u001b[0m\u001b[0m\n\u001b[1;32m----> 2\u001b[1;33m \u001b[0mpt\u001b[0m\u001b[1;33m.\u001b[0m\u001b[0manimation\u001b[0m\u001b[1;33m(\u001b[0m\u001b[1;33m[\u001b[0m\u001b[1;36m2\u001b[0m\u001b[1;33m,\u001b[0m \u001b[1;36m3\u001b[0m\u001b[1;33m,\u001b[0m \u001b[1;36m4\u001b[0m\u001b[1;33m]\u001b[0m\u001b[1;33m)\u001b[0m\u001b[1;33m\u001b[0m\u001b[1;33m\u001b[0m\u001b[0m\n\u001b[0m",
      "\u001b[1;32m~\\AppData\\Roaming\\Python\\Python39\\site-packages\\_plotly_utils\\importers.py\u001b[0m in \u001b[0;36m__getattr__\u001b[1;34m(import_name)\u001b[0m\n\u001b[0;32m     37\u001b[0m             \u001b[1;32mreturn\u001b[0m \u001b[0mgetattr\u001b[0m\u001b[1;33m(\u001b[0m\u001b[0mclass_module\u001b[0m\u001b[1;33m,\u001b[0m \u001b[0mclass_name\u001b[0m\u001b[1;33m)\u001b[0m\u001b[1;33m\u001b[0m\u001b[1;33m\u001b[0m\u001b[0m\n\u001b[0;32m     38\u001b[0m \u001b[1;33m\u001b[0m\u001b[0m\n\u001b[1;32m---> 39\u001b[1;33m         raise AttributeError(\n\u001b[0m\u001b[0;32m     40\u001b[0m             \"module {__name__!r} has no attribute {name!r}\".format(\n\u001b[0;32m     41\u001b[0m                 \u001b[0mname\u001b[0m\u001b[1;33m=\u001b[0m\u001b[0mimport_name\u001b[0m\u001b[1;33m,\u001b[0m \u001b[0m__name__\u001b[0m\u001b[1;33m=\u001b[0m\u001b[0mparent_name\u001b[0m\u001b[1;33m\u001b[0m\u001b[1;33m\u001b[0m\u001b[0m\n",
      "\u001b[1;31mAttributeError\u001b[0m: module 'plotly' has no attribute 'animation'"
     ]
    }
   ],
   "source": [
    "import plotly as pt\n",
    "pt.animation([2, 3, 4])"
   ]
  },
  {
   "cell_type": "code",
   "execution_count": 2,
   "metadata": {},
   "outputs": [],
   "source": [
    "import requests\n",
    "import json as js\n",
    "import pandas as pd"
   ]
  },
  {
   "cell_type": "code",
   "execution_count": 3,
   "metadata": {
    "tags": []
   },
   "outputs": [],
   "source": [
    "r = requests.get(url='http://data.nba.net/prod/v2/2018/teams.json')\n",
    "json_readed = js.loads(r.text)"
   ]
  },
  {
   "cell_type": "code",
   "execution_count": 4,
   "metadata": {
    "tags": []
   },
   "outputs": [],
   "source": [
    "with open('ejercicioDVG.json', 'w+') as archivo1:\n",
    "    js.dump(json_readed, archivo1, indent=4)\n",
    "\n",
    "with open ('ejercicioDVG.json') as archivo1:\n",
    "    line = archivo1.readline()"
   ]
  },
  {
   "cell_type": "code",
   "execution_count": 5,
   "metadata": {
    "tags": []
   },
   "outputs": [],
   "source": [
    "dvg = pd.DataFrame(json_readed)\n",
    "dvg = dvg[3:]   #desde la 3 row incluida\n",
    "dvg = dvg.drop(columns=\"_internal\")  #no me sirve esa columna\n",
    "league = dvg[\"league\"]\n",
    "df1 = pd.DataFrame(dvg.league.standard)\n",
    "df2 = pd.DataFrame(dvg.league.africa)\n",
    "df3 = pd.DataFrame(dvg.league.sacramento)\n",
    "df4 = pd.DataFrame(dvg.league.vegas)\n",
    "df5 = pd.DataFrame(dvg.league.utah)"
   ]
  },
  {
   "cell_type": "code",
   "execution_count": 6,
   "metadata": {},
   "outputs": [
    {
     "output_type": "execute_result",
     "data": {
      "text/plain": [
       "                                                       league\n",
       "standard    [{'isNBAFranchise': False, 'isAllStar': True, ...\n",
       "africa      [{'isNBAFranchise': False, 'isAllStar': False,...\n",
       "sacramento  [{'isNBAFranchise': True, 'isAllStar': False, ...\n",
       "vegas       [{'isNBAFranchise': True, 'isAllStar': False, ...\n",
       "utah        [{'isNBAFranchise': True, 'isAllStar': False, ..."
      ],
      "text/html": "<div>\n<style scoped>\n    .dataframe tbody tr th:only-of-type {\n        vertical-align: middle;\n    }\n\n    .dataframe tbody tr th {\n        vertical-align: top;\n    }\n\n    .dataframe thead th {\n        text-align: right;\n    }\n</style>\n<table border=\"1\" class=\"dataframe\">\n  <thead>\n    <tr style=\"text-align: right;\">\n      <th></th>\n      <th>league</th>\n    </tr>\n  </thead>\n  <tbody>\n    <tr>\n      <th>standard</th>\n      <td>[{'isNBAFranchise': False, 'isAllStar': True, ...</td>\n    </tr>\n    <tr>\n      <th>africa</th>\n      <td>[{'isNBAFranchise': False, 'isAllStar': False,...</td>\n    </tr>\n    <tr>\n      <th>sacramento</th>\n      <td>[{'isNBAFranchise': True, 'isAllStar': False, ...</td>\n    </tr>\n    <tr>\n      <th>vegas</th>\n      <td>[{'isNBAFranchise': True, 'isAllStar': False, ...</td>\n    </tr>\n    <tr>\n      <th>utah</th>\n      <td>[{'isNBAFranchise': True, 'isAllStar': False, ...</td>\n    </tr>\n  </tbody>\n</table>\n</div>"
     },
     "metadata": {},
     "execution_count": 6
    }
   ],
   "source": [
    "dvg_otro = dvg.loc[\"standard\":, \"league\":\"league\"] #poniendo \"league\" a secas saldria series en vez de DataFrame.Con los : se convierte en DF. Por eso forzamos los : repitiendo el \"league\"\n",
    "dvg_otro  #(otra opcion)"
   ]
  },
  {
   "cell_type": "code",
   "execution_count": 7,
   "metadata": {
    "tags": []
   },
   "outputs": [
    {
     "output_type": "stream",
     "name": "stdout",
     "text": [
      "<class 'pandas.core.frame.DataFrame'>\nInt64Index: 88 entries, 0 to 3\nData columns (total 11 columns):\n #   Column          Non-Null Count  Dtype \n---  ------          --------------  ----- \n 0   isNBAFranchise  88 non-null     bool  \n 1   isAllStar       88 non-null     bool  \n 2   city            88 non-null     object\n 3   altCityName     88 non-null     object\n 4   fullName        88 non-null     object\n 5   tricode         88 non-null     object\n 6   teamId          88 non-null     object\n 7   nickname        88 non-null     object\n 8   urlName         88 non-null     object\n 9   confName        88 non-null     object\n 10  divName         88 non-null     object\ndtypes: bool(2), object(9)\nmemory usage: 7.0+ KB\nNone \n\n---------------------------- \n\n        isNBAFranchise isAllStar  city altCityName       fullName tricode  \\\ncount              88        88    88          88             88      88   \nunique              2         2    45          45             47      47   \ntop              True     False  Team        Team  Atlanta Hawks     LAL   \nfreq               68        82     6           6              3       3   \n\n            teamId nickname urlName confName divName  \ncount           88       88      88       88      88  \nunique          48       45      46        7       9  \ntop     1610612747    Kings   kings   summer          \nfreq             3        4       4       30      52  \n"
     ]
    },
    {
     "output_type": "execute_result",
     "data": {
      "text/plain": [
       "    isNBAFranchise  isAllStar          city   altCityName            fullName  \\\n",
       "0            False       True           USA           USA                 USA   \n",
       "1            False       True         World         World               World   \n",
       "2            False       True          Team          Team           All-Stars   \n",
       "3            False       True          Team          Team           All-Stars   \n",
       "4            False       True  Team Giannis  Team Giannis        Team Giannis   \n",
       "..             ...        ...           ...           ...                 ...   \n",
       "29            True      False    Washington    Washington  Washington Wizards   \n",
       "0             True      False       Atlanta       Atlanta       Atlanta Hawks   \n",
       "1             True      False       Memphis       Memphis   Memphis Grizzlies   \n",
       "2             True      False   San Antonio   San Antonio   San Antonio Spurs   \n",
       "3             True      False          Utah          Utah           Utah Jazz   \n",
       "\n",
       "   tricode      teamId      nickname       urlName confName divName  \n",
       "0      USA  1610616843           USA           usa     East    East  \n",
       "1      WLD  1610616844         World         world     East    East  \n",
       "2      EST  1699999999     All-Stars     assn_away     East    East  \n",
       "3      WST  1699999998     All-Stars     assn_home     West    West  \n",
       "4      GNS  1610616833  Team Giannis  team_giannis     East    East  \n",
       "..     ...         ...           ...           ...      ...     ...  \n",
       "29     WAS  1610612764       Wizards       wizards   summer          \n",
       "0      ATL  1610612737         Hawks         hawks     Utah          \n",
       "1      MEM  1610612763     Grizzlies     grizzlies     Utah          \n",
       "2      SAS  1610612759         Spurs         spurs     Utah          \n",
       "3      UTA  1610612762          Jazz          jazz     Utah          \n",
       "\n",
       "[88 rows x 11 columns]"
      ],
      "text/html": "<div>\n<style scoped>\n    .dataframe tbody tr th:only-of-type {\n        vertical-align: middle;\n    }\n\n    .dataframe tbody tr th {\n        vertical-align: top;\n    }\n\n    .dataframe thead th {\n        text-align: right;\n    }\n</style>\n<table border=\"1\" class=\"dataframe\">\n  <thead>\n    <tr style=\"text-align: right;\">\n      <th></th>\n      <th>isNBAFranchise</th>\n      <th>isAllStar</th>\n      <th>city</th>\n      <th>altCityName</th>\n      <th>fullName</th>\n      <th>tricode</th>\n      <th>teamId</th>\n      <th>nickname</th>\n      <th>urlName</th>\n      <th>confName</th>\n      <th>divName</th>\n    </tr>\n  </thead>\n  <tbody>\n    <tr>\n      <th>0</th>\n      <td>False</td>\n      <td>True</td>\n      <td>USA</td>\n      <td>USA</td>\n      <td>USA</td>\n      <td>USA</td>\n      <td>1610616843</td>\n      <td>USA</td>\n      <td>usa</td>\n      <td>East</td>\n      <td>East</td>\n    </tr>\n    <tr>\n      <th>1</th>\n      <td>False</td>\n      <td>True</td>\n      <td>World</td>\n      <td>World</td>\n      <td>World</td>\n      <td>WLD</td>\n      <td>1610616844</td>\n      <td>World</td>\n      <td>world</td>\n      <td>East</td>\n      <td>East</td>\n    </tr>\n    <tr>\n      <th>2</th>\n      <td>False</td>\n      <td>True</td>\n      <td>Team</td>\n      <td>Team</td>\n      <td>All-Stars</td>\n      <td>EST</td>\n      <td>1699999999</td>\n      <td>All-Stars</td>\n      <td>assn_away</td>\n      <td>East</td>\n      <td>East</td>\n    </tr>\n    <tr>\n      <th>3</th>\n      <td>False</td>\n      <td>True</td>\n      <td>Team</td>\n      <td>Team</td>\n      <td>All-Stars</td>\n      <td>WST</td>\n      <td>1699999998</td>\n      <td>All-Stars</td>\n      <td>assn_home</td>\n      <td>West</td>\n      <td>West</td>\n    </tr>\n    <tr>\n      <th>4</th>\n      <td>False</td>\n      <td>True</td>\n      <td>Team Giannis</td>\n      <td>Team Giannis</td>\n      <td>Team Giannis</td>\n      <td>GNS</td>\n      <td>1610616833</td>\n      <td>Team Giannis</td>\n      <td>team_giannis</td>\n      <td>East</td>\n      <td>East</td>\n    </tr>\n    <tr>\n      <th>...</th>\n      <td>...</td>\n      <td>...</td>\n      <td>...</td>\n      <td>...</td>\n      <td>...</td>\n      <td>...</td>\n      <td>...</td>\n      <td>...</td>\n      <td>...</td>\n      <td>...</td>\n      <td>...</td>\n    </tr>\n    <tr>\n      <th>29</th>\n      <td>True</td>\n      <td>False</td>\n      <td>Washington</td>\n      <td>Washington</td>\n      <td>Washington Wizards</td>\n      <td>WAS</td>\n      <td>1610612764</td>\n      <td>Wizards</td>\n      <td>wizards</td>\n      <td>summer</td>\n      <td></td>\n    </tr>\n    <tr>\n      <th>0</th>\n      <td>True</td>\n      <td>False</td>\n      <td>Atlanta</td>\n      <td>Atlanta</td>\n      <td>Atlanta Hawks</td>\n      <td>ATL</td>\n      <td>1610612737</td>\n      <td>Hawks</td>\n      <td>hawks</td>\n      <td>Utah</td>\n      <td></td>\n    </tr>\n    <tr>\n      <th>1</th>\n      <td>True</td>\n      <td>False</td>\n      <td>Memphis</td>\n      <td>Memphis</td>\n      <td>Memphis Grizzlies</td>\n      <td>MEM</td>\n      <td>1610612763</td>\n      <td>Grizzlies</td>\n      <td>grizzlies</td>\n      <td>Utah</td>\n      <td></td>\n    </tr>\n    <tr>\n      <th>2</th>\n      <td>True</td>\n      <td>False</td>\n      <td>San Antonio</td>\n      <td>San Antonio</td>\n      <td>San Antonio Spurs</td>\n      <td>SAS</td>\n      <td>1610612759</td>\n      <td>Spurs</td>\n      <td>spurs</td>\n      <td>Utah</td>\n      <td></td>\n    </tr>\n    <tr>\n      <th>3</th>\n      <td>True</td>\n      <td>False</td>\n      <td>Utah</td>\n      <td>Utah</td>\n      <td>Utah Jazz</td>\n      <td>UTA</td>\n      <td>1610612762</td>\n      <td>Jazz</td>\n      <td>jazz</td>\n      <td>Utah</td>\n      <td></td>\n    </tr>\n  </tbody>\n</table>\n<p>88 rows × 11 columns</p>\n</div>"
     },
     "metadata": {},
     "execution_count": 7
    }
   ],
   "source": [
    "final_df = pd.concat([df1, df2, df3, df4, df5], axis=0)\n",
    "\n",
    "print(final_df.info(), \"\\n\"\"\\n\" \"----------------------------\",\"\\n\"\"\\n\",  final_df.describe())\n",
    "final_df"
   ]
  },
  {
   "cell_type": "code",
   "execution_count": 8,
   "metadata": {},
   "outputs": [],
   "source": [
    "#forma mas rapida que ir 1 por 1:\n",
    "for i, x in enumerate(dvg[\"league\"]):\n",
    "    with open(str(i) + '.json', 'w+') as outfile:\n",
    "        js.dump(x, outfile, indent=4)           #guardaria 1 archivo por cada uno y luego se guardan (no muy optimo)"
   ]
  },
  {
   "cell_type": "code",
   "execution_count": 9,
   "metadata": {},
   "outputs": [
    {
     "output_type": "execute_result",
     "data": {
      "text/plain": [
       "    isNBAFranchise  isAllStar          city   altCityName            fullName  \\\n",
       "0            False       True           USA           USA                 USA   \n",
       "1            False       True         World         World               World   \n",
       "2            False       True          Team          Team           All-Stars   \n",
       "3            False       True          Team          Team           All-Stars   \n",
       "4            False       True  Team Giannis  Team Giannis        Team Giannis   \n",
       "..             ...        ...           ...           ...                 ...   \n",
       "29            True      False    Washington    Washington  Washington Wizards   \n",
       "0             True      False       Atlanta       Atlanta       Atlanta Hawks   \n",
       "1             True      False       Memphis       Memphis   Memphis Grizzlies   \n",
       "2             True      False   San Antonio   San Antonio   San Antonio Spurs   \n",
       "3             True      False          Utah          Utah           Utah Jazz   \n",
       "\n",
       "   tricode      teamId      nickname       urlName confName divName  \n",
       "0      USA  1610616843           USA           usa     East    East  \n",
       "1      WLD  1610616844         World         world     East    East  \n",
       "2      EST  1699999999     All-Stars     assn_away     East    East  \n",
       "3      WST  1699999998     All-Stars     assn_home     West    West  \n",
       "4      GNS  1610616833  Team Giannis  team_giannis     East    East  \n",
       "..     ...         ...           ...           ...      ...     ...  \n",
       "29     WAS  1610612764       Wizards       wizards   summer          \n",
       "0      ATL  1610612737         Hawks         hawks     Utah          \n",
       "1      MEM  1610612763     Grizzlies     grizzlies     Utah          \n",
       "2      SAS  1610612759         Spurs         spurs     Utah          \n",
       "3      UTA  1610612762          Jazz          jazz     Utah          \n",
       "\n",
       "[88 rows x 11 columns]"
      ],
      "text/html": "<div>\n<style scoped>\n    .dataframe tbody tr th:only-of-type {\n        vertical-align: middle;\n    }\n\n    .dataframe tbody tr th {\n        vertical-align: top;\n    }\n\n    .dataframe thead th {\n        text-align: right;\n    }\n</style>\n<table border=\"1\" class=\"dataframe\">\n  <thead>\n    <tr style=\"text-align: right;\">\n      <th></th>\n      <th>isNBAFranchise</th>\n      <th>isAllStar</th>\n      <th>city</th>\n      <th>altCityName</th>\n      <th>fullName</th>\n      <th>tricode</th>\n      <th>teamId</th>\n      <th>nickname</th>\n      <th>urlName</th>\n      <th>confName</th>\n      <th>divName</th>\n    </tr>\n  </thead>\n  <tbody>\n    <tr>\n      <th>0</th>\n      <td>False</td>\n      <td>True</td>\n      <td>USA</td>\n      <td>USA</td>\n      <td>USA</td>\n      <td>USA</td>\n      <td>1610616843</td>\n      <td>USA</td>\n      <td>usa</td>\n      <td>East</td>\n      <td>East</td>\n    </tr>\n    <tr>\n      <th>1</th>\n      <td>False</td>\n      <td>True</td>\n      <td>World</td>\n      <td>World</td>\n      <td>World</td>\n      <td>WLD</td>\n      <td>1610616844</td>\n      <td>World</td>\n      <td>world</td>\n      <td>East</td>\n      <td>East</td>\n    </tr>\n    <tr>\n      <th>2</th>\n      <td>False</td>\n      <td>True</td>\n      <td>Team</td>\n      <td>Team</td>\n      <td>All-Stars</td>\n      <td>EST</td>\n      <td>1699999999</td>\n      <td>All-Stars</td>\n      <td>assn_away</td>\n      <td>East</td>\n      <td>East</td>\n    </tr>\n    <tr>\n      <th>3</th>\n      <td>False</td>\n      <td>True</td>\n      <td>Team</td>\n      <td>Team</td>\n      <td>All-Stars</td>\n      <td>WST</td>\n      <td>1699999998</td>\n      <td>All-Stars</td>\n      <td>assn_home</td>\n      <td>West</td>\n      <td>West</td>\n    </tr>\n    <tr>\n      <th>4</th>\n      <td>False</td>\n      <td>True</td>\n      <td>Team Giannis</td>\n      <td>Team Giannis</td>\n      <td>Team Giannis</td>\n      <td>GNS</td>\n      <td>1610616833</td>\n      <td>Team Giannis</td>\n      <td>team_giannis</td>\n      <td>East</td>\n      <td>East</td>\n    </tr>\n    <tr>\n      <th>...</th>\n      <td>...</td>\n      <td>...</td>\n      <td>...</td>\n      <td>...</td>\n      <td>...</td>\n      <td>...</td>\n      <td>...</td>\n      <td>...</td>\n      <td>...</td>\n      <td>...</td>\n      <td>...</td>\n    </tr>\n    <tr>\n      <th>29</th>\n      <td>True</td>\n      <td>False</td>\n      <td>Washington</td>\n      <td>Washington</td>\n      <td>Washington Wizards</td>\n      <td>WAS</td>\n      <td>1610612764</td>\n      <td>Wizards</td>\n      <td>wizards</td>\n      <td>summer</td>\n      <td></td>\n    </tr>\n    <tr>\n      <th>0</th>\n      <td>True</td>\n      <td>False</td>\n      <td>Atlanta</td>\n      <td>Atlanta</td>\n      <td>Atlanta Hawks</td>\n      <td>ATL</td>\n      <td>1610612737</td>\n      <td>Hawks</td>\n      <td>hawks</td>\n      <td>Utah</td>\n      <td></td>\n    </tr>\n    <tr>\n      <th>1</th>\n      <td>True</td>\n      <td>False</td>\n      <td>Memphis</td>\n      <td>Memphis</td>\n      <td>Memphis Grizzlies</td>\n      <td>MEM</td>\n      <td>1610612763</td>\n      <td>Grizzlies</td>\n      <td>grizzlies</td>\n      <td>Utah</td>\n      <td></td>\n    </tr>\n    <tr>\n      <th>2</th>\n      <td>True</td>\n      <td>False</td>\n      <td>San Antonio</td>\n      <td>San Antonio</td>\n      <td>San Antonio Spurs</td>\n      <td>SAS</td>\n      <td>1610612759</td>\n      <td>Spurs</td>\n      <td>spurs</td>\n      <td>Utah</td>\n      <td></td>\n    </tr>\n    <tr>\n      <th>3</th>\n      <td>True</td>\n      <td>False</td>\n      <td>Utah</td>\n      <td>Utah</td>\n      <td>Utah Jazz</td>\n      <td>UTA</td>\n      <td>1610612762</td>\n      <td>Jazz</td>\n      <td>jazz</td>\n      <td>Utah</td>\n      <td></td>\n    </tr>\n  </tbody>\n</table>\n<p>88 rows × 11 columns</p>\n</div>"
     },
     "metadata": {},
     "execution_count": 9
    }
   ],
   "source": [
    "#la mejor: crear df vacio e ir añadiendo\n",
    "df_definitivo = None\n",
    "for i in range(len(dvg[\"league\"])):\n",
    "    new_df = pd.read_json(str(i) + \".json\")\n",
    "    if i == 0: #es la primera iteracion\n",
    "        df_definitivo = new_df\n",
    "    else:\n",
    "        df_definitivo = pd.concat([df_definitivo, new_df], axis=0)\n",
    "df_definitivo"
   ]
  },
  {
   "cell_type": "code",
   "execution_count": 10,
   "metadata": {},
   "outputs": [
    {
     "output_type": "execute_result",
     "data": {
      "text/plain": [
       "    isNBAFranchise  isAllStar          city   altCityName            fullName  \\\n",
       "0            False       True           USA           USA                 USA   \n",
       "1            False       True         World         World               World   \n",
       "2            False       True          Team          Team           All-Stars   \n",
       "3            False       True          Team          Team           All-Stars   \n",
       "4            False       True  Team Giannis  Team Giannis        Team Giannis   \n",
       "..             ...        ...           ...           ...                 ...   \n",
       "29            True      False    Washington    Washington  Washington Wizards   \n",
       "0             True      False       Atlanta       Atlanta       Atlanta Hawks   \n",
       "1             True      False       Memphis       Memphis   Memphis Grizzlies   \n",
       "2             True      False   San Antonio   San Antonio   San Antonio Spurs   \n",
       "3             True      False          Utah          Utah           Utah Jazz   \n",
       "\n",
       "   tricode      teamId      nickname       urlName confName divName  \n",
       "0      USA  1610616843           USA           usa     East    East  \n",
       "1      WLD  1610616844         World         world     East    East  \n",
       "2      EST  1699999999     All-Stars     assn_away     East    East  \n",
       "3      WST  1699999998     All-Stars     assn_home     West    West  \n",
       "4      GNS  1610616833  Team Giannis  team_giannis     East    East  \n",
       "..     ...         ...           ...           ...      ...     ...  \n",
       "29     WAS  1610612764       Wizards       wizards   summer          \n",
       "0      ATL  1610612737         Hawks         hawks     Utah          \n",
       "1      MEM  1610612763     Grizzlies     grizzlies     Utah          \n",
       "2      SAS  1610612759         Spurs         spurs     Utah          \n",
       "3      UTA  1610612762          Jazz          jazz     Utah          \n",
       "\n",
       "[88 rows x 11 columns]"
      ],
      "text/html": "<div>\n<style scoped>\n    .dataframe tbody tr th:only-of-type {\n        vertical-align: middle;\n    }\n\n    .dataframe tbody tr th {\n        vertical-align: top;\n    }\n\n    .dataframe thead th {\n        text-align: right;\n    }\n</style>\n<table border=\"1\" class=\"dataframe\">\n  <thead>\n    <tr style=\"text-align: right;\">\n      <th></th>\n      <th>isNBAFranchise</th>\n      <th>isAllStar</th>\n      <th>city</th>\n      <th>altCityName</th>\n      <th>fullName</th>\n      <th>tricode</th>\n      <th>teamId</th>\n      <th>nickname</th>\n      <th>urlName</th>\n      <th>confName</th>\n      <th>divName</th>\n    </tr>\n  </thead>\n  <tbody>\n    <tr>\n      <th>0</th>\n      <td>False</td>\n      <td>True</td>\n      <td>USA</td>\n      <td>USA</td>\n      <td>USA</td>\n      <td>USA</td>\n      <td>1610616843</td>\n      <td>USA</td>\n      <td>usa</td>\n      <td>East</td>\n      <td>East</td>\n    </tr>\n    <tr>\n      <th>1</th>\n      <td>False</td>\n      <td>True</td>\n      <td>World</td>\n      <td>World</td>\n      <td>World</td>\n      <td>WLD</td>\n      <td>1610616844</td>\n      <td>World</td>\n      <td>world</td>\n      <td>East</td>\n      <td>East</td>\n    </tr>\n    <tr>\n      <th>2</th>\n      <td>False</td>\n      <td>True</td>\n      <td>Team</td>\n      <td>Team</td>\n      <td>All-Stars</td>\n      <td>EST</td>\n      <td>1699999999</td>\n      <td>All-Stars</td>\n      <td>assn_away</td>\n      <td>East</td>\n      <td>East</td>\n    </tr>\n    <tr>\n      <th>3</th>\n      <td>False</td>\n      <td>True</td>\n      <td>Team</td>\n      <td>Team</td>\n      <td>All-Stars</td>\n      <td>WST</td>\n      <td>1699999998</td>\n      <td>All-Stars</td>\n      <td>assn_home</td>\n      <td>West</td>\n      <td>West</td>\n    </tr>\n    <tr>\n      <th>4</th>\n      <td>False</td>\n      <td>True</td>\n      <td>Team Giannis</td>\n      <td>Team Giannis</td>\n      <td>Team Giannis</td>\n      <td>GNS</td>\n      <td>1610616833</td>\n      <td>Team Giannis</td>\n      <td>team_giannis</td>\n      <td>East</td>\n      <td>East</td>\n    </tr>\n    <tr>\n      <th>...</th>\n      <td>...</td>\n      <td>...</td>\n      <td>...</td>\n      <td>...</td>\n      <td>...</td>\n      <td>...</td>\n      <td>...</td>\n      <td>...</td>\n      <td>...</td>\n      <td>...</td>\n      <td>...</td>\n    </tr>\n    <tr>\n      <th>29</th>\n      <td>True</td>\n      <td>False</td>\n      <td>Washington</td>\n      <td>Washington</td>\n      <td>Washington Wizards</td>\n      <td>WAS</td>\n      <td>1610612764</td>\n      <td>Wizards</td>\n      <td>wizards</td>\n      <td>summer</td>\n      <td></td>\n    </tr>\n    <tr>\n      <th>0</th>\n      <td>True</td>\n      <td>False</td>\n      <td>Atlanta</td>\n      <td>Atlanta</td>\n      <td>Atlanta Hawks</td>\n      <td>ATL</td>\n      <td>1610612737</td>\n      <td>Hawks</td>\n      <td>hawks</td>\n      <td>Utah</td>\n      <td></td>\n    </tr>\n    <tr>\n      <th>1</th>\n      <td>True</td>\n      <td>False</td>\n      <td>Memphis</td>\n      <td>Memphis</td>\n      <td>Memphis Grizzlies</td>\n      <td>MEM</td>\n      <td>1610612763</td>\n      <td>Grizzlies</td>\n      <td>grizzlies</td>\n      <td>Utah</td>\n      <td></td>\n    </tr>\n    <tr>\n      <th>2</th>\n      <td>True</td>\n      <td>False</td>\n      <td>San Antonio</td>\n      <td>San Antonio</td>\n      <td>San Antonio Spurs</td>\n      <td>SAS</td>\n      <td>1610612759</td>\n      <td>Spurs</td>\n      <td>spurs</td>\n      <td>Utah</td>\n      <td></td>\n    </tr>\n    <tr>\n      <th>3</th>\n      <td>True</td>\n      <td>False</td>\n      <td>Utah</td>\n      <td>Utah</td>\n      <td>Utah Jazz</td>\n      <td>UTA</td>\n      <td>1610612762</td>\n      <td>Jazz</td>\n      <td>jazz</td>\n      <td>Utah</td>\n      <td></td>\n    </tr>\n  </tbody>\n</table>\n<p>88 rows × 11 columns</p>\n</div>"
     },
     "metadata": {},
     "execution_count": 10
    }
   ],
   "source": [
    "dff = None       #MEJOR VERSION SIN DUDA\n",
    "for i, x in enumerate(dvg[\"league\"]):\n",
    "    if i == 0:\n",
    "        dff = pd.DataFrame(x)\n",
    "    else:\n",
    "        dff = pd.concat([dff, pd.DataFrame(x)], axis=0)\n",
    "dff"
   ]
  },
  {
   "cell_type": "markdown",
   "metadata": {},
   "source": [
    "### Data Mining & Data Wrangling\n",
    "As you can see, there are jsons inside the original json. For that, we have to mining the json (data mining) to be able to use it correctly (data wrangling). \n",
    "\n",
    "How do you solve this issue? Research about this and try a solution. "
   ]
  }
 ],
 "metadata": {
  "language_info": {
   "name": "python",
   "codemirror_mode": {
    "name": "ipython",
    "version": 3
   },
   "version": "3.9.1-final"
  },
  "orig_nbformat": 2,
  "file_extension": ".py",
  "mimetype": "text/x-python",
  "name": "python",
  "npconvert_exporter": "python",
  "pygments_lexer": "ipython3",
  "version": 3,
  "kernelspec": {
   "name": "python3",
   "display_name": "Python 3.9.1 64-bit",
   "metadata": {
    "interpreter": {
     "hash": "ac59ebe37160ed0dfa835113d9b8498d9f09ceb179beaac4002f036b9467c963"
    }
   }
  }
 },
 "nbformat": 4,
 "nbformat_minor": 2
}