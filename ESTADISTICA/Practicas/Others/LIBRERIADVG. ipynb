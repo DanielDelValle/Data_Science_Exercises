{
 "cells": [
  {
   "cell_type": "markdown",
   "metadata": {},
   "source": [
    "# Create your own EDA library "
   ]
  },
  {
   "cell_type": "markdown",
   "metadata": {},
   "source": [
    "In this delivery the student will need to create his/her own library (module). The library must include the EDA functions we are seeing during lectures and you create. \n",
    "\n",
    "A python library is a `.py` file that contains python code.\n",
    "\n",
    "There are some requirements: \n",
    "\n",
    "- Each functionality must be done in functions.\n",
    "- Each function must be general. It must be useful for the most of cases.\n",
    "- Functions must not have repeated code. Each function must do something function.\n",
    "- The library should import others libraries as numpy, pandas, ...\n",
    "- Try to create a module \".py\" for each type of functionalty. If you are creating visualizing funcions, then the functions will be in a \"my_visualizing_functions_module.py\", for example. If you are creating analysis functions, then they will be in a \"my_analysis_functions_module.py\", for example. \n",
    "- Each function must be well documented. It must explain the functionality and each function param. \n",
    "- The code must be done in a \".py\" file. \n",
    "\n",
    "Delivery instructions:\n",
    "- Submission date: `13/12/2020 23:59`\n"
   ]
  },
  {
   "cell_type": "code",
   "execution_count": null,
   "metadata": {},
   "outputs": [],
   "source": [
    "def avg(lista_numerica):\n",
    "    \"\"\"\n",
    "    Returns the average in a numerical list\n",
    "    \"\"\"\n",
    "    for x in lista_numerica:\n",
    "        return \"The average of the list is:\", sum(lista_numerica) / len(lista_numerica)"
   ]
  },
  {
   "cell_type": "code",
   "execution_count": null,
   "metadata": {},
   "outputs": [],
   "source": [
    "def avg_inp():\n",
    "    \"\"\"\n",
    "    Returns the average of numbers by input, and asks for how many will be entered.\n",
    "    \"\"\"\n",
    "    choice = int(input('How many numbers will you want?: '))\n",
    "    n_list = []\n",
    "\n",
    "    for n in range(choice):\n",
    "        numbers = int(input('Add your number: '))\n",
    "        n_list.append(numbers)\n",
    "    \n",
    "    average = int(sum(n_list))/int(len(n_list))\n",
    "    \n",
    "    return f\"You entered a total of {choice} numbers. The average is: {average}. The numbers you entered are:  {n_list}\"\n",
    "\n",
    "avg_inp()\n"
   ]
  },
  {
   "cell_type": "code",
   "execution_count": 56,
   "metadata": {},
   "outputs": [],
   "source": [
    "def facto(n):\n",
    "    \"\"\"\n",
    "    It calculates the factorial of a number\n",
    "    \"\"\"\n",
    "\n",
    "    factorial = 1\n",
    "\n",
    "    if int(n) >= 1:\n",
    "        for i in range (1,int(n)+1):\n",
    "            factorial = factorial * i\n",
    "    \n",
    "    return f\"Factorial of {n} is : {factorial}\""
   ]
  },
  {
   "cell_type": "code",
   "execution_count": null,
   "metadata": {},
   "outputs": [],
   "source": []
  }
 ],
 "metadata": {
  "language_info": {
   "name": "python",
   "codemirror_mode": {
    "name": "ipython",
    "version": 3
   },
   "version": "3.9.1-final"
  },
  "orig_nbformat": 2,
  "file_extension": ".py",
  "mimetype": "text/x-python",
  "name": "python",
  "npconvert_exporter": "python",
  "pygments_lexer": "ipython3",
  "version": 3,
  "kernelspec": {
   "name": "python3",
   "display_name": "Python 3.9.1 64-bit",
   "metadata": {
    "interpreter": {
     "hash": "ac59ebe37160ed0dfa835113d9b8498d9f09ceb179beaac4002f036b9467c963"
    }
   }
  }
 },
 "nbformat": 4,
 "nbformat_minor": 2
}