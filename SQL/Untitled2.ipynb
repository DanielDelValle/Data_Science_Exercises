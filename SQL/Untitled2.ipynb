{
  "nbformat": 4,
  "nbformat_minor": 0,
  "metadata": {
    "colab": {
      "name": "Untitled2.ipynb",
      "provenance": [],
      "toc_visible": true
    },
    "kernelspec": {
      "name": "python3",
      "display_name": "Python 3"
    }
  },
  "cells": [
    {
      "cell_type": "code",
      "metadata": {
        "id": "Bd5cChTlO5IK"
      },
      "source": [
        "import sqlite3\r\n",
        "import pandas as pd"
      ],
      "execution_count": null,
      "outputs": []
    },
    {
      "cell_type": "code",
      "metadata": {
        "id": "8lxh0ZLNPKt9"
      },
      "source": [
        "db_dir = 'chinook.db'\r\n",
        "conn = sqlite3.connect(db_dir)"
      ],
      "execution_count": null,
      "outputs": []
    },
    {
      "cell_type": "code",
      "metadata": {
        "colab": {
          "base_uri": "https://localhost:8080/",
          "height": 424
        },
        "id": "1Qmz5eH_PStD",
        "outputId": "f665f394-8abd-44f9-ce36-612851219aba"
      },
      "source": [
        "query4 = \"\"\"\r\n",
        "SELECT c.FirstName \"Cliente\", c.Country, e.FirstName \"Empleado\", i.Total\r\n",
        "FROM invoices i\r\n",
        "JOIN customers c ON i.customerId = c.customerId\r\n",
        "JOIN employees e ON e.EmployeeId = c.supportRepId\r\n",
        "\"\"\"\r\n",
        "pd.read_sql_query(query4, conn)"
      ],
      "execution_count": null,
      "outputs": [
        {
          "output_type": "execute_result",
          "data": {
            "text/html": [
              "<div>\n",
              "<style scoped>\n",
              "    .dataframe tbody tr th:only-of-type {\n",
              "        vertical-align: middle;\n",
              "    }\n",
              "\n",
              "    .dataframe tbody tr th {\n",
              "        vertical-align: top;\n",
              "    }\n",
              "\n",
              "    .dataframe thead th {\n",
              "        text-align: right;\n",
              "    }\n",
              "</style>\n",
              "<table border=\"1\" class=\"dataframe\">\n",
              "  <thead>\n",
              "    <tr style=\"text-align: right;\">\n",
              "      <th></th>\n",
              "      <th>Cliente</th>\n",
              "      <th>Country</th>\n",
              "      <th>Empleado</th>\n",
              "      <th>Total</th>\n",
              "    </tr>\n",
              "  </thead>\n",
              "  <tbody>\n",
              "    <tr>\n",
              "      <th>0</th>\n",
              "      <td>Luís</td>\n",
              "      <td>Brazil</td>\n",
              "      <td>Jane</td>\n",
              "      <td>3.98</td>\n",
              "    </tr>\n",
              "    <tr>\n",
              "      <th>1</th>\n",
              "      <td>Luís</td>\n",
              "      <td>Brazil</td>\n",
              "      <td>Jane</td>\n",
              "      <td>3.96</td>\n",
              "    </tr>\n",
              "    <tr>\n",
              "      <th>2</th>\n",
              "      <td>Luís</td>\n",
              "      <td>Brazil</td>\n",
              "      <td>Jane</td>\n",
              "      <td>5.94</td>\n",
              "    </tr>\n",
              "    <tr>\n",
              "      <th>3</th>\n",
              "      <td>Luís</td>\n",
              "      <td>Brazil</td>\n",
              "      <td>Jane</td>\n",
              "      <td>0.99</td>\n",
              "    </tr>\n",
              "    <tr>\n",
              "      <th>4</th>\n",
              "      <td>Luís</td>\n",
              "      <td>Brazil</td>\n",
              "      <td>Jane</td>\n",
              "      <td>1.98</td>\n",
              "    </tr>\n",
              "    <tr>\n",
              "      <th>...</th>\n",
              "      <td>...</td>\n",
              "      <td>...</td>\n",
              "      <td>...</td>\n",
              "      <td>...</td>\n",
              "    </tr>\n",
              "    <tr>\n",
              "      <th>407</th>\n",
              "      <td>Puja</td>\n",
              "      <td>India</td>\n",
              "      <td>Jane</td>\n",
              "      <td>5.94</td>\n",
              "    </tr>\n",
              "    <tr>\n",
              "      <th>408</th>\n",
              "      <td>Puja</td>\n",
              "      <td>India</td>\n",
              "      <td>Jane</td>\n",
              "      <td>1.99</td>\n",
              "    </tr>\n",
              "    <tr>\n",
              "      <th>409</th>\n",
              "      <td>Puja</td>\n",
              "      <td>India</td>\n",
              "      <td>Jane</td>\n",
              "      <td>1.98</td>\n",
              "    </tr>\n",
              "    <tr>\n",
              "      <th>410</th>\n",
              "      <td>Puja</td>\n",
              "      <td>India</td>\n",
              "      <td>Jane</td>\n",
              "      <td>13.86</td>\n",
              "    </tr>\n",
              "    <tr>\n",
              "      <th>411</th>\n",
              "      <td>Puja</td>\n",
              "      <td>India</td>\n",
              "      <td>Jane</td>\n",
              "      <td>8.91</td>\n",
              "    </tr>\n",
              "  </tbody>\n",
              "</table>\n",
              "<p>412 rows × 4 columns</p>\n",
              "</div>"
            ],
            "text/plain": [
              "    Cliente Country Empleado  Total\n",
              "0      Luís  Brazil     Jane   3.98\n",
              "1      Luís  Brazil     Jane   3.96\n",
              "2      Luís  Brazil     Jane   5.94\n",
              "3      Luís  Brazil     Jane   0.99\n",
              "4      Luís  Brazil     Jane   1.98\n",
              "..      ...     ...      ...    ...\n",
              "407    Puja   India     Jane   5.94\n",
              "408    Puja   India     Jane   1.99\n",
              "409    Puja   India     Jane   1.98\n",
              "410    Puja   India     Jane  13.86\n",
              "411    Puja   India     Jane   8.91\n",
              "\n",
              "[412 rows x 4 columns]"
            ]
          },
          "metadata": {
            "tags": []
          },
          "execution_count": 4
        }
      ]
    },
    {
      "cell_type": "code",
      "metadata": {
        "id": "lTRf2cLqRnRO"
      },
      "source": [
        "query5 = \"\"\"\r\n",
        "SELECT *\r\n",
        "FROM tracks t\r\n",
        "JOIN invoice_items ii ON ii.trackId\r\n",
        "JOIN invoices i ON i.invoiceId = ii.invoiceId\r\n",
        "\"\"\"\r\n",
        "pd.read_sql_query(query5, conn)"
      ],
      "execution_count": null,
      "outputs": []
    },
    {
      "cell_type": "code",
      "metadata": {
        "id": "QpHCX-QsSwRW"
      },
      "source": [
        "query7 = \"\"\"\r\n",
        "SELECT p.Name, COUNT(*)\r\n",
        "FROM playlists p\r\n",
        "JOIN playlist_track pt ON p.PlaylistId = pt.PlaylistId\r\n",
        "GROUP BY p.PlaylistId\r\n",
        "\"\"\""
      ],
      "execution_count": null,
      "outputs": []
    },
    {
      "cell_type": "code",
      "metadata": {
        "colab": {
          "base_uri": "https://localhost:8080/",
          "height": 489
        },
        "id": "l5cDN4piUm-u",
        "outputId": "d0913de8-c826-4f8b-9178-c82c41ffbb7f"
      },
      "source": [
        "pd.read_sql_query(query7, conn)"
      ],
      "execution_count": null,
      "outputs": [
        {
          "output_type": "execute_result",
          "data": {
            "text/html": [
              "<div>\n",
              "<style scoped>\n",
              "    .dataframe tbody tr th:only-of-type {\n",
              "        vertical-align: middle;\n",
              "    }\n",
              "\n",
              "    .dataframe tbody tr th {\n",
              "        vertical-align: top;\n",
              "    }\n",
              "\n",
              "    .dataframe thead th {\n",
              "        text-align: right;\n",
              "    }\n",
              "</style>\n",
              "<table border=\"1\" class=\"dataframe\">\n",
              "  <thead>\n",
              "    <tr style=\"text-align: right;\">\n",
              "      <th></th>\n",
              "      <th>Name</th>\n",
              "      <th>COUNT(*)</th>\n",
              "    </tr>\n",
              "  </thead>\n",
              "  <tbody>\n",
              "    <tr>\n",
              "      <th>0</th>\n",
              "      <td>Music</td>\n",
              "      <td>3290</td>\n",
              "    </tr>\n",
              "    <tr>\n",
              "      <th>1</th>\n",
              "      <td>TV Shows</td>\n",
              "      <td>213</td>\n",
              "    </tr>\n",
              "    <tr>\n",
              "      <th>2</th>\n",
              "      <td>90’s Music</td>\n",
              "      <td>1477</td>\n",
              "    </tr>\n",
              "    <tr>\n",
              "      <th>3</th>\n",
              "      <td>Music</td>\n",
              "      <td>3290</td>\n",
              "    </tr>\n",
              "    <tr>\n",
              "      <th>4</th>\n",
              "      <td>Music Videos</td>\n",
              "      <td>1</td>\n",
              "    </tr>\n",
              "    <tr>\n",
              "      <th>5</th>\n",
              "      <td>TV Shows</td>\n",
              "      <td>213</td>\n",
              "    </tr>\n",
              "    <tr>\n",
              "      <th>6</th>\n",
              "      <td>Brazilian Music</td>\n",
              "      <td>39</td>\n",
              "    </tr>\n",
              "    <tr>\n",
              "      <th>7</th>\n",
              "      <td>Classical</td>\n",
              "      <td>75</td>\n",
              "    </tr>\n",
              "    <tr>\n",
              "      <th>8</th>\n",
              "      <td>Classical 101 - Deep Cuts</td>\n",
              "      <td>25</td>\n",
              "    </tr>\n",
              "    <tr>\n",
              "      <th>9</th>\n",
              "      <td>Classical 101 - Next Steps</td>\n",
              "      <td>25</td>\n",
              "    </tr>\n",
              "    <tr>\n",
              "      <th>10</th>\n",
              "      <td>Classical 101 - The Basics</td>\n",
              "      <td>25</td>\n",
              "    </tr>\n",
              "    <tr>\n",
              "      <th>11</th>\n",
              "      <td>Grunge</td>\n",
              "      <td>15</td>\n",
              "    </tr>\n",
              "    <tr>\n",
              "      <th>12</th>\n",
              "      <td>Heavy Metal Classic</td>\n",
              "      <td>26</td>\n",
              "    </tr>\n",
              "    <tr>\n",
              "      <th>13</th>\n",
              "      <td>On-The-Go 1</td>\n",
              "      <td>1</td>\n",
              "    </tr>\n",
              "  </tbody>\n",
              "</table>\n",
              "</div>"
            ],
            "text/plain": [
              "                          Name  COUNT(*)\n",
              "0                        Music      3290\n",
              "1                     TV Shows       213\n",
              "2                   90’s Music      1477\n",
              "3                        Music      3290\n",
              "4                 Music Videos         1\n",
              "5                     TV Shows       213\n",
              "6              Brazilian Music        39\n",
              "7                    Classical        75\n",
              "8    Classical 101 - Deep Cuts        25\n",
              "9   Classical 101 - Next Steps        25\n",
              "10  Classical 101 - The Basics        25\n",
              "11                      Grunge        15\n",
              "12         Heavy Metal Classic        26\n",
              "13                 On-The-Go 1         1"
            ]
          },
          "metadata": {
            "tags": []
          },
          "execution_count": 17
        }
      ]
    },
    {
      "cell_type": "code",
      "metadata": {
        "colab": {
          "base_uri": "https://localhost:8080/",
          "height": 300
        },
        "id": "uPzc0M77WLh_",
        "outputId": "eeeaed4d-2103-4c32-88ad-7a8749231963"
      },
      "source": [
        "query8 = \"\"\"\r\n",
        "SELECT e.FirstName, SUM(i.Total) \"Ventas\"\r\n",
        "FROM employees e\r\n",
        "LEFT JOIN customers c ON e.EmployeeId = c.SupportRepId\r\n",
        "LEFT JOIN invoices i ON i.CustomerID = c.CustomerID\r\n",
        "GROUP BY e.EmployeeId\r\n",
        "\"\"\"\r\n",
        "pd.read_sql_query(query8, conn)"
      ],
      "execution_count": null,
      "outputs": [
        {
          "output_type": "execute_result",
          "data": {
            "text/html": [
              "<div>\n",
              "<style scoped>\n",
              "    .dataframe tbody tr th:only-of-type {\n",
              "        vertical-align: middle;\n",
              "    }\n",
              "\n",
              "    .dataframe tbody tr th {\n",
              "        vertical-align: top;\n",
              "    }\n",
              "\n",
              "    .dataframe thead th {\n",
              "        text-align: right;\n",
              "    }\n",
              "</style>\n",
              "<table border=\"1\" class=\"dataframe\">\n",
              "  <thead>\n",
              "    <tr style=\"text-align: right;\">\n",
              "      <th></th>\n",
              "      <th>FirstName</th>\n",
              "      <th>Ventas</th>\n",
              "    </tr>\n",
              "  </thead>\n",
              "  <tbody>\n",
              "    <tr>\n",
              "      <th>0</th>\n",
              "      <td>Andrew</td>\n",
              "      <td>NaN</td>\n",
              "    </tr>\n",
              "    <tr>\n",
              "      <th>1</th>\n",
              "      <td>Nancy</td>\n",
              "      <td>NaN</td>\n",
              "    </tr>\n",
              "    <tr>\n",
              "      <th>2</th>\n",
              "      <td>Jane</td>\n",
              "      <td>833.04</td>\n",
              "    </tr>\n",
              "    <tr>\n",
              "      <th>3</th>\n",
              "      <td>Margaret</td>\n",
              "      <td>775.40</td>\n",
              "    </tr>\n",
              "    <tr>\n",
              "      <th>4</th>\n",
              "      <td>Steve</td>\n",
              "      <td>720.16</td>\n",
              "    </tr>\n",
              "    <tr>\n",
              "      <th>5</th>\n",
              "      <td>Michael</td>\n",
              "      <td>NaN</td>\n",
              "    </tr>\n",
              "    <tr>\n",
              "      <th>6</th>\n",
              "      <td>Robert</td>\n",
              "      <td>NaN</td>\n",
              "    </tr>\n",
              "    <tr>\n",
              "      <th>7</th>\n",
              "      <td>Laura</td>\n",
              "      <td>NaN</td>\n",
              "    </tr>\n",
              "  </tbody>\n",
              "</table>\n",
              "</div>"
            ],
            "text/plain": [
              "  FirstName  Ventas\n",
              "0    Andrew     NaN\n",
              "1     Nancy     NaN\n",
              "2      Jane  833.04\n",
              "3  Margaret  775.40\n",
              "4     Steve  720.16\n",
              "5   Michael     NaN\n",
              "6    Robert     NaN\n",
              "7     Laura     NaN"
            ]
          },
          "metadata": {
            "tags": []
          },
          "execution_count": 20
        }
      ]
    },
    {
      "cell_type": "code",
      "metadata": {
        "colab": {
          "base_uri": "https://localhost:8080/",
          "height": 81
        },
        "id": "ucNylmmTW5jC",
        "outputId": "ebc3fe23-14c0-465f-d5dc-6c0562e8f656"
      },
      "source": [
        "query9 = \"\"\"\r\n",
        "SELECT e.FirstName, SUM(i.Total) \"Ventas\"\r\n",
        "FROM employees e\r\n",
        "LEFT JOIN customers c ON e.EmployeeId = c.SupportRepId\r\n",
        "LEFT JOIN invoices i ON i.CustomerID = c.CustomerID\r\n",
        "WHERE i.InvoiceDate LIKE \"2009%\"\r\n",
        "GROUP BY e.EmployeeId\r\n",
        "ORDER BY Ventas DESC\r\n",
        "LIMIT 1\r\n",
        "\"\"\"\r\n",
        "pd.read_sql_query(query9, conn)"
      ],
      "execution_count": null,
      "outputs": [
        {
          "output_type": "execute_result",
          "data": {
            "text/html": [
              "<div>\n",
              "<style scoped>\n",
              "    .dataframe tbody tr th:only-of-type {\n",
              "        vertical-align: middle;\n",
              "    }\n",
              "\n",
              "    .dataframe tbody tr th {\n",
              "        vertical-align: top;\n",
              "    }\n",
              "\n",
              "    .dataframe thead th {\n",
              "        text-align: right;\n",
              "    }\n",
              "</style>\n",
              "<table border=\"1\" class=\"dataframe\">\n",
              "  <thead>\n",
              "    <tr style=\"text-align: right;\">\n",
              "      <th></th>\n",
              "      <th>FirstName</th>\n",
              "      <th>Ventas</th>\n",
              "    </tr>\n",
              "  </thead>\n",
              "  <tbody>\n",
              "    <tr>\n",
              "      <th>0</th>\n",
              "      <td>Steve</td>\n",
              "      <td>164.34</td>\n",
              "    </tr>\n",
              "  </tbody>\n",
              "</table>\n",
              "</div>"
            ],
            "text/plain": [
              "  FirstName  Ventas\n",
              "0     Steve  164.34"
            ]
          },
          "metadata": {
            "tags": []
          },
          "execution_count": 24
        }
      ]
    },
    {
      "cell_type": "code",
      "metadata": {
        "id": "lRX0JWajXikg"
      },
      "source": [
        "query10 = \"\"\"\r\n",
        "SELECT AR.nAME, SUM(ii.UnitPrice) \"Ventas\"\r\n",
        "FROM artists ar\r\n",
        "JOIN albums al ON al.artistId = ar.artistID\r\n",
        "JOIN tracks t ON al.albumId = t.albumId\r\n",
        "JOIN invoice_items ii ON t.trackId = ii.trackId\r\n",
        "GROUP BY ar.ArtistId\r\n",
        "ORDER BY Ventas DESC\r\n",
        "LIMIT 3\r\n",
        "\"\"\"\r\n",
        "pd.read_sql_query(query10, conn)"
      ],
      "execution_count": null,
      "outputs": []
    },
    {
      "cell_type": "code",
      "metadata": {
        "id": "2qufwxqUYi3P"
      },
      "source": [
        ""
      ],
      "execution_count": null,
      "outputs": []
    }
  ]
}