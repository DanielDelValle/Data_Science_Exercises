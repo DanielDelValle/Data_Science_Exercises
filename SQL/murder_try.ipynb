{
 "metadata": {
  "language_info": {
   "codemirror_mode": {
    "name": "ipython",
    "version": 3
   },
   "file_extension": ".py",
   "mimetype": "text/x-python",
   "name": "python",
   "nbconvert_exporter": "python",
   "pygments_lexer": "ipython3",
   "version": "3.9.1-final"
  },
  "orig_nbformat": 2,
  "kernelspec": {
   "name": "python3",
   "display_name": "Python 3.9.1 64-bit",
   "metadata": {
    "interpreter": {
     "hash": "ac59ebe37160ed0dfa835113d9b8498d9f09ceb179beaac4002f036b9467c963"
    }
   }
  }
 },
 "nbformat": 4,
 "nbformat_minor": 2,
 "cells": [
  {
   "cell_type": "code",
   "execution_count": 2,
   "metadata": {},
   "outputs": [],
   "source": [
    "import pandas as pd\n",
    "import sqlite3\n",
    "conn = sqlite3.connect(\"sql-murder-mystery.db\")"
   ]
  },
  {
   "cell_type": "code",
   "execution_count": 3,
   "metadata": {},
   "outputs": [
    {
     "output_type": "execute_result",
     "data": {
      "text/plain": [
       "[('Security footage shows that there were 2 witnesses. The first witness lives at the last house on \"Northwestern Dr\". The second witness, named Annabel, lives somewhere on \"Franklin Ave\".',)]"
      ]
     },
     "metadata": {},
     "execution_count": 3
    }
   ],
   "source": [
    "query = \"\"\"\n",
    "SELECT description\n",
    "FROM crime_scene_report\n",
    "WHERE date = \"20180115\" and type = \"murder\" and city = \"SQL City\"\n",
    "\"\"\"\n",
    "cursor = conn.cursor()\n",
    "my_query = cursor.execute(query)\n",
    "my_query.fetchall()"
   ]
  },
  {
   "cell_type": "code",
   "execution_count": 4,
   "metadata": {},
   "outputs": [
    {
     "output_type": "execute_result",
     "data": {
      "text/plain": [
       "                    name\n",
       "0              Muoi Cary\n",
       "1         Norman Apolito\n",
       "2         Morty Schapiro\n",
       "3           Weldon Penso\n",
       "4         Lasonya Wildey\n",
       "5               Josh Shi\n",
       "6            Cody Schiel\n",
       "7          Dusty Sigafus\n",
       "8           Val Portlock\n",
       "9   Kristopher Lagerberg\n",
       "10         Olevia Morena\n",
       "11      Angelena Billman\n",
       "12        Rashad Cascone\n",
       "13       Willetta Lurvey\n",
       "14         Homer Simpson\n",
       "15      Allyson Lazenson\n",
       "16    Vincenza Burkhardt\n",
       "17        Freddie Ellzey\n",
       "18            Abe Roeker\n",
       "19       Fredia Billeter\n",
       "20          Renata Faver\n",
       "21           Alison Eska\n",
       "22        Ivory Mcgrevey\n",
       "23     Christena Saffell\n",
       "24           Bonita Knie\n",
       "25           Boris Bijou\n",
       "26      Christian Pagano\n",
       "27        Sophie Tiberio\n",
       "28         Sammie Sengun\n",
       "29        Shiloh Huntoon\n",
       "30          Cyril Yongue\n",
       "31            Yer Modest\n",
       "32     Andera Kostelecky\n",
       "33        Laurie Scronce\n",
       "34     Courtney Bordeaux\n",
       "35        Torie Thalmann\n",
       "36          Del Tacderen\n",
       "37       Donovan Yackley\n",
       "38     Calvin Czelusniak\n",
       "39         Kurtis Masuda\n",
       "40             Donn Duin\n",
       "41   Leonora Wolfsberger\n",
       "42           Teri Ehrich\n",
       "43       Kinsey Erickson\n",
       "44     Dionna Kranwinkle\n",
       "45        Emmitt Aceuedo\n",
       "46           Galina Khuu\n",
       "47         Coretta Cubie\n",
       "48           Jonah Toner\n",
       "49          Ivy Kazarian"
      ],
      "text/html": "<div>\n<style scoped>\n    .dataframe tbody tr th:only-of-type {\n        vertical-align: middle;\n    }\n\n    .dataframe tbody tr th {\n        vertical-align: top;\n    }\n\n    .dataframe thead th {\n        text-align: right;\n    }\n</style>\n<table border=\"1\" class=\"dataframe\">\n  <thead>\n    <tr style=\"text-align: right;\">\n      <th></th>\n      <th>name</th>\n    </tr>\n  </thead>\n  <tbody>\n    <tr>\n      <th>0</th>\n      <td>Muoi Cary</td>\n    </tr>\n    <tr>\n      <th>1</th>\n      <td>Norman Apolito</td>\n    </tr>\n    <tr>\n      <th>2</th>\n      <td>Morty Schapiro</td>\n    </tr>\n    <tr>\n      <th>3</th>\n      <td>Weldon Penso</td>\n    </tr>\n    <tr>\n      <th>4</th>\n      <td>Lasonya Wildey</td>\n    </tr>\n    <tr>\n      <th>5</th>\n      <td>Josh Shi</td>\n    </tr>\n    <tr>\n      <th>6</th>\n      <td>Cody Schiel</td>\n    </tr>\n    <tr>\n      <th>7</th>\n      <td>Dusty Sigafus</td>\n    </tr>\n    <tr>\n      <th>8</th>\n      <td>Val Portlock</td>\n    </tr>\n    <tr>\n      <th>9</th>\n      <td>Kristopher Lagerberg</td>\n    </tr>\n    <tr>\n      <th>10</th>\n      <td>Olevia Morena</td>\n    </tr>\n    <tr>\n      <th>11</th>\n      <td>Angelena Billman</td>\n    </tr>\n    <tr>\n      <th>12</th>\n      <td>Rashad Cascone</td>\n    </tr>\n    <tr>\n      <th>13</th>\n      <td>Willetta Lurvey</td>\n    </tr>\n    <tr>\n      <th>14</th>\n      <td>Homer Simpson</td>\n    </tr>\n    <tr>\n      <th>15</th>\n      <td>Allyson Lazenson</td>\n    </tr>\n    <tr>\n      <th>16</th>\n      <td>Vincenza Burkhardt</td>\n    </tr>\n    <tr>\n      <th>17</th>\n      <td>Freddie Ellzey</td>\n    </tr>\n    <tr>\n      <th>18</th>\n      <td>Abe Roeker</td>\n    </tr>\n    <tr>\n      <th>19</th>\n      <td>Fredia Billeter</td>\n    </tr>\n    <tr>\n      <th>20</th>\n      <td>Renata Faver</td>\n    </tr>\n    <tr>\n      <th>21</th>\n      <td>Alison Eska</td>\n    </tr>\n    <tr>\n      <th>22</th>\n      <td>Ivory Mcgrevey</td>\n    </tr>\n    <tr>\n      <th>23</th>\n      <td>Christena Saffell</td>\n    </tr>\n    <tr>\n      <th>24</th>\n      <td>Bonita Knie</td>\n    </tr>\n    <tr>\n      <th>25</th>\n      <td>Boris Bijou</td>\n    </tr>\n    <tr>\n      <th>26</th>\n      <td>Christian Pagano</td>\n    </tr>\n    <tr>\n      <th>27</th>\n      <td>Sophie Tiberio</td>\n    </tr>\n    <tr>\n      <th>28</th>\n      <td>Sammie Sengun</td>\n    </tr>\n    <tr>\n      <th>29</th>\n      <td>Shiloh Huntoon</td>\n    </tr>\n    <tr>\n      <th>30</th>\n      <td>Cyril Yongue</td>\n    </tr>\n    <tr>\n      <th>31</th>\n      <td>Yer Modest</td>\n    </tr>\n    <tr>\n      <th>32</th>\n      <td>Andera Kostelecky</td>\n    </tr>\n    <tr>\n      <th>33</th>\n      <td>Laurie Scronce</td>\n    </tr>\n    <tr>\n      <th>34</th>\n      <td>Courtney Bordeaux</td>\n    </tr>\n    <tr>\n      <th>35</th>\n      <td>Torie Thalmann</td>\n    </tr>\n    <tr>\n      <th>36</th>\n      <td>Del Tacderen</td>\n    </tr>\n    <tr>\n      <th>37</th>\n      <td>Donovan Yackley</td>\n    </tr>\n    <tr>\n      <th>38</th>\n      <td>Calvin Czelusniak</td>\n    </tr>\n    <tr>\n      <th>39</th>\n      <td>Kurtis Masuda</td>\n    </tr>\n    <tr>\n      <th>40</th>\n      <td>Donn Duin</td>\n    </tr>\n    <tr>\n      <th>41</th>\n      <td>Leonora Wolfsberger</td>\n    </tr>\n    <tr>\n      <th>42</th>\n      <td>Teri Ehrich</td>\n    </tr>\n    <tr>\n      <th>43</th>\n      <td>Kinsey Erickson</td>\n    </tr>\n    <tr>\n      <th>44</th>\n      <td>Dionna Kranwinkle</td>\n    </tr>\n    <tr>\n      <th>45</th>\n      <td>Emmitt Aceuedo</td>\n    </tr>\n    <tr>\n      <th>46</th>\n      <td>Galina Khuu</td>\n    </tr>\n    <tr>\n      <th>47</th>\n      <td>Coretta Cubie</td>\n    </tr>\n    <tr>\n      <th>48</th>\n      <td>Jonah Toner</td>\n    </tr>\n    <tr>\n      <th>49</th>\n      <td>Ivy Kazarian</td>\n    </tr>\n  </tbody>\n</table>\n</div>"
     },
     "metadata": {},
     "execution_count": 4
    }
   ],
   "source": [
    "query2 = \"\"\"\n",
    "SELECT name\n",
    "FROM person\n",
    "WHERE address_street_name LIKE \"Northwestern Dr\"\n",
    "\"\"\"\n",
    "pd.read_sql_query(query2, conn)"
   ]
  },
  {
   "cell_type": "code",
   "execution_count": 5,
   "metadata": {},
   "outputs": [
    {
     "output_type": "execute_result",
     "data": {
      "text/plain": [
       "                   name\n",
       "0        Wilmer Wolever\n",
       "1        Annabel Miller\n",
       "2         Johnnie Schee\n",
       "3         Carleen Etoll\n",
       "4        Zachary Ybarbo\n",
       "5            Gema Nantz\n",
       "6       Clarita Rickels\n",
       "7        Shelby Dezeeuw\n",
       "8          Amado Mattan\n",
       "9     Cordell Lindamood\n",
       "10         Domenic Laun\n",
       "11         Noe Pancoast\n",
       "12     Katelyn Schwerin\n",
       "13         Bev Billiter\n",
       "14        Jordan Pelton\n",
       "15             Ezra Phy\n",
       "16       Yelena Whitler\n",
       "17          Guy Bustard\n",
       "18        Patty Wamsley\n",
       "19       William Shiver\n",
       "20        Lavette Koehl\n",
       "21        Ronny Gumbert\n",
       "22        Ricki Bidding\n",
       "23      Laurine Bousman\n",
       "24     Colette Hollomon\n",
       "25       Isaiah Holsten\n",
       "26      Mariah Lepetich\n",
       "27       Renita Roperto\n",
       "28        Hope Arzabala\n",
       "29   Whitney Herkenratt\n",
       "30  Sebastian Ramnarase\n",
       "31         Ressie Razze\n",
       "32          Graig Summy\n",
       "33         Dante Eschen\n",
       "34        Blake Chrones\n",
       "35        Candice Train\n",
       "36       Wilmer Casella\n",
       "37          Maria Walsh\n",
       "38       Edgar Mendieta\n",
       "39          Moses Ikerd\n",
       "40            Raul Eads\n",
       "41        Omer Andreoni\n",
       "42            Hong Lisa\n",
       "43       Cameron Dilick\n",
       "44        Jordan Myntti"
      ],
      "text/html": "<div>\n<style scoped>\n    .dataframe tbody tr th:only-of-type {\n        vertical-align: middle;\n    }\n\n    .dataframe tbody tr th {\n        vertical-align: top;\n    }\n\n    .dataframe thead th {\n        text-align: right;\n    }\n</style>\n<table border=\"1\" class=\"dataframe\">\n  <thead>\n    <tr style=\"text-align: right;\">\n      <th></th>\n      <th>name</th>\n    </tr>\n  </thead>\n  <tbody>\n    <tr>\n      <th>0</th>\n      <td>Wilmer Wolever</td>\n    </tr>\n    <tr>\n      <th>1</th>\n      <td>Annabel Miller</td>\n    </tr>\n    <tr>\n      <th>2</th>\n      <td>Johnnie Schee</td>\n    </tr>\n    <tr>\n      <th>3</th>\n      <td>Carleen Etoll</td>\n    </tr>\n    <tr>\n      <th>4</th>\n      <td>Zachary Ybarbo</td>\n    </tr>\n    <tr>\n      <th>5</th>\n      <td>Gema Nantz</td>\n    </tr>\n    <tr>\n      <th>6</th>\n      <td>Clarita Rickels</td>\n    </tr>\n    <tr>\n      <th>7</th>\n      <td>Shelby Dezeeuw</td>\n    </tr>\n    <tr>\n      <th>8</th>\n      <td>Amado Mattan</td>\n    </tr>\n    <tr>\n      <th>9</th>\n      <td>Cordell Lindamood</td>\n    </tr>\n    <tr>\n      <th>10</th>\n      <td>Domenic Laun</td>\n    </tr>\n    <tr>\n      <th>11</th>\n      <td>Noe Pancoast</td>\n    </tr>\n    <tr>\n      <th>12</th>\n      <td>Katelyn Schwerin</td>\n    </tr>\n    <tr>\n      <th>13</th>\n      <td>Bev Billiter</td>\n    </tr>\n    <tr>\n      <th>14</th>\n      <td>Jordan Pelton</td>\n    </tr>\n    <tr>\n      <th>15</th>\n      <td>Ezra Phy</td>\n    </tr>\n    <tr>\n      <th>16</th>\n      <td>Yelena Whitler</td>\n    </tr>\n    <tr>\n      <th>17</th>\n      <td>Guy Bustard</td>\n    </tr>\n    <tr>\n      <th>18</th>\n      <td>Patty Wamsley</td>\n    </tr>\n    <tr>\n      <th>19</th>\n      <td>William Shiver</td>\n    </tr>\n    <tr>\n      <th>20</th>\n      <td>Lavette Koehl</td>\n    </tr>\n    <tr>\n      <th>21</th>\n      <td>Ronny Gumbert</td>\n    </tr>\n    <tr>\n      <th>22</th>\n      <td>Ricki Bidding</td>\n    </tr>\n    <tr>\n      <th>23</th>\n      <td>Laurine Bousman</td>\n    </tr>\n    <tr>\n      <th>24</th>\n      <td>Colette Hollomon</td>\n    </tr>\n    <tr>\n      <th>25</th>\n      <td>Isaiah Holsten</td>\n    </tr>\n    <tr>\n      <th>26</th>\n      <td>Mariah Lepetich</td>\n    </tr>\n    <tr>\n      <th>27</th>\n      <td>Renita Roperto</td>\n    </tr>\n    <tr>\n      <th>28</th>\n      <td>Hope Arzabala</td>\n    </tr>\n    <tr>\n      <th>29</th>\n      <td>Whitney Herkenratt</td>\n    </tr>\n    <tr>\n      <th>30</th>\n      <td>Sebastian Ramnarase</td>\n    </tr>\n    <tr>\n      <th>31</th>\n      <td>Ressie Razze</td>\n    </tr>\n    <tr>\n      <th>32</th>\n      <td>Graig Summy</td>\n    </tr>\n    <tr>\n      <th>33</th>\n      <td>Dante Eschen</td>\n    </tr>\n    <tr>\n      <th>34</th>\n      <td>Blake Chrones</td>\n    </tr>\n    <tr>\n      <th>35</th>\n      <td>Candice Train</td>\n    </tr>\n    <tr>\n      <th>36</th>\n      <td>Wilmer Casella</td>\n    </tr>\n    <tr>\n      <th>37</th>\n      <td>Maria Walsh</td>\n    </tr>\n    <tr>\n      <th>38</th>\n      <td>Edgar Mendieta</td>\n    </tr>\n    <tr>\n      <th>39</th>\n      <td>Moses Ikerd</td>\n    </tr>\n    <tr>\n      <th>40</th>\n      <td>Raul Eads</td>\n    </tr>\n    <tr>\n      <th>41</th>\n      <td>Omer Andreoni</td>\n    </tr>\n    <tr>\n      <th>42</th>\n      <td>Hong Lisa</td>\n    </tr>\n    <tr>\n      <th>43</th>\n      <td>Cameron Dilick</td>\n    </tr>\n    <tr>\n      <th>44</th>\n      <td>Jordan Myntti</td>\n    </tr>\n  </tbody>\n</table>\n</div>"
     },
     "metadata": {},
     "execution_count": 5
    }
   ],
   "source": [
    "query3 = \"\"\"\n",
    "SELECT name\n",
    "FROM person\n",
    "WHERE address_street_name LIKE \"Franklin Ave\"\n",
    "\"\"\"\n",
    "pd.read_sql_query(query3, conn)"
   ]
  },
  {
   "cell_type": "code",
   "execution_count": 6,
   "metadata": {},
   "outputs": [
    {
     "output_type": "execute_result",
     "data": {
      "text/plain": [
       "          id                 name  license_id  address_number  \\\n",
       "0      10000   Christoper Peteuil      993845             624   \n",
       "1      10007  Kourtney Calderwood      861794            2791   \n",
       "2      10010            Muoi Cary      385336             741   \n",
       "3      10016          Era Moselle      431897            1987   \n",
       "4      10025         Trena Hornby      550890             276   \n",
       "...      ...                  ...         ...             ...   \n",
       "10001  99936          Luba Benser      274427             680   \n",
       "10002  99941      Roxana Mckimley      975942            1613   \n",
       "10003  99965      Cherie Zeimantz      287627            3661   \n",
       "10004  99982          Allen Cruse      251350            3126   \n",
       "10005  99990         Vance Hunten      830407            3056   \n",
       "\n",
       "      address_street_name        ssn      id  age  height eye_color  \\\n",
       "0            Bankhall Ave  747714076  993845   46      59     black   \n",
       "1           Gustavus Blvd  477972044  861794   54      74     black   \n",
       "2         Northwestern Dr  828638512  385336   24      79      blue   \n",
       "3           Wood Glade St  614621061  431897   22      75     amber   \n",
       "4           Daws Hill Way  223877684  550890   45      60      blue   \n",
       "...                   ...        ...     ...  ...     ...       ...   \n",
       "10001        Carnage Blvd  685095054  274427   26      55     green   \n",
       "10002             Gate St  512136801  975942   87      54      blue   \n",
       "10003       The Water Ave  362877324  287627   29      58     black   \n",
       "10004           N Jean Dr  348734531  251350   66      61      blue   \n",
       "10005       Lancefield St  896677562  830407   61      76     green   \n",
       "\n",
       "      hair_color  gender plate_number       car_make       car_model  \n",
       "0          green    male       557472       Chrysler  Town & Country  \n",
       "1          white  female       3P6DMS            BMW      M Roadster  \n",
       "2          green  female       GM6Y5J  Mercedes-Benz       CLS-Class  \n",
       "3            red  female       461S1M           Ford          Ranger  \n",
       "4          black  female       8030O8         Toyota     Tacoma Xtra  \n",
       "...          ...     ...          ...            ...             ...  \n",
       "10001     blonde  female       3O06O3           Ford        Explorer  \n",
       "10002      white  female       PYO673          Volvo            XC70  \n",
       "10003      brown  female       Z784RR           Audi              S5  \n",
       "10004     blonde    male       CJ2QC2          Buick        LaCrosse  \n",
       "10005      white    male       H55UF5      Chevrolet  Silverado 3500  \n",
       "\n",
       "[10006 rows x 15 columns]"
      ],
      "text/html": "<div>\n<style scoped>\n    .dataframe tbody tr th:only-of-type {\n        vertical-align: middle;\n    }\n\n    .dataframe tbody tr th {\n        vertical-align: top;\n    }\n\n    .dataframe thead th {\n        text-align: right;\n    }\n</style>\n<table border=\"1\" class=\"dataframe\">\n  <thead>\n    <tr style=\"text-align: right;\">\n      <th></th>\n      <th>id</th>\n      <th>name</th>\n      <th>license_id</th>\n      <th>address_number</th>\n      <th>address_street_name</th>\n      <th>ssn</th>\n      <th>id</th>\n      <th>age</th>\n      <th>height</th>\n      <th>eye_color</th>\n      <th>hair_color</th>\n      <th>gender</th>\n      <th>plate_number</th>\n      <th>car_make</th>\n      <th>car_model</th>\n    </tr>\n  </thead>\n  <tbody>\n    <tr>\n      <th>0</th>\n      <td>10000</td>\n      <td>Christoper Peteuil</td>\n      <td>993845</td>\n      <td>624</td>\n      <td>Bankhall Ave</td>\n      <td>747714076</td>\n      <td>993845</td>\n      <td>46</td>\n      <td>59</td>\n      <td>black</td>\n      <td>green</td>\n      <td>male</td>\n      <td>557472</td>\n      <td>Chrysler</td>\n      <td>Town &amp; Country</td>\n    </tr>\n    <tr>\n      <th>1</th>\n      <td>10007</td>\n      <td>Kourtney Calderwood</td>\n      <td>861794</td>\n      <td>2791</td>\n      <td>Gustavus Blvd</td>\n      <td>477972044</td>\n      <td>861794</td>\n      <td>54</td>\n      <td>74</td>\n      <td>black</td>\n      <td>white</td>\n      <td>female</td>\n      <td>3P6DMS</td>\n      <td>BMW</td>\n      <td>M Roadster</td>\n    </tr>\n    <tr>\n      <th>2</th>\n      <td>10010</td>\n      <td>Muoi Cary</td>\n      <td>385336</td>\n      <td>741</td>\n      <td>Northwestern Dr</td>\n      <td>828638512</td>\n      <td>385336</td>\n      <td>24</td>\n      <td>79</td>\n      <td>blue</td>\n      <td>green</td>\n      <td>female</td>\n      <td>GM6Y5J</td>\n      <td>Mercedes-Benz</td>\n      <td>CLS-Class</td>\n    </tr>\n    <tr>\n      <th>3</th>\n      <td>10016</td>\n      <td>Era Moselle</td>\n      <td>431897</td>\n      <td>1987</td>\n      <td>Wood Glade St</td>\n      <td>614621061</td>\n      <td>431897</td>\n      <td>22</td>\n      <td>75</td>\n      <td>amber</td>\n      <td>red</td>\n      <td>female</td>\n      <td>461S1M</td>\n      <td>Ford</td>\n      <td>Ranger</td>\n    </tr>\n    <tr>\n      <th>4</th>\n      <td>10025</td>\n      <td>Trena Hornby</td>\n      <td>550890</td>\n      <td>276</td>\n      <td>Daws Hill Way</td>\n      <td>223877684</td>\n      <td>550890</td>\n      <td>45</td>\n      <td>60</td>\n      <td>blue</td>\n      <td>black</td>\n      <td>female</td>\n      <td>8030O8</td>\n      <td>Toyota</td>\n      <td>Tacoma Xtra</td>\n    </tr>\n    <tr>\n      <th>...</th>\n      <td>...</td>\n      <td>...</td>\n      <td>...</td>\n      <td>...</td>\n      <td>...</td>\n      <td>...</td>\n      <td>...</td>\n      <td>...</td>\n      <td>...</td>\n      <td>...</td>\n      <td>...</td>\n      <td>...</td>\n      <td>...</td>\n      <td>...</td>\n      <td>...</td>\n    </tr>\n    <tr>\n      <th>10001</th>\n      <td>99936</td>\n      <td>Luba Benser</td>\n      <td>274427</td>\n      <td>680</td>\n      <td>Carnage Blvd</td>\n      <td>685095054</td>\n      <td>274427</td>\n      <td>26</td>\n      <td>55</td>\n      <td>green</td>\n      <td>blonde</td>\n      <td>female</td>\n      <td>3O06O3</td>\n      <td>Ford</td>\n      <td>Explorer</td>\n    </tr>\n    <tr>\n      <th>10002</th>\n      <td>99941</td>\n      <td>Roxana Mckimley</td>\n      <td>975942</td>\n      <td>1613</td>\n      <td>Gate St</td>\n      <td>512136801</td>\n      <td>975942</td>\n      <td>87</td>\n      <td>54</td>\n      <td>blue</td>\n      <td>white</td>\n      <td>female</td>\n      <td>PYO673</td>\n      <td>Volvo</td>\n      <td>XC70</td>\n    </tr>\n    <tr>\n      <th>10003</th>\n      <td>99965</td>\n      <td>Cherie Zeimantz</td>\n      <td>287627</td>\n      <td>3661</td>\n      <td>The Water Ave</td>\n      <td>362877324</td>\n      <td>287627</td>\n      <td>29</td>\n      <td>58</td>\n      <td>black</td>\n      <td>brown</td>\n      <td>female</td>\n      <td>Z784RR</td>\n      <td>Audi</td>\n      <td>S5</td>\n    </tr>\n    <tr>\n      <th>10004</th>\n      <td>99982</td>\n      <td>Allen Cruse</td>\n      <td>251350</td>\n      <td>3126</td>\n      <td>N Jean Dr</td>\n      <td>348734531</td>\n      <td>251350</td>\n      <td>66</td>\n      <td>61</td>\n      <td>blue</td>\n      <td>blonde</td>\n      <td>male</td>\n      <td>CJ2QC2</td>\n      <td>Buick</td>\n      <td>LaCrosse</td>\n    </tr>\n    <tr>\n      <th>10005</th>\n      <td>99990</td>\n      <td>Vance Hunten</td>\n      <td>830407</td>\n      <td>3056</td>\n      <td>Lancefield St</td>\n      <td>896677562</td>\n      <td>830407</td>\n      <td>61</td>\n      <td>76</td>\n      <td>green</td>\n      <td>white</td>\n      <td>male</td>\n      <td>H55UF5</td>\n      <td>Chevrolet</td>\n      <td>Silverado 3500</td>\n    </tr>\n  </tbody>\n</table>\n<p>10006 rows × 15 columns</p>\n</div>"
     },
     "metadata": {},
     "execution_count": 6
    }
   ],
   "source": [
    "query2 = \"\"\"\n",
    "SELECT *\n",
    "FROM person p\n",
    "JOIN drivers_license dl ON p.license_id = dl.id\n",
    "\"\"\"\n",
    "pd.read_sql_query(query2, conn)"
   ]
  },
  {
   "cell_type": "code",
   "execution_count": null,
   "metadata": {},
   "outputs": [],
   "source": []
  }
 ]
}