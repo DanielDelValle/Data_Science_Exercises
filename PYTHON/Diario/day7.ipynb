{
 "metadata": {
  "language_info": {
   "codemirror_mode": {
    "name": "ipython",
    "version": 3
   },
   "file_extension": ".py",
   "mimetype": "text/x-python",
   "name": "python",
   "nbconvert_exporter": "python",
   "pygments_lexer": "ipython3",
   "version": "3.8.6-final"
  },
  "orig_nbformat": 2,
  "kernelspec": {
   "name": "python38664bitcf068255407b4d4884bd8b39a056de4a",
   "display_name": "Python 3.8.6 64-bit"
  }
 },
 "nbformat": 4,
 "nbformat_minor": 2,
 "cells": [
  {
   "cell_type": "code",
   "execution_count": 1,
   "metadata": {},
   "outputs": [
    {
     "output_type": "stream",
     "name": "stdout",
     "text": [
      "3\n"
     ]
    }
   ],
   "source": [
    "#WHILE   (NO NECESITA UNA COLECCION A LA QUE REFERIRSE PARA EJECUTARSE, FOR SÍ)\n",
    "lista = [2, 4, 6, 8, 10]    #para encontrar número de elem mayor a 5\n",
    "contador = 0\n",
    "for elem in lista:\n",
    "    if elem > 5:\n",
    "        contador +=1\n",
    "print(contador)"
   ]
  },
  {
   "cell_type": "code",
   "execution_count": 3,
   "metadata": {},
   "outputs": [
    {
     "output_type": "error",
     "ename": "SyntaxError",
     "evalue": "invalid syntax (<ipython-input-3-cfe2752c2826>, line 2)",
     "traceback": [
      "\u001b[1;36m  File \u001b[1;32m\"<ipython-input-3-cfe2752c2826>\"\u001b[1;36m, line \u001b[1;32m2\u001b[0m\n\u001b[1;33m    while c == 0\u001b[0m\n\u001b[1;37m                ^\u001b[0m\n\u001b[1;31mSyntaxError\u001b[0m\u001b[1;31m:\u001b[0m invalid syntax\n"
     ]
    }
   ],
   "source": [
    "c = 0\n",
    "while c == 0\n",
    "print(2)   #impriria en bucle"
   ]
  },
  {
   "cell_type": "code",
   "execution_count": 4,
   "metadata": {},
   "outputs": [
    {
     "output_type": "stream",
     "name": "stdout",
     "text": [
      "Fuera del while\n"
     ]
    }
   ],
   "source": [
    "while 2 > 3 and 0 == False:\n",
    "    print(5)\n",
    "print(\"Fuera del while\")     #se puede poner esto porque de entrar el while, no se verá"
   ]
  },
  {
   "cell_type": "code",
   "execution_count": 5,
   "metadata": {},
   "outputs": [
    {
     "output_type": "stream",
     "name": "stdout",
     "text": [
      "entra en el while\n",
      "Fuera del While\n"
     ]
    }
   ],
   "source": [
    "s = \"start\"\n",
    "while s == \"start\":\n",
    "    print(\"entra en el while\")\n",
    "    s = input()\n",
    "print(\"Fuera del While\")"
   ]
  },
  {
   "cell_type": "code",
   "execution_count": 6,
   "metadata": {},
   "outputs": [
    {
     "output_type": "stream",
     "name": "stdout",
     "text": [
      "contraseña correcta\n"
     ]
    }
   ],
   "source": [
    "password = \"TB\"\n",
    "while True:                                    #sinonimo de mientras 1==1, 0==0,......\n",
    "    s = input('introduce la contraseña')\n",
    "    if s == password:\n",
    "        print('contraseña correcta')\n",
    "        break\n",
    "    else:\n",
    "        print('contraseña incorrecta')\n"
   ]
  },
  {
   "cell_type": "code",
   "execution_count": 7,
   "metadata": {},
   "outputs": [
    {
     "output_type": "stream",
     "name": "stdout",
     "text": [
      "contraseña correcta\n"
     ]
    }
   ],
   "source": [
    "password = \"TB\"\n",
    "s = \"\"\n",
    "while s != password :                                    #significa, mientras p sea True ----PASSWORD----\n",
    "    s = input('introduce la contraseña')\n",
    "    if s == password:\n",
    "        print('contraseña correcta')\n",
    "        break\n",
    "    else:\n",
    "        print('contraseña incorrecta')"
   ]
  },
  {
   "cell_type": "code",
   "execution_count": 8,
   "metadata": {},
   "outputs": [
    {
     "output_type": "stream",
     "name": "stdout",
     "text": [
      "0\n1\n2\n3\n4\n5\noutside loop\n"
     ]
    }
   ],
   "source": [
    "acum = 0\n",
    "while acum <= 5:\n",
    "    print(acum)\n",
    "    acum +=1    \n",
    "else:\n",
    "    print(\"outside loop\")"
   ]
  },
  {
   "cell_type": "code",
   "execution_count": 9,
   "metadata": {},
   "outputs": [
    {
     "output_type": "stream",
     "name": "stdout",
     "text": [
      "1\n2\n3\n4\n5\nFuera del While\n"
     ]
    }
   ],
   "source": [
    "contador = 0\n",
    "while contador != 5:\n",
    "    contador +=1          # se salta el 0 al poner primero el +1\n",
    "    print(contador)\n",
    "print(\"Fuera del While\")\n"
   ]
  },
  {
   "cell_type": "code",
   "execution_count": 1,
   "metadata": {},
   "outputs": [
    {
     "output_type": "stream",
     "name": "stdout",
     "text": [
      "a\nb\nc\nd\ne\nf\nfin del listado\n"
     ]
    }
   ],
   "source": [
    "listado = ['a','b', 'c', 'd', 'e', 'f']\n",
    "acum = 0\n",
    "while acum < len(listado):\n",
    "    print(listado[acum])\n",
    "    acum +=1\n",
    "else:\n",
    "    print(\"fin del listado\")\n",
    "#esta condicion nos obliga a escribir acum < len(listado), ya que acum <= len(listado) daria  error al estar el ultimo valor fuera de rango (sería acum = 6 y solo hay 5 posiciones)"
   ]
  },
  {
   "cell_type": "code",
   "execution_count": 11,
   "metadata": {},
   "outputs": [],
   "source": [
    "import time"
   ]
  },
  {
   "cell_type": "code",
   "execution_count": 67,
   "metadata": {},
   "outputs": [
    {
     "output_type": "stream",
     "name": "stdout",
     "text": [
      "Hola\n",
      "Adios\n"
     ]
    }
   ],
   "source": [
    "while True:\n",
    "    print('Hola')\n",
    "    time.sleep(5)  #tarda 5 segundos en imprimir Adios\n",
    "    print('Adios')\n",
    "    break"
   ]
  },
  {
   "cell_type": "code",
   "execution_count": 14,
   "metadata": {},
   "outputs": [
    {
     "output_type": "stream",
     "name": "stdout",
     "text": [
      "b\nc\nd\n"
     ]
    }
   ],
   "source": [
    "listado = ['a','b', 'c', 'd', 'e', 'f']  #por ejemplo para extraer valores b,c y d [1, 2 y 3]\n",
    "acum = 1              # se empieza desde 1 porque sino nunca entra el while\n",
    "while  1 <= acum and acum <= 3:\n",
    "    print(listado[acum])\n",
    "    acum += 1\n",
    "    "
   ]
  },
  {
   "cell_type": "code",
   "execution_count": 17,
   "metadata": {
    "tags": []
   },
   "outputs": [
    {
     "output_type": "error",
     "ename": "SyntaxError",
     "evalue": "invalid syntax (<ipython-input-17-f956c4adbeef>, line 7)",
     "traceback": [
      "\u001b[1;36m  File \u001b[1;32m\"<ipython-input-17-f956c4adbeef>\"\u001b[1;36m, line \u001b[1;32m7\u001b[0m\n\u001b[1;33m    acum += 1...\u001b[0m\n\u001b[1;37m               ^\u001b[0m\n\u001b[1;31mSyntaxError\u001b[0m\u001b[1;31m:\u001b[0m invalid syntax\n"
     ]
    }
   ],
   "source": [
    "listado = ['a','b', 'c', 'd', 'e', 'f']  #solo queremos b y d\n",
    "acum = 1       \n",
    "while  1 <= acum and acum <= 3:\n",
    "    if acum ==2:     #así se salta la c\n",
    "        continue         #se queda en BUCLE!!!! porque acum siempre es == al llegar al b\n",
    "    print(lista[acum])\n",
    "    acum += 1...\n",
    "\n",
    "    "
   ]
  },
  {
   "cell_type": "code",
   "execution_count": 20,
   "metadata": {},
   "outputs": [
    {
     "output_type": "stream",
     "name": "stdout",
     "text": [
      "b\nd\n"
     ]
    }
   ],
   "source": [
    "#SOLUCION \n",
    "listado = ['a','b', 'c', 'd', 'e', 'f']  #solo queremos b y d\n",
    "acum = 1       \n",
    "while  1 <= acum and acum <= 3:\n",
    "    if acum ==2:\n",
    "        acum += 1   ##asi entra antes del continue\n",
    "        continue       \n",
    "    print(listado[acum])\n",
    "    acum += 1"
   ]
  },
  {
   "cell_type": "code",
   "execution_count": 22,
   "metadata": {},
   "outputs": [
    {
     "output_type": "stream",
     "name": "stdout",
     "text": [
      "b\nd\n"
     ]
    }
   ],
   "source": [
    "#SOLUCION 2:\n",
    "listado = ['a','b', 'c', 'd', 'e', 'f']  #solo queremos b y d\n",
    "acum = 1       \n",
    "while  1 <= acum and acum <= 3:\n",
    "    print(listado[acum])\n",
    "    acum +=2\n",
    "     "
   ]
  },
  {
   "cell_type": "code",
   "execution_count": 35,
   "metadata": {},
   "outputs": [
    {
     "output_type": "stream",
     "name": "stdout",
     "text": [
      "b\nd\nf\nh\n"
     ]
    }
   ],
   "source": [
    "#si queremos imprimir los elementos 1 si 1 no, 2 si 2 no, etc....\n",
    "listado2 = ['a','b', 'c', 'd', 'e', 'f', 'g', 'h', 'i']  #solo queremos b y d\n",
    "acum = 1      \n",
    "while acum < len(listado2):\n",
    "    print(listado2[acum])\n",
    "    acum +=2\n",
    "     "
   ]
  },
  {
   "cell_type": "code",
   "execution_count": 36,
   "metadata": {},
   "outputs": [],
   "source": [
    "import random"
   ]
  },
  {
   "cell_type": "code",
   "execution_count": 71,
   "metadata": {},
   "outputs": [],
   "source": [
    "alumnos = ['María Cagigas','Kapil Dadlani','Daniel del Valle','María del Mar Delgado Domínguez','Estela Falgas','Alfonso Garcia Mateo-Sagasta','Javier Gil Antuñano Foncillas','Juan Guerrero Enriquez','Antonio Leal','Miguel Merry del Val','Miguel','Marta Miñana','Roberto Molleda','Javier Olcoz','Ariadna Puigventos','Maria Angeles Rodriguez','Leonardo Sánchez Soler','anais villegas']"
   ]
  },
  {
   "cell_type": "code",
   "execution_count": 106,
   "metadata": {},
   "outputs": [
    {
     "output_type": "stream",
     "name": "stdout",
     "text": [
      "María del Mar Delgado Domínguez\nNone\n"
     ]
    }
   ],
   "source": [
    "random_st = print(random.choice(alumnos)) #imprime algo aleatorio de la lista\n",
    "print(random_st)"
   ]
  },
  {
   "cell_type": "code",
   "execution_count": 109,
   "metadata": {},
   "outputs": [
    {
     "output_type": "error",
     "ename": "SyntaxError",
     "evalue": "invalid syntax (<ipython-input-109-492ce9a8694f>, line 19)",
     "traceback": [
      "\u001b[1;36m  File \u001b[1;32m\"<ipython-input-109-492ce9a8694f>\"\u001b[1;36m, line \u001b[1;32m19\u001b[0m\n\u001b[1;33m    if retirado == \"SI\"\u001b[0m\n\u001b[1;37m                       ^\u001b[0m\n\u001b[1;31mSyntaxError\u001b[0m\u001b[1;31m:\u001b[0m invalid syntax\n"
     ]
    }
   ],
   "source": [
    "peliculas_discount = [\"infiltrados\", \"El Padrino\", \"Scarface\"]\n",
    "edad_cliente = int(input('introduzca su edad'))\n",
    "retirado = int('¿Está usted retirado?')\n",
    "pelicula_a_ver = input('qué pelicula quieres ver?')\n",
    "#equivalencia 1 para convertir a booleano \"retirado\" a partir de la edad\n",
    "retirado = int(edad_cliente >= 67)\n",
    "retirado = retirado.upper()  #para asegurarse de que todo es en mayusculas\n",
    "if retirado == True:\n",
    "    print('viejales!')\n",
    "#equivalencia 2\n",
    "if edad_cliente >= 67:\n",
    "    retirado = True\n",
    "else:\n",
    "    retirado = False\n",
    "\n",
    "    #opcion 1 con strings:\n",
    "    retirado = (retirado == \"SI\") or (retirado == \"YES\")\n",
    "    #opcion 2 con strings:\n",
    "    if retirado == \"SI\"\n",
    "        retirado = True\n",
    "    else:\n",
    "        retirado = False\n",
    "#codigo al ejercicio de las peliculas:\n",
    "if 5 <= edad_cliente <= 15:\n",
    "    print('El precio son 5€')\n",
    "elif retirado and pelicula_a_ver in peliculas_discount:\n",
    "    (print('el precio para jubilados en esta pelicula es 4€')\n",
    "else:\n",
    "    print('el precio son 7 €')"
   ]
  },
  {
   "cell_type": "code",
   "execution_count": 122,
   "metadata": {},
   "outputs": [],
   "source": [
    "#RANGE AMPLIADO\n",
    "#list(range(start, stop, incrementa))\n",
    "# si no lo modificamos, start es 0 por dector y inc es 1 por defecto\n",
    "multiplos_13 = list(range(0, 1001, 13)) # poniendo print, evitamos que la saque en vertical"
   ]
  },
  {
   "cell_type": "code",
   "execution_count": 125,
   "metadata": {},
   "outputs": [
    {
     "output_type": "stream",
     "name": "stdout",
     "text": [
      "[0, 13, 26, 39, 52, 65, 78, 91, 104, 117, 130, 143, 156, 169, 182, 195, 208, 221, 234, 247, 260, 273, 286, 299, 312, 325, 338, 351, 364, 377, 390, 403, 416, 429, 442, 455, 468, 481, 494, 507, 520, 533, 546, 559, 572, 585, 598, 611, 624, 637, 650, 663, 676, 689, 702, 715, 728, 741, 754, 767, 780, 793, 806, 819, 832, 845, 858, 871, 884, 897, 910, 923, 936, 949, 962, 975, 988]\n"
     ]
    },
    {
     "output_type": "execute_result",
     "data": {
      "text/plain": [
       "77"
      ]
     },
     "metadata": {},
     "execution_count": 125
    }
   ],
   "source": [
    "print(multiplos_13)\n",
    "len(multiplos_13)"
   ]
  },
  {
   "cell_type": "code",
   "execution_count": 126,
   "metadata": {},
   "outputs": [
    {
     "output_type": "stream",
     "name": "stdout",
     "text": [
      "[0, 31, 62, 93, 124, 155, 186, 217, 248, 279, 310, 341, 372, 403, 434, 465, 496, 527, 558, 589, 620, 651, 682, 713, 744, 775, 806, 837, 868, 899, 930, 961, 992]\n"
     ]
    },
    {
     "output_type": "execute_result",
     "data": {
      "text/plain": [
       "33"
      ]
     },
     "metadata": {},
     "execution_count": 126
    }
   ],
   "source": [
    "mult_31 = list(range(0, 1001, 31))\n",
    "print(mult_31)\n",
    "len(mult_31)"
   ]
  },
  {
   "cell_type": "code",
   "execution_count": 143,
   "metadata": {},
   "outputs": [
    {
     "output_type": "stream",
     "name": "stdout",
     "text": [
      "[0, 1, 2]\n"
     ]
    }
   ],
   "source": [
    "print(list(range(3)))\n",
    "#range(3) = [0, 1, 2]"
   ]
  },
  {
   "cell_type": "code",
   "execution_count": 140,
   "metadata": {},
   "outputs": [
    {
     "output_type": "stream",
     "name": "stdout",
     "text": [
      "valor de i: 0\ncities_a[0]--> Mallorca\ncities_b[0]--> España\n-----------\nvalor de i: 1\ncities_a[1]--> Mérida\ncities_b[1]--> Francia\n-----------\nvalor de i: 2\ncities_a[2]--> Madrid\ncities_b[2]--> Italia\n-----------\n"
     ]
    }
   ],
   "source": [
    "#TRABAJO CON 2 LISTAS SIMULTANEAS\n",
    "cities_a = ['Mallorca', 'Mérida', 'Madrid']\n",
    "cities_b = ['España', 'Francia', 'Italia']\n",
    "for i in [0, 1, 2]:                #podemos usarlo como posicion, equivale a for i in range(3)\n",
    "    print('valor de i:', i)\n",
    "    print('cities_a[' + str(i) + ']-->', cities_a[i])\n",
    "    print('cities_b[' + str(i) + ']-->', cities_b[i])\n",
    "    print('-----------')"
   ]
  },
  {
   "cell_type": "code",
   "execution_count": 152,
   "metadata": {},
   "outputs": [
    {
     "output_type": "stream",
     "name": "stdout",
     "text": [
      "valor de i: 1\ncities_a[1]--> Mérida\ncities_b[1]--> Francia\n-----------\nvalor de i: 2\ncities_a[2]--> Madrid\ncities_b[2]--> Italia\n-----------\n"
     ]
    }
   ],
   "source": [
    "for i in [1, 2]:\n",
    "    print('valor de i:', i)\n",
    "    print('cities_a[' + str(i) + ']-->', cities_a[i])\n",
    "    print('cities_b[' + str(i) + ']-->', cities_b[i])\n",
    "    print('-----------')"
   ]
  },
  {
   "cell_type": "code",
   "execution_count": 160,
   "metadata": {},
   "outputs": [
    {
     "output_type": "stream",
     "name": "stdout",
     "text": [
      "valor de contador: 0\ncities_a[0]--> Mallorca\ncities_b[0]--> España\n-----------\nvalor de contador: 1\ncities_a[1]--> Mérida\ncities_b[1]--> Francia\n-----------\nvalor de contador: 2\ncities_a[2]--> Madrid\ncities_b[2]--> Italia\n-----------\n"
     ]
    }
   ],
   "source": [
    "cities_a = ['Mallorca', 'Mérida', 'Madrid']\n",
    "cities_b = ['España', 'Francia', 'Italia']\n",
    "contador = 0\n",
    "for i in ['hola', 'andres', 'jaime']:    #lo importante es que tenga len= len(cities_a), asi itera 3 veces       \n",
    "    print('valor de contador:', contador)\n",
    "    print('cities_a[' + str(contador) + ']-->', cities_a[contador])\n",
    "    print('cities_b[' + str(contador) + ']-->', cities_b[contador])\n",
    "    print('-----------')\n",
    "    contador +=1"
   ]
  },
  {
   "cell_type": "code",
   "execution_count": 161,
   "metadata": {},
   "outputs": [
    {
     "output_type": "stream",
     "name": "stdout",
     "text": [
      "valor de i: 0\ncities_a[0]--> Mallorca\ncities_b[0]--> España\n-----------\nvalor de i: 1\ncities_a[1]--> Mérida\ncities_b[1]--> Francia\n-----------\nvalor de i: 2\ncities_a[2]--> Madrid\ncities_b[2]--> Italia\n-----------\n"
     ]
    }
   ],
   "source": [
    "cities_a = ['Mallorca', 'Mérida', 'Madrid']\n",
    "cities_b = ['España', 'Francia', 'Italia']\n",
    "for i in range(len(cities_a)):               \n",
    "    print('valor de i:', i)\n",
    "    print('cities_a[' + str(i) + ']-->', cities_a[i])\n",
    "    print('cities_b[' + str(i) + ']-->', cities_b[i])\n",
    "    print('-----------')"
   ]
  },
  {
   "cell_type": "code",
   "execution_count": 164,
   "metadata": {},
   "outputs": [
    {
     "output_type": "stream",
     "name": "stdout",
     "text": [
      "['Mallorca', 'Mérida', 'Madrid', 'España', 'Francia', 'Italia']\n"
     ]
    }
   ],
   "source": [
    "cities_sum = cities_a + cities_b\n",
    "print(cities_sum)"
   ]
  },
  {
   "cell_type": "code",
   "execution_count": 166,
   "metadata": {},
   "outputs": [
    {
     "output_type": "stream",
     "name": "stdout",
     "text": [
      "[0, 1, 2, 3, 4, 5]\n"
     ]
    }
   ],
   "source": [
    "print(list(range(len(cities_sum))))"
   ]
  },
  {
   "cell_type": "code",
   "execution_count": 174,
   "metadata": {},
   "outputs": [
    {
     "output_type": "stream",
     "name": "stdout",
     "text": [
      "Mallorca : Francia\nMérida : España\nMadrid : Italia\n"
     ]
    }
   ],
   "source": [
    "\n",
    "#para printtearlos desincronizados:\n",
    "for i in [0, 1, 2]:\n",
    "    if i == 0:  #primera iteracion\n",
    "        print(cities_a[i], ':', cities_b[i+1])\n",
    "    elif i == 1:            #segunda iteracion\n",
    "        print(cities_a[i], ':', cities_b[i-1])\n",
    "    elif i == 2:\n",
    "        print(cities_a[i], ':', cities_b[i])"
   ]
  },
  {
   "cell_type": "code",
   "execution_count": 4,
   "metadata": {},
   "outputs": [
    {
     "output_type": "stream",
     "name": "stdout",
     "text": [
      "a\n2\nb\n3\nc\n4\nd\n5\ne\n6\n"
     ]
    }
   ],
   "source": [
    "#para printtearlos desincronizados:\n",
    "abc = ['a', 'b', 'c', 'd', 'e', 'f']\n",
    "w = len(abc)\n",
    "num = [1, 2, 3, 4, 5, 6]\n",
    "for i in range(w-1):\n",
    "    print(abc[i])\n",
    "    print(num[i+1])"
   ]
  },
  {
   "cell_type": "code",
   "execution_count": null,
   "metadata": {},
   "outputs": [],
   "source": []
  }
 ]
}