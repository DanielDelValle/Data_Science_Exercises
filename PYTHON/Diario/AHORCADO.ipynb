{
 "metadata": {
  "language_info": {
   "codemirror_mode": {
    "name": "ipython",
    "version": 3
   },
   "file_extension": ".py",
   "mimetype": "text/x-python",
   "name": "python",
   "nbconvert_exporter": "python",
   "pygments_lexer": "ipython3",
   "version": "3.8.6-final"
  },
  "orig_nbformat": 2,
  "kernelspec": {
   "name": "python38664bitcf068255407b4d4884bd8b39a056de4a",
   "display_name": "Python 3.8.6 64-bit"
  }
 },
 "nbformat": 4,
 "nbformat_minor": 2,
 "cells": [
  {
   "cell_type": "code",
   "execution_count": 11,
   "metadata": {},
   "outputs": [],
   "source": [
    "def ahorc(palabra):\n",
    "    palabra = input(\"Introduce palabra\")\n",
    "    letra_insert = input(\"Introduce una letra\")\n",
    "    usadas = []\n",
    "    aciertos = []\n",
    "    tablero = list(\"_\" * len(palabra))\n",
    "    numer_errores = 0\n",
    "    if letra_insert in aciertos:\n",
    "            print(\"Ya has dicho esa letra y está en la palabra\")\n",
    "            print(tablero)\n",
    "    elif letra_insert in usadas:\n",
    "        print(\"Ya has dicho esta letra y NO está en la palabra\")\n",
    "        print(tablero)\n",
    "    elif letra_insert in palabra:           \n",
    "        aciertos.append(letra_insert)\n",
    "        print(\"La letra\", letra_insert, \"está en la palabra, en la posición:\", palabra.index(letra_insert))\n",
    "        print(tablero)\n",
    "    else:\n",
    "        usadas.append(letra_insert)\n",
    "        print(\"La letra no está en la palabra\")\n",
    "    numer_errores +=1"
   ]
  },
  {
   "cell_type": "code",
   "execution_count": 14,
   "metadata": {},
   "outputs": [],
   "source": [
    "def tablero_a_mostrar(tablero):\n",
    "    tablero_show = \"\"\n",
    "    for l in tablero:\n",
    "        tablero_show += l + \" \"\n",
    "    return tablero_show\n"
   ]
  },
  {
   "cell_type": "code",
   "execution_count": 27,
   "metadata": {},
   "outputs": [
    {
     "output_type": "error",
     "ename": "SyntaxError",
     "evalue": "EOL while scanning string literal (<ipython-input-27-27035ea1825f>, line 20)",
     "traceback": [
      "\u001b[1;36m  File \u001b[1;32m\"<ipython-input-27-27035ea1825f>\"\u001b[1;36m, line \u001b[1;32m20\u001b[0m\n\u001b[1;33m    print(\"Has ganado!)\u001b[0m\n\u001b[1;37m                                       ^\u001b[0m\n\u001b[1;31mSyntaxError\u001b[0m\u001b[1;31m:\u001b[0m EOL while scanning string literal\n"
     ]
    }
   ],
   "source": [
    "#mejor version:\n",
    "def ahorc2(palabra):\n",
    "    palabra = input(\"Introduce palabra\")\n",
    "    letra_insert = input(\"Introduce una letra\")\n",
    "    print(tablero_a_mostrar(tablero=tablero))\n",
    "    print(\"La palabra tiene\", len(palabra), \"letras\")\n",
    "    aciertos = []\n",
    "    tablero = list(\"_\" * len(palabra))\n",
    "    numer_errores = 0\n",
    "    while \"_\" in tablero and num_errores < 6:  #(en realidad, los break y la segunda condicion son 'lo mismo')\n",
    "        if letra in palabra:\n",
    "            if letra_insert in aciertos:\n",
    "                print(\"Ya habias acertado esta letra\")\n",
    "            else:\n",
    "                aciertos.append(letra_insert)\n",
    "                for pos, letra in enumerate(palabra):\n",
    "                    if letra == letra_insert:\n",
    "                        tablero[pos] = letra_insert\n",
    "                    if \"_\" not in tablero:\n",
    "                        print(\"Has ganado!)                \n",
    "        else:\n",
    "            num_errores +=1\n",
    "            print(\"Llevas:\", num_errores)\n",
    "            print(\"La letra\", letra_insert, \"no está en la palabra\")\n",
    "            if num_errores > 6:\n",
    "                print(\"Lo siento, has perdido\")\n",
    "                break\n",
    "        print(tablero_a_mostrar(tablero=tablero))\n",
    "            if \"_\" not in tablero:\n",
    "                print(\"Has ganado!\")"
   ]
  },
  {
   "cell_type": "code",
   "execution_count": null,
   "metadata": {},
   "outputs": [],
   "source": []
  }
 ]
}