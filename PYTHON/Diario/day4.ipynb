{
 "metadata": {
  "language_info": {
   "codemirror_mode": {
    "name": "ipython",
    "version": 3
   },
   "file_extension": ".py",
   "mimetype": "text/x-python",
   "name": "python",
   "nbconvert_exporter": "python",
   "pygments_lexer": "ipython3",
   "version": "3.8.6-final"
  },
  "orig_nbformat": 2,
  "kernelspec": {
   "name": "python38664bitcf068255407b4d4884bd8b39a056de4a",
   "display_name": "Python 3.8.6 64-bit"
  }
 },
 "nbformat": 4,
 "nbformat_minor": 2,
 "cells": [
  {
   "cell_type": "code",
   "execution_count": 12,
   "metadata": {},
   "outputs": [
    {
     "output_type": "execute_result",
     "data": {
      "text/plain": [
       "True"
      ]
     },
     "metadata": {},
     "execution_count": 12
    }
   ],
   "source": [
    " age = [3, 5, 7]\n",
    " age2 = [3, 5, 7]\n",
    " age == age2"
   ]
  },
  {
   "cell_type": "code",
   "execution_count": 13,
   "metadata": {},
   "outputs": [
    {
     "output_type": "stream",
     "name": "stdout",
     "text": [
      "82478528\n82478720\n"
     ]
    }
   ],
   "source": [
    " print(id(age))\n",
    " print(id(age2))  #id dice el identificador (núm. serie, o donde se guarda) En int siempre igual."
   ]
  },
  {
   "cell_type": "code",
   "execution_count": 14,
   "metadata": {},
   "outputs": [
    {
     "output_type": "execute_result",
     "data": {
      "text/plain": [
       "False"
      ]
     },
     "metadata": {},
     "execution_count": 14
    }
   ],
   "source": [
    "age is age2 #el comando \"IS\" compara identificadores"
   ]
  },
  {
   "cell_type": "code",
   "execution_count": 15,
   "metadata": {},
   "outputs": [
    {
     "output_type": "execute_result",
     "data": {
      "text/plain": [
       "True"
      ]
     },
     "metadata": {},
     "execution_count": 15
    }
   ],
   "source": [
    "HH = \"a\"\n",
    "GG = \"a\"\n",
    "HH == GG"
   ]
  },
  {
   "cell_type": "code",
   "execution_count": 16,
   "metadata": {},
   "outputs": [
    {
     "output_type": "execute_result",
     "data": {
      "text/plain": [
       "True"
      ]
     },
     "metadata": {},
     "execution_count": 16
    }
   ],
   "source": [
    "HH is GG"
   ]
  },
  {
   "cell_type": "code",
   "execution_count": 17,
   "metadata": {},
   "outputs": [
    {
     "output_type": "stream",
     "name": "stdout",
     "text": [
      "3963952\n3963952\n"
     ]
    }
   ],
   "source": [
    "print(id(HH))\n",
    "print(id(GG))"
   ]
  },
  {
   "cell_type": "code",
   "execution_count": 18,
   "metadata": {},
   "outputs": [],
   "source": [
    "#en python, desde -5 hasta los 256 primeros hay diferentes identificadores. por eso coinciden"
   ]
  },
  {
   "cell_type": "code",
   "execution_count": 19,
   "metadata": {},
   "outputs": [
    {
     "output_type": "stream",
     "name": "stdout",
     "text": [
      "Einstein\nTesla\nHawkins\nPitágoras\n"
     ]
    }
   ],
   "source": [
    "#BUCLES - FOR Y WHILE\n",
    "# FOR VariableSinDefinir IN Conjunto\n",
    "    #orden a cumplir(Variable)\n",
    "genios = ['Einstein', 'Tesla', 'Hawkins', 'Pitágoras']\n",
    "for x in genios:\n",
    "    print(x)"
   ]
  },
  {
   "cell_type": "code",
   "execution_count": 20,
   "metadata": {},
   "outputs": [
    {
     "output_type": "stream",
     "name": "stdout",
     "text": [
      "2\n"
     ]
    }
   ],
   "source": [
    "#para parar el bucle, se usa BREAK\n",
    "for g in [2, 4, 6, 8]:\n",
    "    print(g)\n",
    "    break  # realizara una iteracion y parará --> solo imprime(2"
   ]
  },
  {
   "cell_type": "code",
   "execution_count": 21,
   "metadata": {},
   "outputs": [
    {
     "output_type": "stream",
     "name": "stdout",
     "text": [
      "2\n4\n"
     ]
    }
   ],
   "source": [
    "for g in [2, 4, 6, 8]:\n",
    "    if g == 6:\n",
    "        break\n",
    "    print(g)  #al llegar a la condición, para el bucle"
   ]
  },
  {
   "cell_type": "code",
   "execution_count": 22,
   "metadata": {},
   "outputs": [
    {
     "output_type": "stream",
     "name": "stdout",
     "text": [
      "2\nhola\nsigue\n4\nhola\nsigue\n6\nhola\nsigue\nfin bucle; el siguiente valor es mayor a 6\n"
     ]
    }
   ],
   "source": [
    "for g in [2, 4, 6 , 8, 10, 12]:\n",
    "    if g > 6:\n",
    "        break\n",
    "    print(g)\n",
    "    print('hola')\n",
    "    print(\"sigue\")\n",
    "    if g == 6\n",
    "    :\n",
    "        print('fin bucle; el siguiente valor es mayor a 6')"
   ]
  },
  {
   "cell_type": "code",
   "execution_count": 23,
   "metadata": {},
   "outputs": [
    {
     "output_type": "stream",
     "name": "stdout",
     "text": [
      "casa\ncoche\n"
     ]
    }
   ],
   "source": [
    "lista = [1, \"casa\", 2, \"coche\"]\n",
    "for x in lista:\n",
    "    if type(x) == str:\n",
    "        print(x)"
   ]
  },
  {
   "cell_type": "code",
   "execution_count": 24,
   "metadata": {},
   "outputs": [
    {
     "output_type": "stream",
     "name": "stdout",
     "text": [
      "[0, 1, 2, 3, 4, 5]\n"
     ]
    }
   ],
   "source": [
    "#RANGE (x, y) x=desde(incluido); y = hasta(excluido)  range es nºREPETICIONES (iteraciones)\n",
    "#imprimirá el primero (x) pero excluye el ultimo (y)\n",
    "print(list(range (0, 6)))"
   ]
  },
  {
   "cell_type": "code",
   "execution_count": 1,
   "metadata": {},
   "outputs": [
    {
     "output_type": "stream",
     "name": "stdout",
     "text": [
      "0\n1\n2\n3\n4\n5\n"
     ]
    }
   ],
   "source": [
    "r = list(range(0, 6))\n",
    "for i in r:\n",
    "    print(i) #trabaja con valores"
   ]
  },
  {
   "cell_type": "code",
   "execution_count": 26,
   "metadata": {},
   "outputs": [],
   "source": [
    "#DEF FUNCION\n",
    "lista = [\"coche\", 'casa', 'perro', 6, 89]\n",
    "def mostrar_cada_elemento_de_lista(lista):\n",
    "    for x in lista:\n",
    "        print(x)"
   ]
  },
  {
   "cell_type": "code",
   "execution_count": 27,
   "metadata": {},
   "outputs": [
    {
     "output_type": "stream",
     "name": "stdout",
     "text": [
      "coche\ncasa\nperro\n6\n89\n"
     ]
    }
   ],
   "source": [
    "lista = [\"coche\", 'casa', 'perro', 6, 89]\n",
    "tamano = len(lista)\n",
    "for i in range(tamano):\n",
    "    print(lista[i]) #con este rango imprimes toda la lista, trabajando con posiciones\n"
   ]
  },
  {
   "cell_type": "code",
   "execution_count": 28,
   "metadata": {},
   "outputs": [
    {
     "output_type": "stream",
     "name": "stdout",
     "text": [
      "coche\nperro\n6\n89\n"
     ]
    }
   ],
   "source": [
    "lista = [\"coche\", 'casa', 'perro', 6, 89]\n",
    "for i in lista:\n",
    "    if i == \"casa\":  # si no queremos que salga \"casa\":\n",
    "        continue #salta hasta la siguiente iteracción \n",
    "    print(i)\n"
   ]
  },
  {
   "cell_type": "code",
   "execution_count": 29,
   "metadata": {},
   "outputs": [
    {
     "output_type": "stream",
     "name": "stdout",
     "text": [
      "position: 0\nvalor: coche\n------\nposition: 1\nvalor: casa\n------\nposition: 2\nvalor: perro\n------\nposition: 3\nvalor: 6\n------\nposition: 4\nvalor: 89\n------\n"
     ]
    }
   ],
   "source": [
    "#ENUMERATE  devuelve posicion y valor\n",
    "tupla = (\"coche\", 'casa', 'perro', 6, 89)\n",
    "for posicion, valor in enumerate(lista):\n",
    "    print(\"position:\", posicion)\n",
    "    print(\"valor:\", valor)\n",
    "    print('------')"
   ]
  },
  {
   "cell_type": "code",
   "execution_count": null,
   "metadata": {},
   "outputs": [],
   "source": []
  },
  {
   "cell_type": "code",
   "execution_count": 11,
   "metadata": {},
   "outputs": [
    {
     "output_type": "stream",
     "name": "stdout",
     "text": [
      "Wrong answer; Try again\n",
      "Well Done!\n",
      "Wrong answer; Try again\n",
      "Well Done!\n",
      "Wrong answer; Try again\n"
     ]
    },
    {
     "output_type": "error",
     "ename": "TypeError",
     "evalue": "argument of type 'int' is not iterable",
     "traceback": [
      "\u001b[1;31m---------------------------------------------------------------------------\u001b[0m",
      "\u001b[1;31mTypeError\u001b[0m                                 Traceback (most recent call last)",
      "\u001b[1;32m<ipython-input-11-65506ba2541c>\u001b[0m in \u001b[0;36m<module>\u001b[1;34m\u001b[0m\n\u001b[0;32m     31\u001b[0m \u001b[1;32melse\u001b[0m\u001b[1;33m:\u001b[0m\u001b[1;33m\u001b[0m\u001b[1;33m\u001b[0m\u001b[0m\n\u001b[0;32m     32\u001b[0m     \u001b[0mprint\u001b[0m\u001b[1;33m(\u001b[0m\u001b[1;34m\"Wrong answer; Try again\"\u001b[0m\u001b[1;33m)\u001b[0m\u001b[1;33m\u001b[0m\u001b[1;33m\u001b[0m\u001b[0m\n\u001b[1;32m---> 33\u001b[1;33m \u001b[1;32mif\u001b[0m \u001b[0minput\u001b[0m\u001b[1;33m(\u001b[0m\u001b[0mquestion6\u001b[0m\u001b[1;33m)\u001b[0m \u001b[1;32min\u001b[0m \u001b[0mRight_Answer6\u001b[0m\u001b[1;33m:\u001b[0m\u001b[1;33m\u001b[0m\u001b[1;33m\u001b[0m\u001b[0m\n\u001b[0m\u001b[0;32m     34\u001b[0m     \u001b[0mprint\u001b[0m\u001b[1;33m(\u001b[0m\u001b[1;34m'Well Done!'\u001b[0m\u001b[1;33m)\u001b[0m\u001b[1;33m\u001b[0m\u001b[1;33m\u001b[0m\u001b[0m\n\u001b[0;32m     35\u001b[0m \u001b[1;32melse\u001b[0m\u001b[1;33m:\u001b[0m\u001b[1;33m\u001b[0m\u001b[1;33m\u001b[0m\u001b[0m\n",
      "\u001b[1;31mTypeError\u001b[0m: argument of type 'int' is not iterable"
     ]
    }
   ],
   "source": [
    "Right_Answer1 = [\"quito\", \"Quito\"]\n",
    "Right_Answer2 = \"9\"\n",
    "Right_Answer3 = [\"hidrogeno\", \"Hidrogeno\"]\n",
    "Right_Answer4 = \"1939\"\n",
    "Right_Answer5 = [\"bitcoin\", \"Bitcoin\"]\n",
    "Right_Answer6 = \"6561\"\n",
    "question1 = (\"Capital de Ecuador: \")\n",
    "question2 = (\"Raiz cuadrada de 81: \")\n",
    "question3 = (\"Elemento mas ligero de la tabla periodica: \")\n",
    "question4 = (\"Año de inicio de la Segunda Guerra Mundial: \")\n",
    "question5 = (\"Nombre de una criptomoneda famosa: \")\n",
    "question6 = (\"9 elevado a 3: \")\n",
    "if input(question1) in Right_Answer1:\n",
    "    print('Well Done!')\n",
    "else:\n",
    "    print(\"Wrong answer; Try again\")\n",
    "if  input(question2) in Right_Answer2:\n",
    "    print('Well Done!')\n",
    "else:\n",
    "    print(\"Wrong answer; Try again\")\n",
    "if input(question3) in Right_Answer3:\n",
    "    print('Well Done!')\n",
    "else:\n",
    "    print(\"Wrong answer; Try again\")\n",
    "if input(question4) in Right_Answer4:\n",
    "    print('Well Done!')\n",
    "else:\n",
    "    print(\"Wrong answer; Try again\")\n",
    "if input(question5) in Right_Answer5:\n",
    "    print('Well Done!')\n",
    "else:\n",
    "    print(\"Wrong answer; Try again\")\n",
    "if input(question6) in Right_Answer6:\n",
    "    print('Well Done!')\n",
    "else:\n",
    "    print(\"Wrong answer; Try again\")"
   ]
  },
  {
   "cell_type": "code",
   "execution_count": null,
   "metadata": {},
   "outputs": [],
   "source": []
  }
 ]
}