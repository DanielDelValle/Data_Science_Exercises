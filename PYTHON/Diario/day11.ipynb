{
 "metadata": {
  "language_info": {
   "codemirror_mode": {
    "name": "ipython",
    "version": 3
   },
   "file_extension": ".py",
   "mimetype": "text/x-python",
   "name": "python",
   "nbconvert_exporter": "python",
   "pygments_lexer": "ipython3",
   "version": "3.8.6-final"
  },
  "orig_nbformat": 2,
  "kernelspec": {
   "name": "python38664bitcf068255407b4d4884bd8b39a056de4a",
   "display_name": "Python 3.8.6 64-bit"
  }
 },
 "nbformat": 4,
 "nbformat_minor": 2,
 "cells": [
  {
   "cell_type": "code",
   "execution_count": null,
   "metadata": {},
   "outputs": [],
   "source": [
    "#PROGRAMACION ORIENTADA A OBJETOS\n",
    "#si añadimos else a una list comprehension, se altera el orden:\n",
    "#van primero las condiciones y luego el rango\n"
   ]
  },
  {
   "cell_type": "code",
   "execution_count": null,
   "metadata": {},
   "outputs": [],
   "source": [
    "#CLASS son representacion de un objeto\n",
    "#crear clase 'Ser Humano':\n",
    "class Humano:\n",
    "    ojos = 2\n",
    "    piernas = 2\n",
    "    nombre = None  # no sabemos que poner\n",
    "    edad = None\n",
    "#cada \"especimen\" sería una instancia.Todo somos una instancia del ser humano.\n",
    "#para crear una instancia:\n",
    "juan = Humano()\n",
    "print(juan.ojos)\n",
    "print(juan.piernas)\n",
    "juan.nombre = \"Juan\"\n",
    "juan.nombre"
   ]
  },
  {
   "cell_type": "code",
   "execution_count": 1,
   "metadata": {},
   "outputs": [
    {
     "output_type": "stream",
     "name": "stdout",
     "text": [
      "2\n3\n"
     ]
    }
   ],
   "source": [
    "class humano():\n",
    "    \n",
    "    def __init__(self, o, n, b, p, e):  #función constructora. entre() los argumentos (valores). Si algun arg por                                          defecto, su valor se aplicara en caso de no especificarlo.\n",
    "        self.ojos = o                   #no tiene por qué coincidir en nombre (self.atributo = argumento)\n",
    "        self.nombre = n\n",
    "        self.brazos = b\n",
    "        self.piernas = p\n",
    "        self.edad = e\n",
    "juan = humano(o=2, n=\"Juan\", b=2, p=2, e=12)  #creando una instancia\n",
    "print(juan.ojos)\n",
    "pepe = humano(o=1, n=\"Pepe\", b=2, p=3, e=2)\n",
    "print(pepe.piernas)"
   ]
  },
  {
   "cell_type": "code",
   "execution_count": null,
   "metadata": {},
   "outputs": [],
   "source": [
    "class perro():\n",
    "\n",
    "    def __init__(self, patas, cola, raza, peso, edad, nombre):\n",
    "        self.patas = patas\n",
    "        self.cola = cola\n",
    "        self.raza = raza\n",
    "        self.peso = peso\n",
    "        self.edad = edad\n",
    "        self.nombre = nombre\n",
    "\n",
    "    def cumple_edad(self):\n",
    "        self.edad = self.edad +1\n",
    "        print(\"Feliz Cumple! Ya tienes:\", self.edad, \"años\")\n",
    "\n",
    "\n",
    "\n",
    "rudolf = perro(patas=4, cola=True, raza=\"Pastor Aleman\", peso=25, edad=10, nombre=\"Rudolf\")\n",
    "baxter = perro(patas=4, cola=True, raza=\"Labrador\", peso=12, edad=3, nombre=\"Baxter\")\n",
    "rudolf.cumple_edad()"
   ]
  },
  {
   "cell_type": "code",
   "execution_count": null,
   "metadata": {},
   "outputs": [],
   "source": [
    "print(baxter.edad)\n",
    "baxter.cumple_edad()\n",
    "print(baxter.edad)"
   ]
  },
  {
   "cell_type": "code",
   "execution_count": null,
   "metadata": {},
   "outputs": [],
   "source": [
    "mc = humano(o=2, n=\"MC\", b=2, p=2, e=51)\n",
    "print(mc)# da error por que es como si le dieras a print(funcion).  A las funciones hay que invocarlas, no printarlas(para que nos den el return)\n",
    "mc.brazos"
   ]
  },
  {
   "cell_type": "code",
   "execution_count": 2,
   "metadata": {},
   "outputs": [],
   "source": [
    "class pelota():\n",
    "\n",
    "    def __init__(self, velocidad=0, posicion=0, diametro=0):\n",
    "        self.velocidad = velocidad\n",
    "        self.posicion = posicion\n",
    "        self.diametro = diametro\n",
    "    \n",
    "    def golpear(self, fuerza):             \n",
    "        \n",
    "        velocidad_antigua = self.velocidad\n",
    "        posicion_antigua = self.posicion\n",
    "        \n",
    "        self.velocidad = self.velocidad + fuerza\n",
    "        if self.posicion == 0 or self.velocidad == 0:\n",
    "            self.posicion = self.posicion + self.velocidad*1.5\n",
    "        else:\n",
    "            self.posicion = self.posicion * self.velocidad\n",
    "  \n",
    "        print(\"Velocidad:\", velocidad_antigua, \"-->\", self.velocidad)\n",
    "        print(\"Posicion\", posicion_antigua, \"-->\", self.posicion)\n",
    "    \n",
    "    def parar(self):\n",
    "        self.velocidad = 0\n",
    "        print(\"Se paró. Velocidad -->\", self.velocidad )\n",
    "    \n",
    "    def rajar(self):\n",
    "        self.diametro = self.diametro - 5\n",
    "        print(\"diametro -->\", pelota_tenis.diametro)"
   ]
  },
  {
   "cell_type": "code",
   "execution_count": 3,
   "metadata": {},
   "outputs": [
    {
     "output_type": "stream",
     "name": "stdout",
     "text": [
      "Velocidad: 0 --> 8\nPosicion 0 --> 12.0\n12.0\n"
     ]
    }
   ],
   "source": [
    "   pelota_tenis = pelota(diametro=10)\n",
    "   pelota_tenis.golpear(fuerza=8)\n",
    "   print(pelota_tenis.posicion)"
   ]
  },
  {
   "cell_type": "code",
   "execution_count": null,
   "metadata": {},
   "outputs": [],
   "source": [
    "   pelota_tenis = pelota(diametro=10)\n",
    "   pelota_tenis.golpear(fuerza=80)\n",
    "   print(pelota_tenis.posicion)"
   ]
  },
  {
   "cell_type": "code",
   "execution_count": null,
   "metadata": {},
   "outputs": [],
   "source": [
    "   pelota_tenis = pelota(velocidad=20, diametro=10)\n",
    "   pelota_tenis.golpear(fuerza=80)\n",
    "   pelota_tenis.parar()\n",
    "   pelota_tenis.rajar()\n"
   ]
  },
  {
   "cell_type": "code",
   "execution_count": null,
   "metadata": {},
   "outputs": [],
   "source": [
    "class Lista:\n",
    "\n",
    "    def __init__(self, elementos):\n",
    "        self.elementos = elementos\n",
    "    def append(self, value):\n",
    "        self.elementos.append(value)\n",
    "        return self.elementos   # o return value tambien\n",
    "l = [2, 3, 5, 7]\n",
    "d = l.append(25)\n",
    "print(l)"
   ]
  },
  {
   "cell_type": "code",
   "execution_count": null,
   "metadata": {},
   "outputs": [],
   "source": [
    "l = Lista(elementos=[2, 3, 5, 7])\n",
    "l.append(500)\n",
    "print(l.elementos) "
   ]
  },
  {
   "cell_type": "code",
   "execution_count": null,
   "metadata": {},
   "outputs": [],
   "source": []
  }
 ]
}