# Entero - Integer - Int
x = 7
# Cadena - String - Lista de Caracteres
x = "lorena"

x = 5
y = 7 
z = x + y

x = "lorena"
l = "silvia"
g = x + l 
# las cadenas se concatenan ( g = lorenasilvia)

#No se pueden sumar Int con Str ( g + 7 no es posible)

print(g, z, "lorena")
#Si que pueden "print" diferentes (int, str, etc)

#Cambiar de int a str 
j = 2
j = str(j) 
print(type(j))
j = str(j) + "silvia"
#resultado: 2silvia ---> si queremos un espacio:
#j = str(j) + " " + "silvia"

#cambiar de str a int:
no se puede, no puedes pasar letras a numeros 
(salvo que sean caracteres numericos)

#longitud de una lista de caracteres:
len(cualquier string)  ---> no se pueden leer longitud de numeros

suma +
resta - 
multipl. *
division /
division absoluta //  (ignorando decimales)
Si uno de los 2 divisores es float, tambien el resultado de // seran float.

#decimales son float. Si uno de los 2 a dividir son float,
el resultado tambien lo sera.

suma = 15
print("suma:", suma)

#"""  """: es para comentario descriptivo

i = "hola"
#como string, tiene definidas funciones de por sí
i.{    } #se eligen con el punto
o = i.upper (o =i en mayuscula)