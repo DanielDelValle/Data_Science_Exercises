{
 "metadata": {
  "language_info": {
   "codemirror_mode": {
    "name": "ipython",
    "version": 3
   },
   "file_extension": ".py",
   "mimetype": "text/x-python",
   "name": "python",
   "nbconvert_exporter": "python",
   "pygments_lexer": "ipython3",
   "version": "3.8.6-final"
  },
  "orig_nbformat": 2,
  "kernelspec": {
   "name": "python38664bitcf068255407b4d4884bd8b39a056de4a",
   "display_name": "Python 3.8.6 64-bit"
  }
 },
 "nbformat": 4,
 "nbformat_minor": 2,
 "cells": [
  {
   "cell_type": "code",
   "execution_count": 25,
   "metadata": {},
   "outputs": [
    {
     "output_type": "stream",
     "name": "stdout",
     "text": [
      "1 es menor que 3\nobvio\ninfinito\n['string']\n"
     ]
    },
    {
     "output_type": "execute_result",
     "data": {
      "text/plain": [
       "{'string'}"
      ]
     },
     "metadata": {},
     "execution_count": 25
    }
   ],
   "source": [
    "#Listas:\n",
    "cars = ['bmw', 'audi', 'toyota', 'subaru']\n",
    "#posición (sirve para todo, no solo listas):\n",
    "cars[0] #(la pos.0 será bmw, la [1] audi)\n",
    "#reverse: \n",
    "cars.reverse()\n",
    "#reverse \"literal\": [::-1]\n",
    "x = \"Hola soy Clara\"\n",
    "x[::-1]\n",
    "#hasta/desde[:]\n",
    "x[5:] #desde la 5 incluida,hasta final\n",
    "x[:5] #desde principio hasta 5, sin incluirlo\n",
    "#remove: hay que especificar el elemento a borrar (no vale con posicion)\n",
    "cars.remove(\"audi\") \n",
    "#tambien, >> cars.remove(cars[2]) <<\n",
    "#si hubiese repetidos, elimina el primero que encuentra con ese valor\n",
    "#append:tambien especifico, añade al final de la lista\n",
    "cars.append(\"renault\")\n",
    "#ambos borran/añaden de 1 en una linea\n",
    "#lista dentro de lista: para acceder, simplemente:\n",
    "cars.append([55,76,88])\n",
    "cars[4][2] #accedes a la posicion 2 del elemento 4 \n",
    "\n",
    "#Booleanos: Operadores comparativos (True/False)\n",
    "# == > < >= <=\n",
    "#and (todos cumplen)\n",
    "#or (al menos uno)\n",
    "#if else elif\n",
    "#si IF es true, ELSE es false, y viceversa. No puede valer en ambas.\n",
    "if 1<3:\n",
    "    print(\"1 es menor que 3\")\n",
    "else:\n",
    "    print(\"incierto\") \n",
    "#cada IF es independiente de otro (si hay varios)\n",
    "#NONE = False = 0 = 0.0 = [], \"\", () {}(cualquier coleccion vacia)\n",
    "#todo lo que no es \"NONE\", es true\n",
    "if 1<0:\n",
    "    print(2)\n",
    "elif 2 == 2:\n",
    "    print(\"obvio\")\n",
    "if not 0:\n",
    "    print(\"infinito\")\n",
    "\n",
    "x = True\n",
    "y = False\n",
    "x + y # será igual a 1, ya que equivale a 1 + 0\n",
    "\n",
    "#COLECCIONES\n",
    "#1.Listas 2.String(coleccion de caracteres) 3.Tuplas 4.Conjuntos(set)\n",
    "\n",
    "lista = [2, 5, \"madrid\", [\"casa\", 200, [\"gas\", \"agua\", \"luz\"]]]\n",
    "lista[3][2][1]\n",
    "\n",
    "#3.Tuplas son INMUTABLES. No puedes cambiar sus elementos, pero si puedes cambiar el interior de ellos.\n",
    "#Para modificarla, la pasas a lista con \"list\", accedes y luego a tupla con \"tuple\".\n",
    "\n",
    "#4.Conjuntos(set): No hay repetidos y está ordenado (siempre numerico antes que caracteres)\n",
    " # se hace con \"set\" o con {}. No permite acceder a elementos valor.\n",
    "s = \"string\"\n",
    "s = [s]\n",
    "print(s)\n",
    "set(s)\n",
    "#***** para borrar con remove, debes escribir el valor (no vale posicion)\n"
   ]
  },
  {
   "cell_type": "code",
   "execution_count": null,
   "metadata": {},
   "outputs": [],
   "source": []
  },
  {
   "cell_type": "code",
   "execution_count": null,
   "metadata": {},
   "outputs": [],
   "source": []
  }
 ]
}