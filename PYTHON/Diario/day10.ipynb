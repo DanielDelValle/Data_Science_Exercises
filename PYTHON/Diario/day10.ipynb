{
 "metadata": {
  "language_info": {
   "codemirror_mode": {
    "name": "ipython",
    "version": 3
   },
   "file_extension": ".py",
   "mimetype": "text/x-python",
   "name": "python",
   "nbconvert_exporter": "python",
   "pygments_lexer": "ipython3",
   "version": "3.8.6-final"
  },
  "orig_nbformat": 2,
  "kernelspec": {
   "name": "python38664bitcf068255407b4d4884bd8b39a056de4a",
   "display_name": "Python 3.8.6 64-bit"
  }
 },
 "nbformat": 4,
 "nbformat_minor": 2,
 "cells": [
  {
   "cell_type": "code",
   "execution_count": null,
   "metadata": {},
   "outputs": [],
   "source": [
    "#LIST COMPREHENSION 2ª PARTE\n",
    "l = []\n",
    "for i in range(6):\n",
    "    l.append(i)\n",
    "    print(l)\n",
    "lc = [i for i in range(6)]\n",
    "print('--------------')\n",
    "print(lc)"
   ]
  },
  {
   "cell_type": "code",
   "execution_count": null,
   "metadata": {},
   "outputs": [],
   "source": [
    "def fn(k=None):\n",
    "    if k:\n",
    "        return[]\n",
    "    else:\n",
    "        return [i for i in range(6)]\n",
    "fn()"
   ]
  },
  {
   "cell_type": "code",
   "execution_count": null,
   "metadata": {},
   "outputs": [],
   "source": [
    "def ct(val):\n",
    "    if val > 5:\n",
    "        return True\n",
    "    else: \n",
    "        return False\n",
    "compr = [ x for x in range(10) if ct (val=x)]\n",
    "print(compr)"
   ]
  },
  {
   "cell_type": "code",
   "execution_count": null,
   "metadata": {},
   "outputs": [],
   "source": [
    "def ft(val, limite):\n",
    "    a_retornar = False\n",
    "    if val > limite:\n",
    "        a_retornar = True\n",
    "    return a_retornar\n",
    "\n",
    "def main(lista, limite):\n",
    "    for x in lista:\n",
    "        if ft(val=x, limite=8):     #esto solo se cumple cuando x = 8. \n",
    "            return [i for i in range(x)] #se imprimira una lista del 0 al 8\n",
    "l = list(range(10))\n",
    "print(main(lista=l, limite=8))"
   ]
  },
  {
   "cell_type": "code",
   "execution_count": null,
   "metadata": {},
   "outputs": [],
   "source": [
    "l = [\"st\", 2, [0.1, 1] (8, 2), {2:\"val\"}, {9,5}]  #queremos una lista solo con los numericos\n",
    "lista_numerica = []\n",
    "for x in l:\n",
    "    if isinstance(x, (int, float)):\n",
    "        lista_numerica.append(x)\n",
    "    else:\n",
    "        if isinstance(x, dict):\n",
    "            for e in list(x.items()[0]):\n",
    "                lista_numerica.append(e)\n",
    "print(lista_numerica)"
   ]
  },
  {
   "cell_type": "code",
   "execution_count": null,
   "metadata": {},
   "outputs": [],
   "source": [
    "l = [\"st4\", 2, [0.1, 1], (8, 2), {2:\"val\"}, {9,5}]  #queremos una lista solo con los numericos\n",
    "lista_numerica = []\n",
    "for x in l:\n",
    "    if isinstance(x, (int, float)): #recorrerá los int más externos\n",
    "        lista_numerica.append(x)\n",
    "    else:\n",
    "        if isinstance(x, dict):   #si x es typo dicttionario\n",
    "            for k, v in x.items():  #for x desgranando el diccinario\n",
    "                if isinstance(k, (int, float)):\n",
    "                    lista_numerica.append(k)\n",
    "                if isinstance(v, (int, float)):\n",
    "                    lista_numerica.append(k)\n",
    "        else: #para iterar colecciones (listas, tuplas)\n",
    "            if isinstance(x, str):\n",
    "                continue\n",
    "            else:  #coleccion != str\n",
    "                for elem in x:\n",
    "                    if isinstance(elem, (int, float)): #cada elemento dentro de listas\n",
    "                        lista_numerica.append(elem)\n",
    "print(lista_numerica)"
   ]
  },
  {
   "cell_type": "code",
   "execution_count": 20,
   "metadata": {},
   "outputs": [
    {
     "output_type": "stream",
     "name": "stdout",
     "text": [
      "(2, 'valor')\n('casa', 200)\n"
     ]
    }
   ],
   "source": [
    "d = {2:\"valor\", 'casa': 200}\n",
    "for k in d.items():\n",
    "    print(k)"
   ]
  },
  {
   "cell_type": "code",
   "execution_count": 17,
   "metadata": {},
   "outputs": [
    {
     "output_type": "error",
     "ename": "TypeError",
     "evalue": "check_and_add() missing 1 required positional argument: 'lista'",
     "traceback": [
      "\u001b[1;31m---------------------------------------------------------------------------\u001b[0m",
      "\u001b[1;31mTypeError\u001b[0m                                 Traceback (most recent call last)",
      "\u001b[1;32m<ipython-input-17-c8f6145aedbc>\u001b[0m in \u001b[0;36m<module>\u001b[1;34m\u001b[0m\n\u001b[0;32m      8\u001b[0m     \u001b[1;32mif\u001b[0m \u001b[0misinstance\u001b[0m\u001b[1;33m(\u001b[0m\u001b[0mx\u001b[0m\u001b[1;33m,\u001b[0m \u001b[0mdict\u001b[0m\u001b[1;33m)\u001b[0m\u001b[1;33m:\u001b[0m\u001b[1;33m\u001b[0m\u001b[1;33m\u001b[0m\u001b[0m\n\u001b[0;32m      9\u001b[0m         \u001b[1;32mfor\u001b[0m \u001b[0mk\u001b[0m\u001b[1;33m,\u001b[0m \u001b[0mv\u001b[0m \u001b[1;32min\u001b[0m \u001b[0mx\u001b[0m\u001b[1;33m.\u001b[0m\u001b[0mitems\u001b[0m\u001b[1;33m(\u001b[0m\u001b[1;33m)\u001b[0m\u001b[1;33m:\u001b[0m\u001b[1;33m\u001b[0m\u001b[1;33m\u001b[0m\u001b[0m\n\u001b[1;32m---> 10\u001b[1;33m             \u001b[0mcheck_and_add\u001b[0m\u001b[1;33m(\u001b[0m\u001b[0mk\u001b[0m\u001b[1;33m,\u001b[0m \u001b[1;33m(\u001b[0m\u001b[0mint\u001b[0m\u001b[1;33m,\u001b[0m \u001b[0mfloat\u001b[0m\u001b[1;33m)\u001b[0m\u001b[1;33m)\u001b[0m\u001b[1;33m,\u001b[0m \u001b[0mlista_numerica\u001b[0m\u001b[1;33m\u001b[0m\u001b[1;33m\u001b[0m\u001b[0m\n\u001b[0m\u001b[0;32m     11\u001b[0m             \u001b[0mcheck_and_add\u001b[0m\u001b[1;33m(\u001b[0m\u001b[0mv\u001b[0m\u001b[1;33m,\u001b[0m \u001b[1;33m(\u001b[0m\u001b[0mint\u001b[0m\u001b[1;33m,\u001b[0m \u001b[0mfloat\u001b[0m\u001b[1;33m)\u001b[0m\u001b[1;33m)\u001b[0m\u001b[1;33m,\u001b[0m \u001b[0mlista_numerica\u001b[0m\u001b[1;33m\u001b[0m\u001b[1;33m\u001b[0m\u001b[0m\n\u001b[0;32m     12\u001b[0m     \u001b[1;32melse\u001b[0m\u001b[1;33m:\u001b[0m\u001b[1;33m\u001b[0m\u001b[1;33m\u001b[0m\u001b[0m\n",
      "\u001b[1;31mTypeError\u001b[0m: check_and_add() missing 1 required positional argument: 'lista'"
     ]
    }
   ],
   "source": [
    "#con funcion:\n",
    "l = [\"st4\", 2, [0.1, 1], (8, 2), {2:\"val\"}, {9,5}]\n",
    "lista_numerica = []\n",
    "def check_and_add (elem, types, lista):\n",
    "    if isinstance(elem, types):\n",
    "        lista.append(elem)\n",
    "for x in l:\n",
    "    if isinstance(x, dict):\n",
    "        for k, v in x.items():\n",
    "            check_and_add(k, (int, float)), lista_numerica\n",
    "            check_and_add(v, (int, float)), lista_numerica\n",
    "    else:\n",
    "        if isinstance(x, str):\n",
    "            continue\n",
    "        else:\n",
    "            for elem in x:\n",
    "                check_and_add(elem, (int, float), lista_numerica)\n",
    "print(lista_numerica)"
   ]
  },
  {
   "cell_type": "code",
   "execution_count": null,
   "metadata": {},
   "outputs": [],
   "source": [
    "#LAMBDA\n",
    "def funct_f(d, a):\n",
    "    return (d + 2)/a\n",
    "funct_f(d=3, a=4)\n",
    "#funcion = argumento, argumento: return"
   ]
  },
  {
   "cell_type": "code",
   "execution_count": null,
   "metadata": {},
   "outputs": [],
   "source": [
    "funct_g = lambda d, a: (d + 2)/a  \n",
    "funct_g(d=3, a=4)"
   ]
  },
  {
   "cell_type": "code",
   "execution_count": null,
   "metadata": {},
   "outputs": [],
   "source": [
    "# CON LAMBDA, SI SE APLICA UN IF, ELSE ES OBLIGATORIO\n",
    "def ff(k):\n",
    "    if k > 0:\n",
    "        return(k)\n",
    "ff = lambda k: k if k > 0 else (\"menor de 0\")\n",
    "ff(k=-4)"
   ]
  },
  {
   "cell_type": "code",
   "execution_count": null,
   "metadata": {},
   "outputs": [],
   "source": [
    "lambda_f = lambda d: print(d)\n",
    "def f1(d):\n",
    "    lambda_f(d)\n",
    "    return d\n",
    "gg = lambda k: f1 (d=k) if k > 0 else 2\n",
    "r = gg(k=4)\n",
    "print(r)"
   ]
  },
  {
   "cell_type": "code",
   "execution_count": null,
   "metadata": {},
   "outputs": [],
   "source": [
    "defd is_higher_5(elem):\n",
    "if elem > 5:\n",
    "    retunr elem\n",
    "l = [i for i in range(10)]"
   ]
  },
  {
   "cell_type": "code",
   "execution_count": null,
   "metadata": {},
   "outputs": [],
   "source": [
    "d = {(3, 5, 8, 4, \"s\", (2, 4)): \"f\"}  #DICCIONARIOS PUEDEN TENER TUPLAS COMO KEY, PERO NO LISTAS\n"
   ]
  },
  {
   "cell_type": "code",
   "execution_count": 18,
   "metadata": {},
   "outputs": [
    {
     "output_type": "stream",
     "name": "stdout",
     "text": [
      "[2, 4, 6, 'A', 'B', 'C', 8, 1]\n"
     ]
    }
   ],
   "source": [
    "listado = [(2, 4, 6), ['A', 'B', 'C'], (8,1)]   #simplificar listas anidadas\n",
    "l = [elem_de_tupla for tupla in listado for elem_de_tupla in tupla]\n",
    "print(l)"
   ]
  },
  {
   "cell_type": "code",
   "execution_count": null,
   "metadata": {},
   "outputs": [],
   "source": []
  }
 ]
}