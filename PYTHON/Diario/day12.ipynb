{
 "metadata": {
  "language_info": {
   "codemirror_mode": {
    "name": "ipython",
    "version": 3
   },
   "file_extension": ".py",
   "mimetype": "text/x-python",
   "name": "python",
   "nbconvert_exporter": "python",
   "pygments_lexer": "ipython3",
   "version": "3.8.6-final"
  },
  "orig_nbformat": 2,
  "kernelspec": {
   "name": "python38664bitcf068255407b4d4884bd8b39a056de4a",
   "display_name": "Python 3.8.6 64-bit"
  }
 },
 "nbformat": 4,
 "nbformat_minor": 2,
 "cells": [
  {
   "cell_type": "code",
   "execution_count": 53,
   "metadata": {},
   "outputs": [],
   "source": [
    "#WITH  #al cerrar el with, el archivo se cierra. Solo se puede llamar al alias (as____) dentro del with\n",
    "\n",
    "with open('nombre.txt', mode='a') as nombre_variable:  # mode es modo de apertura: \"a\" es crear si 2no existe, y read&write.\n",
    "    nombre_variable.write('A string to write \\n')       #modo \"r\" es solo read #(de la funcion \"open\")"
   ]
  },
  {
   "cell_type": "code",
   "execution_count": 54,
   "metadata": {},
   "outputs": [],
   "source": [
    "with open('nombre.txt', 'a') as nombre_variable:\n",
    "    nombre_variable.write('otra línea\\n')"
   ]
  },
  {
   "cell_type": "code",
   "execution_count": 55,
   "metadata": {},
   "outputs": [],
   "source": [
    "with open('nombre.txt', 'a', encoding=\"utf-8\") as nombre_variable:  #añadimos el encoding y se copia correctamente\n",
    "    nombre_variable.write('línea máxima\\n')"
   ]
  },
  {
   "cell_type": "code",
   "execution_count": 56,
   "metadata": {},
   "outputs": [],
   "source": [
    "import time\n",
    "with open('nombre.txt', 'a') as open_file:\n",
    "    for i in range(3):\n",
    "        open_file.write('Prueba numerada ' + str(i) + '\\n')\n",
    "        time.sleep(1) #escribira 1 cada segundo"
   ]
  },
  {
   "cell_type": "code",
   "execution_count": 57,
   "metadata": {},
   "outputs": [
    {
     "output_type": "stream",
     "name": "stdout",
     "text": [
      "A string to write \notra línea\nlÃ­nea mÃ¡xima\nPrueba numerada 0\nPrueba numerada 1\nPrueba numerada 2\nA string to write \notra línea\nlÃ­nea mÃ¡xima\nPrueba numerada 0\nPrueba numerada 1\nPrueba numerada 2\n\n"
     ]
    }
   ],
   "source": [
    "#abrir fichero\n",
    "with open('nombre.txt', 'r') as open_file:\n",
    "    all_text = open_file.read()\n",
    "    print(all_text)"
   ]
  },
  {
   "cell_type": "code",
   "execution_count": 58,
   "metadata": {},
   "outputs": [
    {
     "output_type": "stream",
     "name": "stdout",
     "text": [
      "<class 'str'>\nA string to write \n\nSecond line \n\n"
     ]
    }
   ],
   "source": [
    "with open('nombre.txt', 'r') as open_file:\n",
    "    line = open_file.readline()\n",
    "    print(type(line))\n",
    "    print(line)\n",
    "    line = open_file.readline()\n",
    "    print('Second line \\n')"
   ]
  },
  {
   "cell_type": "code",
   "execution_count": 59,
   "metadata": {},
   "outputs": [
    {
     "output_type": "stream",
     "name": "stdout",
     "text": [
      "A string to write \n\notra línea\n\nlÃ­nea mÃ¡xima\n\nPrueba numerada 0\n\nPrueba numerada 1\n\nPrueba numerada 2\n\nA string to write \n\notra línea\n\nlÃ­nea mÃ¡xima\n\nPrueba numerada 0\n\nPrueba numerada 1\n\nPrueba numerada 2\n\n- linea: \n"
     ]
    }
   ],
   "source": [
    "with open('nombre.txt', 'r') as open_file:\n",
    "    line = open_file.readline()   #lee linea a linea\n",
    "    count = 1\n",
    "    while line:  #significa \"mientras line tenga material legible(TRUE).al acabar, será una lista vacia d strings, o FALSE\"\n",
    "        if count == 2:\n",
    "            pass\n",
    "        print(line)\n",
    "        line = open_file.readline()\n",
    "        count +=1\n",
    "    line = open_file.readline()\n",
    "    print(\"- linea:\", line)"
   ]
  },
  {
   "cell_type": "code",
   "execution_count": 60,
   "metadata": {},
   "outputs": [],
   "source": [
    "#readline lee todo, no solo texto (incluso ocultos, codigo, etc)"
   ]
  },
  {
   "cell_type": "code",
   "execution_count": 61,
   "metadata": {},
   "outputs": [
    {
     "output_type": "stream",
     "name": "stdout",
     "text": [
      "Se ha escrito\n"
     ]
    }
   ],
   "source": [
    "with open(\"new_file.ghjkkejn\", \"a\") as new_file: #la extension no extiste,pero aun asi lo crea.Abriendolo con wordpad es legible\n",
    "    new_file.write(\"First Line \\n\")\n",
    "    new_file.write(\"Second Line \\n\")\n",
    "    new_file.write(\"Third Line \\n\")\n",
    "    print(\"Se ha escrito\")"
   ]
  },
  {
   "cell_type": "code",
   "execution_count": 62,
   "metadata": {},
   "outputs": [
    {
     "output_type": "stream",
     "name": "stdout",
     "text": [
      "First Line \n\n"
     ]
    }
   ],
   "source": [
    "with open(\"new_file.ghjkkejn\", \"r\") as new_file: \n",
    "   line = new_file.readline()\n",
    "   print(line)"
   ]
  },
  {
   "cell_type": "code",
   "execution_count": 64,
   "metadata": {},
   "outputs": [
    {
     "output_type": "stream",
     "name": "stdout",
     "text": [
      "First Line \n\n"
     ]
    },
    {
     "output_type": "error",
     "ename": "ValueError",
     "evalue": "I/O operation on closed file.",
     "traceback": [
      "\u001b[1;31m---------------------------------------------------------------------------\u001b[0m",
      "\u001b[1;31mValueError\u001b[0m                                Traceback (most recent call last)",
      "\u001b[1;32m<ipython-input-64-e0e5559c7c5c>\u001b[0m in \u001b[0;36m<module>\u001b[1;34m\u001b[0m\n\u001b[0;32m      6\u001b[0m             \u001b[1;32mbreak\u001b[0m\u001b[1;33m\u001b[0m\u001b[1;33m\u001b[0m\u001b[0m\n\u001b[0;32m      7\u001b[0m         \u001b[0mprint\u001b[0m\u001b[1;33m(\u001b[0m\u001b[0mline\u001b[0m\u001b[1;33m)\u001b[0m\u001b[1;33m\u001b[0m\u001b[1;33m\u001b[0m\u001b[0m\n\u001b[1;32m----> 8\u001b[1;33m         \u001b[0mline\u001b[0m \u001b[1;33m=\u001b[0m \u001b[0mopen_file\u001b[0m\u001b[1;33m.\u001b[0m\u001b[0mreadline\u001b[0m\u001b[1;33m(\u001b[0m\u001b[1;33m)\u001b[0m\u001b[1;33m\u001b[0m\u001b[1;33m\u001b[0m\u001b[0m\n\u001b[0m",
      "\u001b[1;31mValueError\u001b[0m: I/O operation on closed file."
     ]
    }
   ],
   "source": [
    "with open('new_file.ghjkkejn', 'r') as new_file:\n",
    "    line = new_file.readline()\n",
    "    while line:\n",
    "        if \"d\" in line:\n",
    "            print(line)\n",
    "            break\n",
    "        print(line)\n",
    "        line = open_file.readline()"
   ]
  },
  {
   "cell_type": "code",
   "execution_count": null,
   "metadata": {},
   "outputs": [],
   "source": [
    "#funcion split:     convierte los elementos separados en elementos de una lista\n",
    "s = \"Esther | 20000 | 20\"\n",
    "print(s.split (\"|\"))  #estamos indicando que la separacion serádonde hayael simbolo \"|\""
   ]
  },
  {
   "cell_type": "code",
   "execution_count": null,
   "metadata": {},
   "outputs": [],
   "source": [
    "print(s.split (\"|\")[1]) #tambien se puede acceder por posicion al ser lista"
   ]
  },
  {
   "cell_type": "code",
   "execution_count": null,
   "metadata": {},
   "outputs": [],
   "source": []
  }
 ]
}