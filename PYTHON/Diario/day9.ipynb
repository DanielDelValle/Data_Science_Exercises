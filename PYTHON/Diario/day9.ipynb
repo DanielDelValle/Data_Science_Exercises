{
 "metadata": {
  "language_info": {
   "codemirror_mode": {
    "name": "ipython",
    "version": 3
   },
   "file_extension": ".py",
   "mimetype": "text/x-python",
   "name": "python",
   "nbconvert_exporter": "python",
   "pygments_lexer": "ipython3",
   "version": "3.8.6-final"
  },
  "orig_nbformat": 2,
  "kernelspec": {
   "name": "python38664bitcf068255407b4d4884bd8b39a056de4a",
   "display_name": "Python 3.8.6 64-bit"
  }
 },
 "nbformat": 4,
 "nbformat_minor": 2,
 "cells": [
  {
   "cell_type": "code",
   "execution_count": 2,
   "metadata": {},
   "outputs": [
    {
     "output_type": "stream",
     "name": "stdout",
     "text": [
      "a\n2\nb\n4\nc\n6\n"
     ]
    }
   ],
   "source": [
    "#ZIP\n",
    "\n",
    "m3 = [\"a\", \"b\", \"c\"]\n",
    "m4 = [2, 4, 6]\n",
    "for i in range(len(m3)):\n",
    "    print(m3[i])\n",
    "    print(m4[i])"
   ]
  },
  {
   "cell_type": "code",
   "execution_count": 3,
   "metadata": {},
   "outputs": [
    {
     "output_type": "execute_result",
     "data": {
      "text/plain": [
       "[('a', 2), ('b', 4), ('c', 6)]"
      ]
     },
     "metadata": {},
     "execution_count": 3
    }
   ],
   "source": [
    "m5 = list(zip(m3, m4))\n",
    "m5"
   ]
  },
  {
   "cell_type": "code",
   "execution_count": 4,
   "metadata": {},
   "outputs": [
    {
     "output_type": "execute_result",
     "data": {
      "text/plain": [
       "(2, 4)"
      ]
     },
     "metadata": {},
     "execution_count": 4
    }
   ],
   "source": [
    "k = 2, 4\n",
    "k"
   ]
  },
  {
   "cell_type": "code",
   "execution_count": 5,
   "metadata": {},
   "outputs": [
    {
     "output_type": "stream",
     "name": "stdout",
     "text": [
      "2\n4\n"
     ]
    }
   ],
   "source": [
    "j, h = 2, 4\n",
    "print(j)\n",
    "print(h)"
   ]
  },
  {
   "cell_type": "code",
   "execution_count": 6,
   "metadata": {},
   "outputs": [
    {
     "output_type": "stream",
     "name": "stdout",
     "text": [
      "('a', 2)\n('b', 4)\n('c', 6)\n"
     ]
    }
   ],
   "source": [
    "for elem in m5:\n",
    "    print(elem)"
   ]
  },
  {
   "cell_type": "code",
   "execution_count": 7,
   "metadata": {},
   "outputs": [
    {
     "output_type": "stream",
     "name": "stdout",
     "text": [
      "[('a', 2), ('b', 4), ('c', 6)]\na\n2\nb\n4\nc\n6\n"
     ]
    }
   ],
   "source": [
    "print(m5)\n",
    "for e1, e2 in m5:\n",
    "    print(e1)\n",
    "    print(e2)"
   ]
  },
  {
   "cell_type": "code",
   "execution_count": 3,
   "metadata": {},
   "outputs": [
    {
     "output_type": "stream",
     "name": "stdout",
     "text": [
      "[(['a,'], (5, 7)), ([3, 2], ['x']), ((7, 'm'), ['y'])]\n"
     ]
    }
   ],
   "source": [
    "l1 = [[\"a,\"], [3, 2], (7, \"m\")]\n",
    "l2 = [(5, 7), [\"x\"], [\"y\"]]\n",
    "l3 = list(zip(l1, l2))                #siempre pasarlo a tipo list, porque sino es tipo zip y no podemos verlo\n",
    "print(l3)"
   ]
  },
  {
   "cell_type": "code",
   "execution_count": 4,
   "metadata": {},
   "outputs": [
    {
     "output_type": "stream",
     "name": "stdout",
     "text": [
      "[(['a', 'b'], (5, 7)), ([3, 2], ['x', 0]), ((7, 'm'), ['y', -1])]\n['a', 'b']\n"
     ]
    },
    {
     "output_type": "error",
     "ename": "ValueError",
     "evalue": "not enough values to unpack (expected 2, got 1)",
     "traceback": [
      "\u001b[1;31m---------------------------------------------------------------------------\u001b[0m",
      "\u001b[1;31mValueError\u001b[0m                                Traceback (most recent call last)",
      "\u001b[1;32m<ipython-input-4-835ea6a2a212>\u001b[0m in \u001b[0;36m<module>\u001b[1;34m\u001b[0m\n\u001b[0;32m      5\u001b[0m \u001b[1;32mfor\u001b[0m \u001b[0me1\u001b[0m\u001b[1;33m,\u001b[0m \u001b[0me2\u001b[0m \u001b[1;32min\u001b[0m \u001b[0mt3\u001b[0m\u001b[1;33m:\u001b[0m\u001b[1;33m\u001b[0m\u001b[1;33m\u001b[0m\u001b[0m\n\u001b[0;32m      6\u001b[0m     \u001b[0mprint\u001b[0m\u001b[1;33m(\u001b[0m\u001b[0me1\u001b[0m\u001b[1;33m)\u001b[0m\u001b[1;33m\u001b[0m\u001b[1;33m\u001b[0m\u001b[0m\n\u001b[1;32m----> 7\u001b[1;33m     \u001b[1;32mfor\u001b[0m \u001b[0mx\u001b[0m\u001b[1;33m,\u001b[0m \u001b[0my\u001b[0m \u001b[1;32min\u001b[0m \u001b[0me1\u001b[0m\u001b[1;33m:\u001b[0m         \u001b[1;31m#no funciona porque son 2 variables para 1 lista\u001b[0m\u001b[1;33m\u001b[0m\u001b[1;33m\u001b[0m\u001b[0m\n\u001b[0m\u001b[0;32m      8\u001b[0m         \u001b[0mprint\u001b[0m\u001b[1;33m(\u001b[0m\u001b[0my\u001b[0m\u001b[1;33m)\u001b[0m\u001b[1;33m\u001b[0m\u001b[1;33m\u001b[0m\u001b[0m\n\u001b[0;32m      9\u001b[0m     \u001b[1;31m# es igual que si hicieramos for x, y in [1, 2, 3]. Solo añadiendo enumerate valdria\u001b[0m\u001b[1;33m\u001b[0m\u001b[1;33m\u001b[0m\u001b[1;33m\u001b[0m\u001b[0m\n",
      "\u001b[1;31mValueError\u001b[0m: not enough values to unpack (expected 2, got 1)"
     ]
    }
   ],
   "source": [
    "t1 = [[\"a\", \"b\"], [3, 2], (7, \"m\")]\n",
    "t2 = [(5, 7), [\"x\", 0], [\"y\", -1]]\n",
    "t3 = list(zip(t1, t2))\n",
    "print(t3)\n",
    "for e1, e2 in t3:\n",
    "    print(e1)\n",
    "    for x, y in e1:         #no funciona porque son 2 variables para 1 lista\n",
    "        print(y)\n",
    "    # es igual que si hicieramos for x, y in [1, 2, 3]. Solo añadiendo enumerate valdria"
   ]
  },
  {
   "cell_type": "code",
   "execution_count": 5,
   "metadata": {},
   "outputs": [
    {
     "output_type": "stream",
     "name": "stdout",
     "text": [
      "[(['a', 'b'], (5, 7)), ([3, 2], ['x', 0]), ((7, 'm'), ['y', -1])]\n0\n^^^^^^^^^^\n(['a', 'b'], (5, 7))\n1\n^^^^^^^^^^\n([3, 2], ['x', 0])\n2\n^^^^^^^^^^\n((7, 'm'), ['y', -1])\n"
     ]
    }
   ],
   "source": [
    "print(t3)\n",
    "for x, y in enumerate(t3):\n",
    "    print(x)\n",
    "    print(\"^^^^^^^^^^\")\n",
    "    print(y)"
   ]
  },
  {
   "cell_type": "code",
   "execution_count": 8,
   "metadata": {},
   "outputs": [
    {
     "output_type": "error",
     "ename": "TypeError",
     "evalue": "unhashable type: 'list'",
     "traceback": [
      "\u001b[1;31m---------------------------------------------------------------------------\u001b[0m",
      "\u001b[1;31mTypeError\u001b[0m                                 Traceback (most recent call last)",
      "\u001b[1;32m<ipython-input-8-5df5661da071>\u001b[0m in \u001b[0;36m<module>\u001b[1;34m\u001b[0m\n\u001b[0;32m      1\u001b[0m \u001b[1;31m#ZIP PARA GENERAR DICCIONARIOS\u001b[0m\u001b[1;33m\u001b[0m\u001b[1;33m\u001b[0m\u001b[1;33m\u001b[0m\u001b[0m\n\u001b[0;32m      2\u001b[0m \u001b[0md1\u001b[0m \u001b[1;33m=\u001b[0m \u001b[1;33m{\u001b[0m\u001b[1;34m'clave'\u001b[0m\u001b[1;33m:\u001b[0m\u001b[1;36m3\u001b[0m\u001b[1;33m,\u001b[0m \u001b[1;34m'k'\u001b[0m\u001b[1;33m:\u001b[0m\u001b[1;34m'j'\u001b[0m\u001b[1;33m,\u001b[0m \u001b[1;34m'casa'\u001b[0m\u001b[1;33m:\u001b[0m\u001b[1;33m[\u001b[0m\u001b[1;34m'8'\u001b[0m\u001b[1;33m,\u001b[0m \u001b[1;34m'x'\u001b[0m\u001b[1;33m]\u001b[0m\u001b[1;33m}\u001b[0m\u001b[1;33m\u001b[0m\u001b[1;33m\u001b[0m\u001b[0m\n\u001b[1;32m----> 3\u001b[1;33m \u001b[0mm3\u001b[0m \u001b[1;33m=\u001b[0m \u001b[0mdict\u001b[0m\u001b[1;33m(\u001b[0m\u001b[0mzip\u001b[0m\u001b[1;33m(\u001b[0m\u001b[0mt1\u001b[0m\u001b[1;33m,\u001b[0m \u001b[0mt2\u001b[0m\u001b[1;33m)\u001b[0m\u001b[1;33m)\u001b[0m\u001b[1;33m\u001b[0m\u001b[1;33m\u001b[0m\u001b[0m\n\u001b[0m\u001b[0;32m      4\u001b[0m \u001b[0mprint\u001b[0m\u001b[1;33m(\u001b[0m\u001b[0mm3\u001b[0m\u001b[1;33m)\u001b[0m\u001b[1;33m\u001b[0m\u001b[1;33m\u001b[0m\u001b[0m\n",
      "\u001b[1;31mTypeError\u001b[0m: unhashable type: 'list'"
     ]
    }
   ],
   "source": [
    "#ZIP PARA GENERAR DICCIONARIOS\n",
    "d1 = {'clave':3, 'k':'j', 'casa':['8', 'x']}\n",
    "m3 = dict(zip(t1, t2))\n",
    "print(m3)"
   ]
  },
  {
   "cell_type": "code",
   "execution_count": 9,
   "metadata": {},
   "outputs": [
    {
     "output_type": "stream",
     "name": "stdout",
     "text": [
      "{'clave': 3, 'k': 'j', 'casa': ['8', 'x'], 'key': 4}\n"
     ]
    }
   ],
   "source": [
    "#añadir elemento entero a diccionario:\n",
    "d1['key'] = 4\n",
    "print(d1)"
   ]
  },
  {
   "cell_type": "code",
   "execution_count": 12,
   "metadata": {},
   "outputs": [
    {
     "output_type": "stream",
     "name": "stdout",
     "text": [
      "{'clave': 3, 'k': 'j', 'casa': ['8', 'x', 'extra']}\n1\n"
     ]
    }
   ],
   "source": [
    "#añadir elemento a clave concreta:  #si un elemento fuese una tupla, pasarlo antes a lista\n",
    "d1['casa'].append('extra')\n",
    "print(d1)\n",
    "d1[\"casa\"][1] = 'WW'  #sustituye x por WW\n",
    "print(1)\n"
   ]
  },
  {
   "cell_type": "code",
   "execution_count": 13,
   "metadata": {},
   "outputs": [
    {
     "output_type": "stream",
     "name": "stdout",
     "text": [
      "['x', 'y', 0]\n['x', 'y', 0, 1]\n['x', 'y', 0, 1, 2]\n['x', 'y', 0, 1, 2, 3]\n['x', 'y', 0, 1, 2, 3, 4]\n"
     ]
    }
   ],
   "source": [
    "#LIST/DICT COMPREHENSION\n",
    "r = ['x', 'y']\n",
    "r2 = ['w','z']\n",
    "for i in range (5):\n",
    "    r.append(i)\n",
    "    print(r)"
   ]
  },
  {
   "cell_type": "code",
   "execution_count": 5,
   "metadata": {},
   "outputs": [
    {
     "output_type": "stream",
     "name": "stdout",
     "text": [
      "['x', 'y', 0, 1, 2, 3, 4, 'w', 'z']\n"
     ]
    }
   ],
   "source": [
    "r.extend(r2)\n",
    "print(r)"
   ]
  },
  {
   "cell_type": "code",
   "execution_count": null,
   "metadata": {},
   "outputs": [],
   "source": [
    "s = [i for i in range(10)]\n",
    "print(s)"
   ]
  },
  {
   "cell_type": "code",
   "execution_count": null,
   "metadata": {},
   "outputs": [],
   "source": [
    "p = 0\n",
    "s2 = [elem for elem in [2, 5., 9] if isinstance(elem, int)]\n",
    "print(s2)"
   ]
  },
  {
   "cell_type": "code",
   "execution_count": null,
   "metadata": {},
   "outputs": [],
   "source": [
    "p = 0\n",
    "s3 = [p for elem in [2, 5, 9]]    #imprime siempre p, obvio\n",
    "print(s3)"
   ]
  },
  {
   "cell_type": "code",
   "execution_count": null,
   "metadata": {},
   "outputs": [],
   "source": [
    "p = 0\n",
    "s2 = [elem/2 for elem in [2, 5., 9, 17] if isinstance(elem, int)]  #sinonimo de if type(elem) == int\n",
    "print(s2)"
   ]
  },
  {
   "cell_type": "code",
   "execution_count": 14,
   "metadata": {},
   "outputs": [
    {
     "output_type": "stream",
     "name": "stdout",
     "text": [
      "[0, 31, 62, 93]\n"
     ]
    },
    {
     "output_type": "execute_result",
     "data": {
      "text/plain": [
       "4"
      ]
     },
     "metadata": {},
     "execution_count": 14
    }
   ],
   "source": [
    "rango = [x for x in range (100) if x % 31 == 0]\n",
    "print(rango)\n",
    "len(rango)"
   ]
  },
  {
   "cell_type": "code",
   "execution_count": 20,
   "metadata": {},
   "outputs": [
    {
     "output_type": "stream",
     "name": "stdout",
     "text": [
      "[2.0, 5.5, 9.5]\n"
     ]
    }
   ],
   "source": [
    "k = []\n",
    "p = 1\n",
    "v =[2, 5.0, 9 , 17, \"x\"]\n",
    "c = [(elem/2) + p for elem in v if isinstance(elem, int)]\n",
    "\n",
    "print(c)"
   ]
  },
  {
   "cell_type": "code",
   "execution_count": 16,
   "metadata": {},
   "outputs": [
    {
     "output_type": "stream",
     "name": "stdout",
     "text": [
      "[2.0, 5.5, 9.5]\n"
     ]
    }
   ],
   "source": [
    "def is_int(elem):\n",
    "    return type(elem) == int\n",
    "for elem in v:\n",
    "    if is_int(elem=elem):\n",
    "        k.append(elem/2 + p)\n",
    "is_int(2)\n",
    "print(k)"
   ]
  },
  {
   "cell_type": "code",
   "execution_count": 17,
   "metadata": {},
   "outputs": [
    {
     "output_type": "stream",
     "name": "stdout",
     "text": [
      "Clave:  a\nValor:  1\n-------\nClave:  b\nValor:  2\n-------\nClave:  c\nValor:  3\n-------\nClave:  d\nValor:  4\n-------\nClave:  e\nValor:  5\n-------\n"
     ]
    }
   ],
   "source": [
    "dict0 = {'a':1, 'b':2, 'c':3, 'd':4, 'e':5}\n",
    "for (k, v) in dict0.items():\n",
    "    print('Clave: ', k)\n",
    "    print('Valor: ', v)\n",
    "    print('-------')"
   ]
  },
  {
   "cell_type": "code",
   "execution_count": 18,
   "metadata": {},
   "outputs": [
    {
     "output_type": "stream",
     "name": "stdout",
     "text": [
      "{'aa': 2, 'bb': 4, 'cc': 6, 'dd': 8, 'ee': 10}\n"
     ]
    }
   ],
   "source": [
    "double_dict0 = {(k*2) :(v*2) for (k, v) in dict0.items()}  #(equivalente)\n",
    "print(double_dict0)"
   ]
  },
  {
   "cell_type": "code",
   "execution_count": 19,
   "metadata": {},
   "outputs": [
    {
     "output_type": "stream",
     "name": "stdout",
     "text": [
      "{'cc': 6, 'dd': 8, 'ee': 10}\n"
     ]
    }
   ],
   "source": [
    "double_dict0_2 = {(k*2) :(v*2) for (k, v) in dict0.items() if v > 2}\n",
    "print(double_dict0_2)"
   ]
  },
  {
   "cell_type": "code",
   "execution_count": 7,
   "metadata": {
    "tags": []
   },
   "outputs": [
    {
     "output_type": "stream",
     "name": "stdout",
     "text": [
      "Valor de cont 2\nValor de cont 1\ncaso base\n0\n"
     ]
    }
   ],
   "source": [
    "#RECURSIVIDAD\n",
    "\n",
    "def f1(cont):\n",
    "    if cont == 0:\n",
    "        print('caso base')\n",
    "        return cont\n",
    "    else:\n",
    "        print('Valor de cont', cont)\n",
    "        return f1(cont=cont-1)\n",
    "r = f1(cont=2)\n",
    "print(r)"
   ]
  },
  {
   "cell_type": "code",
   "execution_count": null,
   "metadata": {},
   "outputs": [],
   "source": [
    "import time\n",
    "def f_hola():\n",
    "    print('hola')\n",
    "    time.sleep(2)\n",
    "    f_hola()    \n",
    "f_hola()        #bucle,cada 2 segs imprime hola"
   ]
  },
  {
   "cell_type": "code",
   "execution_count": 8,
   "metadata": {},
   "outputs": [
    {
     "output_type": "stream",
     "name": "stdout",
     "text": [
      "0\n1\n2\n3\n4\n"
     ]
    }
   ],
   "source": [
    "#PASS\n",
    "for i in range(5):\n",
    "    if i == 1:\n",
    "        pass      ##aparentemente no sirve de nada\n",
    "    print(i)"
   ]
  },
  {
   "cell_type": "code",
   "execution_count": 10,
   "metadata": {},
   "outputs": [
    {
     "output_type": "error",
     "ename": "IndentationError",
     "evalue": "expected an indented block (<ipython-input-10-c13c4b8fe8fe>, line 7)",
     "traceback": [
      "\u001b[1;36m  File \u001b[1;32m\"<ipython-input-10-c13c4b8fe8fe>\"\u001b[1;36m, line \u001b[1;32m7\u001b[0m\n\u001b[1;33m    def draw_data():\u001b[0m\n\u001b[1;37m    ^\u001b[0m\n\u001b[1;31mIndentationError\u001b[0m\u001b[1;31m:\u001b[0m expected an indented block\n"
     ]
    }
   ],
   "source": [
    "#¿por qué pass?\n",
    "def get_data():\n",
    "    \"\"\"para obtener datos TODO@gabvaztor\"\"\" #tarea por hacer es TODO, el mail es para trabajar en equipo\n",
    "    data = []\n",
    "    return data\n",
    "def clean_data():\n",
    "\n",
    "def draw_data():\n",
    "get_data()"
   ]
  },
  {
   "cell_type": "code",
   "execution_count": null,
   "metadata": {},
   "outputs": [],
   "source": [
    "def get_data():\n",
    "    data = []\n",
    "    return data\n",
    "def clean_data():\n",
    "    pass\n",
    "def draw_data():\n",
    "    pass\n",
    "#nos evitamos el error con pass, ya que no tiene en cuenta las funciones incompletas.\n",
    "#asi las rellenaremos en futuro sin que influyan"
   ]
  }
 ]
}