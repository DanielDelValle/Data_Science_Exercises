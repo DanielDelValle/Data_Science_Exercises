{
 "metadata": {
  "language_info": {
   "codemirror_mode": {
    "name": "ipython",
    "version": 3
   },
   "file_extension": ".py",
   "mimetype": "text/x-python",
   "name": "python",
   "nbconvert_exporter": "python",
   "pygments_lexer": "ipython3",
   "version": "3.8.6-final"
  },
  "orig_nbformat": 2,
  "kernelspec": {
   "name": "python38664bitcf068255407b4d4884bd8b39a056de4a",
   "display_name": "Python 3.8.6 64-bit"
  }
 },
 "nbformat": 4,
 "nbformat_minor": 2,
 "cells": [
  {
   "cell_type": "code",
   "execution_count": 1,
   "metadata": {},
   "outputs": [
    {
     "output_type": "stream",
     "name": "stdout",
     "text": [
      "3500\n"
     ]
    }
   ],
   "source": [
    "#DICCIONARIOS\n",
    "#{KEY : VALOR}\n",
    "#key solo puede ser str or int or float\n",
    "#valor, cualquier cosa(listas, otros dict, etc)\n",
    "#no se pueden repetir keys(cada una es unica)\n",
    "diccionario = {\"casa\":3500}\n",
    "print(diccionario[\"casa\"])"
   ]
  },
  {
   "cell_type": "code",
   "execution_count": 2,
   "metadata": {},
   "outputs": [
    {
     "output_type": "execute_result",
     "data": {
      "text/plain": [
       "{}"
      ]
     },
     "metadata": {},
     "execution_count": 2
    }
   ],
   "source": [
    "#suelen estar encriptados y tener más seguridad\n",
    "#BORRAR KEYS:\n",
    "#LOS DICCIONARIOS NO TIENEN POSICIONES\n",
    "del diccionario[\"casa\"]\n",
    "diccionario"
   ]
  },
  {
   "cell_type": "code",
   "execution_count": 3,
   "metadata": {},
   "outputs": [
    {
     "output_type": "execute_result",
     "data": {
      "text/plain": [
       "5"
      ]
     },
     "metadata": {},
     "execution_count": 3
    }
   ],
   "source": [
    "diccio7 = {\"k\":\"v\", \"brz\":[7,\"y\"], 6:{1.3:[5,\"b\"]}}\n",
    "diccio7[6][1.3][0] #acceso a elementos:no son posiciones, son claves !!!"
   ]
  },
  {
   "cell_type": "code",
   "execution_count": 4,
   "metadata": {},
   "outputs": [
    {
     "output_type": "execute_result",
     "data": {
      "text/plain": [
       "'b'"
      ]
     },
     "metadata": {},
     "execution_count": 4
    }
   ],
   "source": [
    "diccio7[6][1.3][1] #no son posiciones, son claves !!!"
   ]
  },
  {
   "cell_type": "code",
   "execution_count": 5,
   "metadata": {},
   "outputs": [
    {
     "output_type": "execute_result",
     "data": {
      "text/plain": [
       "dict_keys(['k', 'brz', 6])"
      ]
     },
     "metadata": {},
     "execution_count": 5
    }
   ],
   "source": [
    "diccio7.keys()"
   ]
  },
  {
   "cell_type": "code",
   "execution_count": 6,
   "metadata": {},
   "outputs": [
    {
     "output_type": "execute_result",
     "data": {
      "text/plain": [
       "['k', 'brz', 6]"
      ]
     },
     "metadata": {},
     "execution_count": 6
    }
   ],
   "source": [
    "list(diccio7.keys()) #se transforma en  lista"
   ]
  },
  {
   "cell_type": "code",
   "execution_count": 7,
   "metadata": {},
   "outputs": [
    {
     "output_type": "execute_result",
     "data": {
      "text/plain": [
       "dict_values(['v', [7, 'y'], {1.3: [5, 'b']}])"
      ]
     },
     "metadata": {},
     "execution_count": 7
    }
   ],
   "source": [
    "diccio7.values()"
   ]
  },
  {
   "cell_type": "code",
   "execution_count": 8,
   "metadata": {},
   "outputs": [
    {
     "output_type": "execute_result",
     "data": {
      "text/plain": [
       "['v', [7, 'y'], {1.3: [5, 'b']}]"
      ]
     },
     "metadata": {},
     "execution_count": 8
    }
   ],
   "source": [
    "list(diccio7.values())  #se transforma en  lista"
   ]
  },
  {
   "cell_type": "code",
   "execution_count": 9,
   "metadata": {},
   "outputs": [
    {
     "output_type": "stream",
     "name": "stdout",
     "text": [
      "k\nbrz\n6\n"
     ]
    }
   ],
   "source": [
    "for key in  diccio7.keys():\n",
    "    print(key)"
   ]
  },
  {
   "cell_type": "code",
   "execution_count": 10,
   "metadata": {},
   "outputs": [
    {
     "output_type": "stream",
     "name": "stdout",
     "text": [
      "v\n[7, 'y']\n{1.3: [5, 'b']}\n"
     ]
    }
   ],
   "source": [
    "for value in diccio7.values():\n",
    "    print(value)"
   ]
  },
  {
   "cell_type": "code",
   "execution_count": 11,
   "metadata": {},
   "outputs": [
    {
     "output_type": "stream",
     "name": "stdout",
     "text": [
      "k : v\nbrz : [7, 'y']\n6 : {1.3: [5, 'b']}\n"
     ]
    }
   ],
   "source": [
    "for key, value in diccio7.items():\n",
    "    print(key, \":\", value)"
   ]
  },
  {
   "cell_type": "code",
   "execution_count": 12,
   "metadata": {},
   "outputs": [],
   "source": [
    "for key, value in diccio7.items():\n",
    "    if type(key) == int and key > 6:\n",
    "        print(key, \"-->\", value)"
   ]
  },
  {
   "cell_type": "code",
   "execution_count": 13,
   "metadata": {},
   "outputs": [],
   "source": [
    "#si en las keys hubiese floats mezclados con int, o simplemente para asegurar:\n",
    "for key, value in diccio7.items():\n",
    "    if (type(key) == int or type(key) == float) and key > 6:   #asi no excluimos floats\n",
    "        print(key, \"-->\", value)"
   ]
  },
  {
   "cell_type": "code",
   "execution_count": 14,
   "metadata": {},
   "outputs": [
    {
     "output_type": "stream",
     "name": "stdout",
     "text": [
      "Iteracion numero: 1\nk --> v\n#########\nIteracion numero: 2\nbrz --> [7, 'y']\n#########\nIteracion numero: 3\n6 --> {1.3: [5, 'b']}\n#########\n"
     ]
    }
   ],
   "source": [
    "for pos, (key, value) in enumerate(diccio7.items()):\n",
    "    print(\"Iteracion numero:\", pos+1)\n",
    "    print(key, '-->', value)\n",
    "    print('#########')"
   ]
  },
  {
   "cell_type": "code",
   "execution_count": 15,
   "metadata": {},
   "outputs": [
    {
     "output_type": "stream",
     "name": "stdout",
     "text": [
      "0\nk --> v\n#########\n1\nbrz --> [7, 'y']\n#########\n2\n6 --> {1.3: [5, 'b']}\n#########\n"
     ]
    }
   ],
   "source": [
    "for pos, (key, value) in enumerate(diccio7.items()):\n",
    "    print(pos)\n",
    "    print(key, '-->', value)\n",
    "    print('#########')"
   ]
  },
  {
   "cell_type": "code",
   "execution_count": 16,
   "metadata": {},
   "outputs": [
    {
     "output_type": "execute_result",
     "data": {
      "text/plain": [
       "[('k', 'v'), ('brz', [7, 'y']), (6, {1.3: [5, 'b']})]"
      ]
     },
     "metadata": {},
     "execution_count": 16
    }
   ],
   "source": [
    "list(diccio7.items())  #informa con tuplas"
   ]
  },
  {
   "cell_type": "code",
   "execution_count": 17,
   "metadata": {},
   "outputs": [
    {
     "output_type": "stream",
     "name": "stdout",
     "text": [
      "v\n"
     ]
    }
   ],
   "source": [
    "#recorrer una lista dentro de una clave \n",
    "for key, value in diccio7.items():\n",
    "    if key == \"k\":\n",
    "        for x in value:\n",
    "            print(x)"
   ]
  },
  {
   "cell_type": "code",
   "execution_count": 18,
   "metadata": {},
   "outputs": [
    {
     "output_type": "execute_result",
     "data": {
      "text/plain": [
       "{'k': 'WW', 'brz': [7, 'y'], 6: {1.3: [5, 'b']}}"
      ]
     },
     "metadata": {},
     "execution_count": 18
    }
   ],
   "source": [
    "#actualizar el valor asociado a una key (no se puede modificar key[solo borrarla], pero si sus valores)\n",
    "diccio7[\"k\"] = \"WW\"  #se escribe la key para acceder\n",
    "diccio7"
   ]
  },
  {
   "cell_type": "code",
   "execution_count": 19,
   "metadata": {},
   "outputs": [
    {
     "output_type": "stream",
     "name": "stdout",
     "text": [
      "{'k': 'WW', 'brz': [7, 'y', 'ZZ'], 6: {1.3: [5, 'b']}}\n{'k': 'WW', 'brz': [7, 'y'], 6: {1.3: [5, 'b']}}\n{'k': 'WW', 'brz': [7], 6: {1.3: [5, 'b']}}\n"
     ]
    }
   ],
   "source": [
    "diccio7[\"brz\"].append('ZZ')\n",
    "print(diccio7)\n",
    "diccio7[\"brz\"].remove('ZZ') #elimina valor concreto de lista con key\"brz\"\n",
    "print(diccio7)\n",
    "diccio7[\"brz\"].pop(1) #(elimina posicion 1 lista perteneciente a key\"brz\"\n",
    "print(diccio7)"
   ]
  },
  {
   "cell_type": "code",
   "execution_count": 20,
   "metadata": {},
   "outputs": [
    {
     "output_type": "stream",
     "name": "stdout",
     "text": [
      "None\n"
     ]
    }
   ],
   "source": [
    "#añadir un diccionario a otro\n",
    "d1 = {8: [8, 9]}\n",
    "d2 = {\"a\":\"hola\"}\n",
    "d3 = d1.update(d2)  #la funcion update no tiene return, por eso sale \"none\"\n",
    "print(d3)"
   ]
  },
  {
   "cell_type": "code",
   "execution_count": 21,
   "metadata": {},
   "outputs": [
    {
     "output_type": "execute_result",
     "data": {
      "text/plain": [
       "{8: [8, 9], 'a': 'hola'}"
      ]
     },
     "metadata": {},
     "execution_count": 21
    }
   ],
   "source": [
    "d1.update(d2)\n",
    "d1"
   ]
  },
  {
   "cell_type": "code",
   "execution_count": 22,
   "metadata": {},
   "outputs": [
    {
     "output_type": "execute_result",
     "data": {
      "text/plain": [
       "[2, 7, 6]"
      ]
     },
     "metadata": {},
     "execution_count": 22
    }
   ],
   "source": [
    "def add_to_list(lista, to_add):\n",
    "    lista.append(to_add)\n",
    "    return lista\n",
    "l = [2,7]\n",
    "add_to_list(lista=l, to_add=6)   #tambien serviria\" add_to_list(l, 6)\", pero en buenas practicas se indica cada variable"
   ]
  },
  {
   "cell_type": "code",
   "execution_count": 23,
   "metadata": {},
   "outputs": [
    {
     "output_type": "execute_result",
     "data": {
      "text/plain": [
       "(2, 7)"
      ]
     },
     "metadata": {},
     "execution_count": 23
    }
   ],
   "source": [
    "#retornar mas de 1 elemento\n",
    "k = 2, 7\n",
    "k"
   ]
  },
  {
   "cell_type": "code",
   "execution_count": 24,
   "metadata": {},
   "outputs": [
    {
     "output_type": "stream",
     "name": "stdout",
     "text": [
      "2\n7\n"
     ]
    }
   ],
   "source": [
    "k, j = 2, 7\n",
    "print(k)\n",
    "print(j)        #deben ser el mismo numero de items q de variables"
   ]
  },
  {
   "cell_type": "code",
   "execution_count": 25,
   "metadata": {},
   "outputs": [
    {
     "output_type": "error",
     "ename": "ValueError",
     "evalue": "too many values to unpack (expected 2)",
     "traceback": [
      "\u001b[1;31m---------------------------------------------------------------------------\u001b[0m",
      "\u001b[1;31mValueError\u001b[0m                                Traceback (most recent call last)",
      "\u001b[1;32m<ipython-input-25-75bbf75f96af>\u001b[0m in \u001b[0;36m<module>\u001b[1;34m\u001b[0m\n\u001b[1;32m----> 1\u001b[1;33m \u001b[0mk\u001b[0m\u001b[1;33m,\u001b[0m \u001b[0mj\u001b[0m\u001b[1;33m,\u001b[0m \u001b[1;33m=\u001b[0m \u001b[1;36m28\u001b[0m\u001b[1;33m,\u001b[0m \u001b[1;36m9\u001b[0m\u001b[1;33m,\u001b[0m \u001b[1;36m0\u001b[0m\u001b[1;33m,\u001b[0m \u001b[1;36m1\u001b[0m\u001b[1;33m\u001b[0m\u001b[1;33m\u001b[0m\u001b[0m\n\u001b[0m",
      "\u001b[1;31mValueError\u001b[0m: too many values to unpack (expected 2)"
     ]
    }
   ],
   "source": [
    "k, j, = 28, 9, 0, 1"
   ]
  },
  {
   "cell_type": "code",
   "execution_count": 26,
   "metadata": {},
   "outputs": [
    {
     "output_type": "stream",
     "name": "stdout",
     "text": [
      "(3, 6, 8)\n(5, 2, 3)\n"
     ]
    }
   ],
   "source": [
    "def f():\n",
    "    return 3, 6, 8\n",
    "def g():\n",
    "    return 5, 2, 3\n",
    "q, h = f(), g()    \n",
    "print(q)\n",
    "print(h)"
   ]
  },
  {
   "cell_type": "code",
   "execution_count": null,
   "metadata": {},
   "outputs": [],
   "source": [
    "#funciones con valor / parametro por defecto:\n",
    "\n",
    "def nombre_func_por_def(param=2, y = 5):\n",
    "    return param, y\n",
    "x = nombre_func_por_def()    # al pedir los 2, establece tupla\n",
    "x"
   ]
  },
  {
   "cell_type": "code",
   "execution_count": null,
   "metadata": {},
   "outputs": [],
   "source": [
    "def nombre_func_por_def(param=2, y = 5):\n",
    "    return param\n",
    "x = nombre_func_por_def()   #si no se especifica param, usara el de por defecto\n",
    "x"
   ]
  },
  {
   "cell_type": "code",
   "execution_count": null,
   "metadata": {},
   "outputs": [],
   "source": [
    "def nombre_func_por_def(param=2, y = 5):\n",
    "    return param, y\n",
    "x = nombre_func_por_def(3)      #tiene prioridad el parametro con el que se invoca la funcion\n",
    "x"
   ]
  },
  {
   "cell_type": "code",
   "execution_count": null,
   "metadata": {},
   "outputs": [],
   "source": [
    "def nombre_func_por_def(param, y):\n",
    "    return param + y\n",
    "x = nombre_func_por_def(param=5, y =6)\n",
    "x"
   ]
  },
  {
   "cell_type": "code",
   "execution_count": null,
   "metadata": {},
   "outputs": [],
   "source": [
    "def nombre_func_por_def(y, param=5):\n",
    "    return param + y\n",
    "x = nombre_func_por_def(7)\n",
    "x\n",
    "    \n",
    "    #si alguno de los valores no tiene argumento, habrá que concretarlo.\n",
    "                                    # para que esto funcione, los valores a sustituir deben estar a la dcha                                             de los indeterminados\n"
   ]
  },
  {
   "cell_type": "code",
   "execution_count": null,
   "metadata": {},
   "outputs": [],
   "source": [
    "def nombre_func_por_def(y, param=5):\n",
    "    return param + y\n",
    "x = nombre_func_por_def(7,4)\n",
    "x"
   ]
  },
  {
   "cell_type": "code",
   "execution_count": null,
   "metadata": {},
   "outputs": [],
   "source": [
    "def nombre_func_por_def(y, param=5):\n",
    "    return param + y\n",
    "x = nombre_func_por_def(y=7, param =5)"
   ]
  },
  {
   "cell_type": "code",
   "execution_count": null,
   "metadata": {},
   "outputs": [],
   "source": [
    "def nombre_func_por_def(y, param=5):\n",
    "    return param + y\n",
    "x = nombre_func_por_def(7, param =5)\n",
    "x"
   ]
  },
  {
   "cell_type": "code",
   "execution_count": null,
   "metadata": {},
   "outputs": [],
   "source": [
    "def nombre_func_por_def(y, param=5, h=1, p):\n",
    "    return param + y\n",
    "x = nombre_func_por_def(y=7, param =5)\n",
    "x\n",
    "#no funciona porque todas las variables deben estar definidas en la funcion, o en su defecto, al ser llamada"
   ]
  },
  {
   "cell_type": "code",
   "execution_count": null,
   "metadata": {},
   "outputs": [],
   "source": [
    "def nombre_func_por_def(y, param=5, h=1, p):\n",
    "    return param + y\n",
    "x = nombre_func_por_def(y=7, param =5, p=8)\n",
    "x\n",
    "#no funciona porque \"p\" esta a la derecha  de los ya definidos"
   ]
  },
  {
   "cell_type": "code",
   "execution_count": null,
   "metadata": {},
   "outputs": [],
   "source": [
    "def nombre_func_por_def(p, y, param=5, h=1):\n",
    "    return param + y\n",
    "x = nombre_func_por_def(y=7, param =5, p=8)\n",
    "x"
   ]
  },
  {
   "cell_type": "code",
   "execution_count": null,
   "metadata": {},
   "outputs": [],
   "source": [
    "def get_last_value(lista, position=-1):\n",
    "    if len(lista) > 0:  #si hay algun elemento en la lista\n",
    "        return lista[position]\n",
    "    else:\n",
    "        return \"no hay elementos\"\n",
    "listado = [\"m\", 2, 7, \"g\"]\n",
    "x = get_last_value(lista=listado, position=3)\n",
    "print(x)"
   ]
  },
  {
   "cell_type": "code",
   "execution_count": null,
   "metadata": {},
   "outputs": [],
   "source": [
    "listado = [2, \"8\", [6, \"joven\"], \"casa\", \"coche\", \"pepino\", [9, 8]\n",
    "def tyu(listado):\n",
    "    for x in listado:\n",
    "        if x == listado[2]:\n",
    "            print(x[0]) \n",
    "        elif x == \"casa\":\n",
    "            continue\n",
    "        elif x == listado[-1]:\n",
    "            print(x[1])\n",
    "        else:\n",
    "            print(x)\n",
    "    return x\n",
    "tyu(listado)"
   ]
  },
  {
   "cell_type": "code",
   "execution_count": null,
   "metadata": {},
   "outputs": [],
   "source": []
  }
 ]
}