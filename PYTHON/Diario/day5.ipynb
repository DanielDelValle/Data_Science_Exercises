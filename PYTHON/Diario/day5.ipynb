{
 "metadata": {
  "language_info": {
   "codemirror_mode": {
    "name": "ipython",
    "version": 3
   },
   "file_extension": ".py",
   "mimetype": "text/x-python",
   "name": "python",
   "nbconvert_exporter": "python",
   "pygments_lexer": "ipython3",
   "version": "3.8.6-final"
  },
  "orig_nbformat": 2,
  "kernelspec": {
   "name": "python38664bitcf068255407b4d4884bd8b39a056de4a",
   "display_name": "Python 3.8.6 64-bit"
  }
 },
 "nbformat": 4,
 "nbformat_minor": 2,
 "cells": [
  {
   "cell_type": "code",
   "execution_count": 8,
   "metadata": {},
   "outputs": [
    {
     "output_type": "stream",
     "name": "stdout",
     "text": [
      "2\n"
     ]
    }
   ],
   "source": [
    "#INDEX es para encontrar posicion de valor.\n",
    "lista = [1, 2, \"casa\", \"perro\"]\n",
    "pos = lista.index(\"casa\")\n",
    "print(pos)"
   ]
  },
  {
   "cell_type": "code",
   "execution_count": 9,
   "metadata": {},
   "outputs": [
    {
     "output_type": "stream",
     "name": "stdout",
     "text": [
      "0 ('casa', 5000)\n1 ('perro', 12)\n2 ('piscina', 200)\n"
     ]
    }
   ],
   "source": [
    "lista = ((\"casa\", 5000),('perro', 12), ('piscina', 200))\n",
    "for item, cost in enumerate (lista):\n",
    "    print(item, cost)"
   ]
  },
  {
   "cell_type": "code",
   "execution_count": 10,
   "metadata": {},
   "outputs": [
    {
     "output_type": "stream",
     "name": "stdout",
     "text": [
      "casa 5000\n",
      "perro 12\n",
      "piscina 200\n"
     ]
    }
   ],
   "source": [
    "for item, cost in lista:\n",
    "    print(item, cost)                # CON ENUMERATE TE INDICA LA POSICION"
   ]
  },
  {
   "cell_type": "code",
   "execution_count": 11,
   "metadata": {},
   "outputs": [
    {
     "output_type": "stream",
     "name": "stdout",
     "text": [
      "0 : 2\n1 : 4\n2 : c\n3 : [7, 'a, 7']\n"
     ]
    }
   ],
   "source": [
    "listado = [2, \"4\", \"c\", [7, 'a, 7']]\n",
    "i = 0\n",
    "for x in listado:\n",
    "    print(i, \":\", x)\n",
    "    i += 1"
   ]
  },
  {
   "cell_type": "code",
   "execution_count": 12,
   "metadata": {},
   "outputs": [
    {
     "output_type": "stream",
     "name": "stdout",
     "text": [
      "0 ---> 2\n1 ---> 4\n2 ---> c\n3 ---> [7, 'a, 7']\n"
     ]
    }
   ],
   "source": [
    "listado = [2, \"4\", \"c\", [7, 'a, 7']]\n",
    "i = 0\n",
    "for x in listado:\n",
    "    print(i, \"--->\", x)\n",
    "    i += 1"
   ]
  },
  {
   "cell_type": "code",
   "execution_count": 13,
   "metadata": {},
   "outputs": [
    {
     "output_type": "stream",
     "name": "stdout",
     "text": [
      "pos de 7: 0\n"
     ]
    }
   ],
   "source": [
    "listado = [2, \"4\", \"c\", [7, 'a', 7]]  #para encontrar el primer \"7\":\n",
    "i = 0\n",
    "for x in listado:\n",
    "    if i == 3:  # así accedemos a la sublista ([3])\n",
    "     print(\"pos de 7:\", x.index(7))\n",
    "    i += 1           #---->es un acumulador que nosotros creamos. "
   ]
  },
  {
   "cell_type": "code",
   "execution_count": 14,
   "metadata": {},
   "outputs": [
    {
     "output_type": "execute_result",
     "data": {
      "text/plain": [
       "True"
      ]
     },
     "metadata": {},
     "execution_count": 14
    }
   ],
   "source": [
    "m = [\"primer\", 2, \"tercer\", 4]\n",
    "\"tercer\" in m"
   ]
  },
  {
   "cell_type": "code",
   "execution_count": 15,
   "metadata": {},
   "outputs": [
    {
     "output_type": "stream",
     "name": "stdout",
     "text": [
      "[2, 3, 3, 3, 3, 3, 4]\n[2, 3, 3, 3, 3, 4]\n[2, 3, 3, 3, 4]\n[2, 3, 3, 4]\n"
     ]
    }
   ],
   "source": [
    "m2 = [2, 3, 3, 3, 3, 3, 4]  #queremos eliminar los 3\n",
    "for x in m2:\n",
    "    if x == 3:\n",
    "        m2.remove(3)   #tambien valdría m2.remove(x)\n",
    "    print(m2)                   # es erroneo, en pythontutor se ve claro. El fallo es que con cada iteración, la                                   lista se ve modificada y por tando la posicion de los \"3\",saltándose algunos."
   ]
  },
  {
   "cell_type": "code",
   "execution_count": 16,
   "metadata": {},
   "outputs": [
    {
     "output_type": "stream",
     "name": "stdout",
     "text": [
      "[2, 3, 3, 3, 3, 3, 3, 3, 4, 66]\n[2, 3, 3, 3, 3, 3, 3, 4, 66]\n[2, 3, 3, 3, 3, 3, 4, 66]\n[2, 3, 3, 3, 3, 4, 66]\n[2, 3, 3, 3, 4, 66]\n[2, 3, 3, 4, 66]\n[2, 3, 4, 66]\n[2, 4, 66]\n"
     ]
    }
   ],
   "source": [
    "#solución:\n",
    "m2 = [2, 3, 3, 3, 3, 3, 3, 3, 3, 4, 66] \n",
    "for i in range(len(m2)):\n",
    "    if 3 in m2:\n",
    "        m2.remove(3)\n",
    "        print(m2)           #así, hará tantas iteraciones como tiene la lista m2\n",
    "                            #aun asi, para hacerlo mejor, ya que len(m2) se modifica a medida que se eliminan                                valores, es mejor especificar ese len mediante su valor o estableciendo equivalencia                             con variable."
   ]
  },
  {
   "cell_type": "code",
   "execution_count": 17,
   "metadata": {},
   "outputs": [
    {
     "output_type": "stream",
     "name": "stdout",
     "text": [
      "11\n[2, 3, 3, 3, 3, 3, 3, 3, 4, 66]\n[2, 3, 3, 3, 3, 3, 3, 4, 66]\n[2, 3, 3, 3, 3, 3, 4, 66]\n[2, 3, 3, 3, 3, 4, 66]\n[2, 3, 3, 3, 4, 66]\n[2, 3, 3, 4, 66]\n[2, 3, 4, 66]\n[2, 4, 66]\n"
     ]
    }
   ],
   "source": [
    "m2 = [2, 3, 3, 3, 3, 3, 3, 3, 3, 4, 66] \n",
    "tamano = len(m2)\n",
    "print(tamano)\n",
    "for i in range(11):\n",
    "    if 3 in m2:\n",
    "        m2.remove(3)\n",
    "        print(m2)   "
   ]
  },
  {
   "cell_type": "code",
   "execution_count": 18,
   "metadata": {},
   "outputs": [
    {
     "output_type": "stream",
     "name": "stdout",
     "text": [
      "[2, 3, 3, 3, 3, 3, 3, 3, 3, 4, 66]\n"
     ]
    },
    {
     "output_type": "error",
     "ename": "ValueError",
     "evalue": "list.remove(x): x not in list",
     "traceback": [
      "\u001b[1;31m---------------------------------------------------------------------------\u001b[0m",
      "\u001b[1;31mValueError\u001b[0m                                Traceback (most recent call last)",
      "\u001b[1;32m<ipython-input-18-d3a99292ef4e>\u001b[0m in \u001b[0;36m<module>\u001b[1;34m\u001b[0m\n\u001b[0;32m      2\u001b[0m \u001b[1;32mfor\u001b[0m \u001b[0mx\u001b[0m \u001b[1;32min\u001b[0m \u001b[0mm2\u001b[0m\u001b[1;33m:\u001b[0m\u001b[1;33m\u001b[0m\u001b[1;33m\u001b[0m\u001b[0m\n\u001b[0;32m      3\u001b[0m     \u001b[1;32mwhile\u001b[0m \u001b[0mx\u001b[0m \u001b[1;33m==\u001b[0m \u001b[1;36m3\u001b[0m\u001b[1;33m:\u001b[0m\u001b[1;33m\u001b[0m\u001b[1;33m\u001b[0m\u001b[0m\n\u001b[1;32m----> 4\u001b[1;33m         \u001b[0mm2\u001b[0m\u001b[1;33m.\u001b[0m\u001b[0mremove\u001b[0m\u001b[1;33m(\u001b[0m\u001b[0mx\u001b[0m\u001b[1;33m)\u001b[0m\u001b[1;33m\u001b[0m\u001b[1;33m\u001b[0m\u001b[0m\n\u001b[0m\u001b[0;32m      5\u001b[0m     \u001b[0mprint\u001b[0m\u001b[1;33m(\u001b[0m\u001b[0mm2\u001b[0m\u001b[1;33m)\u001b[0m\u001b[1;33m\u001b[0m\u001b[1;33m\u001b[0m\u001b[0m\n",
      "\u001b[1;31mValueError\u001b[0m: list.remove(x): x not in list"
     ]
    }
   ],
   "source": [
    "m2 = [2, 3, 3, 3, 3, 3, 3, 3, 3, 4, 66] \n",
    "for x in m2:\n",
    "    while x == 3:\n",
    "        m2.remove(x)\n",
    "    print(m2)"
   ]
  },
  {
   "cell_type": "code",
   "execution_count": 1,
   "metadata": {},
   "outputs": [],
   "source": [
    "#FUNCIONES\n",
    "\n",
    "#su objetivo es \"envolver\" codigo, para luego usarse de forma más cómoda\n",
    "#def nombre_función():\n",
    "    #print(\"hola\")\n",
    "    #para llamar o invocar a la función, se hace: --------nombre_funcion()----------\n",
    "def multioperador():\n",
    "    print(\"suma :\", x + y)\n",
    "    print(\"resta :\", x - y)\n",
    "    print(\"division :\", x / y)\n",
    "    print(\"multiplicacion :\", x * y)"
   ]
  },
  {
   "cell_type": "code",
   "execution_count": 2,
   "metadata": {},
   "outputs": [
    {
     "output_type": "stream",
     "name": "stdout",
     "text": [
      "suma : 9\nresta : -5\ndivision : 0.2857142857142857\nmultiplicacion : 14\n"
     ]
    }
   ],
   "source": [
    "x = 2\n",
    "y = 7\n",
    "multioperador()"
   ]
  },
  {
   "cell_type": "code",
   "execution_count": 15,
   "metadata": {},
   "outputs": [
    {
     "output_type": "execute_result",
     "data": {
      "text/plain": [
       "48"
      ]
     },
     "metadata": {},
     "execution_count": 15
    }
   ],
   "source": [
    "def suma_2_argumentos (a, b):\n",
    "    'Esta función suma los valores introducidos'\n",
    "    a = int(a)\n",
    "    b = int(b)\n",
    "    return a + b\n",
    "suma_2_argumentos(a=8, b=\"40\")"
   ]
  },
  {
   "cell_type": "code",
   "execution_count": 29,
   "metadata": {},
   "outputs": [],
   "source": [
    "#FUNCION CON INPUT\n",
    "def f():\n",
    "    x = int(input())\n",
    "    y = int(input())\n",
    "    return x / y"
   ]
  },
  {
   "cell_type": "code",
   "execution_count": 28,
   "metadata": {},
   "outputs": [
    {
     "output_type": "stream",
     "name": "stdout",
     "text": [
      "[2, 4, 6, 9]\n"
     ]
    }
   ],
   "source": [
    "def add_element(lista, to_add):#va a añadir 1 elemento a una lista cualquiera\n",
    "    lista.append(to_add)\n",
    "m = [2, 4, 6]\n",
    "to_add = 9\n",
    "add_element(lista=m, to_add=9)\n",
    "print(m)"
   ]
  },
  {
   "cell_type": "code",
   "execution_count": 36,
   "metadata": {},
   "outputs": [
    {
     "output_type": "error",
     "ename": "NameError",
     "evalue": "name 'n' is not defined",
     "traceback": [
      "\u001b[1;31m---------------------------------------------------------------------------\u001b[0m",
      "\u001b[1;31mNameError\u001b[0m                                 Traceback (most recent call last)",
      "\u001b[1;32m<ipython-input-36-3ac216e7b081>\u001b[0m in \u001b[0;36m<module>\u001b[1;34m\u001b[0m\n\u001b[0;32m      4\u001b[0m     \u001b[0mn\u001b[0m \u001b[1;33m=\u001b[0m \u001b[1;36m8\u001b[0m\u001b[1;33m\u001b[0m\u001b[1;33m\u001b[0m\u001b[0m\n\u001b[0;32m      5\u001b[0m \u001b[0mk\u001b[0m\u001b[1;33m(\u001b[0m\u001b[1;33m)\u001b[0m\u001b[1;33m\u001b[0m\u001b[1;33m\u001b[0m\u001b[0m\n\u001b[1;32m----> 6\u001b[1;33m \u001b[0mprint\u001b[0m\u001b[1;33m(\u001b[0m\u001b[0mn\u001b[0m\u001b[1;33m)\u001b[0m     \u001b[1;31m#da error porque \"n\" está dentro de la función(variable local), asi que no está definido y se borra                tras ejecutarse la funcion.\u001b[0m\u001b[1;33m\u001b[0m\u001b[1;33m\u001b[0m\u001b[0m\n\u001b[0m\u001b[0;32m      7\u001b[0m              \u001b[1;31m#habría que printarlo dentro de la funcion\u001b[0m\u001b[1;33m\u001b[0m\u001b[1;33m\u001b[0m\u001b[1;33m\u001b[0m\u001b[0m\n",
      "\u001b[1;31mNameError\u001b[0m: name 'n' is not defined"
     ]
    }
   ],
   "source": [
    "def k():\n",
    "    z = 2\n",
    "    w = 3\n",
    "    n = 8\n",
    "k()\n",
    "print(n)     #da error porque \"n\" está dentro de la función(variable local), asi que no está definido y se borra                tras ejecutarse la funcion.\n",
    "             #habría que printarlo dentro de la funcion"
   ]
  },
  {
   "cell_type": "code",
   "execution_count": 59,
   "metadata": {},
   "outputs": [
    {
     "output_type": "stream",
     "name": "stdout",
     "text": [
      "True\n"
     ]
    }
   ],
   "source": [
    "def g(m):\n",
    "    \"\"\"Devuelve True si la lista 'm' contiene un número mayor a 5\"\"\"\n",
    "    for i in m:\n",
    "        if i > 5:\n",
    "            return True\n",
    "\n",
    "casa = [2, 4, 5, 9, 18, 20]\n",
    "z = g(m=casa)\n",
    "print(z)     # en cuanto encuentra el primero que cumple, y al tener RETURN (actua como un break, es lo ultimo que hace la funcion), deja de checkear el resto (18, 20). Si el objetivo es saber si hay al menos uno, está bien."
   ]
  },
  {
   "cell_type": "code",
   "execution_count": 66,
   "metadata": {},
   "outputs": [
    {
     "output_type": "stream",
     "name": "stdout",
     "text": [
      "6\n"
     ]
    }
   ],
   "source": [
    "def s(m):\n",
    "    \"\"\"Devuelve el número de valores mayor a 5 que hay en lista 's'\"\"\"\n",
    "    \"Args: s = (casa)\"\n",
    "    acum = 0                            \n",
    "    for i in casa:\n",
    "        if i > 5:\n",
    "            acum = acum +1                   #tambien sirve acum += 1\n",
    "    return acum                               #se pone fuera del bucle  el acumulador\n",
    "casa = [2, 4, 6, 8, 9, 11, 25, 999]\n",
    "z = s(casa)\n",
    "print(z)"
   ]
  },
  {
   "cell_type": "code",
   "execution_count": 84,
   "metadata": {},
   "outputs": [
    {
     "output_type": "stream",
     "name": "stdout",
     "text": [
      "True\nTrue\nTrue\nTrue\nTrue\n2\n"
     ]
    }
   ],
   "source": [
    "def p1(s):\n",
    "    for pos, val in enumerate(s):\n",
    "        if pos == len(s) - 1: #se cumple en la ultima iteracion\n",
    "            return 2\n",
    "        else:\n",
    "            print(\"True\")\n",
    "orden = [2, 4, 6, 8, 12, 16]\n",
    "z = p1(s=orden)\n",
    "print(z)"
   ]
  },
  {
   "cell_type": "code",
   "execution_count": 19,
   "metadata": {},
   "outputs": [
    {
     "output_type": "stream",
     "name": "stdout",
     "text": [
      "1\n"
     ]
    }
   ],
   "source": [
    "def q(x):\n",
    "    acum = 0\n",
    "    for x in atr:\n",
    "        if type(x) == int:\n",
    "            if x > 5:\n",
    "                acum +=1\n",
    "    return acum\n",
    "atr = [\"ana\", \"dorado\", [\"m\", 2], 7]\n",
    "resultado = q(atr)\n",
    "print(resultado)"
   ]
  },
  {
   "cell_type": "code",
   "execution_count": 97,
   "metadata": {},
   "outputs": [
    {
     "output_type": "stream",
     "name": "stdout",
     "text": [
      "1\n"
     ]
    }
   ],
   "source": [
    "def q(x):\n",
    "    acum = 0\n",
    "    for x in atr:\n",
    "        if isinstance(x, int) and x > 5:\n",
    "                acum +=1\n",
    "    return acum\n",
    "atr = [\"ana\", \"dorado\", [\"m\", 2], 7]\n",
    "resultado = q(atr)\n",
    "print(resultado)               #asi tambien"
   ]
  },
  {
   "cell_type": "code",
   "execution_count": null,
   "metadata": {},
   "outputs": [],
   "source": []
  }
 ]
}