{
 "metadata": {
  "language_info": {
   "codemirror_mode": {
    "name": "ipython",
    "version": 3
   },
   "file_extension": ".py",
   "mimetype": "text/x-python",
   "name": "python",
   "nbconvert_exporter": "python",
   "pygments_lexer": "ipython3",
   "version": "3.8.6-final"
  },
  "orig_nbformat": 2,
  "kernelspec": {
   "name": "python38664bitcf068255407b4d4884bd8b39a056de4a",
   "display_name": "Python 3.8.6 64-bit"
  }
 },
 "nbformat": 4,
 "nbformat_minor": 2,
 "cells": [
  {
   "cell_type": "code",
   "execution_count": null,
   "metadata": {},
   "outputs": [],
   "source": [
    "###ERRORES####\n",
    "# 1 - TRY EXCEPT     el try gestiona el error, el except lo \"informa\"\n",
    "def suma (a, b='3'):\n",
    "    \"\"\" Suma dos valores numericos de tipo entero\"\"\"\n",
    "    try:\n",
    "        resultado = a + b\n",
    "    except:\n",
    "         print(\"Ha ocurrido un error al sumar. Por favor introduzca variables de tipo entero.\")\n",
    "         a = int(a)\n",
    "         b=int(b)\n",
    "         resultado = a + b\n",
    "    return resultado\n",
    "s = suma(a=2, b=\"4\")"
   ]
  },
  {
   "cell_type": "code",
   "execution_count": null,
   "metadata": {},
   "outputs": [],
   "source": [
    "a = 2\n",
    "b = \"g\"\n",
    "try:\n",
    "    resultado = a + b\n",
    "except Exception as error:\n",
    "    print(\"Ha ocurrido un error:\", error)\n",
    "    resultado = -1\n",
    "print(\"Hola\")\n"
   ]
  },
  {
   "cell_type": "code",
   "execution_count": null,
   "metadata": {},
   "outputs": [],
   "source": [
    "def minicalculadora(operador, a, b):  # si no lo ponemos int, los digitos se suman como string. (5 + 7 = 57)\n",
    "    try:\n",
    "        a = int(a)\n",
    "        b = int(b)\n",
    "        if operador == \"+\":\n",
    "            return a + b\n",
    "        elif operador == \"/\":\n",
    "            return a / b\n",
    "        else:\n",
    "            print(\"Solo permite suma y division\")\n",
    "    except Exception as error:\n",
    "        if DEBUG <= 1 :\n",
    "            print(error)\n",
    "        print(\"ha ocurrido un error, solo admiten numeros\")\n",
    "\n",
    "r = input(\"Escribe un operador\")\n",
    "s = input(\"Escribe un numero\")\n",
    "t = input(\"Escribe otro numero\")\n",
    "\n",
    "minicalculadora(a=r, b=s, operador=t, DEBUG=1 )"
   ]
  },
  {
   "cell_type": "code",
   "execution_count": null,
   "metadata": {},
   "outputs": [],
   "source": [
    "def minicalculadora(operador, a, b):  # si no lo ponemos int, los digitos se suman como string. (5 + 7 = 57)\n",
    "        a = int(a)\n",
    "        b = int(b)\n",
    "        if operador == \"+\":\n",
    "            return a + b\n",
    "        elif operador == \"/\":\n",
    "            return a / b\n",
    "        else:\n",
    "            print(\"Solo permite suma y division\")\n",
    "r = input(\"Escribe un operador\")\n",
    "s = input(\"Escribe un numero\")\n",
    "t = input(\"Escribe otro numero\")\n",
    "minicalculadora(a=s, b=t, operador=r)"
   ]
  },
  {
   "cell_type": "code",
   "execution_count": null,
   "metadata": {},
   "outputs": [],
   "source": [
    "##ASSERT: algo critico no ocurra(claves, etc)\n",
    "def mostrar_dinero_banco(password):\n",
    "    assert (password==385187), \"Wrong Password\"\n",
    "    return (\"usted tiene 1500 euros\")\n",
    "mostrar_dinero_banco()\n"
   ]
  },
  {
   "cell_type": "code",
   "execution_count": null,
   "metadata": {},
   "outputs": [],
   "source": [
    "try:\n",
    "    assert (1==2), \"Error\"\n",
    "except:\n",
    "    print(\"Ha ocurrido un error\")"
   ]
  },
  {
   "cell_type": "code",
   "execution_count": null,
   "metadata": {},
   "outputs": [],
   "source": [
    "try:\n",
    "    assert (1==2), \"Error: 1 no es 2\"\n",
    "except Exception as error:\n",
    "    print(\"error: \", error)\n",
    "    print(\"Ha ocurrido un error\")"
   ]
  },
  {
   "cell_type": "code",
   "execution_count": null,
   "metadata": {},
   "outputs": [],
   "source": [
    "#Archivos PY\n",
    "\n",
    "#con import se accede a archivos\n"
   ]
  },
  {
   "cell_type": "code",
   "execution_count": 5,
   "metadata": {},
   "outputs": [
    {
     "output_type": "stream",
     "name": "stdout",
     "text": [
      "3\n"
     ]
    }
   ],
   "source": [
    "m = [2, 3, 4, 8]   ## sirve para imprimir posiciones tambien\n",
    "for i in range(len(m)):\n",
    "    if i == 1:\n",
    "        print(m[i])"
   ]
  },
  {
   "cell_type": "code",
   "execution_count": null,
   "metadata": {},
   "outputs": [],
   "source": []
  }
 ]
}