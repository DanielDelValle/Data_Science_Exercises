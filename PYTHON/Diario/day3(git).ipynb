{
 "metadata": {
  "language_info": {
   "codemirror_mode": {
    "name": "ipython",
    "version": 3
   },
   "file_extension": ".py",
   "mimetype": "text/x-python",
   "name": "python",
   "nbconvert_exporter": "python",
   "pygments_lexer": "ipython3",
   "version": "3.8.6-final"
  },
  "orig_nbformat": 2,
  "kernelspec": {
   "name": "python38664bitcf068255407b4d4884bd8b39a056de4a",
   "display_name": "Python 3.8.6 64-bit"
  }
 },
 "nbformat": 4,
 "nbformat_minor": 2,
 "cells": [
  {
   "cell_type": "code",
   "execution_count": null,
   "metadata": {},
   "outputs": [],
   "source": [
    "#COMANDOS GIT BASICOS:\n",
    "\n",
    "#git pull CADA DIA para actualizar ¡¡¡¡NO TOCAR LA CARPETA DEL PROFESOR!!!!\n",
    "#SE ACCEDE A GIT PINCHANDO BOTON DERECHO Y \"GIT BASH HERE\"\n",
    "\n",
    "#si por casualidad modificas sin querer carpeta profesor:\n",
    "#git checkout -f\n",
    "#git restore (path del archivo)"
   ]
  }
 ]
}