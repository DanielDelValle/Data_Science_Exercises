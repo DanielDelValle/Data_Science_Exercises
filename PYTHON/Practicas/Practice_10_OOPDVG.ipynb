{
 "cells": [
  {
   "cell_type": "markdown",
   "metadata": {},
   "source": [
    "# Python | day 11 | object oriented programming"
   ]
  },
  {
   "cell_type": "markdown",
   "metadata": {},
   "source": [
    "#### ¡Practice what you already know and keep learning!"
   ]
  },
  {
   "cell_type": "markdown",
   "metadata": {},
   "source": [
    "![\"con_clase\"](https://cdn.ttgtmedia.com/rms/onlineimages/whatis-object_oriented_programming_half_column_mobile.png)"
   ]
  },
  {
   "cell_type": "markdown",
   "metadata": {},
   "source": [
    "https://realpython.com/python3-object-oriented-programming/"
   ]
  },
  {
   "cell_type": "markdown",
   "metadata": {},
   "source": [
    "## Exercise 1. "
   ]
  },
  {
   "cell_type": "markdown",
   "metadata": {},
   "source": [
    "A friend of yours have asked you to define a class so they can use it at the Natural History Museum in London in order to describe dinosaurs. \n",
    "\n",
    "Since you have no idea about dinosaurs he has given you a couple of instructions:\n",
    "\n",
    "   - Dinosaurs have four attributes all along the whole kind:\n",
    "        - They all have teeth, although every one of them have a different number of those\n",
    "        - Special skills which will be an empty list \n",
    "        - He finds interesting to specify if they are dangerous with a boolean, he also told you to set it False since usually they are very nice \n",
    "        - All of them have an only head\n",
    "        \n",
    "        \n",
    "   - Define also a couple of methods:\n",
    "   \n",
    "       - `many_teeth` --> number of teeth gives you a clue of how old the dinosaurs are, that's why it could be interesting to be able to change the number of teeth they have.\n",
    "       - `add_skill` --> this method add skills to each dinosaurs instance. \n",
    "       - `is_dangerous` --> not all of the dinosaurs are nice, some of them are a little bit dangerous and could attacks you, with this method you should be able to change the boolean set. Make sure, using `if`, the argument is always a boolean, if not print something like \"Remember you should give a boolean, True or False?\"\n"
   ]
  },
  {
   "cell_type": "code",
   "execution_count": null,
   "metadata": {},
   "outputs": [],
   "source": [
    "# define a class Dinosaur\n",
    "class Dinosaur():\n",
    "    \n",
    "    def __init__(self, teeth, skills=None, dangerous=False, head=1):\n",
    "        self.teeth = teeth\n",
    "        self.skills = []\n",
    "        self.dangerous = dangerous\n",
    "        self.head = head\n",
    "    \n",
    "    def many_teeth(self, tt):\n",
    "\n",
    "        tt = int(input(\"enter the number of teeth you wish to set(between 2 and 70):\"))\n",
    "        if tt in range (2, 71):\n",
    "            print(\"Your dinosaur has now\", tt, \"teeth\")\n",
    "            self.teeth = tt\n",
    "        else:\n",
    "            print(\"the amount of teeth exceeds the limit of 70. Please enter a lower number\")\n",
    "            print(\"Your dinosaur has now\", self.teeth, \"teeth\")\n",
    "    \n",
    "    def add_skill(self, sk):\n",
    "\n",
    "        list_of_skills = [\"run\", \"bite\", \"strength\", \"hide\", \"roar\", \"fly\", \"attack\", \"lethality\"]\n",
    "        sk = input(\"choose ONE of the skills in the list and write it to add it: run/bite/strength/roar/fly/lethality)\")\n",
    "        if sk in list_of_skills:\n",
    "            self.skills.append(sk)\n",
    "            print(\"You just added the skill --\", sk, \"-- to your dinosaur\")\n",
    "        if sk not in list_of_skills:\n",
    "            print(\"only skills in the list can be added. please write them as they appear on the list\")\n",
    "\n",
    "    def is_dangerous(self, dng):\n",
    "\n",
    "        dng = input(\"Is your dinosaur dangerous? (Enter 'yes' or 'no':\")\n",
    "        if dng == \"yes\":\n",
    "            self.dangerous = True \n",
    "            print(\"Your dinosaur status is now 'dangerous'. Hide yourself from it!\")\n",
    "        elif dng == \"no\":\n",
    "            self.dangerous = False\n",
    "            print(\"Your dinosaur is like a puppy! hug it!\")\n",
    "        else:\n",
    "            print(\"Please enter only the words 'yes' or 'no'\")\n",
    "\n",
    "    def if_danger(self):\n",
    "        if self.dangerous == True:\n",
    "            return \"RUN FOR YOUR LIFE, THIS GUY IS HUNGRY AND EATS PEOPLE!!!\"\n",
    "        if self.dangerous == False:\n",
    "            return \"all good, nothing to fear\""
   ]
  },
  {
   "cell_type": "markdown",
   "metadata": {},
   "source": [
    "Once you have the class Dinosaur and its methods defined, create an instance **tyrannosaurus**. Your friend has told you that Tyrannosaurus rex had 50 to 60 solid cone-shaped teeth as big as bananas. Set the number of teeth as 60 since you will have the opportunity of changing it later using the method `many_teeth`. "
   ]
  },
  {
   "cell_type": "code",
   "execution_count": null,
   "metadata": {},
   "outputs": [],
   "source": [
    "# create an Tyrannosaurus rex with 60 teeth\n",
    "TRex = Dinosaur(teeth=60)"
   ]
  },
  {
   "cell_type": "markdown",
   "metadata": {},
   "source": [
    "Tyrannosaurus rex are the most dangerous dinosaurs so please, use the method `is_dangerous` with the argument \"yes, it is dangerous\", to set this up. It should return a message telling you to give a boolean, True or False, instead of the string you used as argument. "
   ]
  },
  {
   "cell_type": "code",
   "execution_count": null,
   "metadata": {},
   "outputs": [],
   "source": [
    "# call is_dangerous method saying \"yes, it is dangerous\"\n",
    "TRex.is_dangerous(\"yes, it is dangerous\")"
   ]
  },
  {
   "cell_type": "markdown",
   "metadata": {},
   "source": [
    "Good try! But you need to set this with a boolean. Since tyrannosaurus rex are dangerous give True as an argument to the method `is_dangerous`."
   ]
  },
  {
   "cell_type": "code",
   "execution_count": null,
   "metadata": {},
   "outputs": [],
   "source": [
    "# call is_dangerous method with True as an argument\n",
    "TRex.is_dangerous(True)"
   ]
  },
  {
   "cell_type": "markdown",
   "metadata": {},
   "source": [
    "Set \"lethality\" as an special skill of the tyrannosaurus rex using the `add_skill` method. "
   ]
  },
  {
   "cell_type": "code",
   "execution_count": null,
   "metadata": {},
   "outputs": [],
   "source": [
    "# give lethality as an argument to the method add_skill\n",
    "TRex.add_skill(\"lethality\")"
   ]
  },
  {
   "cell_type": "markdown",
   "metadata": {},
   "source": [
    "Show its `special_skill` to make sure you add the skill as expected."
   ]
  },
  {
   "cell_type": "code",
   "execution_count": null,
   "metadata": {},
   "outputs": [],
   "source": [
    "# show its special_skill \n",
    "TRex.skills"
   ]
  },
  {
   "cell_type": "markdown",
   "metadata": {},
   "source": [
    "If you could add \"lethality\" to the tyrannosaurus special skills, let's try now adding \"strength\"."
   ]
  },
  {
   "cell_type": "code",
   "execution_count": null,
   "metadata": {},
   "outputs": [],
   "source": [
    "# add strength to the list of special_skill\n",
    "TRex.add_skill(\"strength\")"
   ]
  },
  {
   "cell_type": "markdown",
   "metadata": {},
   "source": [
    "Now, you know a lot about tyrannosaurus rex and found out the most of them lose some teeth due to their diet during their life, so 50 teeth should be more realistic. Use `many_teeth` method. "
   ]
  },
  {
   "cell_type": "code",
   "execution_count": null,
   "metadata": {},
   "outputs": [],
   "source": [
    "# set 50 teeth as the number of teeth\n",
    "TRex.many_teeth(50)"
   ]
  },
  {
   "cell_type": "markdown",
   "metadata": {},
   "source": [
    "Show the tyrannosaurus rex's attributes defining a dictionary called `tyrannosaurus_data`. The keys should be the attributes: `teeth`, `danger`, `head`, `special_skill`, and the values those given to the attributes during the exercise.\n",
    "\n",
    "*Hint: You could solve this exercise using a function. Try google.* "
   ]
  },
  {
   "cell_type": "code",
   "execution_count": null,
   "metadata": {},
   "outputs": [],
   "source": [
    "# create the tyrannosaurus_data dictionary\n",
    "print(\"TRex:\", TRex.__dict__)"
   ]
  },
  {
   "cell_type": "markdown",
   "metadata": {},
   "source": [
    "### Bonus\n",
    "\n",
    "Try to define a function named `if_danger` which check if **Dinosaur** is dangerous and if it is, then return something like \"RUN FOR YOUR LIFE, THIS GUY IS HUNGRY AND EAT PEOPLE\", in case the dinosaur isn't dangerous return \"all good, nothing to fear\".\n",
    "\n",
    "Call the function using as an argument the attribute `danger` of the **tyrannosaurus**."
   ]
  },
  {
   "cell_type": "code",
   "execution_count": null,
   "metadata": {},
   "outputs": [],
   "source": [
    "# define if_danger with one parameter\n",
    "def if_danger(self):\n",
    "    if self.dangerous == True:\n",
    "        return \"RUN FOR YOUR LIFE, THIS GUY IS HUNGRY AND EATS PEOPLE!!!\"\n",
    "    if self.dangerous == False:\n",
    "        return \"all good, nothing to fear\""
   ]
  },
  {
   "cell_type": "code",
   "execution_count": null,
   "metadata": {},
   "outputs": [],
   "source": [
    "# invoked the if_danger function\n",
    "TRex.if_danger()"
   ]
  },
  {
   "cell_type": "markdown",
   "metadata": {},
   "source": [
    "## Exercise 2. "
   ]
  },
  {
   "cell_type": "markdown",
   "metadata": {},
   "source": [
    "A company is opening a bank, but the coder who is designing the user class made some errors. They need you to help them.\n",
    "\n",
    "You must include the following:\n",
    "\n",
    "**A withdraw method**\n",
    "- Subtracts money from balance\n",
    "- One parameter, money to withdraw\n",
    "- Raise ValueError if there isn't enough money to withdraw\n",
    "- Return a string with name and balence(see examples)\n",
    "\n",
    "**A check method**\n",
    "- Adds money to baleance\n",
    "- Two parameters, other user and money\n",
    "- Other user will always be valid\n",
    "- Raise a ValueError if other user doesn't have enough money\n",
    "- Raise a ValueError if checking_account isn't true for other user\n",
    "- Return a string with name and balance plus other name and other balance(see examples)\n",
    "\n",
    "**An add_cash method**\n",
    "- Adds money to balance\n",
    "- One parameter, money to add\n",
    "- Return a string with name and balance(see examples)\n",
    "\n",
    "**Additional Notes:**\n",
    "\n",
    "- Checking_account should be stored as a boolean\n",
    "- No input numbers will be negitive\n",
    "- Output must end with period\n",
    "- Float numbers will not be used so, balance should be integer\n",
    "- No currency will be used"
   ]
  },
  {
   "cell_type": "markdown",
   "metadata": {},
   "source": [
    "KATA --> https://www.codewars.com/kata/5a03af9606d5b65ff7000009"
   ]
  },
  {
   "cell_type": "markdown",
   "metadata": {},
   "source": [
    "**If you dare trying to solve this problem, you'll need this:** https://www.w3schools.com/python/gloss_python_raise.asp"
   ]
  },
  {
   "cell_type": "code",
   "execution_count": null,
   "metadata": {},
   "outputs": [],
   "source": [
    "#your code here\n",
    "class User():\n",
    "\n",
    "    def __init__(self, balance, userName):\n",
    "        self.balance = balance\n",
    "        self.userName = userName        \n",
    "\n",
    "    def withdraw(self, balance):\n",
    "        extr = int(input(\"Please enter the amount to withdraw from your account:\"))\n",
    "        if extr < 0:\n",
    "            print(\"Sorry, Negative numbers are not allowed\")\n",
    "        elif type(extr) != int:\n",
    "            print(\"Please enter only integer, positive numeric characters\")\n",
    "        elif extr <= self.balance:\n",
    "            self.balance = self.balance - extr\n",
    "            return self.userName, \"current balance is :\", self.balance\n",
    "        else:\n",
    "            raise Exception(\"Sorry, there isn't enough money available.\", self.userName,\"current balance is:\", self.balance)\n",
    "    \n",
    "    def add_cash(self, balance):\n",
    "        intr = int(input(\"Please enter the amount to withdraw from your account:\"))\n",
    "        if intr < 0:\n",
    "           print(\"Sorry, negative numbers are not allowed\")\n",
    "        elif type(intr) != int:\n",
    "            print(\"Please enter only integer, positive numeric characters\")\n",
    "        else:\n",
    "            self.balance = self.balance + intr\n",
    "            return self.userName, \"current balance is :\", self.balance"
   ]
  },
  {
   "cell_type": "code",
   "execution_count": null,
   "metadata": {},
   "outputs": [],
   "source": [
    "banker = User(balance=100, userName=\"banker\")"
   ]
  },
  {
   "cell_type": "code",
   "execution_count": null,
   "metadata": {},
   "outputs": [],
   "source": [
    "banker.withdraw(85)"
   ]
  },
  {
   "cell_type": "code",
   "execution_count": null,
   "metadata": {},
   "outputs": [],
   "source": [
    "banker.add_cash(450)"
   ]
  },
  {
   "cell_type": "code",
   "execution_count": null,
   "metadata": {},
   "outputs": [],
   "source": [
    "banker.add_cash(-50)"
   ]
  },
  {
   "cell_type": "code",
   "execution_count": null,
   "metadata": {},
   "outputs": [],
   "source": [
    "banker.add_cash(8.5)"
   ]
  },
  {
   "cell_type": "code",
   "execution_count": null,
   "metadata": {},
   "outputs": [],
   "source": []
  }
 ],
 "metadata": {
  "kernelspec": {
   "display_name": "Python 3.8.6 64-bit",
   "language": "python",
   "name": "python38664bitcf068255407b4d4884bd8b39a056de4a"
  },
  "language_info": {
   "codemirror_mode": {
    "name": "ipython",
    "version": 3
   },
   "file_extension": ".py",
   "mimetype": "text/x-python",
   "name": "python",
   "nbconvert_exporter": "python",
   "pygments_lexer": "ipython3",
   "version": "3.8.6-final"
  }
 },
 "nbformat": 4,
 "nbformat_minor": 4
}