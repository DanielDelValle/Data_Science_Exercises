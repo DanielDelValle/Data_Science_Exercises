{
 "cells": [
  {
   "cell_type": "markdown",
   "metadata": {},
   "source": [
    "# Python | day 4 | for loop, functions (feat. basics & if/else) "
   ]
  },
  {
   "cell_type": "markdown",
   "metadata": {},
   "source": [
    "### Exercise 0.1 - Python Basics\n",
    "\n",
    "1. What do we use to make a line break in a print? And for a tab stop?\n",
    "\n",
    "have a look ---> http://elclubdelautodidacta.es/wp/2012/04/python-capitulo-31-exprimiendo-la-funcion-print/"
   ]
  },
  {
   "cell_type": "code",
   "execution_count": null,
   "metadata": {},
   "outputs": [],
   "source": [
    "#for a line break, we use sep=\" \"; for a tab stop we use sep=\"\\t\""
   ]
  },
  {
   "cell_type": "markdown",
   "metadata": {},
   "source": [
    "2. Make a converter from dollars to euros. You'll have to use input."
   ]
  },
  {
   "cell_type": "code",
   "execution_count": null,
   "metadata": {},
   "outputs": [],
   "source": [
    "dollars = int(input(\"Insert $ amount: \"))\n",
    "euros = dollars * 0.84\n",
    "print(dollars, \"$\", \"dollars equals\", euros, \"€ euros\")"
   ]
  },
  {
   "cell_type": "markdown",
   "metadata": {},
   "source": [
    "3. Declare two strings, one will be your first name and the other your last name. Declare your age in another variable. Print a sentence which include those variables, using ```f{}```. Wtf is that? check this out **-->** https://realpython.com/python-string-formatting/"
   ]
  },
  {
   "cell_type": "code",
   "execution_count": null,
   "metadata": {},
   "outputs": [],
   "source": [
    "FN = \"Daniel\"\n",
    "LN = \"Del Valle\"\n",
    "AGE = 32\n",
    "f'My first name is {FN} and my last name is {LN}. I am {AGE} years old.'"
   ]
  },
  {
   "cell_type": "markdown",
   "metadata": {},
   "source": [
    "4. Given the list `[4,7, -3]`, calculate its maximum, minimum and sum."
   ]
  },
  {
   "cell_type": "code",
   "execution_count": null,
   "metadata": {},
   "outputs": [],
   "source": [
    "lista = [4, 7, -3]\n",
    "sorted_list = sorted(lista)\n",
    "n = len(sorted_list)\n",
    "print(sorted_list, \"is the list sorted\")\n",
    "print(len(sorted_list),\"is the number of items in the list\")\n",
    "print(sum(sorted_list),\"is the sum\")\n",
    "print(sum(sorted_list[:n-1]),\"is the minimum\")\n",
    "print(sum(sorted_list[-2:]),\"is the maximum\")\n"
   ]
  },
  {
   "cell_type": "markdown",
   "metadata": {},
   "source": [
    "5. Round `38.38276252728` to 5 decimal places.\n"
   ]
  },
  {
   "cell_type": "code",
   "execution_count": null,
   "metadata": {},
   "outputs": [],
   "source": [
    "x = 38.38276252728\n",
    "round(38.38276252728, 5)"
   ]
  },
  {
   "cell_type": "markdown",
   "metadata": {},
   "source": [
    "6. Make the phrase `\"Born to be wild\"` uppercase, then lowercase, divide it by spaces, and finally, replace `\"wild\"` with `\"Geek.\"`"
   ]
  },
  {
   "cell_type": "code",
   "execution_count": 4,
   "metadata": {},
   "outputs": [
    {
     "output_type": "stream",
     "name": "stdout",
     "text": [
      "BORN TO BE WILD\nborn to be wild\n['Born', 'to', 'be', 'wild']\nBorn to be geek\n"
     ]
    }
   ],
   "source": [
    "phrase = \"Born to be wild\"\n",
    "print(phrase.upper())\n",
    "print(phrase.lower())\n",
    "print(phrase.split())\n",
    "print(phrase.replace(\"wild\", \"geek\"))\n",
    "\n"
   ]
  },
  {
   "cell_type": "markdown",
   "metadata": {},
   "source": [
    "7. Create a program where two inputs are collected, and the output of the program is a boolean which tell the user whether those inputs are the same or not.\n"
   ]
  },
  {
   "cell_type": "markdown",
   "metadata": {},
   "source": []
  },
  {
   "cell_type": "code",
   "execution_count": null,
   "metadata": {},
   "outputs": [],
   "source": [
    "Comparative1 = input(\"Enter the first item to be compared: \")\n",
    "Comparative2 = input(\"Enter the second item to be compared: \")\n",
    "if Comparative1 == Comparative2:\n",
    "    print(\"They are the same\")\n",
    "else:\n",
    "    print(\"They do not match\")"
   ]
  },
  {
   "cell_type": "markdown",
   "metadata": {},
   "source": [
    "### Exercise 0.2 - If/else\n",
    "\n",
    "1. Create a decission tree using if/else sentences, to determine the price of the movies ticket. If the client's age is between 5 and 15 years, both included, the price will be 5, if she/he is retired and the movie is one of the `peliculas_discount`, the price is 4. In any other case, it will be 7 euros.\n",
    "\n",
    "You should create the list of `peliculas_discount` with your favourites movies. "
   ]
  },
  {
   "cell_type": "code",
   "execution_count": null,
   "metadata": {},
   "outputs": [],
   "source": [
    "peliculas_discount = [\"matrix\", \"terminator\", \"greenbook\", \"1984\"]\n",
    "age = input(\"Please enter your age: \")\n",
    "if int(age) >= 5 and int(age) <= 15:\n",
    "    print(\"the price for young people is only 5€\")\n",
    "elif int(age) >= 67:\n",
    "    film = input(\"Please enter the film you are interested in: \")\n",
    "    if film in peliculas_discount:\n",
    "        print(\"the price for retired people and discount films is only 4€\")\n",
    "else:\n",
    "    print(\"the price is 7€\")"
   ]
  },
  {
   "cell_type": "markdown",
   "metadata": {},
   "source": [
    "### Exercise 1 - For\n",
    "\n",
    "If you find a way of solving any of these questions below without using for loop, don't hesitate to do it. "
   ]
  },
  {
   "source": [
    "1. Prints the numbers between 0 and 70 that are multiples of 3 and 5."
   ],
   "cell_type": "code",
   "metadata": {},
   "execution_count": null,
   "outputs": []
  },
  {
   "cell_type": "code",
   "execution_count": null,
   "metadata": {},
   "outputs": [],
   "source": [
    "for x in range(71):     #hay que añadir 1 \n",
    "    if x % 3 == 0 and x % 5 == 0:\n",
    "        print(x)"
   ]
  },
  {
   "cell_type": "markdown",
   "metadata": {},
   "source": [
    "2. Print the following pattern:\n",
    "\n",
    "```python\n",
    "1\n",
    "22\n",
    "333\n",
    "4444\n",
    "55555\n",
    "666666\n",
    "7777777\n",
    "88888888\n",
    "999999999\n",
    "```\n"
   ]
  },
  {
   "cell_type": "code",
   "execution_count": null,
   "metadata": {},
   "outputs": [],
   "source": [
    "for (x) in range(10):\n",
    "    print(f'{x}' * x)\n"
   ]
  },
  {
   "cell_type": "code",
   "execution_count": null,
   "metadata": {},
   "outputs": [],
   "source": [
    "for i in range(1, 10):\n",
    "    s = ''\n",
    "    for j in range(0, i):\n",
    "        r = s + str(i)\n",
    "        print(r)"
   ]
  },
  {
   "cell_type": "markdown",
   "metadata": {
    "collapsed": true
   },
   "source": [
    "3. Given to list of same lenght, create a third list which contains the sum of both of the list, element by element. "
   ]
  },
  {
   "cell_type": "markdown",
   "metadata": {},
   "source": [
    "```python\n",
    "Example: \n",
    "a = [1,2]\n",
    "b = [4,5]\n",
    "new_list = [5,7]\n",
    "```\n"
   ]
  },
  {
   "cell_type": "code",
   "execution_count": 1,
   "metadata": {},
   "outputs": [
    {
     "output_type": "stream",
     "name": "stdout",
     "text": [
      "[5, 7, 16]\n"
     ]
    }
   ],
   "source": [
    "a = [1, 2, 7]\n",
    "b = [4, 5, 9] \n",
    "zip_ab = zip(a, b)\n",
    "sum_ab = [x + y for (x, y) in zip_ab]\n",
    "print(sum_ab)\n",
    "\n"
   ]
  },
  {
   "cell_type": "code",
   "execution_count": 2,
   "metadata": {},
   "outputs": [
    {
     "output_type": "stream",
     "name": "stdout",
     "text": [
      "1\n4\n[5]\n-------\n2\n5\n[5, 7]\n-------\n7\n9\n[5, 7, 16]\n-------\n"
     ]
    }
   ],
   "source": [
    "#otra manera\n",
    "a = [1, 2, 7]\n",
    "b = [4, 5, 9]\n",
    "new_list = []\n",
    "\n",
    "for acum2 in range(len(a)): # porque tienen mismo tamaño, len(b)valdria tambien. asi no hace falta acum +=1\n",
    "    print(a[acum2]) #prescindible\n",
    "    print(b[acum2]) #prescindible\n",
    "    new_list.append(a[acum2] + b[acum2])\n",
    "    print(new_list)    \n",
    "    print(\"-------\")  #prescindible"
   ]
  },
  {
   "cell_type": "markdown",
   "metadata": {},
   "source": [
    "4. Get first, second best scores from the list.\n",
    "List contains duplicates."
   ]
  },
  {
   "cell_type": "code",
   "execution_count": null,
   "metadata": {},
   "outputs": [],
   "source": [
    "scores = [86,86,85,85,85,83,23,45,84,1,2,0]\n",
    "scores = set(scores) \n",
    "print(scores)   #el numero 23 es \"mágico\" en informatica.\n",
    "scores = list(scores)     #serviria tambien list(set(scores))\n",
    "scores.sort()\n",
    "print(scores[-2]), print (scores[-1])"
   ]
  },
  {
   "cell_type": "code",
   "execution_count": null,
   "metadata": {},
   "outputs": [],
   "source": [
    "for x in scores:\n",
    "    print(hash(x))"
   ]
  },
  {
   "cell_type": "code",
   "execution_count": null,
   "metadata": {},
   "outputs": [],
   "source": [
    "#otra opcion:\n",
    "print(scores[0])\n",
    "for i in range(len(scores)):\n",
    "    if scores [i] ==[0]:\n",
    "        continue\n",
    "    else:\n",
    "        print(scores[i])"
   ]
  },
  {
   "cell_type": "markdown",
   "metadata": {},
   "source": [
    "5. From the given list:\n",
    "    \n",
    "    a) Create separate lists of strings and numbers.\n",
    "\n",
    "    b) Sort the strings' list in ascending order\n",
    "\n",
    "    c) Sort the strings' list in descending order\n",
    "\n",
    "    d) Sort the number's list from lowest to highest\n",
    "\n",
    "    e) Sort the number's list from highest to lowest"
   ]
  },
  {
   "cell_type": "code",
   "execution_count": 1,
   "metadata": {},
   "outputs": [],
   "source": [
    "gadgets = [\"Mobile\", \"Laptop\", 100, \"Camera\", 310.28, \"Speakers\", 27.00, \n",
    "           \"Television\", 1000, \"Laptop Case\", \"Camera Lens\"]"
   ]
  },
  {
   "cell_type": "code",
   "execution_count": 2,
   "metadata": {},
   "outputs": [
    {
     "output_type": "stream",
     "name": "stdout",
     "text": [
      "['Camera', 'Camera Lens', 'Laptop', 'Laptop Case', 'Mobile', 'Speakers', 'Television'] [27.0, 100, 310.28, 1000]\n['Television', 'Speakers', 'Mobile', 'Laptop Case', 'Laptop', 'Camera Lens', 'Camera'] [1000, 310.28, 100, 27.0]\n"
     ]
    }
   ],
   "source": [
    "item_list = []\n",
    "stock_list = []\n",
    "for x in gadgets:\n",
    "    if type(x) == str:\n",
    "        item_list.append(x)\n",
    "    else:\n",
    "        stock_list.append(x)\n",
    "item_list.sort()\n",
    "stock_list.sort()\n",
    "print(item_list, stock_list)\n",
    "item_list.reverse()\n",
    "stock_list.reverse()\n",
    "print(item_list, stock_list)"
   ]
  },
  {
   "cell_type": "code",
   "execution_count": 4,
   "metadata": {},
   "outputs": [
    {
     "output_type": "stream",
     "name": "stdout",
     "text": [
      "['Mobile', 'Laptop', 'Camera', 'Speakers', 'Television', 'Laptop Case', 'Camera Lens']\n['Television', 'Speakers', 'Mobile', 'Laptop Case', 'Laptop', 'Camera Lens', 'Camera']\n"
     ]
    }
   ],
   "source": [
    "Lstring = [s for s in gadgets if type(s) == str]\n",
    "print(Lstring)\n",
    "Lstring.sort(reverse=True)   #la imprime ya ordenada y invertida\n",
    "print(Lstring)"
   ]
  },
  {
   "cell_type": "markdown",
   "metadata": {},
   "source": [
    "6. Make a list of ten aliens, each of which is one color: 'red', 'green', or 'blue'.\n",
    "    - You can shorten this to 'r', 'g', and 'b' if you want, but if you choose this option you have to include a comment explaining what r, g, and b stand for.\n",
    "    - Red aliens are worth 5 points, green aliens are worth 10 points, and blue aliens are worth 20 points.\n",
    "    - Use a for loop to determine the number of points a player would earn for destroying all of the aliens in your list."
   ]
  },
  {
   "cell_type": "code",
   "execution_count": 20,
   "metadata": {},
   "outputs": [
    {
     "output_type": "stream",
     "name": "stdout",
     "text": [
      "15\n40\n60\n"
     ]
    }
   ],
   "source": [
    "aliens = [['red', 5, 3], ['green', 10, 4], ['blue', 20, 3]]\n",
    "acum = 0\n",
    "for (colour, points, amount) in aliens:\n",
    "    kill_all = (points * amount)\n",
    "    print(kill_all)              # no idea how to get the total sum"
   ]
  },
  {
   "cell_type": "code",
   "execution_count": 5,
   "metadata": {},
   "outputs": [
    {
     "output_type": "execute_result",
     "data": {
      "text/plain": [
       "['r', 'b', 'r', 'g', 'r', 'b', 'r', 'b', 'r', 'g']"
      ]
     },
     "metadata": {},
     "execution_count": 5
    }
   ],
   "source": [
    "lsita_aliens = [\"r\", \"g\", \"b\"]   #asignarlo de otra manera\n",
    "l_aliens = []\n",
    "for i in range(10):\n",
    "    if i % 2 == 0:\n",
    "        l_aliens.append(\"r\")\n",
    "    elif i % 3 == 0:\n",
    "        l_aliens.append(\"g\")\n",
    "    else:\n",
    "        l_aliens.append(\"b\")\n",
    "l_aliens\n"
   ]
  },
  {
   "cell_type": "code",
   "execution_count": 8,
   "metadata": {},
   "outputs": [
    {
     "output_type": "stream",
     "name": "stdout",
     "text": [
      "105\n"
     ]
    }
   ],
   "source": [
    "acum = 0\n",
    "for alien in l_aliens:\n",
    "    if alien == \"r\":\n",
    "        #5 puntos\n",
    "        acum += 5\n",
    "    elif alien == \"g\":\n",
    "        acum += 10\n",
    "        #10 puntos\n",
    "    else:\n",
    "        acum +=20\n",
    "        #20 puntos\n",
    "print(acum)"
   ]
  },
  {
   "cell_type": "markdown",
   "metadata": {},
   "source": [
    "### Exercise 2 - Functions"
   ]
  },
  {
   "cell_type": "markdown",
   "metadata": {},
   "source": [
    "1. Write a function program to sum up two given different numbers. "
   ]
  },
  {
   "cell_type": "code",
   "execution_count": null,
   "metadata": {},
   "outputs": [],
   "source": [
    "def sumador (a, b):\n",
    "    return (a + b)\n",
    "sumador(2, 5)"
   ]
  },
  {
   "cell_type": "markdown",
   "metadata": {},
   "source": [
    "2. Write a Python program to convert a tuple of characters into a string.\n",
    "\n",
    "    - Sample tuple: `(\"T\", \"H\", \"E\", \" \", \"B\", \"R\", \"I\", \"D\", \"G\", \"E\")`\n",
    "    - Expected output : `\"THE BRIDGE\"`\n",
    "    \n",
    "Hint: Turn it into a list. "
   ]
  },
  {
   "cell_type": "code",
   "execution_count": 6,
   "metadata": {},
   "outputs": [
    {
     "output_type": "execute_result",
     "data": {
      "text/plain": [
       "'THE BRIDGE'"
      ]
     },
     "metadata": {},
     "execution_count": 6
    }
   ],
   "source": [
    "def compacter(tup):\n",
    "        compacted = ''.join(tup)\n",
    "        return compacted\n",
    "        \n",
    "\n",
    "example = (\"T\", \"H\", \"E\", \" \", \"B\", \"R\", \"I\", \"D\", \"G\", \"E\")\n",
    "compacter(example)"
   ]
  },
  {
   "cell_type": "markdown",
   "metadata": {},
   "source": [
    "3. Write a Python program to generate a list where the values are square of numbers between 1 and 30 (both included), and return a list of first and last 5 elements of the list."
   ]
  },
  {
   "cell_type": "code",
   "execution_count": 7,
   "metadata": {
    "tags": []
   },
   "outputs": [
    {
     "output_type": "execute_result",
     "data": {
      "text/plain": [
       "([0, 1, 4, 9, 16, 676, 729, 784, 841, 900],\n",
       " ([0, 1, 4, 9, 16], [676, 729, 784, 841, 900]))"
      ]
     },
     "metadata": {},
     "execution_count": 7
    }
   ],
   "source": [
    "def sq():\n",
    "    listasq = []\n",
    "    for x in range(31):    \n",
    "        y = x**2\n",
    "        listasq.append(y)\n",
    "        dg = listasq[:5] + listasq[-5:]\n",
    "        dh = listasq[:5] , listasq[-5:]      #en tuplas, de otra manera\n",
    "    return dg, dh\n",
    "sq()\n"
   ]
  },
  {
   "cell_type": "markdown",
   "metadata": {},
   "source": [
    "4. Create a Python program that calculates the factorial of a number.\n",
    "\n",
    "The program will ask the user to enter a number (input) and will return the factorial of that number."
   ]
  },
  {
   "cell_type": "code",
   "execution_count": 10,
   "metadata": {
    "tags": []
   },
   "outputs": [
    {
     "output_type": "error",
     "ename": "TypeError",
     "evalue": "factor() missing 1 required positional argument: 'input'",
     "traceback": [
      "\u001b[1;31m---------------------------------------------------------------------------\u001b[0m",
      "\u001b[1;31mTypeError\u001b[0m                                 Traceback (most recent call last)",
      "\u001b[1;32m<ipython-input-10-7f99fc1c6aa8>\u001b[0m in \u001b[0;36m<module>\u001b[1;34m\u001b[0m\n\u001b[0;32m      9\u001b[0m             \u001b[0mprint\u001b[0m\u001b[1;33m(\u001b[0m\u001b[1;34m\"The factorial of\"\u001b[0m\u001b[1;33m,\u001b[0m \u001b[0mx\u001b[0m\u001b[1;33m,\u001b[0m\u001b[1;34m\"is\"\u001b[0m\u001b[1;33m,\u001b[0m \u001b[0mx\u001b[0m\u001b[1;33m*\u001b[0m\u001b[0mi\u001b[0m\u001b[1;33m)\u001b[0m\u001b[1;33m\u001b[0m\u001b[1;33m\u001b[0m\u001b[0m\n\u001b[0;32m     10\u001b[0m     \u001b[1;32mreturn\u001b[0m \u001b[0mx\u001b[0m\u001b[1;33m*\u001b[0m\u001b[0mi\u001b[0m\u001b[1;33m\u001b[0m\u001b[1;33m\u001b[0m\u001b[0m\n\u001b[1;32m---> 11\u001b[1;33m \u001b[0mfactor\u001b[0m\u001b[1;33m(\u001b[0m\u001b[1;33m)\u001b[0m\u001b[1;33m\u001b[0m\u001b[1;33m\u001b[0m\u001b[0m\n\u001b[0m",
      "\u001b[1;31mTypeError\u001b[0m: factor() missing 1 required positional argument: 'input'"
     ]
    }
   ],
   "source": [
    "def factor(input): \n",
    "    x = input(\"enter value: \")\n",
    "    if x < 0:\n",
    "        print(\"Sorry, factorial does not exist for negative numbers\")\n",
    "    elif x == 0:\n",
    "        print(\"The factorial of 0 is 1\")\n",
    "    else:\n",
    "        for i in range(1, x + 1):\n",
    "            factorial =              \n",
    "            print(\"The factorial of\", x,\"is\", x*i)\n",
    "    return x*i\n",
    "factor()"
   ]
  },
  {
   "cell_type": "markdown",
   "metadata": {},
   "source": [
    "5. Create a program that calculates the average.\n",
    "\n",
    "The program will ask the user to specify how many numbers you want to enter, and will show a prompt to include number by number to a list, and then calculate the average of each number in that list."
   ]
  },
  {
   "cell_type": "code",
   "execution_count": 4,
   "metadata": {},
   "outputs": [
    {
     "output_type": "error",
     "ename": "TypeError",
     "evalue": "'int' object is not iterable",
     "traceback": [
      "\u001b[1;31m---------------------------------------------------------------------------\u001b[0m",
      "\u001b[1;31mTypeError\u001b[0m                                 Traceback (most recent call last)",
      "\u001b[1;32m<ipython-input-4-9c316f19dbfd>\u001b[0m in \u001b[0;36m<module>\u001b[1;34m\u001b[0m\n\u001b[0;32m     11\u001b[0m         \u001b[0mresult\u001b[0m \u001b[1;33m=\u001b[0m \u001b[0msum\u001b[0m\u001b[1;33m(\u001b[0m\u001b[0mz\u001b[0m\u001b[1;33m)\u001b[0m\u001b[1;33m/\u001b[0m\u001b[0mq\u001b[0m\u001b[1;33m\u001b[0m\u001b[1;33m\u001b[0m\u001b[0m\n\u001b[0;32m     12\u001b[0m         \u001b[1;32mreturn\u001b[0m \u001b[0mq\u001b[0m\u001b[1;33m\u001b[0m\u001b[1;33m\u001b[0m\u001b[0m\n\u001b[1;32m---> 13\u001b[1;33m \u001b[0maverage\u001b[0m\u001b[1;33m(\u001b[0m\u001b[1;33m)\u001b[0m\u001b[1;33m\u001b[0m\u001b[1;33m\u001b[0m\u001b[0m\n\u001b[0m\u001b[0;32m     14\u001b[0m \u001b[1;33m\u001b[0m\u001b[0m\n\u001b[0;32m     15\u001b[0m \u001b[1;33m\u001b[0m\u001b[0m\n",
      "\u001b[1;32m<ipython-input-4-9c316f19dbfd>\u001b[0m in \u001b[0;36maverage\u001b[1;34m()\u001b[0m\n\u001b[0;32m      7\u001b[0m     \u001b[0msample\u001b[0m\u001b[1;33m.\u001b[0m\u001b[0mappend\u001b[0m\u001b[1;33m(\u001b[0m\u001b[0mw\u001b[0m\u001b[1;33m)\u001b[0m\u001b[1;33m\u001b[0m\u001b[1;33m\u001b[0m\u001b[0m\n\u001b[0;32m      8\u001b[0m     \u001b[1;32mwhile\u001b[0m \u001b[0mw\u001b[0m \u001b[1;33m>\u001b[0m \u001b[0mq\u001b[0m\u001b[1;33m:\u001b[0m\u001b[1;33m\u001b[0m\u001b[1;33m\u001b[0m\u001b[0m\n\u001b[1;32m----> 9\u001b[1;33m         \u001b[0maverage\u001b[0m\u001b[1;33m(\u001b[0m\u001b[1;33m)\u001b[0m\u001b[1;33m\u001b[0m\u001b[1;33m\u001b[0m\u001b[0m\n\u001b[0m\u001b[0;32m     10\u001b[0m     \u001b[1;32mfor\u001b[0m \u001b[0mz\u001b[0m \u001b[1;32min\u001b[0m \u001b[0msample\u001b[0m\u001b[1;33m:\u001b[0m\u001b[1;33m\u001b[0m\u001b[1;33m\u001b[0m\u001b[0m\n\u001b[0;32m     11\u001b[0m         \u001b[0mresult\u001b[0m \u001b[1;33m=\u001b[0m \u001b[0msum\u001b[0m\u001b[1;33m(\u001b[0m\u001b[0mz\u001b[0m\u001b[1;33m)\u001b[0m\u001b[1;33m/\u001b[0m\u001b[0mq\u001b[0m\u001b[1;33m\u001b[0m\u001b[1;33m\u001b[0m\u001b[0m\n",
      "\u001b[1;32m<ipython-input-4-9c316f19dbfd>\u001b[0m in \u001b[0;36maverage\u001b[1;34m()\u001b[0m\n\u001b[0;32m      7\u001b[0m     \u001b[0msample\u001b[0m\u001b[1;33m.\u001b[0m\u001b[0mappend\u001b[0m\u001b[1;33m(\u001b[0m\u001b[0mw\u001b[0m\u001b[1;33m)\u001b[0m\u001b[1;33m\u001b[0m\u001b[1;33m\u001b[0m\u001b[0m\n\u001b[0;32m      8\u001b[0m     \u001b[1;32mwhile\u001b[0m \u001b[0mw\u001b[0m \u001b[1;33m>\u001b[0m \u001b[0mq\u001b[0m\u001b[1;33m:\u001b[0m\u001b[1;33m\u001b[0m\u001b[1;33m\u001b[0m\u001b[0m\n\u001b[1;32m----> 9\u001b[1;33m         \u001b[0maverage\u001b[0m\u001b[1;33m(\u001b[0m\u001b[1;33m)\u001b[0m\u001b[1;33m\u001b[0m\u001b[1;33m\u001b[0m\u001b[0m\n\u001b[0m\u001b[0;32m     10\u001b[0m     \u001b[1;32mfor\u001b[0m \u001b[0mz\u001b[0m \u001b[1;32min\u001b[0m \u001b[0msample\u001b[0m\u001b[1;33m:\u001b[0m\u001b[1;33m\u001b[0m\u001b[1;33m\u001b[0m\u001b[0m\n\u001b[0;32m     11\u001b[0m         \u001b[0mresult\u001b[0m \u001b[1;33m=\u001b[0m \u001b[0msum\u001b[0m\u001b[1;33m(\u001b[0m\u001b[0mz\u001b[0m\u001b[1;33m)\u001b[0m\u001b[1;33m/\u001b[0m\u001b[0mq\u001b[0m\u001b[1;33m\u001b[0m\u001b[1;33m\u001b[0m\u001b[0m\n",
      "\u001b[1;32m<ipython-input-4-9c316f19dbfd>\u001b[0m in \u001b[0;36maverage\u001b[1;34m()\u001b[0m\n\u001b[0;32m      7\u001b[0m     \u001b[0msample\u001b[0m\u001b[1;33m.\u001b[0m\u001b[0mappend\u001b[0m\u001b[1;33m(\u001b[0m\u001b[0mw\u001b[0m\u001b[1;33m)\u001b[0m\u001b[1;33m\u001b[0m\u001b[1;33m\u001b[0m\u001b[0m\n\u001b[0;32m      8\u001b[0m     \u001b[1;32mwhile\u001b[0m \u001b[0mw\u001b[0m \u001b[1;33m>\u001b[0m \u001b[0mq\u001b[0m\u001b[1;33m:\u001b[0m\u001b[1;33m\u001b[0m\u001b[1;33m\u001b[0m\u001b[0m\n\u001b[1;32m----> 9\u001b[1;33m         \u001b[0maverage\u001b[0m\u001b[1;33m(\u001b[0m\u001b[1;33m)\u001b[0m\u001b[1;33m\u001b[0m\u001b[1;33m\u001b[0m\u001b[0m\n\u001b[0m\u001b[0;32m     10\u001b[0m     \u001b[1;32mfor\u001b[0m \u001b[0mz\u001b[0m \u001b[1;32min\u001b[0m \u001b[0msample\u001b[0m\u001b[1;33m:\u001b[0m\u001b[1;33m\u001b[0m\u001b[1;33m\u001b[0m\u001b[0m\n\u001b[0;32m     11\u001b[0m         \u001b[0mresult\u001b[0m \u001b[1;33m=\u001b[0m \u001b[0msum\u001b[0m\u001b[1;33m(\u001b[0m\u001b[0mz\u001b[0m\u001b[1;33m)\u001b[0m\u001b[1;33m/\u001b[0m\u001b[0mq\u001b[0m\u001b[1;33m\u001b[0m\u001b[1;33m\u001b[0m\u001b[0m\n",
      "\u001b[1;32m<ipython-input-4-9c316f19dbfd>\u001b[0m in \u001b[0;36maverage\u001b[1;34m()\u001b[0m\n\u001b[0;32m      7\u001b[0m     \u001b[0msample\u001b[0m\u001b[1;33m.\u001b[0m\u001b[0mappend\u001b[0m\u001b[1;33m(\u001b[0m\u001b[0mw\u001b[0m\u001b[1;33m)\u001b[0m\u001b[1;33m\u001b[0m\u001b[1;33m\u001b[0m\u001b[0m\n\u001b[0;32m      8\u001b[0m     \u001b[1;32mwhile\u001b[0m \u001b[0mw\u001b[0m \u001b[1;33m>\u001b[0m \u001b[0mq\u001b[0m\u001b[1;33m:\u001b[0m\u001b[1;33m\u001b[0m\u001b[1;33m\u001b[0m\u001b[0m\n\u001b[1;32m----> 9\u001b[1;33m         \u001b[0maverage\u001b[0m\u001b[1;33m(\u001b[0m\u001b[1;33m)\u001b[0m\u001b[1;33m\u001b[0m\u001b[1;33m\u001b[0m\u001b[0m\n\u001b[0m\u001b[0;32m     10\u001b[0m     \u001b[1;32mfor\u001b[0m \u001b[0mz\u001b[0m \u001b[1;32min\u001b[0m \u001b[0msample\u001b[0m\u001b[1;33m:\u001b[0m\u001b[1;33m\u001b[0m\u001b[1;33m\u001b[0m\u001b[0m\n\u001b[0;32m     11\u001b[0m         \u001b[0mresult\u001b[0m \u001b[1;33m=\u001b[0m \u001b[0msum\u001b[0m\u001b[1;33m(\u001b[0m\u001b[0mz\u001b[0m\u001b[1;33m)\u001b[0m\u001b[1;33m/\u001b[0m\u001b[0mq\u001b[0m\u001b[1;33m\u001b[0m\u001b[1;33m\u001b[0m\u001b[0m\n",
      "\u001b[1;32m<ipython-input-4-9c316f19dbfd>\u001b[0m in \u001b[0;36maverage\u001b[1;34m()\u001b[0m\n\u001b[0;32m      7\u001b[0m     \u001b[0msample\u001b[0m\u001b[1;33m.\u001b[0m\u001b[0mappend\u001b[0m\u001b[1;33m(\u001b[0m\u001b[0mw\u001b[0m\u001b[1;33m)\u001b[0m\u001b[1;33m\u001b[0m\u001b[1;33m\u001b[0m\u001b[0m\n\u001b[0;32m      8\u001b[0m     \u001b[1;32mwhile\u001b[0m \u001b[0mw\u001b[0m \u001b[1;33m>\u001b[0m \u001b[0mq\u001b[0m\u001b[1;33m:\u001b[0m\u001b[1;33m\u001b[0m\u001b[1;33m\u001b[0m\u001b[0m\n\u001b[1;32m----> 9\u001b[1;33m         \u001b[0maverage\u001b[0m\u001b[1;33m(\u001b[0m\u001b[1;33m)\u001b[0m\u001b[1;33m\u001b[0m\u001b[1;33m\u001b[0m\u001b[0m\n\u001b[0m\u001b[0;32m     10\u001b[0m     \u001b[1;32mfor\u001b[0m \u001b[0mz\u001b[0m \u001b[1;32min\u001b[0m \u001b[0msample\u001b[0m\u001b[1;33m:\u001b[0m\u001b[1;33m\u001b[0m\u001b[1;33m\u001b[0m\u001b[0m\n\u001b[0;32m     11\u001b[0m         \u001b[0mresult\u001b[0m \u001b[1;33m=\u001b[0m \u001b[0msum\u001b[0m\u001b[1;33m(\u001b[0m\u001b[0mz\u001b[0m\u001b[1;33m)\u001b[0m\u001b[1;33m/\u001b[0m\u001b[0mq\u001b[0m\u001b[1;33m\u001b[0m\u001b[1;33m\u001b[0m\u001b[0m\n",
      "\u001b[1;32m<ipython-input-4-9c316f19dbfd>\u001b[0m in \u001b[0;36maverage\u001b[1;34m()\u001b[0m\n\u001b[0;32m      7\u001b[0m     \u001b[0msample\u001b[0m\u001b[1;33m.\u001b[0m\u001b[0mappend\u001b[0m\u001b[1;33m(\u001b[0m\u001b[0mw\u001b[0m\u001b[1;33m)\u001b[0m\u001b[1;33m\u001b[0m\u001b[1;33m\u001b[0m\u001b[0m\n\u001b[0;32m      8\u001b[0m     \u001b[1;32mwhile\u001b[0m \u001b[0mw\u001b[0m \u001b[1;33m>\u001b[0m \u001b[0mq\u001b[0m\u001b[1;33m:\u001b[0m\u001b[1;33m\u001b[0m\u001b[1;33m\u001b[0m\u001b[0m\n\u001b[1;32m----> 9\u001b[1;33m         \u001b[0maverage\u001b[0m\u001b[1;33m(\u001b[0m\u001b[1;33m)\u001b[0m\u001b[1;33m\u001b[0m\u001b[1;33m\u001b[0m\u001b[0m\n\u001b[0m\u001b[0;32m     10\u001b[0m     \u001b[1;32mfor\u001b[0m \u001b[0mz\u001b[0m \u001b[1;32min\u001b[0m \u001b[0msample\u001b[0m\u001b[1;33m:\u001b[0m\u001b[1;33m\u001b[0m\u001b[1;33m\u001b[0m\u001b[0m\n\u001b[0;32m     11\u001b[0m         \u001b[0mresult\u001b[0m \u001b[1;33m=\u001b[0m \u001b[0msum\u001b[0m\u001b[1;33m(\u001b[0m\u001b[0mz\u001b[0m\u001b[1;33m)\u001b[0m\u001b[1;33m/\u001b[0m\u001b[0mq\u001b[0m\u001b[1;33m\u001b[0m\u001b[1;33m\u001b[0m\u001b[0m\n",
      "\u001b[1;32m<ipython-input-4-9c316f19dbfd>\u001b[0m in \u001b[0;36maverage\u001b[1;34m()\u001b[0m\n\u001b[0;32m      9\u001b[0m         \u001b[0maverage\u001b[0m\u001b[1;33m(\u001b[0m\u001b[1;33m)\u001b[0m\u001b[1;33m\u001b[0m\u001b[1;33m\u001b[0m\u001b[0m\n\u001b[0;32m     10\u001b[0m     \u001b[1;32mfor\u001b[0m \u001b[0mz\u001b[0m \u001b[1;32min\u001b[0m \u001b[0msample\u001b[0m\u001b[1;33m:\u001b[0m\u001b[1;33m\u001b[0m\u001b[1;33m\u001b[0m\u001b[0m\n\u001b[1;32m---> 11\u001b[1;33m         \u001b[0mresult\u001b[0m \u001b[1;33m=\u001b[0m \u001b[0msum\u001b[0m\u001b[1;33m(\u001b[0m\u001b[0mz\u001b[0m\u001b[1;33m)\u001b[0m\u001b[1;33m/\u001b[0m\u001b[0mq\u001b[0m\u001b[1;33m\u001b[0m\u001b[1;33m\u001b[0m\u001b[0m\n\u001b[0m\u001b[0;32m     12\u001b[0m         \u001b[1;32mreturn\u001b[0m \u001b[0mq\u001b[0m\u001b[1;33m\u001b[0m\u001b[1;33m\u001b[0m\u001b[0m\n\u001b[0;32m     13\u001b[0m \u001b[0maverage\u001b[0m\u001b[1;33m(\u001b[0m\u001b[1;33m)\u001b[0m\u001b[1;33m\u001b[0m\u001b[1;33m\u001b[0m\u001b[0m\n",
      "\u001b[1;31mTypeError\u001b[0m: 'int' object is not iterable"
     ]
    }
   ],
   "source": [
    "q = int(input('introduzca la cantidad de valores a introducir: '))\n",
    "\n",
    "sample = []\n",
    "def average ():   \n",
    "    q = len(sample)\n",
    "    w = int(input('introduzca un valor'))\n",
    "    sample.append(w) \n",
    "    while w > q:  \n",
    "        average()\n",
    "    for z in sample:\n",
    "        result = sum(z)/q\n",
    "        return q\n",
    "average()\n",
    "\n",
    "\n",
    "        \n"
   ]
  },
  {
   "cell_type": "markdown",
   "metadata": {},
   "source": [
    "# If you made it till here you did a fantastic work!"
   ]
  },
  {
   "cell_type": "markdown",
   "metadata": {},
   "source": [
    "![\"holo\"](https://img-9gag-fun.9cache.com/photo/aNg9wMK_460s.jpg)"
   ]
  },
  {
   "cell_type": "code",
   "execution_count": null,
   "metadata": {},
   "outputs": [],
   "source": []
  }
 ],
 "metadata": {
  "kernelspec": {
   "display_name": "Python 3.8.6 64-bit",
   "language": "python",
   "name": "python38664bitcf068255407b4d4884bd8b39a056de4a"
  },
  "language_info": {
   "codemirror_mode": {
    "name": "ipython",
    "version": 3
   },
   "file_extension": ".py",
   "mimetype": "text/x-python",
   "name": "python",
   "nbconvert_exporter": "python",
   "pygments_lexer": "ipython3",
   "version": "3.8.6-final"
  }
 },
 "nbformat": 4,
 "nbformat_minor": 4
}