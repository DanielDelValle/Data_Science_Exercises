{
 "cells": [
  {
   "cell_type": "markdown",
   "metadata": {},
   "source": [
    "# Python | day 7 | while"
   ]
  },
  {
   "cell_type": "markdown",
   "metadata": {},
   "source": [
    "With the **while** loop we can execute a set of statements as long as a condition is true."
   ]
  },
  {
   "cell_type": "markdown",
   "metadata": {},
   "source": [
    "```python\n",
    "i = 1\n",
    "while i < 6:\n",
    "  print(i)\n",
    "  i += 1\n",
    "```"
   ]
  },
  {
   "cell_type": "markdown",
   "metadata": {},
   "source": [
    "https://www.w3schools.com/python/python_while_loops.asp"
   ]
  },
  {
   "cell_type": "markdown",
   "metadata": {},
   "source": [
    "### Exercise 1. "
   ]
  },
  {
   "cell_type": "markdown",
   "metadata": {},
   "source": [
    "Do as described below:\n",
    "\n",
    "- Make a variable called strength, and set its initial value to 5.\n",
    "\n",
    "- Print a message reporting the player's strength.\n",
    "\n",
    "- Set up a while loop that runs until the player's strength increases to a value such as 10.\n",
    "\n",
    "- Inside the while loop, print a message that reports the player's current strength.\n",
    "\n",
    "- Inside the while loop, write a statement that increases the player's strength.\n",
    "\n",
    "- Outside the while loop, print a message reporting that the player has grown too strong, and that they have moved up to a new level of the game.\n",
    "\n",
    "Play around with different cutoff levels for the value of strength, and play around with different ways to increase the strength value within the while loop.\n"
   ]
  },
  {
   "cell_type": "code",
   "execution_count": null,
   "metadata": {
    "tags": []
   },
   "outputs": [],
   "source": [
    "strenght = 5\n",
    "message = (\"player's strength is\")\n",
    "while strenght < 10:\n",
    "        strenght += 1\n",
    "        print(message, strenght)\n",
    "else:\n",
    "    print(\"you have grown too strong, so you will move up to a new level of the game\")"
   ]
  },
  {
   "cell_type": "markdown",
   "metadata": {},
   "source": [
    "### Exercise 2. "
   ]
  },
  {
   "cell_type": "markdown",
   "metadata": {},
   "source": [
    "To solve the following exercises it will be necessary to define a function for each section. You choose the name of those functions unless specified, but make sure you define a single parameter `whichever_list`, when calling the function it will correspond to the variable `info_list`."
   ]
  },
  {
   "cell_type": "code",
   "execution_count": 1,
   "metadata": {},
   "outputs": [],
   "source": [
    "# you can use this list or take yours from Practice 3\n",
    "info_list = [15, 'Recoletos', True, ['Recoletos', 15],  None, '8'] "
   ]
  },
  {
   "cell_type": "markdown",
   "metadata": {},
   "source": [
    "You have already read these questions below, but this time you are asked to solve it using `while` loop instead of `for`. \n",
    "\n",
    "   - Loop through `whichever_list` to print all the elements it contains. This function should return the list turned into a tuple. \n",
    "   - Loop through `whichever_list` to print all the elements it contains concatenated with the string` \"--> OK\" `. This function should return a message saying, `\"everything will be ok\"`. \n",
    "   - Loop through `whichever_list` to display all items it contains except the first one. This function should return the first element of the list. \n",
    "   - Loop through `whichever_list` to display all the items it contains except the last one. This function should return the last element of the list. "
   ]
  },
  {
   "cell_type": "code",
   "execution_count": 2,
   "metadata": {},
   "outputs": [
    {
     "output_type": "stream",
     "name": "stdout",
     "text": [
      "Iteracion: 1\n15\n------\nIteracion: 2\nRecoletos\n------\nIteracion: 3\nTrue\n------\nIteracion: 4\n['Recoletos', 15]\n------\nIteracion: 5\nNone\n------\nIteracion: 6\n8\n------\n"
     ]
    },
    {
     "output_type": "execute_result",
     "data": {
      "text/plain": [
       "(15, 'Recoletos', True, ['Recoletos', 15], None, '8')"
      ]
     },
     "metadata": {},
     "execution_count": 2
    }
   ],
   "source": [
    "def funct1(lista):\n",
    "    pos = 0\n",
    "    while pos < len(lista):\n",
    "        print(\"Iteracion:\", pos +1)\n",
    "        print(lista[pos])\n",
    "        pos += 1\n",
    "        print('------')\n",
    "    return tuple(lista)\n",
    "funct1(info_list)"
   ]
  },
  {
   "cell_type": "code",
   "execution_count": 3,
   "metadata": {},
   "outputs": [
    {
     "output_type": "stream",
     "name": "stdout",
     "text": [
      "15 --> OK\nRecoletos --> OK\nTrue --> OK\n['Recoletos', 15] --> OK\nNone --> OK\n8 --> OK\n"
     ]
    },
    {
     "output_type": "execute_result",
     "data": {
      "text/plain": [
       "'todo va a salir bien'"
      ]
     },
     "metadata": {},
     "execution_count": 3
    }
   ],
   "source": [
    "def funct2(list):\n",
    "    acum = 0\n",
    "    z = len(list)\n",
    "    while acum < z:\n",
    "        print(list[acum], '--> OK')\n",
    "        acum +=1   \n",
    "    return 'todo va a salir bien'\n",
    "        \n",
    "funct2(info_list)"
   ]
  },
  {
   "cell_type": "code",
   "execution_count": null,
   "metadata": {},
   "outputs": [],
   "source": [
    "def funct3(lista):\n",
    "    acum = 1\n",
    "    z = len(lista)\n",
    "    while acum < z:\n",
    "        print(list[acum])\n",
    "        acum +=1        \n",
    "    return print('--first item: ', lista[0])\n",
    "funct3(info_list)"
   ]
  },
  {
   "cell_type": "code",
   "execution_count": null,
   "metadata": {},
   "outputs": [],
   "source": [
    "def funct4(lista):\n",
    "    acum = 0\n",
    "    z = len(lista)\n",
    "    while acum < z-1:\n",
    "        print(lista[acum])\n",
    "        acum +=1                \n",
    "    return print('--last item: ', lista[-1])\n",
    "funct4(info_list)"
   ]
  },
  {
   "cell_type": "code",
   "execution_count": null,
   "metadata": {},
   "outputs": [],
   "source": []
  },
  {
   "cell_type": "markdown",
   "metadata": {},
   "source": [
    "### Exercise 3. "
   ]
  },
  {
   "cell_type": "markdown",
   "metadata": {},
   "source": [
    "1. Define a function that performs the [Fibonacci series](https://quantdare.com/numeros-de-fibonacci/#:~:text=En%20matem%C3%A1ticas%2C%20la%20sucesi%C3%B3n%20o,nombre%20de%20n%C3%BAmero%20de%20Fibonacci.) with a `while`."
   ]
  },
  {
   "cell_type": "code",
   "execution_count": 4,
   "metadata": {
    "tags": []
   },
   "outputs": [
    {
     "output_type": "stream",
     "name": "stdout",
     "text": [
      "0\n1\n1\n2\n3\n5\n8\n13\n21\n34\n55\n89\n144\n233\n377\n610\n987\n1597\n2584\n4181\n"
     ]
    },
    {
     "output_type": "execute_result",
     "data": {
      "text/plain": [
       "6765"
      ]
     },
     "metadata": {},
     "execution_count": 4
    }
   ],
   "source": [
    "def Fibon():\n",
    "    acum = 0\n",
    "    n1, n2 = 0, 1\n",
    "    while acum < 20: \n",
    "        print(n1)\n",
    "        nth = n1 + n2\n",
    "        n1 = n2\n",
    "        n2 = nth\n",
    "        acum += 1\n",
    "    return n1\n",
    "Fibon()"
   ]
  },
  {
   "cell_type": "code",
   "execution_count": 7,
   "metadata": {},
   "outputs": [
    {
     "output_type": "execute_result",
     "data": {
      "text/plain": [
       "[0,\n",
       " 1,\n",
       " 1,\n",
       " 2,\n",
       " 3,\n",
       " 5,\n",
       " 8,\n",
       " 13,\n",
       " 21,\n",
       " 34,\n",
       " 55,\n",
       " 89,\n",
       " 144,\n",
       " 233,\n",
       " 377,\n",
       " 610,\n",
       " 987,\n",
       " 1597,\n",
       " 2584,\n",
       " 4181]"
      ]
     },
     "metadata": {},
     "execution_count": 7
    }
   ],
   "source": [
    "#otra forma de fibonacci:\n",
    "def fibonacci(num_elems):\n",
    "\n",
    "    secuencia = [0,1]\n",
    "    acum = 0\n",
    "    if num_elems == 0:\n",
    "        return []\n",
    "    elif num_elems == 1:\n",
    "        return [0]\n",
    "    elif num_elems == 2:   #esta linea sobra\n",
    "        return secuencia\n",
    "    while len(secuencia) < num_elems:\n",
    "        secuencia.append(secuencia[-2] + secuencia[-1])\n",
    "    return secuencia\n",
    "\n",
    "fibonacci(20)"
   ]
  },
  {
   "cell_type": "markdown",
   "metadata": {},
   "source": [
    "### Exercise 4."
   ]
  },
  {
   "cell_type": "markdown",
   "metadata": {},
   "source": [
    "To solve the following exercises it will be necessary to define a function for each section. You choose the name of those functions unless specified, but make sure you define a single parameter `whichever_list`, when calling the function it will correspond to the variable `info_list`."
   ]
  },
  {
   "cell_type": "code",
   "execution_count": 4,
   "metadata": {},
   "outputs": [],
   "source": [
    "# you can use this list or take yours from Practice 3\n",
    "info_list = [15, 'Recoletos', True, ['Recoletos', 15],  None, '8'] "
   ]
  },
  {
   "cell_type": "markdown",
   "metadata": {},
   "source": [
    "1. Define a function that saves the value of `\"nothing\"` in a variable and print it. Also, concatenate its value with the number of The Bridge and display it on the screen. \n",
    "\n",
    "   Also, display a boolean **True** if the length of the concatenated word is 6. If not, it will be **False**. The function must return the value **True** or **False** and the name of this function will be `f_s`."
   ]
  },
  {
   "cell_type": "code",
   "execution_count": 5,
   "metadata": {},
   "outputs": [
    {
     "output_type": "execute_result",
     "data": {
      "text/plain": [
       "'None15'"
      ]
     },
     "metadata": {},
     "execution_count": 5
    }
   ],
   "source": [
    "def noth(lista):\n",
    "    nada = str(lista[4])\n",
    "    numb = str(lista[0])\n",
    "    concat = nada + numb\n",
    "    return concat\n",
    "noth(info_list)\n",
    "    "
   ]
  },
  {
   "cell_type": "code",
   "execution_count": 9,
   "metadata": {},
   "outputs": [
    {
     "output_type": "execute_result",
     "data": {
      "text/plain": [
       "True"
      ]
     },
     "metadata": {},
     "execution_count": 9
    }
   ],
   "source": [
    "def f_s(lista):\n",
    "    nada2 = str(lista[4])\n",
    "    numb2 = str(lista[0])\n",
    "    concat2 = nada2 + numb2\n",
    "    if len(concat2) == 6:\n",
    "        z = True\n",
    "    else:\n",
    "        z = False\n",
    "    return z\n",
    "f_s(info_list)"
   ]
  },
  {
   "cell_type": "markdown",
   "metadata": {},
   "source": [
    "### Bonus Track."
   ]
  },
  {
   "cell_type": "markdown",
   "metadata": {},
   "source": [
    "2. Create a list `list_aux` with 7 elements, whichever you want. Next, create a function `function_use_f_s` which receives as parameters a function `some_function` and whichever list `whichever_list`. If the value of `some_function` is **True**, then delete an item from `whichever_list`. Repeat the process until `whichever_list` has no elements. The argument for `whichever_list` must be `list_aux` and for `some_function` it will be the function `f_s` from the previous point."
   ]
  },
  {
   "cell_type": "code",
   "execution_count": 10,
   "metadata": {},
   "outputs": [],
   "source": [
    "list_aux = ['pera', 'limon', 'platano', 'sandia', 'melon', 'naranja', 'chirimoya']"
   ]
  },
  {
   "cell_type": "code",
   "execution_count": 11,
   "metadata": {},
   "outputs": [],
   "source": [
    "def function_use_f_s(function, lista):\n",
    "    if function == True:\n",
    "        list.pop()\n",
    "    return\n",
    "function_use_f_s(function=f_s, lista=list_aux)"
   ]
  },
  {
   "cell_type": "markdown",
   "metadata": {},
   "source": [
    "3. Define a function `even_numbers` that has an input parameter `arg1`, type integer. The function must return a list of numbers of size `arg1`, all of them being even numbers. \n",
    "\n",
    "   Don't use the function `print()` inside the function, but print what `even_numbers` returns when calling it with the argument `10`, just to check your function works.\n",
    "   \n",
    "```python\n",
    "print(even_numbers(10))\n",
    "```"
   ]
  },
  {
   "cell_type": "code",
   "execution_count": 7,
   "metadata": {},
   "outputs": [
    {
     "output_type": "execute_result",
     "data": {
      "text/plain": [
       "[0, 2, 4, 6, 8, 10]"
      ]
     },
     "metadata": {},
     "execution_count": 7
    }
   ],
   "source": [
    "def even_numbers():\n",
    "    evelist = []\n",
    "    arg1 = int(input('enter an int number: '))\n",
    "    for x in range(arg1+1):\n",
    "        if x % 2 == 0:\n",
    "            evelist.append(x)\n",
    "    return evelist\n",
    "even_numbers()"
   ]
  },
  {
   "cell_type": "markdown",
   "metadata": {},
   "source": [
    "4. Create a function that has an input variable `arg1`, which will be the list of even numbers from the previous section, and that removes elements from the list, one by one, if `arg1` has a size divisible by 2 and, if not, it adds just once, the value of the function `f_s` that should be a boolean (`True` or `False`).\n"
   ]
  },
  {
   "cell_type": "code",
   "execution_count": 9,
   "metadata": {
    "tags": []
   },
   "outputs": [
    {
     "output_type": "stream",
     "name": "stdout",
     "text": [
      "[0, 2, 4, 6, 8]\n[0, 2, 4, 6]\n[0, 2, 4]\n[0, 2]\n[0]\n[]\n"
     ]
    },
    {
     "output_type": "error",
     "ename": "IndexError",
     "evalue": "pop from empty list",
     "traceback": [
      "\u001b[1;31m---------------------------------------------------------------------------\u001b[0m",
      "\u001b[1;31mIndexError\u001b[0m                                Traceback (most recent call last)",
      "\u001b[1;32m<ipython-input-9-5d04a76de28e>\u001b[0m in \u001b[0;36m<module>\u001b[1;34m\u001b[0m\n\u001b[0;32m      9\u001b[0m             \u001b[0mprint\u001b[0m\u001b[1;33m(\u001b[0m\u001b[0mevelist\u001b[0m\u001b[1;33m)\u001b[0m\u001b[1;33m\u001b[0m\u001b[1;33m\u001b[0m\u001b[0m\n\u001b[0;32m     10\u001b[0m     \u001b[1;32mreturn\u001b[0m \u001b[0mevelist\u001b[0m\u001b[1;33m\u001b[0m\u001b[1;33m\u001b[0m\u001b[0m\n\u001b[1;32m---> 11\u001b[1;33m \u001b[0mfinalfunction\u001b[0m\u001b[1;33m(\u001b[0m\u001b[0mevelist\u001b[0m\u001b[1;33m)\u001b[0m     \u001b[1;31m#creo que algo falla :-)\u001b[0m\u001b[1;33m\u001b[0m\u001b[1;33m\u001b[0m\u001b[0m\n\u001b[0m",
      "\u001b[1;32m<ipython-input-9-5d04a76de28e>\u001b[0m in \u001b[0;36mfinalfunction\u001b[1;34m(evelist)\u001b[0m\n\u001b[0;32m      3\u001b[0m     \u001b[0mz\u001b[0m \u001b[1;33m=\u001b[0m \u001b[0mlen\u001b[0m\u001b[1;33m(\u001b[0m\u001b[0mevelist\u001b[0m\u001b[1;33m)\u001b[0m\u001b[1;33m\u001b[0m\u001b[1;33m\u001b[0m\u001b[0m\n\u001b[0;32m      4\u001b[0m     \u001b[1;32mwhile\u001b[0m \u001b[0mz\u001b[0m \u001b[1;33m%\u001b[0m \u001b[1;36m2\u001b[0m \u001b[1;33m==\u001b[0m \u001b[1;36m0\u001b[0m\u001b[1;33m:\u001b[0m\u001b[1;33m\u001b[0m\u001b[1;33m\u001b[0m\u001b[0m\n\u001b[1;32m----> 5\u001b[1;33m         \u001b[0mevelist\u001b[0m\u001b[1;33m.\u001b[0m\u001b[0mpop\u001b[0m\u001b[1;33m(\u001b[0m\u001b[1;33m)\u001b[0m\u001b[1;33m\u001b[0m\u001b[1;33m\u001b[0m\u001b[0m\n\u001b[0m\u001b[0;32m      6\u001b[0m         \u001b[0mprint\u001b[0m\u001b[1;33m(\u001b[0m\u001b[0mevelist\u001b[0m\u001b[1;33m)\u001b[0m\u001b[1;33m\u001b[0m\u001b[1;33m\u001b[0m\u001b[0m\n\u001b[0;32m      7\u001b[0m         \u001b[1;32mif\u001b[0m \u001b[0mz\u001b[0m \u001b[1;33m%\u001b[0m \u001b[1;36m2\u001b[0m \u001b[1;33m!=\u001b[0m \u001b[1;36m0\u001b[0m\u001b[1;33m:\u001b[0m\u001b[1;33m\u001b[0m\u001b[1;33m\u001b[0m\u001b[0m\n",
      "\u001b[1;31mIndexError\u001b[0m: pop from empty list"
     ]
    }
   ],
   "source": [
    "evelist = [0, 2, 4, 6, 8, 10]\n",
    "def finalfunction(evelist):\n",
    "    z = len(evelist)\n",
    "    while z % 2 == 0:\n",
    "        evelist.pop()\n",
    "        print(evelist)\n",
    "        if z % 2 != 0:\n",
    "            list.append(True)\n",
    "            print(evelist)\n",
    "    return evelist\n",
    "finalfunction(evelist)     #creo que algo falla :-)"
   ]
  },
  {
   "cell_type": "code",
   "execution_count": 8,
   "metadata": {},
   "outputs": [
    {
     "output_type": "error",
     "ename": "NameError",
     "evalue": "name 'evelist' is not defined",
     "traceback": [
      "\u001b[1;31m---------------------------------------------------------------------------\u001b[0m",
      "\u001b[1;31mNameError\u001b[0m                                 Traceback (most recent call last)",
      "\u001b[1;32m<ipython-input-8-776fb1c926c0>\u001b[0m in \u001b[0;36m<module>\u001b[1;34m\u001b[0m\n\u001b[0;32m      6\u001b[0m     \u001b[1;32mreturn\u001b[0m \u001b[0mevelist\u001b[0m\u001b[1;33m\u001b[0m\u001b[1;33m\u001b[0m\u001b[0m\n\u001b[0;32m      7\u001b[0m \u001b[1;33m\u001b[0m\u001b[0m\n\u001b[1;32m----> 8\u001b[1;33m \u001b[0mfinalfunction\u001b[0m\u001b[1;33m(\u001b[0m\u001b[0mevelist\u001b[0m\u001b[1;33m(\u001b[0m\u001b[1;33m)\u001b[0m\u001b[1;33m,\u001b[0m \u001b[0mf_s\u001b[0m\u001b[1;33m(\u001b[0m\u001b[0minfo_list\u001b[0m\u001b[1;33m)\u001b[0m\u001b[1;33m)\u001b[0m\u001b[1;33m\u001b[0m\u001b[1;33m\u001b[0m\u001b[0m\n\u001b[0m",
      "\u001b[1;31mNameError\u001b[0m: name 'evelist' is not defined"
     ]
    }
   ],
   "source": [
    "def finalfunction(evelist, funcion):\n",
    "    z = len(evelist)\n",
    "    while z % 2 == 0:\n",
    "        evelist.pop()\n",
    "    evelist.append(funcion)\n",
    "    return evelist\n",
    "\n",
    "finalfunction(evelist(), f_s(info_list))"
   ]
  },
  {
   "cell_type": "markdown",
   "metadata": {},
   "source": [
    "!['nicetry'](https://i.pinimg.com/originals/36/ab/81/36ab81cd8d63cf7c4a08f39403698c77.jpg)"
   ]
  }
 ],
 "metadata": {
  "kernelspec": {
   "display_name": "Python 3",
   "language": "python",
   "name": "python3"
  },
  "language_info": {
   "codemirror_mode": {
    "name": "ipython",
    "version": 3
   },
   "file_extension": ".py",
   "mimetype": "text/x-python",
   "name": "python",
   "nbconvert_exporter": "python",
   "pygments_lexer": "ipython3",
   "version": "3.8.6-final"
  }
 },
 "nbformat": 4,
 "nbformat_minor": 4
}