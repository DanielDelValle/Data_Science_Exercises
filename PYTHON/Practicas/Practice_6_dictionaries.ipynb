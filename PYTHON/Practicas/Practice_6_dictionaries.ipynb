{
 "cells": [
  {
   "cell_type": "markdown",
   "metadata": {},
   "source": [
    "# Python | day 6 | dictionaries"
   ]
  },
  {
   "cell_type": "markdown",
   "metadata": {},
   "source": [
    "Dictionaries are used to store data values in key:value pairs.\n",
    "\n",
    "A dictionary is a collection which is unordered, changeable and does not allow duplicates.\n",
    "\n",
    "Dictionaries are written with curly brackets, and have keys and values:"
   ]
  },
  {
   "cell_type": "markdown",
   "metadata": {},
   "source": [
    "```python\n",
    "thisdict = {\n",
    "  \"brand\": \"Ford\",\n",
    "  \"model\": \"Mustang\",\n",
    "  \"year\": 1964\n",
    "}\n",
    "```"
   ]
  },
  {
   "cell_type": "markdown",
   "metadata": {},
   "source": [
    "https://www.w3schools.com/python/python_dictionaries.asp"
   ]
  },
  {
   "cell_type": "markdown",
   "metadata": {},
   "source": [
    "### Exercise 1. \n",
    "\n",
    "1. Create a dictionary with an integer 5 as the key and \"val\" as its value."
   ]
  },
  {
   "cell_type": "code",
   "execution_count": 1,
   "metadata": {},
   "outputs": [],
   "source": [
    "a = {5:\"val\"}"
   ]
  },
  {
   "cell_type": "markdown",
   "metadata": {},
   "source": [
    "2. Create two lists: one that has 4 city names and another that has 4 landmarks in the city."
   ]
  },
  {
   "cell_type": "code",
   "execution_count": 2,
   "metadata": {},
   "outputs": [],
   "source": [
    "city_names = [\"Sevilla\", \"Madrid\", \"New York\", \"Toledo\"]\n",
    "city_landmarks = ['Giralda', 'Bernabeu', 'Empire State', 'Alcazar']"
   ]
  },
  {
   "cell_type": "markdown",
   "metadata": {},
   "source": [
    "3. Create a dictionary where the cities contained in the first list are the **keys** and the landmarks are the **values**.\n",
    "```python\n",
    "#example\n",
    "places = {\"Malaga\": \"Gibralfaro\", \n",
    "         \"Madrid\": \"Templo de Debod\",\n",
    "         \"Granada\": \"La Alcazaba\",\n",
    "         \"Barcelona\": \"Sagrada Familia\"}\n",
    "```"
   ]
  },
  {
   "cell_type": "code",
   "execution_count": 3,
   "metadata": {},
   "outputs": [
    {
     "output_type": "stream",
     "name": "stdout",
     "text": [
      "{'Sevilla': 'Giralda', 'Madrid': 'Bernabeu', 'New York': 'Empire State', 'Toledo': 'Alcazar'}\n"
     ]
    }
   ],
   "source": [
    "city_atractions = dict(zip(city_names, city_landmarks))\n",
    "print(city_atractions)"
   ]
  },
  {
   "cell_type": "markdown",
   "metadata": {},
   "source": [
    "4. Loop through the dictionary and print only the values of those keys starting with the letter **M**.\n",
    "\n",
    "https://realpython.com/iterate-through-dictionary-python/"
   ]
  },
  {
   "cell_type": "code",
   "execution_count": 4,
   "metadata": {},
   "outputs": [
    {
     "output_type": "stream",
     "name": "stdout",
     "text": [
      "Bernabeu\n"
     ]
    }
   ],
   "source": [
    "for key, value in city_atractions.items():\n",
    "    if key[0] == \"M\":\n",
    "        print(value)           "
   ]
  },
  {
   "cell_type": "markdown",
   "metadata": {},
   "source": [
    "5. Create a function that receives two lists `list1` and `list2` by parameter and returns a dictionary with each element of `list1` as keys and the elements of `list2` as values. Call the function with the lists you have created before to return the same dictionary you've created in question 3. "
   ]
  },
  {
   "cell_type": "code",
   "execution_count": 5,
   "metadata": {},
   "outputs": [
    {
     "output_type": "execute_result",
     "data": {
      "text/plain": [
       "{'Sevilla': 'Giralda',\n",
       " 'Madrid': 'Bernabeu',\n",
       " 'New York': 'Empire State',\n",
       " 'Toledo': 'Alcazar'}"
      ]
     },
     "metadata": {},
     "execution_count": 5
    }
   ],
   "source": [
    "def jointer(list1, list2):\n",
    "    return dict(zip(list1, list2))\n",
    "jointer(city_names, city_landmarks)"
   ]
  },
  {
   "cell_type": "markdown",
   "metadata": {},
   "source": [
    "### Exercise 2. "
   ]
  },
  {
   "cell_type": "markdown",
   "metadata": {},
   "source": [
    "1. Create an empty dictionary called dog."
   ]
  },
  {
   "cell_type": "code",
   "execution_count": 6,
   "metadata": {},
   "outputs": [],
   "source": [
    "dog = {}"
   ]
  },
  {
   "cell_type": "markdown",
   "metadata": {},
   "source": [
    "2. Add name, color, breed, legs, age to the dog dictionary."
   ]
  },
  {
   "cell_type": "code",
   "execution_count": 7,
   "metadata": {},
   "outputs": [
    {
     "output_type": "stream",
     "name": "stdout",
     "text": [
      "{'name': 'Rufo', 'color': 'brown', 'breed': 'doberman', 'legs': 4, 'age': 7}\n"
     ]
    }
   ],
   "source": [
    "dog = {'name': 'Rufo', 'color': 'brown', 'breed': 'doberman', 'legs': 4, 'age': 7}\n",
    "print(dog)"
   ]
  },
  {
   "cell_type": "markdown",
   "metadata": {},
   "source": [
    "3. Create a student dictionary and add first_name, last_name, age, skills, country, city and address as keys for the dictionary.\n"
   ]
  },
  {
   "cell_type": "code",
   "execution_count": 8,
   "metadata": {},
   "outputs": [
    {
     "output_type": "stream",
     "name": "stdout",
     "text": [
      "{'first_name': 'Daniel', 'last_name': 'Del_Valle', 'age': 32, 'skills': ['languages', 'people'], 'country': 'Spain', 'city': 'Madrid', 'address': 'Costanilla_de_San_Pedro'}\n"
     ]
    }
   ],
   "source": [
    "student_dict = {}\n",
    "student_dict[\"first_name\"] = \"Daniel\"\n",
    "student_dict[\"last_name\"] = \"Del_Valle\"\n",
    "student_dict[\"age\"] = 32\n",
    "student_dict[\"skills\"] = [\"languages\", \"people\"]\n",
    "student_dict[\"country\"] = \"Spain\"\n",
    "student_dict[\"city\"] = \"Madrid\"\n",
    "student_dict[\"address\"] = \"Costanilla_de_San_Pedro\"\n",
    "print(student_dict)"
   ]
  },
  {
   "cell_type": "markdown",
   "metadata": {},
   "source": [
    "4. Get the length of the student dictionary.\n"
   ]
  },
  {
   "cell_type": "code",
   "execution_count": 9,
   "metadata": {},
   "outputs": [
    {
     "output_type": "execute_result",
     "data": {
      "text/plain": [
       "7"
      ]
     },
     "metadata": {},
     "execution_count": 9
    }
   ],
   "source": [
    "len(student_dict)"
   ]
  },
  {
   "cell_type": "markdown",
   "metadata": {},
   "source": [
    "5. Get the value of skills and check the data type, it should be a list."
   ]
  },
  {
   "cell_type": "code",
   "execution_count": 10,
   "metadata": {},
   "outputs": [
    {
     "output_type": "stream",
     "name": "stdout",
     "text": [
      "['languages', 'people']\n{'first_name': 'Daniel', 'last_name': 'Del_Valle', 'age': 32, 'skills': ['languages', 'people'], 'country': 'Spain', 'city': 'Madrid', 'address': 'Costanilla_de_San_Pedro'}\n<class 'list'>\n"
     ]
    }
   ],
   "source": [
    "print(student_dict[\"skills\"])\n",
    "print(student_dict)\n",
    "for (key, value) in student_dict.items():\n",
    "    if key == \"skills\":\n",
    "        print(type(value))"
   ]
  },
  {
   "cell_type": "markdown",
   "metadata": {},
   "source": [
    "6. Modify the skills values by adding one or two skills."
   ]
  },
  {
   "cell_type": "code",
   "execution_count": 11,
   "metadata": {},
   "outputs": [],
   "source": [
    "student_dict[\"skills\"].append(\"driving\")\n",
    "student_dict[\"skills\"].append(\"piano_playing\")"
   ]
  },
  {
   "cell_type": "code",
   "execution_count": 12,
   "metadata": {},
   "outputs": [
    {
     "output_type": "stream",
     "name": "stdout",
     "text": [
      "{'first_name': 'Daniel', 'last_name': 'Del_Valle', 'age': 32, 'skills': ['languages', 'people', 'driving', 'piano_playing'], 'country': 'Spain', 'city': 'Madrid', 'address': 'Costanilla_de_San_Pedro'}\n"
     ]
    }
   ],
   "source": [
    "print(student_dict)"
   ]
  },
  {
   "cell_type": "markdown",
   "metadata": {},
   "source": [
    "7. Get the dictionary keys as a list."
   ]
  },
  {
   "cell_type": "code",
   "execution_count": 13,
   "metadata": {},
   "outputs": [
    {
     "output_type": "execute_result",
     "data": {
      "text/plain": [
       "['first_name', 'last_name', 'age', 'skills', 'country', 'city', 'address']"
      ]
     },
     "metadata": {},
     "execution_count": 13
    }
   ],
   "source": [
    "list(student_dict.keys())"
   ]
  },
  {
   "cell_type": "markdown",
   "metadata": {},
   "source": [
    "8. Get the dictionary values as a list.\n"
   ]
  },
  {
   "cell_type": "code",
   "execution_count": 14,
   "metadata": {},
   "outputs": [
    {
     "output_type": "execute_result",
     "data": {
      "text/plain": [
       "['Daniel',\n",
       " 'Del_Valle',\n",
       " 32,\n",
       " ['languages', 'people', 'driving', 'piano_playing'],\n",
       " 'Spain',\n",
       " 'Madrid',\n",
       " 'Costanilla_de_San_Pedro']"
      ]
     },
     "metadata": {},
     "execution_count": 14
    }
   ],
   "source": [
    "list(student_dict.values())"
   ]
  },
  {
   "cell_type": "markdown",
   "metadata": {},
   "source": [
    "9. Change the dictionary to a list of tuples using `items()` method"
   ]
  },
  {
   "cell_type": "code",
   "execution_count": 15,
   "metadata": {},
   "outputs": [
    {
     "output_type": "execute_result",
     "data": {
      "text/plain": [
       "dict_items([('first_name', 'Daniel'), ('last_name', 'Del_Valle'), ('age', 32), ('skills', ['languages', 'people', 'driving', 'piano_playing']), ('country', 'Spain'), ('city', 'Madrid'), ('address', 'Costanilla_de_San_Pedro')])"
      ]
     },
     "metadata": {},
     "execution_count": 15
    }
   ],
   "source": [
    "student_dict.items()"
   ]
  },
  {
   "cell_type": "markdown",
   "metadata": {},
   "source": [
    "10. Delete one of the items in the dictionary.\n"
   ]
  },
  {
   "cell_type": "code",
   "execution_count": 16,
   "metadata": {},
   "outputs": [
    {
     "output_type": "stream",
     "name": "stdout",
     "text": [
      "{'first_name': 'Daniel', 'last_name': 'Del_Valle', 'age': 32, 'skills': ['languages', 'people', 'driving', 'piano_playing'], 'country': 'Spain', 'city': 'Madrid'}\n"
     ]
    }
   ],
   "source": [
    "del student_dict['address']\n",
    "print(student_dict)"
   ]
  },
  {
   "cell_type": "markdown",
   "metadata": {},
   "source": [
    "### Bonus Track"
   ]
  },
  {
   "cell_type": "markdown",
   "metadata": {},
   "source": [
    "**Tómate una cervecita o un zumito a tu salud.**"
   ]
  },
  {
   "cell_type": "markdown",
   "metadata": {},
   "source": [
    "!['daughter'](https://i.pinimg.com/originals/8f/35/28/8f35281e742e71be09697e7e6789b819.png)"
   ]
  },
  {
   "cell_type": "code",
   "execution_count": null,
   "metadata": {},
   "outputs": [],
   "source": []
  }
 ],
 "metadata": {
  "kernelspec": {
   "display_name": "Python 3",
   "language": "python",
   "name": "python3"
  },
  "language_info": {
   "codemirror_mode": {
    "name": "ipython",
    "version": 3
   },
   "file_extension": ".py",
   "mimetype": "text/x-python",
   "name": "python",
   "nbconvert_exporter": "python",
   "pygments_lexer": "ipython3",
   "version": "3.8.6-final"
  }
 },
 "nbformat": 4,
 "nbformat_minor": 2
}